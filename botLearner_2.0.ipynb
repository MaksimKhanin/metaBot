{
 "cells": [
  {
   "cell_type": "code",
   "execution_count": 2,
   "metadata": {},
   "outputs": [],
   "source": [
    "import pandas as pd\n",
    "import matplotlib.pyplot as plt\n",
    "import numpy as np\n",
    "import tqdm\n",
    "%matplotlib inline"
   ]
  },
  {
   "cell_type": "code",
   "execution_count": 3,
   "metadata": {},
   "outputs": [],
   "source": [
    "name = \"GBPJPY\"\n",
    "priceset = pd.read_csv(\"priceset.csv\", index_col = 0)\n",
    "weekends = pd.to_datetime(priceset.index).weekday\n",
    "priceset = priceset[~weekends.isin([5,6])]\n",
    "columnNames = list(filter(lambda x: name in x, priceset.columns))\n",
    "priceset = priceset[columnNames].fillna(method=\"ffill\").dropna()\n",
    "priceset.columns = list(map(lambda x: x.replace(name+\"_\", \"\"), priceset.columns))"
   ]
  },
  {
   "cell_type": "code",
   "execution_count": 4,
   "metadata": {},
   "outputs": [],
   "source": [
    "def extract_roll_agg(ds, per, aggName):\n",
    "    # new_column = col_prefix + ds.name + '_' + str(per)\n",
    "    new_series = ds.rolling(min_periods=per, window=per).agg(aggName)\n",
    "    # new_series.name = new_column\n",
    "    return new_series\n",
    "\n",
    "def extract_macd(ds, per_1=12, per_2 = 26, per_signal = 9):\n",
    "    exp1 = ds.ewm(span=per_1, adjust=False).mean()\n",
    "    exp2 = ds.ewm(span=per_2, adjust=False).mean()\n",
    "    macd = exp1-exp2\n",
    "    signal_macd = macd.ewm(span=per_signal, adjust=False).mean()\n",
    "    return macd, signal_macd"
   ]
  },
  {
   "cell_type": "code",
   "execution_count": 35,
   "metadata": {},
   "outputs": [
    {
     "data": {
      "application/vnd.jupyter.widget-view+json": {
       "model_id": "867d6c2d1c2b48df81f79873597a28f9",
       "version_major": 2,
       "version_minor": 0
      },
      "text/plain": [
       "HBox(children=(IntProgress(value=0, max=7), HTML(value='')))"
      ]
     },
     "metadata": {},
     "output_type": "display_data"
    },
    {
     "name": "stdout",
     "output_type": "stream",
     "text": [
      "\n"
     ]
    },
    {
     "data": {
      "application/vnd.jupyter.widget-view+json": {
       "model_id": "8fae6327b0de4adba3732ddf72b79808",
       "version_major": 2,
       "version_minor": 0
      },
      "text/plain": [
       "HBox(children=(IntProgress(value=0, max=16), HTML(value='')))"
      ]
     },
     "metadata": {},
     "output_type": "display_data"
    },
    {
     "name": "stdout",
     "output_type": "stream",
     "text": [
      "\n"
     ]
    }
   ],
   "source": [
    "Xy = priceset.copy()\n",
    "periods =  [24] #1,3,6,12,24 hours 4,12,24,48,96\n",
    "\n",
    "Xy[\"high_1h\"] = extract_roll_agg(Xy[\"high\"], 4, \"max\")\n",
    "Xy[\"low_1h\"] = extract_roll_agg(Xy[\"high\"], 4, \"min\")\n",
    "\n",
    "# Xy[\"candle_body\"] = Xy[\"high\"] - Xy[\"low\"]\n",
    "\n",
    "# Xy[\"high_close_diff\"] = Xy[\"high\"] - Xy[\"close\"].shift(1)\n",
    "# Xy[\"low_close_diff\"] = Xy[\"low\"] - Xy[\"close\"].shift(1)\n",
    "\n",
    "# Xy[\"high_1h_close_diff\"] = Xy[\"high_1h\"] - Xy[\"close\"]\n",
    "# Xy[\"low_1h_close_diff\"] = Xy[\"low_1h\"] - Xy[\"close\"]\n",
    "\n",
    "# Xy[\"macd_base_high\"], Xy[\"macd_signal_high\"] = extract_macd(Xy[\"high\"])\n",
    "# Xy[\"macd_base_low\"], Xy[\"macd_signal_low\"] = extract_macd(Xy[\"low\"])\n",
    "\n",
    "# Xy[\"csum_high_close_diff_24\"] = extract_roll_agg(Xy[\"high_close_diff\"], 24, \"sum\")\n",
    "# Xy[\"csum_low_close_diff_24\"] = extract_roll_agg(Xy[\"low_close_diff\"], 24, \"sum\")\n",
    "\n",
    "# Xy[\"RS\"] = Xy[\"high_close_diff\"] / (Xy[\"low_close_diff\"] + 0.000001)\n",
    "\n",
    "features = Xy.columns\n",
    "\n",
    "for each_col in tqdm.tqdm_notebook(features):\n",
    "  newcolName = each_col\n",
    "  for each_shift in range(1,2):\n",
    "    shift_per = str(each_shift)\n",
    "    Xy[\"prev_\"+shift_per+\"_\"+newcolName] = Xy[each_col].shift(each_shift)\n",
    "\n",
    "Xy[\"csum_ar_1_high_24\"] = extract_roll_agg(Xy[\"high\"]-Xy[\"prev_1_high\"], 24, \"sum\")\n",
    "Xy[\"csum_ar_1_low_24\"] = extract_roll_agg(Xy[\"low\"]-Xy[\"prev_1_low\"], 24, \"sum\")\n",
    "\n",
    "features = Xy.columns\n",
    "\n",
    "for each_col in tqdm.tqdm_notebook(features):\n",
    "  for each_col2 in features:\n",
    "    if each_col != each_col2:\n",
    "      newcolName = \"diff_\"+each_col + \"_\" + each_col2\n",
    "      Xy[newcolName] = Xy[each_col] - Xy[each_col2]\n",
    "\n",
    "Xy[\"csum_high_close_diff_24\"] = extract_roll_agg(Xy[\"diff_high_close\"], 24, \"sum\")\n",
    "Xy[\"csum_low_close_diff_24\"] = extract_roll_agg(Xy[\"diff_low_close\"], 24, \"sum\")\n",
    "\n",
    "# Xy[\"csum_ar_1_high_24\"] = extract_roll_agg(Xy[\"diff_high\"]-Xy[\"prev_1_high\"], 24, \"sum\")\n",
    "# Xy[\"csum_ar_1_low_24\"] = extract_roll_agg(Xy[\"diff_low\"]-Xy[\"prev_1_low\"], 24, \"sum\")\n",
    "\n",
    "# for each_col in tqdm.tqdm_notebook(features):\n",
    "#   newcolName = each_col\n",
    "\n",
    "#   for each_ar in range(1,2):\n",
    "#     ar_per = str(each_ar)\n",
    "#     Xy[\"ar_\"+ar_per+\"_\"+newcolName] = Xy[each_col] - Xy[each_col].shift(each_ar)\n",
    "\n",
    "# Xy[\"csum_ar_1_high_24\"] = extract_roll_agg(Xy[\"ar_1_high\"], 24, \"sum\")\n",
    "# Xy[\"csum_ar_1_low_24\"] = extract_roll_agg(Xy[\"ar_1_low\"], 24, \"sum\")\n",
    "\n",
    "Xy[\"target\"] = 0\n",
    "Xy.loc[(Xy[\"high\"] < Xy[\"high\"].shift(-1)) & (Xy[\"low\"] <= Xy[\"low\"].shift(-1)), \"target\"] = 1\n",
    "Xy.loc[(Xy[\"high\"] >= Xy[\"high\"].shift(-1)) & (Xy[\"low\"] > Xy[\"low\"].shift(-1)), \"target\"] = 2\n",
    "Xy = Xy.dropna().copy()\n",
    "X = Xy.drop(columns=['high', 'low', 'close', 'open', 'tick_volume', 'target', 'high_1h', 'low_1h'])\n",
    "y = Xy[\"target\"].copy()\n"
   ]
  },
  {
   "cell_type": "code",
   "execution_count": 36,
   "metadata": {},
   "outputs": [],
   "source": [
    "X = X.drop(columns=['prev_1_low_1h', \n",
    "                    'diff_high_tick_volume', \n",
    "                    'diff_high_prev_1_close',\n",
    "       'diff_high_prev_1_tick_volume',\n",
    "                    \n",
    "                    'diff_high_csum_ar_1_high_24',\n",
    "       'diff_high_csum_ar_1_low_24', 'diff_low_prev_1_tick_volume',\n",
    "       'diff_low_csum_ar_1_high_24', 'diff_close_tick_volume',\n",
    "       'diff_close_prev_1_low_1h', 'diff_close_csum_ar_1_high_24',\n",
    "       'diff_close_csum_ar_1_low_24', 'diff_open_tick_volume',\n",
    "       'diff_open_csum_ar_1_high_24', 'diff_open_csum_ar_1_low_24',\n",
    "       'diff_tick_volume_high', 'diff_tick_volume_low',\n",
    "       'diff_tick_volume_close', 'diff_tick_volume_high_1h',\n",
    "       'diff_tick_volume_prev_1_high', 'diff_tick_volume_prev_1_open',\n",
    "       'diff_low_1h_high', 'diff_low_1h_prev_1_tick_volume',\n",
    "       'diff_prev_1_high_tick_volume', 'diff_prev_1_high_high_1h',\n",
    "       'diff_prev_1_high_prev_1_tick_volume',\n",
    "       'diff_prev_1_high_csum_ar_1_high_24',\n",
    "       'diff_prev_1_low_prev_1_tick_volume', 'diff_prev_1_close_tick_volume',\n",
    "       'diff_prev_1_close_high_1h', 'diff_prev_1_close_prev_1_open',\n",
    "       'diff_prev_1_close_prev_1_tick_volume',\n",
    "       'diff_prev_1_close_csum_ar_1_low_24', 'diff_prev_1_open_low',\n",
    "       'diff_prev_1_open_tick_volume', 'diff_prev_1_open_csum_ar_1_high_24',\n",
    "       'diff_prev_1_open_csum_ar_1_low_24', 'diff_prev_1_tick_volume_high',\n",
    "       'diff_prev_1_tick_volume_open', 'diff_prev_1_tick_volume_high_1h',\n",
    "       'diff_prev_1_tick_volume_low_1h', 'diff_prev_1_tick_volume_prev_1_low',\n",
    "       'diff_prev_1_tick_volume_prev_1_open',\n",
    "       'diff_prev_1_tick_volume_prev_1_high_1h',\n",
    "       'diff_prev_1_tick_volume_prev_1_low_1h',\n",
    "       'diff_prev_1_high_1h_tick_volume',\n",
    "       'diff_prev_1_high_1h_prev_1_tick_volume',\n",
    "       'diff_prev_1_high_1h_csum_ar_1_high_24',\n",
    "       'diff_prev_1_high_1h_csum_ar_1_low_24', 'diff_prev_1_low_1h_open',\n",
    "       'diff_prev_1_low_1h_tick_volume', 'diff_prev_1_low_1h_prev_1_open',\n",
    "       'diff_prev_1_low_1h_prev_1_high_1h',\n",
    "       'diff_prev_1_low_1h_csum_ar_1_high_24',\n",
    "       'diff_prev_1_low_1h_csum_ar_1_low_24', 'diff_csum_ar_1_high_24_high',\n",
    "       'diff_csum_ar_1_high_24_low', 'diff_csum_ar_1_high_24_low_1h',\n",
    "       'diff_csum_ar_1_high_24_prev_1_high',\n",
    "       'diff_csum_ar_1_high_24_prev_1_low', 'diff_csum_ar_1_low_24_high',\n",
    "       'diff_csum_ar_1_low_24_prev_1_open',\n",
    "       'diff_csum_ar_1_low_24_prev_1_high_1h',\n",
    "       'diff_csum_ar_1_low_24_prev_1_low_1h',\n",
    "        'diff_low_csum_ar_1_low_24', 'diff_close_prev_1_tick_volume',\n",
    "       'diff_open_prev_1_tick_volume', 'diff_tick_volume_prev_1_low_1h',\n",
    "       'diff_high_1h_tick_volume', 'diff_high_1h_prev_1_tick_volume',\n",
    "       'diff_high_1h_csum_ar_1_high_24', 'diff_prev_1_low_csum_ar_1_high_24',\n",
    "       'diff_prev_1_low_csum_ar_1_low_24',\n",
    "       'diff_prev_1_close_csum_ar_1_high_24',\n",
    "       'diff_prev_1_tick_volume_prev_1_high', 'diff_csum_ar_1_low_24_low',\n",
    "       'diff_csum_ar_1_low_24_open', 'diff_csum_ar_1_low_24_low_1h',\n",
    "                   'diff_open_prev_1_low_1h', 'diff_tick_volume_prev_1_low',\n",
    "       'diff_low_1h_csum_ar_1_high_24', 'diff_prev_1_close_prev_1_high_1h',\n",
    "       'diff_prev_1_high_1h_close', 'diff_csum_ar_1_high_24_high_1h',\n",
    "                   'diff_prev_1_high_1h_prev_1_open', 'diff_csum_ar_1_low_24_close'])"
   ]
  },
  {
   "cell_type": "code",
   "execution_count": 37,
   "metadata": {},
   "outputs": [
    {
     "name": "stdout",
     "output_type": "stream",
     "text": [
      "      Iter       Train Loss   Remaining Time \n",
      "         1           1.0617            1.82m\n",
      "         2           1.0386            1.81m\n",
      "         3           1.0194            1.78m\n",
      "         4           1.0032            1.73m\n",
      "         5           0.9897            1.70m\n",
      "         6           0.9782            1.66m\n",
      "         7           0.9682            1.62m\n",
      "         8           0.9595            1.59m\n",
      "         9           0.9523            1.55m\n",
      "        10           0.9459            1.51m\n",
      "        20           0.9107            1.11m\n",
      "        30           0.8976           44.43s\n",
      "        40           0.8900           22.04s\n",
      "        50           0.8847            0.00s\n"
     ]
    },
    {
     "data": {
      "text/plain": [
       "GradientBoostingClassifier(n_estimators=50, verbose=1)"
      ]
     },
     "execution_count": 37,
     "metadata": {},
     "output_type": "execute_result"
    }
   ],
   "source": [
    "from sklearn.model_selection import train_test_split\n",
    "X_train, X_test, y_train, y_test = train_test_split(X, y, shuffle=False, test_size=0.3)\n",
    "\n",
    "from sklearn.ensemble import GradientBoostingClassifier\n",
    "gr_clf = GradientBoostingClassifier(n_estimators=50, verbose=1)\n",
    "gr_clf.fit(X_train, y_train)"
   ]
  },
  {
   "cell_type": "code",
   "execution_count": 39,
   "metadata": {},
   "outputs": [
    {
     "name": "stdout",
     "output_type": "stream",
     "text": [
      "accuracy is  0.5843383584589614\n",
      "[[ 479 1238 1323]\n",
      " [ 339 3325  857]\n",
      " [ 338  868 3173]]\n"
     ]
    },
    {
     "data": {
      "text/plain": [
       "<sklearn.metrics._plot.confusion_matrix.ConfusionMatrixDisplay at 0x22f0003d470>"
      ]
     },
     "execution_count": 39,
     "metadata": {},
     "output_type": "execute_result"
    },
    {
     "data": {
      "image/png": "[encoded data removed]",
      "text/plain": [
       "<Figure size 432x288 with 2 Axes>"
      ]
     },
     "metadata": {
      "needs_background": "light"
     },
     "output_type": "display_data"
    }
   ],
   "source": [
    "from sklearn.metrics import confusion_matrix\n",
    "from sklearn.metrics import plot_confusion_matrix\n",
    "from sklearn.metrics import accuracy_score\n",
    "y_pred = gr_clf.predict(X_test)\n",
    "print(\"accuracy is \", accuracy_score(y_test, y_pred))\n",
    "print(confusion_matrix(y_test, y_pred))\n",
    "plot_confusion_matrix(gr_clf, X_test, y_test, normalize=\"all\")"
   ]
  },
  {
   "cell_type": "code",
   "execution_count": null,
   "metadata": {},
   "outputs": [],
   "source": [
    "accuracy is  0.5843383584589614\n",
    "[[ 479 1238 1323]\n",
    " [ 339 3325  857]\n",
    " [ 338  868 3173]]"
   ]
  },
  {
   "cell_type": "code",
   "execution_count": 38,
   "metadata": {},
   "outputs": [
    {
     "data": {
      "text/html": [
       "<div>\n",
       "<style scoped>\n",
       "    .dataframe tbody tr th:only-of-type {\n",
       "        vertical-align: middle;\n",
       "    }\n",
       "\n",
       "    .dataframe tbody tr th {\n",
       "        vertical-align: top;\n",
       "    }\n",
       "\n",
       "    .dataframe thead th {\n",
       "        text-align: right;\n",
       "    }\n",
       "</style>\n",
       "<table border=\"1\" class=\"dataframe\">\n",
       "  <thead>\n",
       "    <tr style=\"text-align: right;\">\n",
       "      <th></th>\n",
       "      <th>importance</th>\n",
       "    </tr>\n",
       "    <tr>\n",
       "      <th>feature</th>\n",
       "      <th></th>\n",
       "    </tr>\n",
       "  </thead>\n",
       "  <tbody>\n",
       "    <tr>\n",
       "      <th>diff_high_close</th>\n",
       "      <td>0.235188</td>\n",
       "    </tr>\n",
       "    <tr>\n",
       "      <th>diff_low_close</th>\n",
       "      <td>0.198802</td>\n",
       "    </tr>\n",
       "    <tr>\n",
       "      <th>diff_close_high</th>\n",
       "      <td>0.173003</td>\n",
       "    </tr>\n",
       "    <tr>\n",
       "      <th>diff_close_low</th>\n",
       "      <td>0.112647</td>\n",
       "    </tr>\n",
       "    <tr>\n",
       "      <th>diff_close_open</th>\n",
       "      <td>0.111738</td>\n",
       "    </tr>\n",
       "    <tr>\n",
       "      <th>...</th>\n",
       "      <td>...</td>\n",
       "    </tr>\n",
       "    <tr>\n",
       "      <th>diff_prev_1_tick_volume_low</th>\n",
       "      <td>0.000039</td>\n",
       "    </tr>\n",
       "    <tr>\n",
       "      <th>diff_prev_1_low_1h_prev_1_tick_volume</th>\n",
       "      <td>0.000034</td>\n",
       "    </tr>\n",
       "    <tr>\n",
       "      <th>diff_open_high</th>\n",
       "      <td>0.000027</td>\n",
       "    </tr>\n",
       "    <tr>\n",
       "      <th>diff_csum_ar_1_low_24_close</th>\n",
       "      <td>0.000000</td>\n",
       "    </tr>\n",
       "    <tr>\n",
       "      <th>diff_prev_1_high_1h_prev_1_open</th>\n",
       "      <td>0.000000</td>\n",
       "    </tr>\n",
       "  </tbody>\n",
       "</table>\n",
       "<p>167 rows × 1 columns</p>\n",
       "</div>"
      ],
      "text/plain": [
       "                                       importance\n",
       "feature                                          \n",
       "diff_high_close                          0.235188\n",
       "diff_low_close                           0.198802\n",
       "diff_close_high                          0.173003\n",
       "diff_close_low                           0.112647\n",
       "diff_close_open                          0.111738\n",
       "...                                           ...\n",
       "diff_prev_1_tick_volume_low              0.000039\n",
       "diff_prev_1_low_1h_prev_1_tick_volume    0.000034\n",
       "diff_open_high                           0.000027\n",
       "diff_csum_ar_1_low_24_close              0.000000\n",
       "diff_prev_1_high_1h_prev_1_open          0.000000\n",
       "\n",
       "[167 rows x 1 columns]"
      ]
     },
     "execution_count": 38,
     "metadata": {},
     "output_type": "execute_result"
    }
   ],
   "source": [
    "importance = pd.DataFrame(zip(gr_clf.feature_importances_, X.columns), columns = [\"importance\", \"feature\"]).set_index(\"feature\")\n",
    "importance.sort_values(\"importance\", ascending=False)"
   ]
  },
  {
   "cell_type": "code",
   "execution_count": 49,
   "metadata": {},
   "outputs": [
    {
     "name": "stdout",
     "output_type": "stream",
     "text": [
      "diff_high_close 0.23518762581567024\n",
      "diff_low_close 0.19880162220744332\n",
      "diff_close_high 0.17300340114323323\n",
      "diff_close_low 0.11264674135769435\n",
      "diff_close_open 0.1117376696978006\n",
      "diff_high_1h_low_1h 0.02177179060015986\n",
      "diff_close_prev_1_close 0.0158064326448595\n",
      "diff_low_1h_high_1h 0.014551369850263346\n",
      "diff_prev_1_close_close 0.014370673794542621\n",
      "diff_low_high 0.01125523786243482\n",
      "diff_high_low 0.004413210797738307\n",
      "diff_open_close 0.004344855666122561\n",
      "diff_csum_ar_1_low_24_csum_ar_1_high_24 0.002890588605996894\n",
      "diff_csum_ar_1_high_24_csum_ar_1_low_24 0.0027241631085709694\n",
      "diff_csum_ar_1_high_24_prev_1_tick_volume 0.002454745068861623\n",
      "diff_low_high_1h 0.002433893230288317\n",
      "diff_prev_1_tick_volume_tick_volume 0.0024079657403218886\n",
      "diff_tick_volume_prev_1_tick_volume 0.002342916924505931\n",
      "diff_low_prev_1_low 0.002337476514195791\n",
      "csum_low_close_diff_24 0.0019322734294555314\n",
      "diff_prev_1_close_open 0.00164521596778206\n",
      "diff_prev_1_high_1h_open 0.001522141365621261\n",
      "diff_prev_1_high_high 0.0014280228419752967\n",
      "csum_ar_1_high_24 0.0013741354049725514\n",
      "csum_high_close_diff_24 0.0012358077517990475\n",
      "diff_prev_1_high_1h_high 0.0012054269202713345\n",
      "diff_prev_1_low_low 0.0011951738879764937\n",
      "diff_prev_1_high_prev_1_low 0.001180730150325413\n",
      "diff_tick_volume_prev_1_close 0.001178322139188369\n",
      "diff_close_low_1h 0.001129622809905215\n",
      "diff_prev_1_low_prev_1_high_1h 0.0011006828456025023\n",
      "diff_high_prev_1_low_1h 0.0010653103464936032\n",
      "csum_ar_1_low_24 0.0009915684387549336\n",
      "diff_prev_1_high_1h_prev_1_low 0.0009789330469267483\n",
      "diff_prev_1_high_close 0.000961908110782329\n",
      "diff_prev_1_low_1h_prev_1_low 0.0009442650751714004\n",
      "diff_high_prev_1_high 0.000933684715605167\n",
      "diff_prev_1_low_low_1h 0.0009152271805225918\n",
      "diff_tick_volume_low_1h 0.0008968797472643238\n",
      "diff_prev_1_tick_volume_csum_ar_1_high_24 0.0008915664672443537\n",
      "diff_prev_1_close_prev_1_high 0.0008658121492108949\n",
      "diff_high_1h_prev_1_low 0.0008646839682712953\n",
      "diff_prev_1_open_high_1h 0.0008564744908894979\n",
      "diff_high_prev_1_high_1h 0.0008341332230950102\n",
      "diff_prev_1_high_1h_low 0.0008214604525080752\n",
      "diff_low_1h_low 0.0007804787037336545\n",
      "diff_high_1h_low 0.000763758315721911\n",
      "diff_low_1h_prev_1_high_1h 0.0007355423143842112\n",
      "diff_prev_1_tick_volume_close 0.0006933539237397719\n",
      "diff_high_1h_close 0.0006727361630219805\n",
      "diff_high_open 0.0006412604552801316\n",
      "diff_prev_1_high_prev_1_close 0.0006318833359055794\n",
      "diff_low_1h_close 0.0006255138268235594\n",
      "diff_open_high_1h 0.0005882204952775771\n",
      "diff_low_prev_1_open 0.0005526350154076086\n",
      "diff_prev_1_high_1h_low_1h 0.0005447896579993261\n",
      "diff_prev_1_low_1h_high 0.000528906989046987\n",
      "diff_high_1h_open 0.0005068950216611277\n",
      "diff_low_1h_prev_1_open 0.0005065131508704153\n",
      "prev_1_open 0.0004913586689833883\n",
      "diff_low_prev_1_high 0.00048818926367463983\n",
      "diff_prev_1_open_prev_1_tick_volume 0.000487381211440073\n",
      "diff_prev_1_open_close 0.0004808553123991053\n",
      "diff_prev_1_high_low 0.00048013599527804365\n",
      "diff_csum_ar_1_low_24_prev_1_tick_volume 0.00047420254298959156\n",
      "diff_prev_1_close_low 0.0004732445995646575\n",
      "diff_prev_1_tick_volume_csum_ar_1_low_24 0.00046554420661961744\n",
      "prev_1_tick_volume 0.00045266337186565205\n",
      "diff_open_prev_1_close 0.00044523865476254766\n",
      "diff_prev_1_low_1h_prev_1_close 0.0004431689938453232\n",
      "diff_prev_1_low_1h_prev_1_high 0.0004408218012049889\n",
      "diff_tick_volume_csum_ar_1_high_24 0.0004349454914927891\n",
      "diff_close_high_1h 0.00043402051073432465\n",
      "diff_prev_1_close_low_1h 0.00042703604087049486\n",
      "diff_prev_1_low_prev_1_high 0.0004248922561099119\n",
      "diff_open_prev_1_low 0.00042238953442559987\n",
      "prev_1_low 0.0004215012854799532\n",
      "diff_low_1h_prev_1_low 0.0004182454897447009\n",
      "diff_high_low_1h 0.00041140475444705163\n",
      "diff_open_prev_1_high 0.0004109804509928072\n",
      "diff_low_prev_1_low_1h 0.00040778146975992873\n",
      "diff_prev_1_high_1h_prev_1_close 0.00039180381744236323\n",
      "diff_low_open 0.00038901590868036385\n",
      "diff_prev_1_low_tick_volume 0.0003752324422953084\n",
      "diff_prev_1_high_prev_1_high_1h 0.0003692920906406974\n",
      "diff_prev_1_open_high 0.0003664000789540795\n",
      "diff_open_prev_1_high_1h 0.00036146324984188125\n",
      "diff_low_1h_prev_1_high 0.0003604623838795564\n",
      "diff_csum_ar_1_high_24_tick_volume 0.0003578600033927429\n",
      "diff_close_prev_1_high_1h 0.00035139164996679924\n",
      "diff_high_1h_prev_1_open 0.00033954019284058887\n",
      "diff_prev_1_low_close 0.0003382376869484112\n",
      "diff_prev_1_open_prev_1_close 0.00033267652670420706\n",
      "diff_high_1h_prev_1_low_1h 0.00032395932559376123\n",
      "diff_prev_1_close_prev_1_low_1h 0.00032392931495587375\n",
      "diff_low_1h_tick_volume 0.0003175208008695679\n",
      "diff_prev_1_high_prev_1_low_1h 0.0003129772660622131\n",
      "diff_csum_ar_1_high_24_prev_1_open 0.0002953777235479498\n",
      "diff_low_low_1h 0.0002944768950638945\n",
      "diff_prev_1_low_1h_low 0.00028998552512298636\n",
      "diff_prev_1_high_open 0.00028885185303764504\n",
      "diff_low_prev_1_high_1h 0.0002872870785800442\n",
      "diff_low_1h_open 0.00028691711685000247\n",
      "diff_prev_1_open_low_1h 0.0002847659339109641\n",
      "diff_low_1h_prev_1_low_1h 0.00028446571426310295\n",
      "diff_prev_1_low_prev_1_open 0.0002665302439241794\n",
      "diff_prev_1_low_open 0.0002664134991793661\n",
      "diff_low_1h_prev_1_close 0.00026407517492677327\n",
      "diff_low_prev_1_close 0.00026008391246837536\n",
      "diff_prev_1_high_1h_prev_1_high 0.0002554332361414697\n",
      "diff_tick_volume_csum_ar_1_low_24 0.0002543163184801662\n",
      "prev_1_close 0.00025232762718413465\n",
      "diff_prev_1_close_prev_1_low 0.000247331032671207\n",
      "diff_close_prev_1_low 0.0002447492495639773\n",
      "diff_prev_1_low_high 0.0002414366140549532\n",
      "diff_csum_ar_1_high_24_close 0.00023371637984671986\n",
      "diff_high_1h_prev_1_high_1h 0.00022831719673670257\n",
      "diff_prev_1_open_prev_1_low 0.00022831342960019183\n",
      "diff_close_prev_1_high 0.00022828899744729386\n",
      "diff_high_high_1h 0.00020361737776479504\n",
      "diff_open_low 0.00020225845216862305\n",
      "prev_1_high_1h 0.00020022307999078876\n",
      "diff_prev_1_low_prev_1_low_1h 0.00019942825230198863\n",
      "diff_prev_1_high_1h_prev_1_low_1h 0.0001962626655165408\n",
      "diff_prev_1_high_low_1h 0.0001872689332543667\n",
      "diff_open_low_1h 0.00018460186972312146\n",
      "diff_prev_1_low_1h_low_1h 0.0001808962889586416\n",
      "diff_tick_volume_prev_1_high_1h 0.0001754505173149189\n",
      "diff_low_1h_csum_ar_1_low_24 0.00016337528028475707\n",
      "diff_csum_ar_1_low_24_prev_1_low 0.00015822618176465617\n",
      "diff_prev_1_close_high 0.00015601697010959146\n",
      "diff_prev_1_high_1h_high_1h 0.00015386605507650565\n",
      "diff_prev_1_low_1h_high_1h 0.00014988376446168752\n",
      "diff_low_tick_volume 0.0001448945873202431\n",
      "diff_prev_1_open_prev_1_low_1h 0.0001354463884774307\n",
      "diff_prev_1_open_open 0.00013517043940861856\n",
      "diff_csum_ar_1_low_24_tick_volume 0.00013017184847328916\n",
      "diff_prev_1_tick_volume_prev_1_close 0.0001295931941353848\n",
      "diff_high_1h_high 0.00012719735886524534\n",
      "diff_csum_ar_1_low_24_prev_1_close 0.00012397443128168902\n",
      "diff_high_prev_1_low 0.00012352692143395376\n",
      "diff_prev_1_low_high_1h 0.0001221301722357089\n",
      "diff_open_prev_1_open 0.00012053180354251138\n",
      "diff_prev_1_low_prev_1_close 0.00011349303910986376\n",
      "diff_csum_ar_1_high_24_prev_1_high_1h 0.00011233557288602448\n",
      "diff_prev_1_high_prev_1_open 0.00010983982290812243\n",
      "diff_csum_ar_1_high_24_prev_1_low_1h 0.00010852559489770955\n",
      "diff_high_1h_csum_ar_1_low_24 0.0001082203215588624\n",
      "diff_high_1h_prev_1_close 0.00010590287459792169\n",
      "diff_prev_1_open_prev_1_high_1h 0.00010559735988082636\n",
      "diff_high_1h_prev_1_high 9.869239685216399e-05\n",
      "diff_prev_1_low_1h_close 9.423528341918142e-05\n",
      "prev_1_high 9.23289075247827e-05\n",
      "diff_csum_ar_1_high_24_open 8.498061751399343e-05\n",
      "diff_prev_1_high_csum_ar_1_low_24 8.461187003454249e-05\n",
      "diff_tick_volume_open 8.358865772177236e-05\n",
      "diff_high_prev_1_open 7.458126085321014e-05\n",
      "diff_csum_ar_1_high_24_prev_1_close 7.222528610711159e-05\n",
      "diff_csum_ar_1_low_24_prev_1_high 7.19067365516374e-05\n",
      "diff_close_prev_1_open 5.7634899037111254e-05\n",
      "diff_prev_1_open_prev_1_high 4.1029813317562634e-05\n",
      "diff_csum_ar_1_low_24_high_1h 4.025021438574544e-05\n",
      "diff_prev_1_tick_volume_low 3.9424679186486444e-05\n",
      "diff_prev_1_low_1h_prev_1_tick_volume 3.433032017843136e-05\n",
      "diff_open_high 2.6695312062848663e-05\n",
      "diff_csum_ar_1_low_24_close 0.0\n",
      "diff_prev_1_high_1h_prev_1_open 0.0\n"
     ]
    }
   ],
   "source": [
    "for i in importance.sort_values(\"importance\", ascending=False).reset_index().values:\n",
    "    print(i[0], i[1])"
   ]
  },
  {
   "cell_type": "code",
   "execution_count": null,
   "metadata": {},
   "outputs": [],
   "source": [
    "diff_high_close \n",
    "diff_low_close \n",
    "diff_close_open \n",
    "diff_high_1h_low_1h \n",
    "diff_close_prev_1_close \n",
    "diff_low_high "
   ]
  },
  {
   "cell_type": "code",
   "execution_count": 40,
   "metadata": {},
   "outputs": [
    {
     "data": {
      "text/plain": [
       "Index(['diff_prev_1_high_1h_prev_1_open', 'diff_csum_ar_1_low_24_close'], dtype='object', name='feature')"
      ]
     },
     "execution_count": 40,
     "metadata": {},
     "output_type": "execute_result"
    }
   ],
   "source": [
    "importance[importance[\"importance\"]==0].index"
   ]
  }
 ],
 "metadata": {
  "kernelspec": {
   "display_name": "Python 3",
   "language": "python",
   "name": "python3"
  },
  "language_info": {
   "codemirror_mode": {
    "name": "ipython",
    "version": 3
   },
   "file_extension": ".py",
   "mimetype": "text/x-python",
   "name": "python",
   "nbconvert_exporter": "python",
   "pygments_lexer": "ipython3",
   "version": "3.7.1"
  }
 },
 "nbformat": 4,
 "nbformat_minor": 2
}
