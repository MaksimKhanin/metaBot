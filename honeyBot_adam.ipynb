{
 "cells": [
  {
   "cell_type": "code",
   "execution_count": 5,
   "metadata": {},
   "outputs": [
    {
     "name": "stdout",
     "output_type": "stream",
     "text": [
      "AdmiralMarkets-Demo initialize() success\n"
     ]
    }
   ],
   "source": [
    "from mt5_connector import mt5_connector\n",
    "import MetaTrader5 as mt5\n",
    "from teleInformer import TeleInformer\n",
    "import dataPreprocesser as dp\n",
    "\n",
    "import pandas as pd\n",
    "\n",
    "\n",
    "admiral_demo = mt5_connector(server='AdmiralMarkets-Demo',\n",
    "                             login=40927195,\n",
    "                             password='4740lpQbRYg7',\n",
    "                             path=\"C:/metatraders/admiral/terminal64.exe\",\n",
    "                             timedelta=3)\n",
    "\n",
    "Informer = TeleInformer(-414687545, '1155052470:AAELrvfzH_h2zMucZ7BTTaKeKS5lI01yrFg')"
   ]
  },
  {
   "cell_type": "code",
   "execution_count": 21,
   "metadata": {},
   "outputs": [],
   "source": [
    "import imp"
   ]
  },
  {
   "cell_type": "code",
   "execution_count": 22,
   "metadata": {},
   "outputs": [
    {
     "data": {
      "text/plain": [
       "<module 'MetaTrader5' from 'C:\\\\Anaconda3\\\\lib\\\\site-packages\\\\MetaTrader5\\\\__init__.py'>"
      ]
     },
     "execution_count": 22,
     "metadata": {},
     "output_type": "execute_result"
    }
   ],
   "source": [
    "imp.reload(mt5)"
   ]
  },
  {
   "cell_type": "code",
   "execution_count": 6,
   "metadata": {},
   "outputs": [],
   "source": [
    "valid_symbols = ['GBPJPY', 'GBPUSD', \"USDJPY\", \"USDCAD\", \"EURUSD\"]"
   ]
  },
  {
   "cell_type": "code",
   "execution_count": 7,
   "metadata": {},
   "outputs": [],
   "source": [
    "import os\n",
    "import pickle \n",
    "\n",
    "class Strategy:\n",
    "    \n",
    "    def __init__(self, asset):\n",
    "        self.asset = asset\n",
    "        \n",
    "        up_path = os.path.join(asset, \"up\", \"model\", \"model.sav\")\n",
    "        down_path = os.path.join(asset, \"down\", \"model\", \"model.sav\")\n",
    "        \n",
    "        self.up_predictor = pickle.load(open(up_path, 'rb'))\n",
    "        self.down_predictor = pickle.load(open(down_path, 'rb'))\n"
   ]
  },
  {
   "cell_type": "code",
   "execution_count": 8,
   "metadata": {},
   "outputs": [],
   "source": [
    "s_GBPUSD = Strategy(\"GBPUSD\")\n",
    "s_GBPJPY = Strategy(\"GBPJPY\")\n",
    "s_USDJPY = Strategy(\"USDJPY\")\n",
    "s_USDCAD = Strategy(\"USDCAD\")\n",
    "s_EURUSD = Strategy(\"EURUSD\")"
   ]
  },
  {
   "cell_type": "code",
   "execution_count": 9,
   "metadata": {},
   "outputs": [],
   "source": [
    "from datetime import datetime, timedelta\n",
    "buffer_size = timedelta(hours=150)\n",
    "end_date = datetime.now().replace(microsecond=0, second=0, minute=0)\n",
    "start_date = end_date - buffer_size\n",
    "\n",
    "strategies = [s_GBPUSD, s_GBPJPY, s_USDJPY, s_USDCAD, s_EURUSD]"
   ]
  },
  {
   "cell_type": "code",
   "execution_count": 24,
   "metadata": {},
   "outputs": [
    {
     "name": "stdout",
     "output_type": "stream",
     "text": [
      "2020-08-24 16:30:00\n",
      "2020-08-30 22:30:00\n",
      "2020-08-24 16:35:00\n",
      "2020-08-30 22:35:00\n",
      "2020-08-24 16:40:00\n",
      "2020-08-30 22:40:00\n",
      "2020-08-24 16:45:00\n",
      "2020-08-30 22:45:00\n",
      "2020-08-24 16:50:00\n",
      "2020-08-30 22:50:00\n"
     ]
    },
    {
     "ename": "KeyboardInterrupt",
     "evalue": "",
     "output_type": "error",
     "traceback": [
      "\u001b[1;31m---------------------------------------------------------------------------\u001b[0m",
      "\u001b[1;31mKeyboardInterrupt\u001b[0m                         Traceback (most recent call last)",
      "\u001b[1;32m<ipython-input-24-7759cf160c02>\u001b[0m in \u001b[0;36m<module>\u001b[1;34m\u001b[0m\n\u001b[0;32m      5\u001b[0m \u001b[1;33m\u001b[0m\u001b[0m\n\u001b[0;32m      6\u001b[0m \u001b[1;33m\u001b[0m\u001b[0m\n\u001b[1;32m----> 7\u001b[1;33m     \u001b[1;32mif\u001b[0m \u001b[0mdatetime\u001b[0m\u001b[1;33m.\u001b[0m\u001b[0mnow\u001b[0m\u001b[1;33m(\u001b[0m\u001b[1;33m)\u001b[0m\u001b[1;33m.\u001b[0m\u001b[0mminute\u001b[0m \u001b[1;33m%\u001b[0m \u001b[1;36m5\u001b[0m \u001b[1;33m==\u001b[0m \u001b[1;36m0\u001b[0m\u001b[1;33m:\u001b[0m\u001b[1;33m\u001b[0m\u001b[1;33m\u001b[0m\u001b[0m\n\u001b[0m\u001b[0;32m      8\u001b[0m         \u001b[0mend_date\u001b[0m \u001b[1;33m=\u001b[0m \u001b[0mdatetime\u001b[0m\u001b[1;33m.\u001b[0m\u001b[0mnow\u001b[0m\u001b[1;33m(\u001b[0m\u001b[1;33m)\u001b[0m\u001b[1;33m.\u001b[0m\u001b[0mreplace\u001b[0m\u001b[1;33m(\u001b[0m\u001b[0mmicrosecond\u001b[0m\u001b[1;33m=\u001b[0m\u001b[1;36m0\u001b[0m\u001b[1;33m,\u001b[0m \u001b[0msecond\u001b[0m\u001b[1;33m=\u001b[0m\u001b[1;36m0\u001b[0m\u001b[1;33m)\u001b[0m\u001b[1;33m\u001b[0m\u001b[1;33m\u001b[0m\u001b[0m\n\u001b[0;32m      9\u001b[0m         \u001b[1;32mif\u001b[0m \u001b[0mcurrentTime\u001b[0m \u001b[1;33m!=\u001b[0m \u001b[0mend_date\u001b[0m\u001b[1;33m:\u001b[0m\u001b[1;33m\u001b[0m\u001b[1;33m\u001b[0m\u001b[0m\n",
      "\u001b[1;31mKeyboardInterrupt\u001b[0m: "
     ]
    }
   ],
   "source": [
    "print(start_date)\n",
    "print(end_date)\n",
    "    \n",
    "while True:\n",
    "    \n",
    "\n",
    "    if datetime.now().minute % 15 == 0:\n",
    "        end_date = datetime.now().replace(microsecond=0, second=0)\n",
    "        if currentTime != end_date:\n",
    "            currentTime = end_date\n",
    "            start_date = end_date - buffer_size\n",
    "            print(start_date)\n",
    "            print(end_date)"
   ]
  },
  {
   "cell_type": "code",
   "execution_count": null,
   "metadata": {},
   "outputs": [
    {
     "name": "stdout",
     "output_type": "stream",
     "text": [
      "2020-08-23 00:30:00\n",
      "2020-08-31 08:30:00\n"
     ]
    },
    {
     "name": "stderr",
     "output_type": "stream",
     "text": [
      "100%|███████████████████████████████████████████████████████████████████████████████████| 5/5 [00:00<00:00, 178.68it/s]\n"
     ]
    },
    {
     "name": "stdout",
     "output_type": "stream",
     "text": [
      "GBPUSD\n",
      "0 0\n",
      "GBPJPY\n",
      "0 1\n",
      "USDJPY\n",
      "0 1\n",
      "Sell USDJPY\n",
      "USDCAD\n",
      "1 0\n",
      "EURUSD\n",
      "0 0\n",
      "2020-08-23 00:30:00\n",
      "2020-08-31 08:30:00\n"
     ]
    },
    {
     "name": "stderr",
     "output_type": "stream",
     "text": [
      "100%|███████████████████████████████████████████████████████████████████████████████████| 5/5 [00:00<00:00, 142.94it/s]\n"
     ]
    },
    {
     "name": "stdout",
     "output_type": "stream",
     "text": [
      "GBPUSD\n",
      "0 0\n",
      "GBPJPY\n",
      "0 1\n",
      "USDJPY\n",
      "0 1\n",
      "USDCAD\n",
      "1 0\n",
      "EURUSD\n",
      "0 0\n",
      "2020-08-23 00:30:00\n",
      "2020-08-31 08:30:00\n"
     ]
    },
    {
     "name": "stderr",
     "output_type": "stream",
     "text": [
      "100%|███████████████████████████████████████████████████████████████████████████████████| 5/5 [00:00<00:00, 178.67it/s]\n"
     ]
    },
    {
     "name": "stdout",
     "output_type": "stream",
     "text": [
      "GBPUSD\n",
      "0 0\n",
      "GBPJPY\n",
      "0 1\n",
      "USDJPY\n",
      "0 1\n",
      "USDCAD\n",
      "1 0\n",
      "EURUSD\n",
      "0 0\n",
      "2020-08-23 00:30:00\n",
      "2020-08-31 08:30:00\n"
     ]
    },
    {
     "name": "stderr",
     "output_type": "stream",
     "text": [
      "100%|███████████████████████████████████████████████████████████████████████████████████| 5/5 [00:00<00:00, 178.67it/s]\n"
     ]
    },
    {
     "name": "stdout",
     "output_type": "stream",
     "text": [
      "GBPUSD\n",
      "0 0\n",
      "GBPJPY\n",
      "0 1\n",
      "USDJPY\n",
      "0 1\n",
      "USDCAD\n",
      "1 0\n",
      "EURUSD\n",
      "0 0\n",
      "2020-08-23 00:30:00\n",
      "2020-08-31 08:30:00\n"
     ]
    },
    {
     "name": "stderr",
     "output_type": "stream",
     "text": [
      "100%|███████████████████████████████████████████████████████████████████████████████████| 5/5 [00:00<00:00, 172.51it/s]\n"
     ]
    },
    {
     "name": "stdout",
     "output_type": "stream",
     "text": [
      "GBPUSD\n",
      "0 0\n",
      "GBPJPY\n",
      "0 1\n",
      "USDJPY\n",
      "0 1\n",
      "USDCAD\n",
      "1 0\n",
      "EURUSD\n",
      "0 0\n",
      "2020-08-23 00:30:00\n",
      "2020-08-31 08:30:00\n"
     ]
    },
    {
     "name": "stderr",
     "output_type": "stream",
     "text": [
      "100%|███████████████████████████████████████████████████████████████████████████████████| 5/5 [00:00<00:00, 166.76it/s]\n"
     ]
    },
    {
     "name": "stdout",
     "output_type": "stream",
     "text": [
      "GBPUSD\n",
      "0 0\n",
      "GBPJPY\n",
      "0 1\n",
      "USDJPY\n",
      "0 1\n",
      "USDCAD\n",
      "1 0\n",
      "EURUSD\n",
      "0 0\n",
      "2020-08-23 00:30:00\n",
      "2020-08-31 08:30:00\n"
     ]
    },
    {
     "name": "stderr",
     "output_type": "stream",
     "text": [
      "100%|███████████████████████████████████████████████████████████████████████████████████| 5/5 [00:00<00:00, 185.07it/s]\n"
     ]
    },
    {
     "name": "stdout",
     "output_type": "stream",
     "text": [
      "GBPUSD\n",
      "0 0\n",
      "GBPJPY\n",
      "0 1\n",
      "USDJPY\n",
      "0 1\n",
      "USDCAD\n",
      "1 0\n",
      "EURUSD\n",
      "0 0\n",
      "2020-08-23 00:30:00\n",
      "2020-08-31 08:30:00\n"
     ]
    },
    {
     "name": "stderr",
     "output_type": "stream",
     "text": [
      "100%|███████████████████████████████████████████████████████████████████████████████████| 5/5 [00:00<00:00, 178.67it/s]\n"
     ]
    },
    {
     "name": "stdout",
     "output_type": "stream",
     "text": [
      "GBPUSD\n",
      "0 0\n",
      "GBPJPY\n",
      "0 1\n",
      "USDJPY\n",
      "0 1\n",
      "USDCAD\n",
      "1 0\n",
      "EURUSD\n",
      "0 0\n",
      "2020-08-23 00:30:00\n",
      "2020-08-31 08:30:00\n"
     ]
    },
    {
     "name": "stderr",
     "output_type": "stream",
     "text": [
      "100%|███████████████████████████████████████████████████████████████████████████████████| 5/5 [00:00<00:00, 178.67it/s]\n"
     ]
    },
    {
     "name": "stdout",
     "output_type": "stream",
     "text": [
      "GBPUSD\n",
      "0 0\n",
      "GBPJPY\n",
      "0 1\n",
      "USDJPY\n",
      "0 1\n",
      "USDCAD\n",
      "1 0\n",
      "EURUSD\n",
      "0 0\n",
      "2020-08-23 00:30:00\n",
      "2020-08-31 08:30:00\n"
     ]
    },
    {
     "name": "stderr",
     "output_type": "stream",
     "text": [
      "100%|███████████████████████████████████████████████████████████████████████████████████| 5/5 [00:00<00:00, 178.67it/s]\n"
     ]
    },
    {
     "name": "stdout",
     "output_type": "stream",
     "text": [
      "GBPUSD\n",
      "0 0\n",
      "GBPJPY\n",
      "0 1\n",
      "USDJPY\n",
      "0 1\n",
      "USDCAD\n",
      "1 0\n",
      "EURUSD\n",
      "0 0\n",
      "2020-08-23 00:30:00\n",
      "2020-08-31 08:30:00\n"
     ]
    },
    {
     "name": "stderr",
     "output_type": "stream",
     "text": [
      "100%|███████████████████████████████████████████████████████████████████████████████████| 5/5 [00:00<00:00, 172.51it/s]\n"
     ]
    },
    {
     "name": "stdout",
     "output_type": "stream",
     "text": [
      "GBPUSD\n",
      "0 0\n",
      "GBPJPY\n",
      "0 1\n",
      "USDJPY\n",
      "0 1\n",
      "USDCAD\n",
      "1 0\n",
      "EURUSD\n",
      "0 0\n",
      "2020-08-23 00:45:00\n",
      "2020-08-31 08:45:00\n"
     ]
    },
    {
     "name": "stderr",
     "output_type": "stream",
     "text": [
      "100%|███████████████████████████████████████████████████████████████████████████████████| 5/5 [00:00<00:00, 178.68it/s]\n"
     ]
    },
    {
     "name": "stdout",
     "output_type": "stream",
     "text": [
      "GBPUSD\n",
      "1 0\n",
      "Buy GBPUSD\n",
      "GBPJPY\n",
      "0 0\n",
      "USDJPY\n",
      "0 1\n",
      "USDCAD\n",
      "0 0\n",
      "EURUSD\n",
      "1 0\n",
      "Buy EURUSD\n",
      "2020-08-23 00:45:00\n",
      "2020-08-31 08:45:00\n"
     ]
    },
    {
     "name": "stderr",
     "output_type": "stream",
     "text": [
      "100%|███████████████████████████████████████████████████████████████████████████████████| 5/5 [00:00<00:00, 151.60it/s]\n"
     ]
    },
    {
     "name": "stdout",
     "output_type": "stream",
     "text": [
      "GBPUSD\n",
      "1 0\n",
      "GBPJPY\n",
      "0 0\n",
      "USDJPY\n",
      "0 1\n",
      "USDCAD\n",
      "0 0\n",
      "EURUSD\n",
      "1 0\n",
      "2020-08-23 00:45:00\n",
      "2020-08-31 08:45:00\n"
     ]
    },
    {
     "name": "stderr",
     "output_type": "stream",
     "text": [
      "100%|███████████████████████████████████████████████████████████████████████████████████| 5/5 [00:00<00:00, 131.66it/s]\n"
     ]
    },
    {
     "name": "stdout",
     "output_type": "stream",
     "text": [
      "GBPUSD\n",
      "1 0\n",
      "GBPJPY\n",
      "0 0\n",
      "USDJPY\n",
      "0 1\n",
      "USDCAD\n",
      "0 0\n",
      "EURUSD\n",
      "1 0\n",
      "2020-08-23 00:45:00\n",
      "2020-08-31 08:45:00\n"
     ]
    },
    {
     "name": "stderr",
     "output_type": "stream",
     "text": [
      "100%|███████████████████████████████████████████████████████████████████████████████████| 5/5 [00:00<00:00, 161.39it/s]\n"
     ]
    },
    {
     "name": "stdout",
     "output_type": "stream",
     "text": [
      "GBPUSD\n",
      "1 0\n",
      "GBPJPY\n",
      "0 0\n",
      "USDJPY\n",
      "0 1\n",
      "USDCAD\n",
      "0 0\n",
      "EURUSD\n",
      "1 0\n",
      "2020-08-23 00:45:00\n",
      "2020-08-31 08:45:00\n"
     ]
    },
    {
     "name": "stderr",
     "output_type": "stream",
     "text": [
      "100%|███████████████████████████████████████████████████████████████████████████████████| 5/5 [00:00<00:00, 151.60it/s]\n"
     ]
    },
    {
     "name": "stdout",
     "output_type": "stream",
     "text": [
      "GBPUSD\n",
      "1 0\n",
      "GBPJPY\n",
      "0 0\n",
      "USDJPY\n",
      "0 1\n",
      "USDCAD\n",
      "0 0\n",
      "EURUSD\n",
      "1 0\n",
      "2020-08-23 00:45:00\n",
      "2020-08-31 08:45:00\n"
     ]
    },
    {
     "name": "stderr",
     "output_type": "stream",
     "text": [
      "100%|███████████████████████████████████████████████████████████████████████████████████| 5/5 [00:00<00:00, 161.39it/s]\n"
     ]
    },
    {
     "name": "stdout",
     "output_type": "stream",
     "text": [
      "GBPUSD\n",
      "1 0\n",
      "GBPJPY\n",
      "0 0\n",
      "USDJPY\n",
      "0 1\n",
      "USDCAD\n",
      "0 0\n",
      "EURUSD\n",
      "1 0\n",
      "2020-08-23 00:45:00\n",
      "2020-08-31 08:45:00\n"
     ]
    },
    {
     "name": "stderr",
     "output_type": "stream",
     "text": [
      "100%|███████████████████████████████████████████████████████████████████████████████████| 5/5 [00:00<00:00, 151.60it/s]\n"
     ]
    },
    {
     "name": "stdout",
     "output_type": "stream",
     "text": [
      "GBPUSD\n",
      "1 0\n",
      "GBPJPY\n",
      "0 0\n",
      "USDJPY\n",
      "0 1\n",
      "USDCAD\n",
      "0 0\n",
      "EURUSD\n",
      "1 0\n",
      "2020-08-23 00:45:00\n",
      "2020-08-31 08:45:00\n"
     ]
    },
    {
     "name": "stderr",
     "output_type": "stream",
     "text": [
      "100%|███████████████████████████████████████████████████████████████████████████████████| 5/5 [00:00<00:00, 161.38it/s]\n"
     ]
    },
    {
     "name": "stdout",
     "output_type": "stream",
     "text": [
      "GBPUSD\n",
      "1 0\n",
      "GBPJPY\n",
      "0 0\n",
      "USDJPY\n",
      "0 1\n",
      "USDCAD\n",
      "0 0\n",
      "EURUSD\n",
      "1 0\n",
      "2020-08-23 00:45:00\n",
      "2020-08-31 08:45:00\n"
     ]
    },
    {
     "name": "stderr",
     "output_type": "stream",
     "text": [
      "100%|███████████████████████████████████████████████████████████████████████████████████| 5/5 [00:00<00:00, 156.34it/s]\n"
     ]
    },
    {
     "name": "stdout",
     "output_type": "stream",
     "text": [
      "GBPUSD\n",
      "1 0\n",
      "GBPJPY\n",
      "0 0\n",
      "USDJPY\n",
      "0 1\n",
      "USDCAD\n",
      "0 0\n",
      "EURUSD\n",
      "1 0\n",
      "2020-08-23 00:45:00\n",
      "2020-08-31 08:45:00\n"
     ]
    },
    {
     "name": "stderr",
     "output_type": "stream",
     "text": [
      "100%|███████████████████████████████████████████████████████████████████████████████████| 5/5 [00:00<00:00, 166.76it/s]\n"
     ]
    },
    {
     "name": "stdout",
     "output_type": "stream",
     "text": [
      "GBPUSD\n",
      "1 0\n",
      "GBPJPY\n",
      "0 0\n",
      "USDJPY\n",
      "0 1\n",
      "USDCAD\n",
      "0 0\n",
      "EURUSD\n",
      "1 0\n",
      "2020-08-23 00:45:00\n",
      "2020-08-31 08:45:00\n"
     ]
    },
    {
     "name": "stderr",
     "output_type": "stream",
     "text": [
      "100%|███████████████████████████████████████████████████████████████████████████████████| 5/5 [00:00<00:00, 161.39it/s]\n"
     ]
    },
    {
     "name": "stdout",
     "output_type": "stream",
     "text": [
      "GBPUSD\n",
      "1 0\n",
      "GBPJPY\n",
      "0 0\n",
      "USDJPY\n",
      "0 1\n",
      "USDCAD\n",
      "0 0\n",
      "EURUSD\n",
      "1 0\n",
      "2020-08-23 01:00:00\n",
      "2020-08-31 09:00:00\n"
     ]
    },
    {
     "name": "stderr",
     "output_type": "stream",
     "text": [
      "100%|███████████████████████████████████████████████████████████████████████████████████| 5/5 [00:00<00:00, 116.34it/s]\n"
     ]
    },
    {
     "name": "stdout",
     "output_type": "stream",
     "text": [
      "GBPUSD\n",
      "0 0\n",
      "GBPJPY\n",
      "0 0\n",
      "USDJPY\n",
      "0 1\n",
      "USDCAD\n",
      "0 1\n",
      "Sell USDCAD\n",
      "EURUSD\n",
      "0 0\n",
      "2020-08-23 01:00:00\n",
      "2020-08-31 09:00:00\n"
     ]
    },
    {
     "name": "stderr",
     "output_type": "stream",
     "text": [
      "100%|███████████████████████████████████████████████████████████████████████████████████| 5/5 [00:00<00:00, 142.94it/s]\n"
     ]
    },
    {
     "name": "stdout",
     "output_type": "stream",
     "text": [
      "GBPUSD\n",
      "0 0\n",
      "GBPJPY\n",
      "0 0\n",
      "USDJPY\n",
      "0 1\n",
      "USDCAD\n",
      "0 1\n",
      "EURUSD\n",
      "0 0\n",
      "2020-08-23 01:00:00\n",
      "2020-08-31 09:00:00\n"
     ]
    },
    {
     "name": "stderr",
     "output_type": "stream",
     "text": [
      "100%|███████████████████████████████████████████████████████████████████████████████████| 5/5 [00:00<00:00, 172.51it/s]\n"
     ]
    },
    {
     "name": "stdout",
     "output_type": "stream",
     "text": [
      "GBPUSD\n",
      "0 0\n",
      "GBPJPY\n",
      "0 0\n",
      "USDJPY\n",
      "0 1\n",
      "USDCAD\n",
      "0 1\n",
      "EURUSD\n",
      "0 0\n",
      "2020-08-23 01:00:00\n",
      "2020-08-31 09:00:00\n"
     ]
    },
    {
     "name": "stderr",
     "output_type": "stream",
     "text": [
      "100%|███████████████████████████████████████████████████████████████████████████████████| 5/5 [00:00<00:00, 166.76it/s]\n"
     ]
    },
    {
     "name": "stdout",
     "output_type": "stream",
     "text": [
      "GBPUSD\n",
      "0 0\n",
      "GBPJPY\n",
      "0 0\n",
      "USDJPY\n",
      "0 1\n",
      "USDCAD\n",
      "0 1\n",
      "EURUSD\n",
      "0 0\n",
      "2020-08-23 01:00:00\n",
      "2020-08-31 09:00:00\n"
     ]
    },
    {
     "name": "stderr",
     "output_type": "stream",
     "text": [
      "100%|███████████████████████████████████████████████████████████████████████████████████| 5/5 [00:00<00:00, 172.51it/s]\n"
     ]
    },
    {
     "name": "stdout",
     "output_type": "stream",
     "text": [
      "GBPUSD\n",
      "0 0\n",
      "GBPJPY\n",
      "0 0\n",
      "USDJPY\n",
      "0 1\n",
      "USDCAD\n",
      "0 1\n",
      "EURUSD\n",
      "0 0\n",
      "2020-08-23 01:00:00\n",
      "2020-08-31 09:00:00\n"
     ]
    },
    {
     "name": "stderr",
     "output_type": "stream",
     "text": [
      "100%|███████████████████████████████████████████████████████████████████████████████████| 5/5 [00:00<00:00, 185.29it/s]\n"
     ]
    },
    {
     "name": "stdout",
     "output_type": "stream",
     "text": [
      "GBPUSD\n",
      "0 0\n",
      "GBPJPY\n",
      "0 0\n",
      "USDJPY\n",
      "0 1\n",
      "USDCAD\n",
      "0 1\n",
      "EURUSD\n",
      "0 0\n",
      "2020-08-23 01:00:00\n",
      "2020-08-31 09:00:00\n"
     ]
    },
    {
     "name": "stderr",
     "output_type": "stream",
     "text": [
      "100%|███████████████████████████████████████████████████████████████████████████████████| 5/5 [00:00<00:00, 185.29it/s]\n"
     ]
    },
    {
     "name": "stdout",
     "output_type": "stream",
     "text": [
      "GBPUSD\n",
      "0 0\n",
      "GBPJPY\n",
      "0 0\n",
      "USDJPY\n",
      "0 1\n",
      "USDCAD\n",
      "0 1\n",
      "EURUSD\n",
      "0 0\n",
      "2020-08-23 01:00:00\n",
      "2020-08-31 09:00:00\n"
     ]
    },
    {
     "name": "stderr",
     "output_type": "stream",
     "text": [
      "100%|███████████████████████████████████████████████████████████████████████████████████| 5/5 [00:00<00:00, 172.51it/s]\n"
     ]
    },
    {
     "name": "stdout",
     "output_type": "stream",
     "text": [
      "GBPUSD\n",
      "0 0\n",
      "GBPJPY\n",
      "0 0\n",
      "USDJPY\n",
      "0 1\n",
      "USDCAD\n",
      "0 1\n",
      "EURUSD\n",
      "0 0\n",
      "2020-08-23 01:00:00\n",
      "2020-08-31 09:00:00\n"
     ]
    },
    {
     "name": "stderr",
     "output_type": "stream",
     "text": [
      "100%|███████████████████████████████████████████████████████████████████████████████████| 5/5 [00:00<00:00, 166.76it/s]\n"
     ]
    },
    {
     "name": "stdout",
     "output_type": "stream",
     "text": [
      "GBPUSD\n",
      "0 0\n",
      "GBPJPY\n",
      "0 0\n",
      "USDJPY\n",
      "0 1\n",
      "USDCAD\n",
      "0 1\n",
      "EURUSD\n",
      "0 0\n",
      "2020-08-23 01:15:00\n",
      "2020-08-31 09:15:00\n"
     ]
    },
    {
     "name": "stderr",
     "output_type": "stream",
     "text": [
      "100%|███████████████████████████████████████████████████████████████████████████████████| 5/5 [00:00<00:00, 166.76it/s]\n"
     ]
    },
    {
     "name": "stdout",
     "output_type": "stream",
     "text": [
      "GBPUSD\n",
      "0 1\n",
      "Sell GBPUSD\n",
      "GBPJPY\n",
      "0 0\n",
      "USDJPY\n",
      "1 0\n",
      "Buy USDJPY\n",
      "USDCAD\n",
      "0 0\n",
      "EURUSD\n",
      "0 1\n",
      "Sell EURUSD\n",
      "2020-08-23 01:15:00\n",
      "2020-08-31 09:15:00\n"
     ]
    },
    {
     "name": "stderr",
     "output_type": "stream",
     "text": [
      "100%|███████████████████████████████████████████████████████████████████████████████████| 5/5 [00:00<00:00, 172.51it/s]\n"
     ]
    },
    {
     "name": "stdout",
     "output_type": "stream",
     "text": [
      "GBPUSD\n",
      "0 1\n",
      "GBPJPY\n",
      "0 0\n",
      "USDJPY\n",
      "1 0\n",
      "USDCAD\n",
      "0 0\n",
      "EURUSD\n",
      "0 1\n",
      "2020-08-23 01:15:00\n",
      "2020-08-31 09:15:00\n"
     ]
    },
    {
     "name": "stderr",
     "output_type": "stream",
     "text": [
      "100%|███████████████████████████████████████████████████████████████████████████████████| 5/5 [00:00<00:00, 161.39it/s]\n"
     ]
    },
    {
     "name": "stdout",
     "output_type": "stream",
     "text": [
      "GBPUSD\n",
      "0 1\n",
      "GBPJPY\n",
      "0 0\n",
      "USDJPY\n",
      "1 0\n",
      "USDCAD\n",
      "0 0\n",
      "EURUSD\n",
      "0 1\n",
      "2020-08-23 01:15:00\n",
      "2020-08-31 09:15:00\n"
     ]
    },
    {
     "name": "stderr",
     "output_type": "stream",
     "text": [
      "100%|███████████████████████████████████████████████████████████████████████████████████| 5/5 [00:00<00:00, 166.77it/s]\n"
     ]
    },
    {
     "name": "stdout",
     "output_type": "stream",
     "text": [
      "GBPUSD\n",
      "0 1\n",
      "GBPJPY\n",
      "0 0\n",
      "USDJPY\n",
      "1 0\n",
      "USDCAD\n",
      "0 0\n",
      "EURUSD\n",
      "0 1\n",
      "2020-08-23 01:15:00\n",
      "2020-08-31 09:15:00\n"
     ]
    },
    {
     "name": "stderr",
     "output_type": "stream",
     "text": [
      "100%|███████████████████████████████████████████████████████████████████████████████████| 5/5 [00:00<00:00, 147.15it/s]\n"
     ]
    },
    {
     "name": "stdout",
     "output_type": "stream",
     "text": [
      "GBPUSD\n",
      "0 1\n",
      "GBPJPY\n",
      "0 0\n",
      "USDJPY\n",
      "1 0\n",
      "USDCAD\n",
      "0 0\n",
      "EURUSD\n",
      "0 1\n",
      "2020-08-23 01:15:00\n",
      "2020-08-31 09:15:00\n"
     ]
    },
    {
     "name": "stderr",
     "output_type": "stream",
     "text": [
      "100%|███████████████████████████████████████████████████████████████████████████████████| 5/5 [00:00<00:00, 161.39it/s]\n"
     ]
    },
    {
     "name": "stdout",
     "output_type": "stream",
     "text": [
      "GBPUSD\n",
      "0 1\n",
      "GBPJPY\n",
      "0 0\n",
      "USDJPY\n",
      "1 0\n",
      "USDCAD\n",
      "0 0\n",
      "EURUSD\n",
      "0 1\n",
      "2020-08-23 01:15:00\n",
      "2020-08-31 09:15:00\n"
     ]
    },
    {
     "name": "stderr",
     "output_type": "stream",
     "text": [
      "100%|███████████████████████████████████████████████████████████████████████████████████| 5/5 [00:00<00:00, 151.61it/s]\n"
     ]
    },
    {
     "name": "stdout",
     "output_type": "stream",
     "text": [
      "GBPUSD\n",
      "0 1\n",
      "GBPJPY\n",
      "0 0\n",
      "USDJPY\n",
      "1 0\n",
      "USDCAD\n",
      "0 0\n",
      "EURUSD\n",
      "0 1\n",
      "2020-08-23 01:15:00\n",
      "2020-08-31 09:15:00\n"
     ]
    },
    {
     "name": "stderr",
     "output_type": "stream",
     "text": [
      "100%|███████████████████████████████████████████████████████████████████████████████████| 5/5 [00:00<00:00, 161.38it/s]\n"
     ]
    },
    {
     "name": "stdout",
     "output_type": "stream",
     "text": [
      "GBPUSD\n",
      "0 1\n",
      "GBPJPY\n",
      "0 0\n",
      "USDJPY\n",
      "1 0\n",
      "USDCAD\n",
      "0 0\n",
      "EURUSD\n",
      "0 1\n",
      "2020-08-23 01:15:00\n",
      "2020-08-31 09:15:00\n"
     ]
    },
    {
     "name": "stderr",
     "output_type": "stream",
     "text": [
      "100%|███████████████████████████████████████████████████████████████████████████████████| 5/5 [00:00<00:00, 166.76it/s]\n"
     ]
    },
    {
     "name": "stdout",
     "output_type": "stream",
     "text": [
      "GBPUSD\n",
      "0 1\n",
      "GBPJPY\n",
      "0 0\n",
      "USDJPY\n",
      "1 0\n",
      "USDCAD\n",
      "0 0\n",
      "EURUSD\n",
      "0 1\n",
      "2020-08-23 01:15:00\n",
      "2020-08-31 09:15:00\n"
     ]
    },
    {
     "name": "stderr",
     "output_type": "stream",
     "text": [
      "100%|███████████████████████████████████████████████████████████████████████████████████| 5/5 [00:00<00:00, 151.56it/s]\n"
     ]
    },
    {
     "name": "stdout",
     "output_type": "stream",
     "text": [
      "GBPUSD\n",
      "0 1\n",
      "GBPJPY\n",
      "0 0\n",
      "USDJPY\n",
      "1 0\n",
      "USDCAD\n",
      "0 0\n",
      "EURUSD\n",
      "0 1\n",
      "2020-08-23 01:15:00\n",
      "2020-08-31 09:15:00\n"
     ]
    },
    {
     "name": "stderr",
     "output_type": "stream",
     "text": [
      "100%|███████████████████████████████████████████████████████████████████████████████████| 5/5 [00:00<00:00, 161.30it/s]\n"
     ]
    },
    {
     "name": "stdout",
     "output_type": "stream",
     "text": [
      "GBPUSD\n",
      "0 1\n",
      "GBPJPY\n",
      "0 0\n",
      "USDJPY\n",
      "1 0\n",
      "USDCAD\n",
      "0 0\n",
      "EURUSD\n",
      "0 1\n",
      "2020-08-23 01:30:00\n",
      "2020-08-31 09:30:00\n"
     ]
    },
    {
     "name": "stderr",
     "output_type": "stream",
     "text": [
      "100%|███████████████████████████████████████████████████████████████████████████████████| 5/5 [00:00<00:00, 161.38it/s]\n"
     ]
    },
    {
     "name": "stdout",
     "output_type": "stream",
     "text": [
      "GBPUSD\n",
      "0 1\n",
      "GBPJPY\n",
      "0 0\n",
      "USDJPY\n",
      "1 0\n",
      "USDCAD\n",
      "1 0\n",
      "Buy USDCAD\n",
      "EURUSD\n",
      "0 0\n",
      "2020-08-23 01:30:00\n",
      "2020-08-31 09:30:00\n"
     ]
    },
    {
     "name": "stderr",
     "output_type": "stream",
     "text": [
      "100%|███████████████████████████████████████████████████████████████████████████████████| 5/5 [00:00<00:00, 151.60it/s]\n"
     ]
    },
    {
     "name": "stdout",
     "output_type": "stream",
     "text": [
      "GBPUSD\n",
      "0 1\n",
      "GBPJPY\n",
      "0 0\n",
      "USDJPY\n",
      "1 0\n",
      "USDCAD\n",
      "1 0\n",
      "EURUSD\n",
      "0 0\n",
      "2020-08-23 01:30:00\n",
      "2020-08-31 09:30:00\n"
     ]
    },
    {
     "name": "stderr",
     "output_type": "stream",
     "text": [
      "100%|███████████████████████████████████████████████████████████████████████████████████| 5/5 [00:00<00:00, 172.51it/s]\n"
     ]
    },
    {
     "name": "stdout",
     "output_type": "stream",
     "text": [
      "GBPUSD\n",
      "0 1\n",
      "GBPJPY\n",
      "0 0\n",
      "USDJPY\n",
      "1 0\n",
      "USDCAD\n",
      "1 0\n",
      "EURUSD\n",
      "0 0\n",
      "2020-08-23 01:30:00\n",
      "2020-08-31 09:30:00\n"
     ]
    },
    {
     "name": "stderr",
     "output_type": "stream",
     "text": [
      "100%|███████████████████████████████████████████████████████████████████████████████████| 5/5 [00:00<00:00, 185.29it/s]\n"
     ]
    },
    {
     "name": "stdout",
     "output_type": "stream",
     "text": [
      "GBPUSD\n",
      "0 1\n",
      "GBPJPY\n",
      "0 0\n",
      "USDJPY\n",
      "1 0\n",
      "USDCAD\n",
      "1 0\n",
      "EURUSD\n",
      "0 0\n",
      "2020-08-23 01:30:00\n",
      "2020-08-31 09:30:00\n"
     ]
    },
    {
     "name": "stderr",
     "output_type": "stream",
     "text": [
      "100%|███████████████████████████████████████████████████████████████████████████████████| 5/5 [00:00<00:00, 185.30it/s]\n"
     ]
    },
    {
     "name": "stdout",
     "output_type": "stream",
     "text": [
      "GBPUSD\n",
      "0 1\n",
      "GBPJPY\n",
      "0 0\n",
      "USDJPY\n",
      "1 0\n",
      "USDCAD\n",
      "1 0\n",
      "EURUSD\n",
      "0 0\n",
      "2020-08-23 01:30:00\n",
      "2020-08-31 09:30:00\n"
     ]
    },
    {
     "name": "stderr",
     "output_type": "stream",
     "text": [
      "100%|███████████████████████████████████████████████████████████████████████████████████| 5/5 [00:00<00:00, 185.29it/s]\n"
     ]
    },
    {
     "name": "stdout",
     "output_type": "stream",
     "text": [
      "GBPUSD\n",
      "0 1\n",
      "GBPJPY\n",
      "0 0\n",
      "USDJPY\n",
      "1 0\n",
      "USDCAD\n",
      "1 0\n",
      "EURUSD\n",
      "0 0\n",
      "2020-08-23 01:30:00\n",
      "2020-08-31 09:30:00\n"
     ]
    },
    {
     "name": "stderr",
     "output_type": "stream",
     "text": [
      "100%|███████████████████████████████████████████████████████████████████████████████████| 5/5 [00:00<00:00, 185.29it/s]\n"
     ]
    },
    {
     "name": "stdout",
     "output_type": "stream",
     "text": [
      "GBPUSD\n",
      "0 1\n",
      "GBPJPY\n",
      "0 0\n",
      "USDJPY\n",
      "1 0\n",
      "USDCAD\n",
      "1 0\n",
      "EURUSD\n",
      "0 0\n",
      "2020-08-23 01:30:00\n",
      "2020-08-31 09:30:00\n"
     ]
    },
    {
     "name": "stderr",
     "output_type": "stream",
     "text": [
      "100%|███████████████████████████████████████████████████████████████████████████████████| 5/5 [00:00<00:00, 185.29it/s]\n"
     ]
    },
    {
     "name": "stdout",
     "output_type": "stream",
     "text": [
      "GBPUSD\n",
      "0 1\n",
      "GBPJPY\n",
      "0 0\n",
      "USDJPY\n",
      "1 0\n",
      "USDCAD\n",
      "1 0\n",
      "EURUSD\n",
      "0 0\n",
      "2020-08-23 01:30:00\n",
      "2020-08-31 09:30:00\n"
     ]
    },
    {
     "name": "stderr",
     "output_type": "stream",
     "text": [
      "100%|███████████████████████████████████████████████████████████████████████████████████| 5/5 [00:00<00:00, 185.29it/s]\n"
     ]
    },
    {
     "name": "stdout",
     "output_type": "stream",
     "text": [
      "GBPUSD\n",
      "0 1\n",
      "GBPJPY\n",
      "0 0\n",
      "USDJPY\n",
      "1 0\n",
      "USDCAD\n",
      "1 0\n",
      "EURUSD\n",
      "0 0\n",
      "2020-08-23 01:30:00\n",
      "2020-08-31 09:30:00\n"
     ]
    },
    {
     "name": "stderr",
     "output_type": "stream",
     "text": [
      "100%|███████████████████████████████████████████████████████████████████████████████████| 5/5 [00:00<00:00, 185.29it/s]\n"
     ]
    },
    {
     "name": "stdout",
     "output_type": "stream",
     "text": [
      "GBPUSD\n",
      "0 1\n",
      "GBPJPY\n",
      "0 0\n",
      "USDJPY\n",
      "1 0\n",
      "USDCAD\n",
      "1 0\n",
      "EURUSD\n",
      "0 0\n",
      "2020-08-23 01:30:00\n",
      "2020-08-31 09:30:00\n"
     ]
    },
    {
     "name": "stderr",
     "output_type": "stream",
     "text": [
      "100%|███████████████████████████████████████████████████████████████████████████████████| 5/5 [00:00<00:00, 172.51it/s]\n"
     ]
    },
    {
     "name": "stdout",
     "output_type": "stream",
     "text": [
      "GBPUSD\n",
      "0 1\n",
      "GBPJPY\n",
      "0 0\n",
      "USDJPY\n",
      "1 0\n",
      "USDCAD\n",
      "1 0\n",
      "EURUSD\n",
      "0 0\n",
      "2020-08-23 01:45:00\n",
      "2020-08-31 09:45:00\n"
     ]
    },
    {
     "name": "stderr",
     "output_type": "stream",
     "text": [
      "100%|███████████████████████████████████████████████████████████████████████████████████| 5/5 [00:00<00:00, 172.51it/s]\n"
     ]
    },
    {
     "name": "stdout",
     "output_type": "stream",
     "text": [
      "GBPUSD\n",
      "0 0\n",
      "GBPJPY\n",
      "0 0\n",
      "USDJPY\n",
      "0 0\n",
      "USDCAD\n",
      "0 0\n",
      "EURUSD\n",
      "0 0\n",
      "2020-08-23 01:45:00\n",
      "2020-08-31 09:45:00\n"
     ]
    },
    {
     "name": "stderr",
     "output_type": "stream",
     "text": [
      "100%|███████████████████████████████████████████████████████████████████████████████████| 5/5 [00:00<00:00, 185.29it/s]\n"
     ]
    },
    {
     "name": "stdout",
     "output_type": "stream",
     "text": [
      "GBPUSD\n",
      "0 0\n",
      "GBPJPY\n",
      "0 0\n",
      "USDJPY\n",
      "0 0\n",
      "USDCAD\n",
      "0 0\n",
      "EURUSD\n",
      "0 0\n",
      "2020-08-23 01:45:00\n",
      "2020-08-31 09:45:00\n"
     ]
    },
    {
     "name": "stderr",
     "output_type": "stream",
     "text": [
      "100%|███████████████████████████████████████████████████████████████████████████████████| 5/5 [00:00<00:00, 185.29it/s]\n"
     ]
    },
    {
     "name": "stdout",
     "output_type": "stream",
     "text": [
      "GBPUSD\n",
      "0 0\n",
      "GBPJPY\n",
      "0 0\n",
      "USDJPY\n",
      "0 0\n",
      "USDCAD\n",
      "0 0\n",
      "EURUSD\n",
      "0 0\n",
      "2020-08-23 01:45:00\n",
      "2020-08-31 09:45:00\n"
     ]
    },
    {
     "name": "stderr",
     "output_type": "stream",
     "text": [
      "100%|███████████████████████████████████████████████████████████████████████████████████| 5/5 [00:00<00:00, 185.29it/s]\n"
     ]
    },
    {
     "name": "stdout",
     "output_type": "stream",
     "text": [
      "GBPUSD\n",
      "0 0\n",
      "GBPJPY\n",
      "0 0\n",
      "USDJPY\n",
      "0 0\n",
      "USDCAD\n",
      "0 0\n",
      "EURUSD\n",
      "0 0\n",
      "2020-08-23 01:45:00\n",
      "2020-08-31 09:45:00\n"
     ]
    },
    {
     "name": "stderr",
     "output_type": "stream",
     "text": [
      "100%|███████████████████████████████████████████████████████████████████████████████████| 5/5 [00:00<00:00, 178.67it/s]\n"
     ]
    },
    {
     "name": "stdout",
     "output_type": "stream",
     "text": [
      "GBPUSD\n",
      "0 0\n",
      "GBPJPY\n",
      "0 0\n",
      "USDJPY\n",
      "0 0\n",
      "USDCAD\n",
      "0 0\n",
      "EURUSD\n",
      "0 0\n",
      "2020-08-23 01:45:00\n",
      "2020-08-31 09:45:00\n"
     ]
    },
    {
     "name": "stderr",
     "output_type": "stream",
     "text": [
      "100%|███████████████████████████████████████████████████████████████████████████████████| 5/5 [00:00<00:00, 192.42it/s]\n"
     ]
    },
    {
     "name": "stdout",
     "output_type": "stream",
     "text": [
      "GBPUSD\n",
      "0 0\n",
      "GBPJPY\n",
      "0 0\n",
      "USDJPY\n",
      "0 0\n",
      "USDCAD\n",
      "0 0\n",
      "EURUSD\n",
      "0 0\n",
      "2020-08-23 01:45:00\n",
      "2020-08-31 09:45:00\n"
     ]
    },
    {
     "name": "stderr",
     "output_type": "stream",
     "text": [
      "100%|███████████████████████████████████████████████████████████████████████████████████| 5/5 [00:00<00:00, 178.67it/s]\n"
     ]
    },
    {
     "name": "stdout",
     "output_type": "stream",
     "text": [
      "GBPUSD\n",
      "0 0\n",
      "GBPJPY\n",
      "0 0\n",
      "USDJPY\n",
      "0 0\n",
      "USDCAD\n",
      "0 0\n",
      "EURUSD\n",
      "0 0\n",
      "2020-08-23 01:45:00\n",
      "2020-08-31 09:45:00\n"
     ]
    },
    {
     "name": "stderr",
     "output_type": "stream",
     "text": [
      "100%|███████████████████████████████████████████████████████████████████████████████████| 5/5 [00:00<00:00, 185.29it/s]\n"
     ]
    },
    {
     "name": "stdout",
     "output_type": "stream",
     "text": [
      "GBPUSD\n",
      "0 0\n",
      "GBPJPY\n",
      "0 0\n",
      "USDJPY\n",
      "0 0\n",
      "USDCAD\n",
      "0 0\n",
      "EURUSD\n",
      "0 0\n",
      "2020-08-23 01:45:00\n",
      "2020-08-31 09:45:00\n"
     ]
    },
    {
     "name": "stderr",
     "output_type": "stream",
     "text": [
      "100%|███████████████████████████████████████████████████████████████████████████████████| 5/5 [00:00<00:00, 185.29it/s]\n"
     ]
    },
    {
     "name": "stdout",
     "output_type": "stream",
     "text": [
      "GBPUSD\n",
      "0 0\n",
      "GBPJPY\n",
      "0 0\n",
      "USDJPY\n",
      "0 0\n",
      "USDCAD\n",
      "0 0\n",
      "EURUSD\n",
      "0 0\n",
      "2020-08-23 01:45:00\n",
      "2020-08-31 09:45:00\n"
     ]
    },
    {
     "name": "stderr",
     "output_type": "stream",
     "text": [
      "100%|███████████████████████████████████████████████████████████████████████████████████| 5/5 [00:00<00:00, 172.51it/s]\n"
     ]
    },
    {
     "name": "stdout",
     "output_type": "stream",
     "text": [
      "GBPUSD\n",
      "0 0\n",
      "GBPJPY\n",
      "0 0\n",
      "USDJPY\n",
      "0 0\n",
      "USDCAD\n",
      "0 0\n",
      "EURUSD\n",
      "0 0\n",
      "2020-08-23 01:45:00\n",
      "2020-08-31 09:45:00\n"
     ]
    },
    {
     "name": "stderr",
     "output_type": "stream",
     "text": [
      "100%|███████████████████████████████████████████████████████████████████████████████████| 5/5 [00:00<00:00, 185.29it/s]\n"
     ]
    },
    {
     "name": "stdout",
     "output_type": "stream",
     "text": [
      "GBPUSD\n",
      "0 0\n",
      "GBPJPY\n",
      "0 0\n",
      "USDJPY\n",
      "0 0\n",
      "USDCAD\n",
      "0 0\n",
      "EURUSD\n",
      "0 0\n",
      "2020-08-23 01:45:00\n",
      "2020-08-31 09:45:00\n"
     ]
    },
    {
     "name": "stderr",
     "output_type": "stream",
     "text": [
      "100%|███████████████████████████████████████████████████████████████████████████████████| 5/5 [00:00<00:00, 185.29it/s]\n"
     ]
    },
    {
     "name": "stdout",
     "output_type": "stream",
     "text": [
      "GBPUSD\n",
      "0 0\n",
      "GBPJPY\n",
      "0 0\n",
      "USDJPY\n",
      "0 0\n",
      "USDCAD\n",
      "0 0\n",
      "EURUSD\n",
      "0 0\n",
      "2020-08-23 01:45:00\n",
      "2020-08-31 09:45:00\n"
     ]
    },
    {
     "name": "stderr",
     "output_type": "stream",
     "text": [
      "100%|███████████████████████████████████████████████████████████████████████████████████| 5/5 [00:00<00:00, 192.42it/s]\n"
     ]
    },
    {
     "name": "stdout",
     "output_type": "stream",
     "text": [
      "GBPUSD\n",
      "0 0\n",
      "GBPJPY\n",
      "0 0\n",
      "USDJPY\n",
      "0 0\n",
      "USDCAD\n",
      "0 0\n",
      "EURUSD\n",
      "0 0\n",
      "2020-08-23 02:00:00\n",
      "2020-08-31 10:00:00\n"
     ]
    },
    {
     "name": "stderr",
     "output_type": "stream",
     "text": [
      "100%|███████████████████████████████████████████████████████████████████████████████████| 5/5 [00:00<00:00, 151.60it/s]\n"
     ]
    },
    {
     "name": "stdout",
     "output_type": "stream",
     "text": [
      "GBPUSD\n",
      "0 0\n",
      "GBPJPY\n",
      "1 0\n",
      "Buy GBPJPY\n",
      "USDJPY\n",
      "0 0\n",
      "USDCAD\n",
      "0 0\n",
      "EURUSD\n",
      "1 0\n",
      "Buy EURUSD\n",
      "2020-08-23 02:00:00\n",
      "2020-08-31 10:00:00\n"
     ]
    },
    {
     "name": "stderr",
     "output_type": "stream",
     "text": [
      "100%|███████████████████████████████████████████████████████████████████████████████████| 5/5 [00:00<00:00, 166.76it/s]\n"
     ]
    },
    {
     "name": "stdout",
     "output_type": "stream",
     "text": [
      "GBPUSD\n",
      "0 0\n",
      "GBPJPY\n",
      "1 0\n",
      "USDJPY\n",
      "0 0\n",
      "USDCAD\n",
      "0 0\n",
      "EURUSD\n",
      "1 0\n",
      "2020-08-23 02:00:00\n",
      "2020-08-31 10:00:00\n"
     ]
    },
    {
     "name": "stderr",
     "output_type": "stream",
     "text": [
      "100%|███████████████████████████████████████████████████████████████████████████████████| 5/5 [00:00<00:00, 166.77it/s]\n"
     ]
    },
    {
     "name": "stdout",
     "output_type": "stream",
     "text": [
      "GBPUSD\n",
      "0 0\n",
      "GBPJPY\n",
      "1 0\n",
      "USDJPY\n",
      "0 0\n",
      "USDCAD\n",
      "0 0\n",
      "EURUSD\n",
      "1 0\n",
      "2020-08-23 02:00:00\n",
      "2020-08-31 10:00:00\n"
     ]
    },
    {
     "name": "stderr",
     "output_type": "stream",
     "text": [
      "100%|███████████████████████████████████████████████████████████████████████████████████| 5/5 [00:00<00:00, 161.39it/s]\n"
     ]
    },
    {
     "name": "stdout",
     "output_type": "stream",
     "text": [
      "GBPUSD\n",
      "0 0\n",
      "GBPJPY\n",
      "1 0\n",
      "USDJPY\n",
      "0 0\n",
      "USDCAD\n",
      "0 0\n",
      "EURUSD\n",
      "1 0\n",
      "2020-08-23 02:00:00\n",
      "2020-08-31 10:00:00\n"
     ]
    },
    {
     "name": "stderr",
     "output_type": "stream",
     "text": [
      "100%|███████████████████████████████████████████████████████████████████████████████████| 5/5 [00:00<00:00, 151.60it/s]\n"
     ]
    },
    {
     "name": "stdout",
     "output_type": "stream",
     "text": [
      "GBPUSD\n",
      "0 0\n",
      "GBPJPY\n",
      "1 0\n",
      "USDJPY\n",
      "0 0\n",
      "USDCAD\n",
      "0 0\n",
      "EURUSD\n",
      "1 0\n",
      "2020-08-23 02:00:00\n",
      "2020-08-31 10:00:00\n"
     ]
    },
    {
     "name": "stderr",
     "output_type": "stream",
     "text": [
      "100%|███████████████████████████████████████████████████████████████████████████████████| 5/5 [00:00<00:00, 151.61it/s]\n"
     ]
    },
    {
     "name": "stdout",
     "output_type": "stream",
     "text": [
      "GBPUSD\n",
      "0 0\n",
      "GBPJPY\n",
      "1 0\n",
      "USDJPY\n",
      "0 0\n",
      "USDCAD\n",
      "0 0\n",
      "EURUSD\n",
      "1 0\n",
      "2020-08-23 02:00:00\n",
      "2020-08-31 10:00:00\n"
     ]
    },
    {
     "name": "stderr",
     "output_type": "stream",
     "text": [
      "100%|███████████████████████████████████████████████████████████████████████████████████| 5/5 [00:00<00:00, 172.52it/s]\n"
     ]
    },
    {
     "name": "stdout",
     "output_type": "stream",
     "text": [
      "GBPUSD\n",
      "0 0\n",
      "GBPJPY\n",
      "1 0\n",
      "USDJPY\n",
      "0 0\n",
      "USDCAD\n",
      "0 0\n",
      "EURUSD\n",
      "1 0\n",
      "2020-08-23 02:00:00\n",
      "2020-08-31 10:00:00\n"
     ]
    },
    {
     "name": "stderr",
     "output_type": "stream",
     "text": [
      "100%|███████████████████████████████████████████████████████████████████████████████████| 5/5 [00:00<00:00, 166.77it/s]\n"
     ]
    },
    {
     "name": "stdout",
     "output_type": "stream",
     "text": [
      "GBPUSD\n",
      "0 0\n",
      "GBPJPY\n",
      "1 0\n",
      "USDJPY\n",
      "0 0\n",
      "USDCAD\n",
      "0 0\n",
      "EURUSD\n",
      "1 0\n",
      "2020-08-23 02:00:00\n",
      "2020-08-31 10:00:00\n"
     ]
    },
    {
     "name": "stderr",
     "output_type": "stream",
     "text": [
      "100%|███████████████████████████████████████████████████████████████████████████████████| 5/5 [00:00<00:00, 161.39it/s]\n"
     ]
    },
    {
     "name": "stdout",
     "output_type": "stream",
     "text": [
      "GBPUSD\n",
      "0 0\n",
      "GBPJPY\n",
      "1 0\n",
      "USDJPY\n",
      "0 0\n",
      "USDCAD\n",
      "0 0\n",
      "EURUSD\n",
      "1 0\n",
      "2020-08-23 02:00:00\n",
      "2020-08-31 10:00:00\n"
     ]
    },
    {
     "name": "stderr",
     "output_type": "stream",
     "text": [
      "100%|███████████████████████████████████████████████████████████████████████████████████| 5/5 [00:00<00:00, 172.52it/s]\n"
     ]
    },
    {
     "name": "stdout",
     "output_type": "stream",
     "text": [
      "GBPUSD\n",
      "0 0\n",
      "GBPJPY\n",
      "1 0\n",
      "USDJPY\n",
      "0 0\n",
      "USDCAD\n",
      "0 0\n",
      "EURUSD\n",
      "1 0\n",
      "2020-08-23 02:15:00\n",
      "2020-08-31 10:15:00\n"
     ]
    },
    {
     "name": "stderr",
     "output_type": "stream",
     "text": [
      "100%|███████████████████████████████████████████████████████████████████████████████████| 5/5 [00:00<00:00, 172.52it/s]\n"
     ]
    },
    {
     "name": "stdout",
     "output_type": "stream",
     "text": [
      "GBPUSD\n",
      "0 0\n",
      "GBPJPY\n",
      "0 0\n",
      "USDJPY\n",
      "0 0\n",
      "USDCAD\n",
      "0 1\n",
      "Sell USDCAD\n",
      "EURUSD\n",
      "0 0\n",
      "2020-08-23 02:15:00\n",
      "2020-08-31 10:15:00\n"
     ]
    },
    {
     "name": "stderr",
     "output_type": "stream",
     "text": [
      "100%|███████████████████████████████████████████████████████████████████████████████████| 5/5 [00:00<00:00, 151.60it/s]\n"
     ]
    },
    {
     "name": "stdout",
     "output_type": "stream",
     "text": [
      "GBPUSD\n",
      "0 0\n",
      "GBPJPY\n",
      "0 0\n",
      "USDJPY\n",
      "0 0\n",
      "USDCAD\n",
      "0 1\n",
      "EURUSD\n",
      "0 0\n",
      "2020-08-23 02:15:00\n",
      "2020-08-31 10:15:00\n"
     ]
    },
    {
     "name": "stderr",
     "output_type": "stream",
     "text": [
      "100%|███████████████████████████████████████████████████████████████████████████████████| 5/5 [00:00<00:00, 185.29it/s]\n"
     ]
    },
    {
     "name": "stdout",
     "output_type": "stream",
     "text": [
      "GBPUSD\n",
      "0 0\n",
      "GBPJPY\n",
      "0 0\n",
      "USDJPY\n",
      "0 0\n",
      "USDCAD\n",
      "0 1\n",
      "EURUSD\n",
      "0 0\n",
      "2020-08-23 02:15:00\n",
      "2020-08-31 10:15:00\n"
     ]
    },
    {
     "name": "stderr",
     "output_type": "stream",
     "text": [
      "100%|███████████████████████████████████████████████████████████████████████████████████| 5/5 [00:00<00:00, 185.29it/s]\n"
     ]
    },
    {
     "name": "stdout",
     "output_type": "stream",
     "text": [
      "GBPUSD\n",
      "0 0\n",
      "GBPJPY\n",
      "0 0\n",
      "USDJPY\n",
      "0 0\n",
      "USDCAD\n",
      "0 1\n",
      "EURUSD\n",
      "0 0\n",
      "2020-08-23 02:15:00\n",
      "2020-08-31 10:15:00\n"
     ]
    },
    {
     "name": "stderr",
     "output_type": "stream",
     "text": [
      "100%|███████████████████████████████████████████████████████████████████████████████████| 5/5 [00:00<00:00, 185.29it/s]\n"
     ]
    },
    {
     "name": "stdout",
     "output_type": "stream",
     "text": [
      "GBPUSD\n",
      "0 0\n",
      "GBPJPY\n",
      "0 0\n",
      "USDJPY\n",
      "0 0\n",
      "USDCAD\n",
      "0 1\n",
      "EURUSD\n",
      "0 0\n",
      "2020-08-23 02:15:00\n",
      "2020-08-31 10:15:00\n"
     ]
    },
    {
     "name": "stderr",
     "output_type": "stream",
     "text": [
      "100%|███████████████████████████████████████████████████████████████████████████████████| 5/5 [00:00<00:00, 185.29it/s]\n"
     ]
    },
    {
     "name": "stdout",
     "output_type": "stream",
     "text": [
      "GBPUSD\n",
      "0 0\n",
      "GBPJPY\n",
      "0 0\n",
      "USDJPY\n",
      "0 0\n",
      "USDCAD\n",
      "0 1\n",
      "EURUSD\n",
      "0 0\n",
      "2020-08-23 02:15:00\n",
      "2020-08-31 10:15:00\n"
     ]
    },
    {
     "name": "stderr",
     "output_type": "stream",
     "text": [
      "100%|███████████████████████████████████████████████████████████████████████████████████| 5/5 [00:00<00:00, 185.29it/s]\n"
     ]
    },
    {
     "name": "stdout",
     "output_type": "stream",
     "text": [
      "GBPUSD\n",
      "0 0\n",
      "GBPJPY\n",
      "0 0\n",
      "USDJPY\n",
      "0 0\n",
      "USDCAD\n",
      "0 1\n",
      "EURUSD\n",
      "0 0\n",
      "2020-08-23 02:15:00\n",
      "2020-08-31 10:15:00\n"
     ]
    },
    {
     "name": "stderr",
     "output_type": "stream",
     "text": [
      "100%|███████████████████████████████████████████████████████████████████████████████████| 5/5 [00:00<00:00, 185.29it/s]\n"
     ]
    },
    {
     "name": "stdout",
     "output_type": "stream",
     "text": [
      "GBPUSD\n",
      "0 0\n",
      "GBPJPY\n",
      "0 0\n",
      "USDJPY\n",
      "0 0\n",
      "USDCAD\n",
      "0 1\n",
      "EURUSD\n",
      "0 0\n",
      "2020-08-23 02:15:00\n",
      "2020-08-31 10:15:00\n"
     ]
    },
    {
     "name": "stderr",
     "output_type": "stream",
     "text": [
      "100%|███████████████████████████████████████████████████████████████████████████████████| 5/5 [00:00<00:00, 185.29it/s]\n"
     ]
    },
    {
     "name": "stdout",
     "output_type": "stream",
     "text": [
      "GBPUSD\n",
      "0 0\n",
      "GBPJPY\n",
      "0 0\n",
      "USDJPY\n",
      "0 0\n",
      "USDCAD\n",
      "0 1\n",
      "EURUSD\n",
      "0 0\n",
      "2020-08-23 02:15:00\n",
      "2020-08-31 10:15:00\n"
     ]
    },
    {
     "name": "stderr",
     "output_type": "stream",
     "text": [
      "100%|███████████████████████████████████████████████████████████████████████████████████| 5/5 [00:00<00:00, 172.52it/s]\n"
     ]
    },
    {
     "name": "stdout",
     "output_type": "stream",
     "text": [
      "GBPUSD\n",
      "0 0\n",
      "GBPJPY\n",
      "0 0\n",
      "USDJPY\n",
      "0 0\n",
      "USDCAD\n",
      "0 1\n",
      "EURUSD\n",
      "0 0\n",
      "2020-08-23 02:15:00\n",
      "2020-08-31 10:15:00\n"
     ]
    },
    {
     "name": "stderr",
     "output_type": "stream",
     "text": [
      "100%|███████████████████████████████████████████████████████████████████████████████████| 5/5 [00:00<00:00, 185.29it/s]\n"
     ]
    },
    {
     "name": "stdout",
     "output_type": "stream",
     "text": [
      "GBPUSD\n",
      "0 0\n",
      "GBPJPY\n",
      "0 0\n",
      "USDJPY\n",
      "0 0\n",
      "USDCAD\n",
      "0 1\n",
      "EURUSD\n",
      "0 0\n",
      "2020-08-23 02:15:00\n",
      "2020-08-31 10:15:00\n"
     ]
    },
    {
     "name": "stderr",
     "output_type": "stream",
     "text": [
      "100%|███████████████████████████████████████████████████████████████████████████████████| 5/5 [00:00<00:00, 185.29it/s]\n"
     ]
    },
    {
     "name": "stdout",
     "output_type": "stream",
     "text": [
      "GBPUSD\n",
      "0 0\n",
      "GBPJPY\n",
      "0 0\n",
      "USDJPY\n",
      "0 0\n",
      "USDCAD\n",
      "0 1\n",
      "EURUSD\n",
      "0 0\n",
      "2020-08-23 02:30:00\n",
      "2020-08-31 10:30:00\n"
     ]
    },
    {
     "name": "stderr",
     "output_type": "stream",
     "text": [
      "100%|███████████████████████████████████████████████████████████████████████████████████| 5/5 [00:00<00:00, 113.70it/s]\n"
     ]
    },
    {
     "name": "stdout",
     "output_type": "stream",
     "text": [
      "GBPUSD\n",
      "0 1\n",
      "Sell GBPUSD\n",
      "GBPJPY\n",
      "0 0\n",
      "USDJPY\n",
      "1 0\n",
      "Buy USDJPY\n",
      "USDCAD\n",
      "0 1\n",
      "EURUSD\n",
      "0 0\n",
      "2020-08-23 02:30:00\n",
      "2020-08-31 10:30:00\n"
     ]
    },
    {
     "name": "stderr",
     "output_type": "stream",
     "text": [
      "100%|███████████████████████████████████████████████████████████████████████████████████| 5/5 [00:00<00:00, 185.29it/s]\n"
     ]
    },
    {
     "name": "stdout",
     "output_type": "stream",
     "text": [
      "GBPUSD\n",
      "0 1\n",
      "GBPJPY\n",
      "0 0\n",
      "USDJPY\n",
      "1 0\n",
      "USDCAD\n",
      "0 1\n",
      "EURUSD\n",
      "0 0\n",
      "2020-08-23 02:30:00\n",
      "2020-08-31 10:30:00\n"
     ]
    },
    {
     "name": "stderr",
     "output_type": "stream",
     "text": [
      "100%|███████████████████████████████████████████████████████████████████████████████████| 5/5 [00:00<00:00, 192.42it/s]\n"
     ]
    },
    {
     "name": "stdout",
     "output_type": "stream",
     "text": [
      "GBPUSD\n",
      "0 1\n",
      "GBPJPY\n",
      "0 0\n",
      "USDJPY\n",
      "1 0\n",
      "USDCAD\n",
      "0 1\n",
      "EURUSD\n",
      "0 0\n",
      "2020-08-23 02:30:00\n",
      "2020-08-31 10:30:00\n"
     ]
    },
    {
     "name": "stderr",
     "output_type": "stream",
     "text": [
      "100%|███████████████████████████████████████████████████████████████████████████████████| 5/5 [00:00<00:00, 185.29it/s]\n"
     ]
    },
    {
     "name": "stdout",
     "output_type": "stream",
     "text": [
      "GBPUSD\n",
      "0 1\n",
      "GBPJPY\n",
      "0 0\n",
      "USDJPY\n",
      "1 0\n",
      "USDCAD\n",
      "0 1\n",
      "EURUSD\n",
      "0 0\n",
      "2020-08-23 02:30:00\n",
      "2020-08-31 10:30:00\n"
     ]
    },
    {
     "name": "stderr",
     "output_type": "stream",
     "text": [
      "100%|███████████████████████████████████████████████████████████████████████████████████| 5/5 [00:00<00:00, 172.51it/s]\n"
     ]
    },
    {
     "name": "stdout",
     "output_type": "stream",
     "text": [
      "GBPUSD\n",
      "0 1\n",
      "GBPJPY\n",
      "0 0\n",
      "USDJPY\n",
      "1 0\n",
      "USDCAD\n",
      "0 1\n",
      "EURUSD\n",
      "0 0\n",
      "2020-08-23 02:30:00\n",
      "2020-08-31 10:30:00\n"
     ]
    },
    {
     "name": "stderr",
     "output_type": "stream",
     "text": [
      "100%|███████████████████████████████████████████████████████████████████████████████████| 5/5 [00:00<00:00, 178.67it/s]\n"
     ]
    },
    {
     "name": "stdout",
     "output_type": "stream",
     "text": [
      "GBPUSD\n",
      "0 1\n",
      "GBPJPY\n",
      "0 0\n",
      "USDJPY\n",
      "1 0\n",
      "USDCAD\n",
      "0 1\n",
      "EURUSD\n",
      "0 0\n",
      "2020-08-23 02:30:00\n",
      "2020-08-31 10:30:00\n"
     ]
    },
    {
     "name": "stderr",
     "output_type": "stream",
     "text": [
      "100%|███████████████████████████████████████████████████████████████████████████████████| 5/5 [00:00<00:00, 185.29it/s]\n"
     ]
    },
    {
     "name": "stdout",
     "output_type": "stream",
     "text": [
      "GBPUSD\n",
      "0 1\n",
      "GBPJPY\n",
      "0 0\n",
      "USDJPY\n",
      "1 0\n",
      "USDCAD\n",
      "0 1\n",
      "EURUSD\n",
      "0 0\n",
      "2020-08-23 02:30:00\n",
      "2020-08-31 10:30:00\n"
     ]
    },
    {
     "name": "stderr",
     "output_type": "stream",
     "text": [
      "100%|███████████████████████████████████████████████████████████████████████████████████| 5/5 [00:00<00:00, 185.29it/s]\n"
     ]
    },
    {
     "name": "stdout",
     "output_type": "stream",
     "text": [
      "GBPUSD\n",
      "0 1\n",
      "GBPJPY\n",
      "0 0\n",
      "USDJPY\n",
      "1 0\n",
      "USDCAD\n",
      "0 1\n",
      "EURUSD\n",
      "0 0\n",
      "2020-08-23 02:30:00\n",
      "2020-08-31 10:30:00\n"
     ]
    },
    {
     "name": "stderr",
     "output_type": "stream",
     "text": [
      "100%|███████████████████████████████████████████████████████████████████████████████████| 5/5 [00:00<00:00, 185.29it/s]\n"
     ]
    },
    {
     "name": "stdout",
     "output_type": "stream",
     "text": [
      "GBPUSD\n",
      "0 1\n",
      "GBPJPY\n",
      "0 0\n",
      "USDJPY\n",
      "1 0\n",
      "USDCAD\n",
      "0 1\n",
      "EURUSD\n",
      "0 0\n",
      "2020-08-23 02:30:00\n",
      "2020-08-31 10:30:00\n"
     ]
    },
    {
     "name": "stderr",
     "output_type": "stream",
     "text": [
      "100%|███████████████████████████████████████████████████████████████████████████████████| 5/5 [00:00<00:00, 185.29it/s]\n"
     ]
    },
    {
     "name": "stdout",
     "output_type": "stream",
     "text": [
      "GBPUSD\n",
      "0 1\n",
      "GBPJPY\n",
      "0 0\n",
      "USDJPY\n",
      "1 0\n",
      "USDCAD\n",
      "0 1\n",
      "EURUSD\n",
      "0 0\n",
      "2020-08-23 02:45:00\n",
      "2020-08-31 10:45:00\n"
     ]
    },
    {
     "name": "stderr",
     "output_type": "stream",
     "text": [
      "100%|███████████████████████████████████████████████████████████████████████████████████| 5/5 [00:00<00:00, 166.76it/s]\n"
     ]
    },
    {
     "name": "stdout",
     "output_type": "stream",
     "text": [
      "GBPUSD\n",
      "0 1\n",
      "GBPJPY\n",
      "0 0\n",
      "USDJPY\n",
      "1 0\n",
      "USDCAD\n",
      "0 0\n",
      "EURUSD\n",
      "0 1\n",
      "Sell EURUSD\n",
      "2020-08-23 02:45:00\n",
      "2020-08-31 10:45:00\n"
     ]
    },
    {
     "name": "stderr",
     "output_type": "stream",
     "text": [
      "100%|███████████████████████████████████████████████████████████████████████████████████| 5/5 [00:00<00:00, 166.76it/s]\n"
     ]
    },
    {
     "name": "stdout",
     "output_type": "stream",
     "text": [
      "GBPUSD\n",
      "0 1\n",
      "GBPJPY\n",
      "0 0\n",
      "USDJPY\n",
      "1 0\n",
      "USDCAD\n",
      "0 0\n",
      "EURUSD\n",
      "0 1\n",
      "2020-08-23 02:45:00\n",
      "2020-08-31 10:45:00\n"
     ]
    },
    {
     "name": "stderr",
     "output_type": "stream",
     "text": [
      "100%|███████████████████████████████████████████████████████████████████████████████████| 5/5 [00:00<00:00, 142.90it/s]\n"
     ]
    },
    {
     "name": "stdout",
     "output_type": "stream",
     "text": [
      "GBPUSD\n",
      "0 1\n",
      "GBPJPY\n",
      "0 0\n",
      "USDJPY\n",
      "1 0\n",
      "USDCAD\n",
      "0 0\n",
      "EURUSD\n",
      "0 1\n",
      "2020-08-23 02:45:00\n",
      "2020-08-31 10:45:00\n"
     ]
    },
    {
     "name": "stderr",
     "output_type": "stream",
     "text": [
      "100%|███████████████████████████████████████████████████████████████████████████████████| 5/5 [00:00<00:00, 178.68it/s]\n"
     ]
    },
    {
     "name": "stdout",
     "output_type": "stream",
     "text": [
      "GBPUSD\n",
      "0 1\n",
      "GBPJPY\n",
      "0 0\n",
      "USDJPY\n",
      "1 0\n",
      "USDCAD\n",
      "0 0\n",
      "EURUSD\n",
      "0 1\n",
      "2020-08-23 02:45:00\n",
      "2020-08-31 10:45:00\n"
     ]
    },
    {
     "name": "stderr",
     "output_type": "stream",
     "text": [
      "100%|███████████████████████████████████████████████████████████████████████████████████| 5/5 [00:00<00:00, 172.51it/s]\n"
     ]
    },
    {
     "name": "stdout",
     "output_type": "stream",
     "text": [
      "GBPUSD\n",
      "0 1\n",
      "GBPJPY\n",
      "0 0\n",
      "USDJPY\n",
      "1 0\n",
      "USDCAD\n",
      "0 0\n",
      "EURUSD\n",
      "0 1\n",
      "2020-08-23 02:45:00\n",
      "2020-08-31 10:45:00\n"
     ]
    },
    {
     "name": "stderr",
     "output_type": "stream",
     "text": [
      "100%|███████████████████████████████████████████████████████████████████████████████████| 5/5 [00:00<00:00, 178.68it/s]\n"
     ]
    },
    {
     "name": "stdout",
     "output_type": "stream",
     "text": [
      "GBPUSD\n",
      "0 1\n",
      "GBPJPY\n",
      "0 0\n",
      "USDJPY\n",
      "1 0\n",
      "USDCAD\n",
      "0 0\n",
      "EURUSD\n",
      "0 1\n",
      "2020-08-23 02:45:00\n",
      "2020-08-31 10:45:00\n"
     ]
    },
    {
     "name": "stderr",
     "output_type": "stream",
     "text": [
      "100%|███████████████████████████████████████████████████████████████████████████████████| 5/5 [00:00<00:00, 147.15it/s]\n"
     ]
    },
    {
     "name": "stdout",
     "output_type": "stream",
     "text": [
      "GBPUSD\n",
      "0 1\n",
      "GBPJPY\n",
      "0 0\n",
      "USDJPY\n",
      "1 0\n",
      "USDCAD\n",
      "0 0\n",
      "EURUSD\n",
      "0 1\n",
      "2020-08-23 02:45:00\n",
      "2020-08-31 10:45:00\n"
     ]
    },
    {
     "name": "stderr",
     "output_type": "stream",
     "text": [
      "100%|███████████████████████████████████████████████████████████████████████████████████| 5/5 [00:00<00:00, 138.97it/s]\n"
     ]
    },
    {
     "name": "stdout",
     "output_type": "stream",
     "text": [
      "GBPUSD\n",
      "0 1\n",
      "GBPJPY\n",
      "0 0\n",
      "USDJPY\n",
      "1 0\n",
      "USDCAD\n",
      "0 0\n",
      "EURUSD\n",
      "0 1\n",
      "2020-08-23 02:45:00\n",
      "2020-08-31 10:45:00\n"
     ]
    },
    {
     "name": "stderr",
     "output_type": "stream",
     "text": [
      "100%|███████████████████████████████████████████████████████████████████████████████████| 5/5 [00:00<00:00, 138.97it/s]\n"
     ]
    },
    {
     "name": "stdout",
     "output_type": "stream",
     "text": [
      "GBPUSD\n",
      "0 1\n",
      "GBPJPY\n",
      "0 0\n",
      "USDJPY\n",
      "1 0\n",
      "USDCAD\n",
      "0 0\n",
      "EURUSD\n",
      "0 1\n",
      "2020-08-23 02:45:00\n",
      "2020-08-31 10:45:00\n"
     ]
    },
    {
     "name": "stderr",
     "output_type": "stream",
     "text": [
      "100%|███████████████████████████████████████████████████████████████████████████████████| 5/5 [00:00<00:00, 178.67it/s]\n"
     ]
    },
    {
     "name": "stdout",
     "output_type": "stream",
     "text": [
      "GBPUSD\n",
      "0 1\n",
      "GBPJPY\n",
      "0 0\n",
      "USDJPY\n",
      "1 0\n",
      "USDCAD\n",
      "0 0\n",
      "EURUSD\n",
      "0 1\n",
      "2020-08-23 02:45:00\n",
      "2020-08-31 10:45:00\n"
     ]
    },
    {
     "name": "stderr",
     "output_type": "stream",
     "text": [
      "100%|███████████████████████████████████████████████████████████████████████████████████| 5/5 [00:00<00:00, 172.51it/s]\n"
     ]
    },
    {
     "name": "stdout",
     "output_type": "stream",
     "text": [
      "GBPUSD\n",
      "0 1\n",
      "GBPJPY\n",
      "0 0\n",
      "USDJPY\n",
      "1 0\n",
      "USDCAD\n",
      "0 0\n",
      "EURUSD\n",
      "0 1\n",
      "2020-08-23 03:00:00\n",
      "2020-08-31 11:00:00\n"
     ]
    },
    {
     "name": "stderr",
     "output_type": "stream",
     "text": [
      "100%|███████████████████████████████████████████████████████████████████████████████████| 5/5 [00:00<00:00, 128.28it/s]\n"
     ]
    },
    {
     "name": "stdout",
     "output_type": "stream",
     "text": [
      "GBPUSD\n",
      "0 1\n",
      "GBPJPY\n",
      "0 0\n",
      "USDJPY\n",
      "1 0\n",
      "USDCAD\n",
      "0 0\n",
      "EURUSD\n",
      "0 1\n",
      "2020-08-23 03:00:00\n",
      "2020-08-31 11:00:00\n"
     ]
    },
    {
     "name": "stderr",
     "output_type": "stream",
     "text": [
      "100%|███████████████████████████████████████████████████████████████████████████████████| 5/5 [00:00<00:00, 142.99it/s]\n"
     ]
    },
    {
     "name": "stdout",
     "output_type": "stream",
     "text": [
      "GBPUSD\n",
      "0 1\n",
      "GBPJPY\n",
      "0 0\n",
      "USDJPY\n",
      "1 0\n",
      "USDCAD\n",
      "0 0\n",
      "EURUSD\n",
      "0 1\n",
      "2020-08-23 03:00:00\n",
      "2020-08-31 11:00:00\n"
     ]
    },
    {
     "name": "stderr",
     "output_type": "stream",
     "text": [
      "100%|███████████████████████████████████████████████████████████████████████████████████| 5/5 [00:00<00:00, 147.09it/s]\n"
     ]
    },
    {
     "name": "stdout",
     "output_type": "stream",
     "text": [
      "GBPUSD\n",
      "0 1\n",
      "GBPJPY\n",
      "0 0\n",
      "USDJPY\n",
      "1 0\n",
      "USDCAD\n",
      "0 0\n",
      "EURUSD\n",
      "0 1\n",
      "2020-08-23 03:00:00\n",
      "2020-08-31 11:00:00\n"
     ]
    },
    {
     "name": "stderr",
     "output_type": "stream",
     "text": [
      "100%|███████████████████████████████████████████████████████████████████████████████████| 5/5 [00:00<00:00, 161.39it/s]\n"
     ]
    },
    {
     "name": "stdout",
     "output_type": "stream",
     "text": [
      "GBPUSD\n",
      "0 1\n",
      "GBPJPY\n",
      "0 0\n",
      "USDJPY\n",
      "1 0\n",
      "USDCAD\n",
      "0 0\n",
      "EURUSD\n",
      "0 1\n",
      "2020-08-23 03:00:00\n",
      "2020-08-31 11:00:00\n"
     ]
    },
    {
     "name": "stderr",
     "output_type": "stream",
     "text": [
      "100%|███████████████████████████████████████████████████████████████████████████████████| 5/5 [00:00<00:00, 172.52it/s]\n"
     ]
    },
    {
     "name": "stdout",
     "output_type": "stream",
     "text": [
      "GBPUSD\n",
      "0 1\n",
      "GBPJPY\n",
      "0 0\n",
      "USDJPY\n",
      "1 0\n",
      "USDCAD\n",
      "0 0\n",
      "EURUSD\n",
      "0 1\n",
      "2020-08-23 03:00:00\n",
      "2020-08-31 11:00:00\n"
     ]
    },
    {
     "name": "stderr",
     "output_type": "stream",
     "text": [
      "100%|███████████████████████████████████████████████████████████████████████████████████| 5/5 [00:00<00:00, 161.38it/s]\n"
     ]
    },
    {
     "name": "stdout",
     "output_type": "stream",
     "text": [
      "GBPUSD\n",
      "0 1\n",
      "GBPJPY\n",
      "0 0\n",
      "USDJPY\n",
      "1 0\n",
      "USDCAD\n",
      "0 0\n",
      "EURUSD\n",
      "0 1\n",
      "2020-08-23 03:00:00\n",
      "2020-08-31 11:00:00\n"
     ]
    },
    {
     "name": "stderr",
     "output_type": "stream",
     "text": [
      "100%|███████████████████████████████████████████████████████████████████████████████████| 5/5 [00:00<00:00, 142.94it/s]\n"
     ]
    },
    {
     "name": "stdout",
     "output_type": "stream",
     "text": [
      "GBPUSD\n",
      "0 1\n",
      "GBPJPY\n",
      "0 0\n",
      "USDJPY\n",
      "1 0\n",
      "USDCAD\n",
      "0 0\n",
      "EURUSD\n",
      "0 1\n",
      "2020-08-23 03:00:00\n",
      "2020-08-31 11:00:00\n"
     ]
    },
    {
     "name": "stderr",
     "output_type": "stream",
     "text": [
      "100%|███████████████████████████████████████████████████████████████████████████████████| 5/5 [00:00<00:00, 172.51it/s]\n"
     ]
    },
    {
     "name": "stdout",
     "output_type": "stream",
     "text": [
      "GBPUSD\n",
      "0 1\n",
      "GBPJPY\n",
      "0 0\n",
      "USDJPY\n",
      "1 0\n",
      "USDCAD\n",
      "0 0\n",
      "EURUSD\n",
      "0 1\n",
      "2020-08-23 03:00:00\n",
      "2020-08-31 11:00:00\n"
     ]
    },
    {
     "name": "stderr",
     "output_type": "stream",
     "text": [
      "100%|███████████████████████████████████████████████████████████████████████████████████| 5/5 [00:00<00:00, 166.68it/s]\n"
     ]
    },
    {
     "name": "stdout",
     "output_type": "stream",
     "text": [
      "GBPUSD\n",
      "0 1\n",
      "GBPJPY\n",
      "0 0\n",
      "USDJPY\n",
      "1 0\n",
      "USDCAD\n",
      "0 0\n",
      "EURUSD\n",
      "0 1\n",
      "2020-08-23 03:00:00\n",
      "2020-08-31 11:00:00\n"
     ]
    },
    {
     "name": "stderr",
     "output_type": "stream",
     "text": [
      "100%|███████████████████████████████████████████████████████████████████████████████████| 5/5 [00:00<00:00, 178.68it/s]\n"
     ]
    },
    {
     "name": "stdout",
     "output_type": "stream",
     "text": [
      "GBPUSD\n",
      "0 1\n",
      "GBPJPY\n",
      "0 0\n",
      "USDJPY\n",
      "1 0\n",
      "USDCAD\n",
      "0 0\n",
      "EURUSD\n",
      "0 1\n",
      "2020-08-23 03:15:00\n",
      "2020-08-31 11:15:00\n"
     ]
    },
    {
     "name": "stderr",
     "output_type": "stream",
     "text": [
      "100%|███████████████████████████████████████████████████████████████████████████████████| 5/5 [00:00<00:00, 172.52it/s]\n"
     ]
    },
    {
     "name": "stdout",
     "output_type": "stream",
     "text": [
      "GBPUSD\n",
      "0 0\n",
      "GBPJPY\n",
      "0 0\n",
      "USDJPY\n",
      "1 0\n",
      "USDCAD\n",
      "0 1\n",
      "Sell USDCAD\n",
      "EURUSD\n",
      "0 0\n",
      "2020-08-23 03:15:00\n",
      "2020-08-31 11:15:00\n"
     ]
    },
    {
     "name": "stderr",
     "output_type": "stream",
     "text": [
      "100%|███████████████████████████████████████████████████████████████████████████████████| 5/5 [00:00<00:00, 166.76it/s]\n"
     ]
    },
    {
     "name": "stdout",
     "output_type": "stream",
     "text": [
      "GBPUSD\n",
      "0 0\n",
      "GBPJPY\n",
      "0 0\n",
      "USDJPY\n",
      "1 0\n",
      "USDCAD\n",
      "0 1\n",
      "EURUSD\n",
      "0 0\n",
      "2020-08-23 03:15:00\n",
      "2020-08-31 11:15:00\n"
     ]
    },
    {
     "name": "stderr",
     "output_type": "stream",
     "text": [
      "100%|███████████████████████████████████████████████████████████████████████████████████| 5/5 [00:00<00:00, 192.42it/s]\n"
     ]
    },
    {
     "name": "stdout",
     "output_type": "stream",
     "text": [
      "GBPUSD\n",
      "0 0\n",
      "GBPJPY\n",
      "0 0\n",
      "USDJPY\n",
      "1 0\n",
      "USDCAD\n",
      "0 1\n",
      "EURUSD\n",
      "0 0\n",
      "2020-08-23 03:15:00\n",
      "2020-08-31 11:15:00\n"
     ]
    },
    {
     "name": "stderr",
     "output_type": "stream",
     "text": [
      "100%|███████████████████████████████████████████████████████████████████████████████████| 5/5 [00:00<00:00, 185.29it/s]\n"
     ]
    },
    {
     "name": "stdout",
     "output_type": "stream",
     "text": [
      "GBPUSD\n",
      "0 0\n",
      "GBPJPY\n",
      "0 0\n",
      "USDJPY\n",
      "1 0\n",
      "USDCAD\n",
      "0 1\n",
      "EURUSD\n",
      "0 0\n",
      "2020-08-23 03:15:00\n",
      "2020-08-31 11:15:00\n"
     ]
    },
    {
     "name": "stderr",
     "output_type": "stream",
     "text": [
      "100%|███████████████████████████████████████████████████████████████████████████████████| 5/5 [00:00<00:00, 185.29it/s]\n"
     ]
    },
    {
     "name": "stdout",
     "output_type": "stream",
     "text": [
      "GBPUSD\n",
      "0 0\n",
      "GBPJPY\n",
      "0 0\n",
      "USDJPY\n",
      "1 0\n",
      "USDCAD\n",
      "0 1\n",
      "EURUSD\n",
      "0 0\n",
      "2020-08-23 03:15:00\n",
      "2020-08-31 11:15:00\n"
     ]
    },
    {
     "name": "stderr",
     "output_type": "stream",
     "text": [
      "100%|███████████████████████████████████████████████████████████████████████████████████| 5/5 [00:00<00:00, 185.29it/s]\n"
     ]
    },
    {
     "name": "stdout",
     "output_type": "stream",
     "text": [
      "GBPUSD\n",
      "0 0\n",
      "GBPJPY\n",
      "0 0\n",
      "USDJPY\n",
      "1 0\n",
      "USDCAD\n",
      "0 1\n",
      "EURUSD\n",
      "0 0\n",
      "2020-08-23 03:15:00\n",
      "2020-08-31 11:15:00\n"
     ]
    },
    {
     "name": "stderr",
     "output_type": "stream",
     "text": [
      "100%|███████████████████████████████████████████████████████████████████████████████████| 5/5 [00:00<00:00, 185.29it/s]\n"
     ]
    },
    {
     "name": "stdout",
     "output_type": "stream",
     "text": [
      "GBPUSD\n",
      "0 0\n",
      "GBPJPY\n",
      "0 0\n",
      "USDJPY\n",
      "1 0\n",
      "USDCAD\n",
      "0 1\n",
      "EURUSD\n",
      "0 0\n",
      "2020-08-23 03:15:00\n",
      "2020-08-31 11:15:00\n"
     ]
    },
    {
     "name": "stderr",
     "output_type": "stream",
     "text": [
      "100%|███████████████████████████████████████████████████████████████████████████████████| 5/5 [00:00<00:00, 185.29it/s]\n"
     ]
    },
    {
     "name": "stdout",
     "output_type": "stream",
     "text": [
      "GBPUSD\n",
      "0 0\n",
      "GBPJPY\n",
      "0 0\n",
      "USDJPY\n",
      "1 0\n",
      "USDCAD\n",
      "0 1\n",
      "EURUSD\n",
      "0 0\n",
      "2020-08-23 03:15:00\n",
      "2020-08-31 11:15:00\n"
     ]
    },
    {
     "name": "stderr",
     "output_type": "stream",
     "text": [
      "100%|███████████████████████████████████████████████████████████████████████████████████| 5/5 [00:00<00:00, 185.29it/s]\n"
     ]
    },
    {
     "name": "stdout",
     "output_type": "stream",
     "text": [
      "GBPUSD\n",
      "0 0\n",
      "GBPJPY\n",
      "0 0\n",
      "USDJPY\n",
      "1 0\n",
      "USDCAD\n",
      "0 1\n",
      "EURUSD\n",
      "0 0\n",
      "2020-08-23 03:15:00\n",
      "2020-08-31 11:15:00\n"
     ]
    },
    {
     "name": "stderr",
     "output_type": "stream",
     "text": [
      "100%|███████████████████████████████████████████████████████████████████████████████████| 5/5 [00:00<00:00, 178.67it/s]\n"
     ]
    },
    {
     "name": "stdout",
     "output_type": "stream",
     "text": [
      "GBPUSD\n",
      "0 0\n",
      "GBPJPY\n",
      "0 0\n",
      "USDJPY\n",
      "1 0\n",
      "USDCAD\n",
      "0 1\n",
      "EURUSD\n",
      "0 0\n",
      "2020-08-23 03:15:00\n",
      "2020-08-31 11:15:00\n"
     ]
    },
    {
     "name": "stderr",
     "output_type": "stream",
     "text": [
      "100%|███████████████████████████████████████████████████████████████████████████████████| 5/5 [00:00<00:00, 185.29it/s]\n"
     ]
    },
    {
     "name": "stdout",
     "output_type": "stream",
     "text": [
      "GBPUSD\n",
      "0 0\n",
      "GBPJPY\n",
      "0 0\n",
      "USDJPY\n",
      "1 0\n",
      "USDCAD\n",
      "0 1\n",
      "EURUSD\n",
      "0 0\n",
      "2020-08-23 03:30:00\n",
      "2020-08-31 11:30:00\n"
     ]
    },
    {
     "name": "stderr",
     "output_type": "stream",
     "text": [
      "100%|███████████████████████████████████████████████████████████████████████████████████| 5/5 [00:00<00:00, 172.42it/s]\n"
     ]
    },
    {
     "name": "stdout",
     "output_type": "stream",
     "text": [
      "GBPUSD\n",
      "0 1\n",
      "Sell GBPUSD\n",
      "GBPJPY\n",
      "0 0\n",
      "USDJPY\n",
      "1 0\n",
      "USDCAD\n",
      "0 0\n",
      "EURUSD\n",
      "0 1\n",
      "Sell EURUSD\n",
      "2020-08-23 03:30:00\n",
      "2020-08-31 11:30:00\n"
     ]
    },
    {
     "name": "stderr",
     "output_type": "stream",
     "text": [
      "100%|███████████████████████████████████████████████████████████████████████████████████| 5/5 [00:00<00:00, 135.27it/s]\n"
     ]
    },
    {
     "name": "stdout",
     "output_type": "stream",
     "text": [
      "GBPUSD\n",
      "0 1\n",
      "GBPJPY\n",
      "0 0\n",
      "USDJPY\n",
      "1 0\n",
      "USDCAD\n",
      "0 0\n",
      "EURUSD\n",
      "0 1\n",
      "2020-08-23 03:30:00\n",
      "2020-08-31 11:30:00\n"
     ]
    },
    {
     "name": "stderr",
     "output_type": "stream",
     "text": [
      "100%|███████████████████████████████████████████████████████████████████████████████████| 5/5 [00:00<00:00, 147.15it/s]\n"
     ]
    },
    {
     "name": "stdout",
     "output_type": "stream",
     "text": [
      "GBPUSD\n",
      "0 1\n",
      "GBPJPY\n",
      "0 0\n",
      "USDJPY\n",
      "1 0\n",
      "USDCAD\n",
      "0 0\n",
      "EURUSD\n",
      "0 1\n",
      "2020-08-23 03:30:00\n",
      "2020-08-31 11:30:00\n"
     ]
    },
    {
     "name": "stderr",
     "output_type": "stream",
     "text": [
      "100%|███████████████████████████████████████████████████████████████████████████████████| 5/5 [00:00<00:00, 151.60it/s]\n"
     ]
    },
    {
     "name": "stdout",
     "output_type": "stream",
     "text": [
      "GBPUSD\n",
      "0 1\n",
      "GBPJPY\n",
      "0 0\n",
      "USDJPY\n",
      "1 0\n",
      "USDCAD\n",
      "0 0\n",
      "EURUSD\n",
      "0 1\n",
      "2020-08-23 03:30:00\n",
      "2020-08-31 11:30:00\n"
     ]
    },
    {
     "name": "stderr",
     "output_type": "stream",
     "text": [
      "100%|███████████████████████████████████████████████████████████████████████████████████| 5/5 [00:00<00:00, 166.77it/s]\n"
     ]
    },
    {
     "name": "stdout",
     "output_type": "stream",
     "text": [
      "GBPUSD\n",
      "0 1\n",
      "GBPJPY\n",
      "0 0\n",
      "USDJPY\n",
      "1 0\n",
      "USDCAD\n",
      "0 0\n",
      "EURUSD\n",
      "0 1\n",
      "2020-08-23 03:30:00\n",
      "2020-08-31 11:30:00\n"
     ]
    },
    {
     "name": "stderr",
     "output_type": "stream",
     "text": [
      "100%|███████████████████████████████████████████████████████████████████████████████████| 5/5 [00:00<00:00, 185.29it/s]\n"
     ]
    },
    {
     "name": "stdout",
     "output_type": "stream",
     "text": [
      "GBPUSD\n",
      "0 1\n",
      "GBPJPY\n",
      "0 0\n",
      "USDJPY\n",
      "1 0\n",
      "USDCAD\n",
      "0 0\n",
      "EURUSD\n",
      "0 1\n",
      "2020-08-23 03:30:00\n",
      "2020-08-31 11:30:00\n"
     ]
    },
    {
     "name": "stderr",
     "output_type": "stream",
     "text": [
      "100%|███████████████████████████████████████████████████████████████████████████████████| 5/5 [00:00<00:00, 161.38it/s]\n"
     ]
    },
    {
     "name": "stdout",
     "output_type": "stream",
     "text": [
      "GBPUSD\n",
      "0 1\n",
      "GBPJPY\n",
      "0 0\n",
      "USDJPY\n",
      "1 0\n",
      "USDCAD\n",
      "0 0\n",
      "EURUSD\n",
      "0 1\n",
      "2020-08-23 03:30:00\n",
      "2020-08-31 11:30:00\n"
     ]
    },
    {
     "name": "stderr",
     "output_type": "stream",
     "text": [
      "100%|███████████████████████████████████████████████████████████████████████████████████| 5/5 [00:00<00:00, 142.94it/s]\n"
     ]
    },
    {
     "name": "stdout",
     "output_type": "stream",
     "text": [
      "GBPUSD\n",
      "0 1\n",
      "GBPJPY\n",
      "0 0\n",
      "USDJPY\n",
      "1 0\n",
      "USDCAD\n",
      "0 0\n",
      "EURUSD\n",
      "0 1\n",
      "2020-08-23 03:30:00\n",
      "2020-08-31 11:30:00\n"
     ]
    },
    {
     "name": "stderr",
     "output_type": "stream",
     "text": [
      "100%|███████████████████████████████████████████████████████████████████████████████████| 5/5 [00:00<00:00, 156.34it/s]\n"
     ]
    },
    {
     "name": "stdout",
     "output_type": "stream",
     "text": [
      "GBPUSD\n",
      "0 1\n",
      "GBPJPY\n",
      "0 0\n",
      "USDJPY\n",
      "1 0\n",
      "USDCAD\n",
      "0 0\n",
      "EURUSD\n",
      "0 1\n",
      "2020-08-23 03:30:00\n",
      "2020-08-31 11:30:00\n"
     ]
    },
    {
     "name": "stderr",
     "output_type": "stream",
     "text": [
      "100%|███████████████████████████████████████████████████████████████████████████████████| 5/5 [00:00<00:00, 166.76it/s]\n"
     ]
    },
    {
     "name": "stdout",
     "output_type": "stream",
     "text": [
      "GBPUSD\n",
      "0 1\n",
      "GBPJPY\n",
      "0 0\n",
      "USDJPY\n",
      "1 0\n",
      "USDCAD\n",
      "0 0\n",
      "EURUSD\n",
      "0 1\n",
      "2020-08-23 03:30:00\n",
      "2020-08-31 11:30:00\n"
     ]
    },
    {
     "name": "stderr",
     "output_type": "stream",
     "text": [
      "100%|███████████████████████████████████████████████████████████████████████████████████| 5/5 [00:00<00:00, 151.60it/s]\n"
     ]
    },
    {
     "name": "stdout",
     "output_type": "stream",
     "text": [
      "GBPUSD\n",
      "0 1\n",
      "GBPJPY\n",
      "0 0\n",
      "USDJPY\n",
      "1 0\n",
      "USDCAD\n",
      "0 0\n",
      "EURUSD\n",
      "0 1\n",
      "2020-08-23 03:45:00\n",
      "2020-08-31 11:45:00\n"
     ]
    },
    {
     "name": "stderr",
     "output_type": "stream",
     "text": [
      "100%|███████████████████████████████████████████████████████████████████████████████████| 5/5 [00:00<00:00, 166.76it/s]\n"
     ]
    },
    {
     "name": "stdout",
     "output_type": "stream",
     "text": [
      "GBPUSD\n",
      "0 0\n",
      "GBPJPY\n",
      "1 0\n",
      "Buy GBPJPY\n",
      "USDJPY\n",
      "0 0\n",
      "USDCAD\n",
      "0 1\n",
      "Sell USDCAD\n",
      "EURUSD\n",
      "0 0\n",
      "2020-08-23 03:45:00\n",
      "2020-08-31 11:45:00\n"
     ]
    },
    {
     "name": "stderr",
     "output_type": "stream",
     "text": [
      "100%|███████████████████████████████████████████████████████████████████████████████████| 5/5 [00:00<00:00, 156.34it/s]\n"
     ]
    },
    {
     "name": "stdout",
     "output_type": "stream",
     "text": [
      "GBPUSD\n",
      "0 0\n",
      "GBPJPY\n",
      "1 0\n",
      "USDJPY\n",
      "0 0\n",
      "USDCAD\n",
      "0 1\n",
      "EURUSD\n",
      "0 0\n",
      "2020-08-23 03:45:00\n",
      "2020-08-31 11:45:00\n"
     ]
    },
    {
     "name": "stderr",
     "output_type": "stream",
     "text": [
      "100%|███████████████████████████████████████████████████████████████████████████████████| 5/5 [00:00<00:00, 192.42it/s]\n"
     ]
    },
    {
     "name": "stdout",
     "output_type": "stream",
     "text": [
      "GBPUSD\n",
      "0 0\n",
      "GBPJPY\n",
      "1 0\n",
      "USDJPY\n",
      "0 0\n",
      "USDCAD\n",
      "0 1\n",
      "EURUSD\n",
      "0 0\n",
      "2020-08-23 03:45:00\n",
      "2020-08-31 11:45:00\n"
     ]
    },
    {
     "name": "stderr",
     "output_type": "stream",
     "text": [
      "100%|███████████████████████████████████████████████████████████████████████████████████| 5/5 [00:00<00:00, 185.29it/s]\n"
     ]
    },
    {
     "name": "stdout",
     "output_type": "stream",
     "text": [
      "GBPUSD\n",
      "0 0\n",
      "GBPJPY\n",
      "1 0\n",
      "USDJPY\n",
      "0 0\n",
      "USDCAD\n",
      "0 1\n",
      "EURUSD\n",
      "0 0\n",
      "2020-08-23 03:45:00\n",
      "2020-08-31 11:45:00\n"
     ]
    },
    {
     "name": "stderr",
     "output_type": "stream",
     "text": [
      "100%|███████████████████████████████████████████████████████████████████████████████████| 5/5 [00:00<00:00, 185.29it/s]\n"
     ]
    },
    {
     "name": "stdout",
     "output_type": "stream",
     "text": [
      "GBPUSD\n",
      "0 0\n",
      "GBPJPY\n",
      "1 0\n",
      "USDJPY\n",
      "0 0\n",
      "USDCAD\n",
      "0 1\n",
      "EURUSD\n",
      "0 0\n",
      "2020-08-23 03:45:00\n",
      "2020-08-31 11:45:00\n"
     ]
    },
    {
     "name": "stderr",
     "output_type": "stream",
     "text": [
      "100%|███████████████████████████████████████████████████████████████████████████████████| 5/5 [00:00<00:00, 192.42it/s]\n"
     ]
    },
    {
     "name": "stdout",
     "output_type": "stream",
     "text": [
      "GBPUSD\n",
      "0 0\n",
      "GBPJPY\n",
      "1 0\n",
      "USDJPY\n",
      "0 0\n",
      "USDCAD\n",
      "0 1\n",
      "EURUSD\n",
      "0 0\n",
      "2020-08-23 03:45:00\n",
      "2020-08-31 11:45:00\n"
     ]
    },
    {
     "name": "stderr",
     "output_type": "stream",
     "text": [
      "100%|███████████████████████████████████████████████████████████████████████████████████| 5/5 [00:00<00:00, 185.29it/s]\n"
     ]
    },
    {
     "name": "stdout",
     "output_type": "stream",
     "text": [
      "GBPUSD\n",
      "0 0\n",
      "GBPJPY\n",
      "1 0\n",
      "USDJPY\n",
      "0 0\n",
      "USDCAD\n",
      "0 1\n",
      "EURUSD\n",
      "0 0\n",
      "2020-08-23 03:45:00\n",
      "2020-08-31 11:45:00\n"
     ]
    },
    {
     "name": "stderr",
     "output_type": "stream",
     "text": [
      "100%|███████████████████████████████████████████████████████████████████████████████████| 5/5 [00:00<00:00, 185.29it/s]\n"
     ]
    },
    {
     "name": "stdout",
     "output_type": "stream",
     "text": [
      "GBPUSD\n",
      "0 0\n",
      "GBPJPY\n",
      "1 0\n",
      "USDJPY\n",
      "0 0\n",
      "USDCAD\n",
      "0 1\n",
      "EURUSD\n",
      "0 0\n",
      "2020-08-23 03:45:00\n",
      "2020-08-31 11:45:00\n"
     ]
    },
    {
     "name": "stderr",
     "output_type": "stream",
     "text": [
      "100%|███████████████████████████████████████████████████████████████████████████████████| 5/5 [00:00<00:00, 185.29it/s]\n"
     ]
    },
    {
     "name": "stdout",
     "output_type": "stream",
     "text": [
      "GBPUSD\n",
      "0 0\n",
      "GBPJPY\n",
      "1 0\n",
      "USDJPY\n",
      "0 0\n",
      "USDCAD\n",
      "0 1\n",
      "EURUSD\n",
      "0 0\n",
      "2020-08-23 03:45:00\n",
      "2020-08-31 11:45:00\n"
     ]
    },
    {
     "name": "stderr",
     "output_type": "stream",
     "text": [
      "100%|███████████████████████████████████████████████████████████████████████████████████| 5/5 [00:00<00:00, 185.29it/s]\n"
     ]
    },
    {
     "name": "stdout",
     "output_type": "stream",
     "text": [
      "GBPUSD\n",
      "0 0\n",
      "GBPJPY\n",
      "1 0\n",
      "USDJPY\n",
      "0 0\n",
      "USDCAD\n",
      "0 1\n",
      "EURUSD\n",
      "0 0\n",
      "2020-08-23 03:45:00\n",
      "2020-08-31 11:45:00\n"
     ]
    },
    {
     "name": "stderr",
     "output_type": "stream",
     "text": [
      "100%|███████████████████████████████████████████████████████████████████████████████████| 5/5 [00:00<00:00, 178.67it/s]\n"
     ]
    },
    {
     "name": "stdout",
     "output_type": "stream",
     "text": [
      "GBPUSD\n",
      "0 0\n",
      "GBPJPY\n",
      "1 0\n",
      "USDJPY\n",
      "0 0\n",
      "USDCAD\n",
      "0 1\n",
      "EURUSD\n",
      "0 0\n",
      "2020-08-23 04:00:00\n",
      "2020-08-31 12:00:00\n"
     ]
    },
    {
     "name": "stderr",
     "output_type": "stream",
     "text": [
      "100%|███████████████████████████████████████████████████████████████████████████████████| 5/5 [00:00<00:00, 142.94it/s]\n"
     ]
    },
    {
     "name": "stdout",
     "output_type": "stream",
     "text": [
      "GBPUSD\n",
      "1 0\n",
      "Buy GBPUSD\n",
      "GBPJPY\n",
      "1 0\n",
      "USDJPY\n",
      "1 0\n",
      "Buy USDJPY\n",
      "USDCAD\n",
      "0 1\n",
      "EURUSD\n",
      "1 0\n",
      "Buy EURUSD\n",
      "2020-08-23 04:00:00\n",
      "2020-08-31 12:00:00\n"
     ]
    },
    {
     "name": "stderr",
     "output_type": "stream",
     "text": [
      "100%|███████████████████████████████████████████████████████████████████████████████████| 5/5 [00:00<00:00, 156.34it/s]\n"
     ]
    },
    {
     "name": "stdout",
     "output_type": "stream",
     "text": [
      "GBPUSD\n",
      "1 0\n",
      "GBPJPY\n",
      "1 0\n",
      "USDJPY\n",
      "1 0\n",
      "USDCAD\n",
      "0 1\n",
      "EURUSD\n",
      "1 0\n",
      "2020-08-23 04:00:00\n",
      "2020-08-31 12:00:00\n"
     ]
    },
    {
     "name": "stderr",
     "output_type": "stream",
     "text": [
      "100%|███████████████████████████████████████████████████████████████████████████████████| 5/5 [00:00<00:00, 122.02it/s]\n"
     ]
    },
    {
     "name": "stdout",
     "output_type": "stream",
     "text": [
      "GBPUSD\n",
      "1 0\n",
      "GBPJPY\n",
      "1 0\n",
      "USDJPY\n",
      "1 0\n",
      "USDCAD\n",
      "0 1\n",
      "EURUSD\n",
      "1 0\n",
      "2020-08-23 04:00:00\n",
      "2020-08-31 12:00:00\n"
     ]
    },
    {
     "name": "stderr",
     "output_type": "stream",
     "text": [
      "100%|███████████████████████████████████████████████████████████████████████████████████| 5/5 [00:00<00:00, 178.67it/s]\n"
     ]
    },
    {
     "name": "stdout",
     "output_type": "stream",
     "text": [
      "GBPUSD\n",
      "1 0\n",
      "GBPJPY\n",
      "1 0\n",
      "USDJPY\n",
      "1 0\n",
      "USDCAD\n",
      "0 1\n",
      "EURUSD\n",
      "1 0\n",
      "2020-08-23 04:00:00\n",
      "2020-08-31 12:00:00\n"
     ]
    },
    {
     "name": "stderr",
     "output_type": "stream",
     "text": [
      "100%|███████████████████████████████████████████████████████████████████████████████████| 5/5 [00:00<00:00, 161.38it/s]\n"
     ]
    },
    {
     "name": "stdout",
     "output_type": "stream",
     "text": [
      "GBPUSD\n",
      "1 0\n",
      "GBPJPY\n",
      "1 0\n",
      "USDJPY\n",
      "1 0\n",
      "USDCAD\n",
      "0 1\n",
      "EURUSD\n",
      "1 0\n",
      "2020-08-23 04:00:00\n",
      "2020-08-31 12:00:00\n"
     ]
    },
    {
     "name": "stderr",
     "output_type": "stream",
     "text": [
      "100%|███████████████████████████████████████████████████████████████████████████████████| 5/5 [00:00<00:00, 178.67it/s]\n"
     ]
    },
    {
     "name": "stdout",
     "output_type": "stream",
     "text": [
      "GBPUSD\n",
      "1 0\n",
      "GBPJPY\n",
      "1 0\n",
      "USDJPY\n",
      "1 0\n",
      "USDCAD\n",
      "0 1\n",
      "EURUSD\n",
      "1 0\n",
      "2020-08-23 04:00:00\n",
      "2020-08-31 12:00:00\n"
     ]
    },
    {
     "name": "stderr",
     "output_type": "stream",
     "text": [
      "100%|███████████████████████████████████████████████████████████████████████████████████| 5/5 [00:00<00:00, 161.39it/s]\n"
     ]
    },
    {
     "name": "stdout",
     "output_type": "stream",
     "text": [
      "GBPUSD\n",
      "1 0\n",
      "GBPJPY\n",
      "1 0\n",
      "USDJPY\n",
      "1 0\n",
      "USDCAD\n",
      "0 1\n",
      "EURUSD\n",
      "1 0\n",
      "2020-08-23 04:00:00\n",
      "2020-08-31 12:00:00\n"
     ]
    },
    {
     "name": "stderr",
     "output_type": "stream",
     "text": [
      "100%|███████████████████████████████████████████████████████████████████████████████████| 5/5 [00:00<00:00, 156.34it/s]\n"
     ]
    },
    {
     "name": "stdout",
     "output_type": "stream",
     "text": [
      "GBPUSD\n",
      "1 0\n",
      "GBPJPY\n",
      "1 0\n",
      "USDJPY\n",
      "1 0\n",
      "USDCAD\n",
      "0 1\n",
      "EURUSD\n",
      "1 0\n",
      "2020-08-23 04:00:00\n",
      "2020-08-31 12:00:00\n"
     ]
    },
    {
     "name": "stderr",
     "output_type": "stream",
     "text": [
      "100%|███████████████████████████████████████████████████████████████████████████████████| 5/5 [00:00<00:00, 166.76it/s]\n"
     ]
    },
    {
     "name": "stdout",
     "output_type": "stream",
     "text": [
      "GBPUSD\n",
      "1 0\n",
      "GBPJPY\n",
      "1 0\n",
      "USDJPY\n",
      "1 0\n",
      "USDCAD\n",
      "0 1\n",
      "EURUSD\n",
      "1 0\n",
      "2020-08-23 04:15:00\n",
      "2020-08-31 12:15:00\n"
     ]
    },
    {
     "name": "stderr",
     "output_type": "stream",
     "text": [
      "100%|███████████████████████████████████████████████████████████████████████████████████| 5/5 [00:00<00:00, 166.76it/s]\n"
     ]
    },
    {
     "name": "stdout",
     "output_type": "stream",
     "text": [
      "GBPUSD\n",
      "0 0\n",
      "GBPJPY\n",
      "0 0\n",
      "USDJPY\n",
      "0 1\n",
      "Sell USDJPY\n",
      "USDCAD\n",
      "0 0\n",
      "EURUSD\n",
      "0 0\n",
      "2020-08-23 04:15:00\n",
      "2020-08-31 12:15:00\n"
     ]
    },
    {
     "name": "stderr",
     "output_type": "stream",
     "text": [
      "100%|███████████████████████████████████████████████████████████████████████████████████| 5/5 [00:00<00:00, 172.51it/s]\n"
     ]
    },
    {
     "name": "stdout",
     "output_type": "stream",
     "text": [
      "GBPUSD\n",
      "0 0\n",
      "GBPJPY\n",
      "0 0\n",
      "USDJPY\n",
      "0 1\n",
      "USDCAD\n",
      "0 0\n",
      "EURUSD\n",
      "0 0\n",
      "2020-08-23 04:15:00\n",
      "2020-08-31 12:15:00\n"
     ]
    },
    {
     "name": "stderr",
     "output_type": "stream",
     "text": [
      "100%|███████████████████████████████████████████████████████████████████████████████████| 5/5 [00:00<00:00, 185.29it/s]\n"
     ]
    },
    {
     "name": "stdout",
     "output_type": "stream",
     "text": [
      "GBPUSD\n",
      "0 0\n",
      "GBPJPY\n",
      "0 0\n",
      "USDJPY\n",
      "0 1\n",
      "USDCAD\n",
      "0 0\n",
      "EURUSD\n",
      "0 0\n",
      "2020-08-23 04:15:00\n",
      "2020-08-31 12:15:00\n"
     ]
    },
    {
     "name": "stderr",
     "output_type": "stream",
     "text": [
      "100%|███████████████████████████████████████████████████████████████████████████████████| 5/5 [00:00<00:00, 178.67it/s]\n"
     ]
    },
    {
     "name": "stdout",
     "output_type": "stream",
     "text": [
      "GBPUSD\n",
      "0 0\n",
      "GBPJPY\n",
      "0 0\n",
      "USDJPY\n",
      "0 1\n",
      "USDCAD\n",
      "0 0\n",
      "EURUSD\n",
      "0 0\n",
      "2020-08-23 04:15:00\n",
      "2020-08-31 12:15:00\n"
     ]
    },
    {
     "name": "stderr",
     "output_type": "stream",
     "text": [
      "100%|███████████████████████████████████████████████████████████████████████████████████| 5/5 [00:00<00:00, 178.67it/s]\n"
     ]
    },
    {
     "name": "stdout",
     "output_type": "stream",
     "text": [
      "GBPUSD\n",
      "0 0\n",
      "GBPJPY\n",
      "0 0\n",
      "USDJPY\n",
      "0 1\n",
      "USDCAD\n",
      "0 0\n",
      "EURUSD\n",
      "0 0\n",
      "2020-08-23 04:15:00\n",
      "2020-08-31 12:15:00\n"
     ]
    },
    {
     "name": "stderr",
     "output_type": "stream",
     "text": [
      "100%|███████████████████████████████████████████████████████████████████████████████████| 5/5 [00:00<00:00, 178.68it/s]\n"
     ]
    },
    {
     "name": "stdout",
     "output_type": "stream",
     "text": [
      "GBPUSD\n",
      "0 0\n",
      "GBPJPY\n",
      "0 0\n",
      "USDJPY\n",
      "0 1\n",
      "USDCAD\n",
      "0 0\n",
      "EURUSD\n",
      "0 0\n",
      "2020-08-23 04:15:00\n",
      "2020-08-31 12:15:00\n"
     ]
    },
    {
     "name": "stderr",
     "output_type": "stream",
     "text": [
      "100%|███████████████████████████████████████████████████████████████████████████████████| 5/5 [00:00<00:00, 185.29it/s]\n"
     ]
    },
    {
     "name": "stdout",
     "output_type": "stream",
     "text": [
      "GBPUSD\n",
      "0 0\n",
      "GBPJPY\n",
      "0 0\n",
      "USDJPY\n",
      "0 1\n",
      "USDCAD\n",
      "0 0\n",
      "EURUSD\n",
      "0 0\n",
      "2020-08-23 04:15:00\n",
      "2020-08-31 12:15:00\n"
     ]
    },
    {
     "name": "stderr",
     "output_type": "stream",
     "text": [
      "100%|███████████████████████████████████████████████████████████████████████████████████| 5/5 [00:00<00:00, 172.51it/s]\n"
     ]
    },
    {
     "name": "stdout",
     "output_type": "stream",
     "text": [
      "GBPUSD\n",
      "0 0\n",
      "GBPJPY\n",
      "0 0\n",
      "USDJPY\n",
      "0 1\n",
      "USDCAD\n",
      "0 0\n",
      "EURUSD\n",
      "0 0\n",
      "2020-08-23 04:15:00\n",
      "2020-08-31 12:15:00\n"
     ]
    },
    {
     "name": "stderr",
     "output_type": "stream",
     "text": [
      "100%|███████████████████████████████████████████████████████████████████████████████████| 5/5 [00:00<00:00, 185.29it/s]\n"
     ]
    },
    {
     "name": "stdout",
     "output_type": "stream",
     "text": [
      "GBPUSD\n",
      "0 0\n",
      "GBPJPY\n",
      "0 0\n",
      "USDJPY\n",
      "0 1\n",
      "USDCAD\n",
      "0 0\n",
      "EURUSD\n",
      "0 0\n",
      "2020-08-23 04:15:00\n",
      "2020-08-31 12:15:00\n"
     ]
    },
    {
     "name": "stderr",
     "output_type": "stream",
     "text": [
      "100%|███████████████████████████████████████████████████████████████████████████████████| 5/5 [00:00<00:00, 178.67it/s]\n"
     ]
    },
    {
     "name": "stdout",
     "output_type": "stream",
     "text": [
      "GBPUSD\n",
      "0 0\n",
      "GBPJPY\n",
      "0 0\n",
      "USDJPY\n",
      "0 1\n",
      "USDCAD\n",
      "0 0\n",
      "EURUSD\n",
      "0 0\n",
      "2020-08-23 04:15:00\n",
      "2020-08-31 12:15:00\n"
     ]
    },
    {
     "name": "stderr",
     "output_type": "stream",
     "text": [
      "100%|███████████████████████████████████████████████████████████████████████████████████| 5/5 [00:00<00:00, 185.29it/s]\n"
     ]
    },
    {
     "name": "stdout",
     "output_type": "stream",
     "text": [
      "GBPUSD\n",
      "0 0\n",
      "GBPJPY\n",
      "0 0\n",
      "USDJPY\n",
      "0 1\n",
      "USDCAD\n",
      "0 0\n",
      "EURUSD\n",
      "0 0\n",
      "2020-08-23 04:15:00\n",
      "2020-08-31 12:15:00\n"
     ]
    },
    {
     "name": "stderr",
     "output_type": "stream",
     "text": [
      "100%|███████████████████████████████████████████████████████████████████████████████████| 5/5 [00:00<00:00, 192.42it/s]\n"
     ]
    },
    {
     "name": "stdout",
     "output_type": "stream",
     "text": [
      "GBPUSD\n",
      "0 0\n",
      "GBPJPY\n",
      "0 0\n",
      "USDJPY\n",
      "0 1\n",
      "USDCAD\n",
      "0 0\n",
      "EURUSD\n",
      "0 0\n",
      "2020-08-23 04:30:00\n",
      "2020-08-31 12:30:00\n"
     ]
    },
    {
     "name": "stderr",
     "output_type": "stream",
     "text": [
      "100%|███████████████████████████████████████████████████████████████████████████████████| 5/5 [00:00<00:00, 172.52it/s]\n"
     ]
    },
    {
     "name": "stdout",
     "output_type": "stream",
     "text": [
      "GBPUSD\n",
      "0 0\n",
      "GBPJPY\n",
      "0 0\n",
      "USDJPY\n",
      "0 0\n",
      "USDCAD\n",
      "0 1\n",
      "Sell USDCAD\n",
      "EURUSD\n",
      "0 0\n",
      "2020-08-23 04:30:00\n",
      "2020-08-31 12:30:00\n"
     ]
    },
    {
     "name": "stderr",
     "output_type": "stream",
     "text": [
      "100%|███████████████████████████████████████████████████████████████████████████████████| 5/5 [00:00<00:00, 192.42it/s]\n"
     ]
    },
    {
     "name": "stdout",
     "output_type": "stream",
     "text": [
      "GBPUSD\n",
      "0 0\n",
      "GBPJPY\n",
      "0 0\n",
      "USDJPY\n",
      "0 0\n",
      "USDCAD\n",
      "0 1\n",
      "EURUSD\n",
      "0 0\n",
      "2020-08-23 04:30:00\n",
      "2020-08-31 12:30:00\n"
     ]
    },
    {
     "name": "stderr",
     "output_type": "stream",
     "text": [
      "100%|███████████████████████████████████████████████████████████████████████████████████| 5/5 [00:00<00:00, 172.51it/s]\n"
     ]
    },
    {
     "name": "stdout",
     "output_type": "stream",
     "text": [
      "GBPUSD\n",
      "0 0\n",
      "GBPJPY\n",
      "0 0\n",
      "USDJPY\n",
      "0 0\n",
      "USDCAD\n",
      "0 1\n",
      "EURUSD\n",
      "0 0\n",
      "2020-08-23 04:30:00\n",
      "2020-08-31 12:30:00\n"
     ]
    },
    {
     "name": "stderr",
     "output_type": "stream",
     "text": [
      "100%|███████████████████████████████████████████████████████████████████████████████████| 5/5 [00:00<00:00, 178.67it/s]\n"
     ]
    },
    {
     "name": "stdout",
     "output_type": "stream",
     "text": [
      "GBPUSD\n",
      "0 0\n",
      "GBPJPY\n",
      "0 0\n",
      "USDJPY\n",
      "0 0\n",
      "USDCAD\n",
      "0 1\n",
      "EURUSD\n",
      "0 0\n",
      "2020-08-23 04:30:00\n",
      "2020-08-31 12:30:00\n"
     ]
    },
    {
     "name": "stderr",
     "output_type": "stream",
     "text": [
      "100%|███████████████████████████████████████████████████████████████████████████████████| 5/5 [00:00<00:00, 185.29it/s]\n"
     ]
    },
    {
     "name": "stdout",
     "output_type": "stream",
     "text": [
      "GBPUSD\n",
      "0 0\n",
      "GBPJPY\n",
      "0 0\n",
      "USDJPY\n",
      "0 0\n",
      "USDCAD\n",
      "0 1\n",
      "EURUSD\n",
      "0 0\n",
      "2020-08-23 04:30:00\n",
      "2020-08-31 12:30:00\n"
     ]
    },
    {
     "name": "stderr",
     "output_type": "stream",
     "text": [
      "100%|███████████████████████████████████████████████████████████████████████████████████| 5/5 [00:00<00:00, 178.67it/s]\n"
     ]
    },
    {
     "name": "stdout",
     "output_type": "stream",
     "text": [
      "GBPUSD\n",
      "0 0\n",
      "GBPJPY\n",
      "0 0\n",
      "USDJPY\n",
      "0 0\n",
      "USDCAD\n",
      "0 1\n",
      "EURUSD\n",
      "0 0\n",
      "2020-08-23 04:30:00\n",
      "2020-08-31 12:30:00\n"
     ]
    },
    {
     "name": "stderr",
     "output_type": "stream",
     "text": [
      "100%|███████████████████████████████████████████████████████████████████████████████████| 5/5 [00:00<00:00, 185.29it/s]\n"
     ]
    },
    {
     "name": "stdout",
     "output_type": "stream",
     "text": [
      "GBPUSD\n",
      "0 0\n",
      "GBPJPY\n",
      "0 0\n",
      "USDJPY\n",
      "0 0\n",
      "USDCAD\n",
      "0 1\n",
      "EURUSD\n",
      "0 0\n",
      "2020-08-23 04:30:00\n",
      "2020-08-31 12:30:00\n"
     ]
    },
    {
     "name": "stderr",
     "output_type": "stream",
     "text": [
      "100%|███████████████████████████████████████████████████████████████████████████████████| 5/5 [00:00<00:00, 178.66it/s]\n"
     ]
    },
    {
     "name": "stdout",
     "output_type": "stream",
     "text": [
      "GBPUSD\n",
      "0 0\n",
      "GBPJPY\n",
      "0 0\n",
      "USDJPY\n",
      "0 0\n",
      "USDCAD\n",
      "0 1\n",
      "EURUSD\n",
      "0 0\n",
      "2020-08-23 04:30:00\n",
      "2020-08-31 12:30:00\n"
     ]
    },
    {
     "name": "stderr",
     "output_type": "stream",
     "text": [
      "100%|███████████████████████████████████████████████████████████████████████████████████| 5/5 [00:00<00:00, 185.29it/s]\n"
     ]
    },
    {
     "name": "stdout",
     "output_type": "stream",
     "text": [
      "GBPUSD\n",
      "0 0\n",
      "GBPJPY\n",
      "0 0\n",
      "USDJPY\n",
      "0 0\n",
      "USDCAD\n",
      "0 1\n",
      "EURUSD\n",
      "0 0\n",
      "2020-08-23 04:30:00\n",
      "2020-08-31 12:30:00\n"
     ]
    },
    {
     "name": "stderr",
     "output_type": "stream",
     "text": [
      "100%|███████████████████████████████████████████████████████████████████████████████████| 5/5 [00:00<00:00, 185.29it/s]\n"
     ]
    },
    {
     "name": "stdout",
     "output_type": "stream",
     "text": [
      "GBPUSD\n",
      "0 0\n",
      "GBPJPY\n",
      "0 0\n",
      "USDJPY\n",
      "0 0\n",
      "USDCAD\n",
      "0 1\n",
      "EURUSD\n",
      "0 0\n",
      "2020-08-23 04:30:00\n",
      "2020-08-31 12:30:00\n"
     ]
    },
    {
     "name": "stderr",
     "output_type": "stream",
     "text": [
      "100%|███████████████████████████████████████████████████████████████████████████████████| 5/5 [00:00<00:00, 192.42it/s]\n"
     ]
    },
    {
     "name": "stdout",
     "output_type": "stream",
     "text": [
      "GBPUSD\n",
      "0 0\n",
      "GBPJPY\n",
      "0 0\n",
      "USDJPY\n",
      "0 0\n",
      "USDCAD\n",
      "0 1\n",
      "EURUSD\n",
      "0 0\n",
      "2020-08-23 04:30:00\n",
      "2020-08-31 12:30:00\n"
     ]
    },
    {
     "name": "stderr",
     "output_type": "stream",
     "text": [
      "100%|███████████████████████████████████████████████████████████████████████████████████| 5/5 [00:00<00:00, 185.29it/s]\n"
     ]
    },
    {
     "name": "stdout",
     "output_type": "stream",
     "text": [
      "GBPUSD\n",
      "0 0\n",
      "GBPJPY\n",
      "0 0\n",
      "USDJPY\n",
      "0 0\n",
      "USDCAD\n",
      "0 1\n",
      "EURUSD\n",
      "0 0\n",
      "2020-08-23 04:45:00\n",
      "2020-08-31 12:45:00\n"
     ]
    },
    {
     "name": "stderr",
     "output_type": "stream",
     "text": [
      "100%|███████████████████████████████████████████████████████████████████████████████████| 5/5 [00:00<00:00, 178.68it/s]\n"
     ]
    },
    {
     "name": "stdout",
     "output_type": "stream",
     "text": [
      "GBPUSD\n",
      "0 1\n",
      "Sell GBPUSD\n",
      "GBPJPY\n",
      "1 0\n",
      "Buy GBPJPY\n",
      "USDJPY\n",
      "1 0\n",
      "Buy USDJPY\n",
      "USDCAD\n",
      "0 0\n",
      "EURUSD\n",
      "0 0\n",
      "2020-08-23 04:45:00\n",
      "2020-08-31 12:45:00\n"
     ]
    },
    {
     "name": "stderr",
     "output_type": "stream",
     "text": [
      "100%|███████████████████████████████████████████████████████████████████████████████████| 5/5 [00:00<00:00, 185.29it/s]\n"
     ]
    },
    {
     "name": "stdout",
     "output_type": "stream",
     "text": [
      "GBPUSD\n",
      "0 1\n",
      "GBPJPY\n",
      "1 0\n",
      "USDJPY\n",
      "1 0\n",
      "USDCAD\n",
      "0 0\n",
      "EURUSD\n",
      "0 0\n",
      "2020-08-23 04:45:00\n",
      "2020-08-31 12:45:00\n"
     ]
    },
    {
     "name": "stderr",
     "output_type": "stream",
     "text": [
      "100%|███████████████████████████████████████████████████████████████████████████████████| 5/5 [00:00<00:00, 185.29it/s]\n"
     ]
    },
    {
     "name": "stdout",
     "output_type": "stream",
     "text": [
      "GBPUSD\n",
      "0 1\n",
      "GBPJPY\n",
      "1 0\n",
      "USDJPY\n",
      "1 0\n",
      "USDCAD\n",
      "0 0\n",
      "EURUSD\n",
      "0 0\n",
      "2020-08-23 04:45:00\n",
      "2020-08-31 12:45:00\n"
     ]
    },
    {
     "name": "stderr",
     "output_type": "stream",
     "text": [
      "100%|███████████████████████████████████████████████████████████████████████████████████| 5/5 [00:00<00:00, 178.67it/s]\n"
     ]
    },
    {
     "name": "stdout",
     "output_type": "stream",
     "text": [
      "GBPUSD\n",
      "0 1\n",
      "GBPJPY\n",
      "1 0\n",
      "USDJPY\n",
      "1 0\n",
      "USDCAD\n",
      "0 0\n",
      "EURUSD\n",
      "0 0\n",
      "2020-08-23 04:45:00\n",
      "2020-08-31 12:45:00\n"
     ]
    },
    {
     "name": "stderr",
     "output_type": "stream",
     "text": [
      "100%|███████████████████████████████████████████████████████████████████████████████████| 5/5 [00:00<00:00, 185.29it/s]\n"
     ]
    },
    {
     "name": "stdout",
     "output_type": "stream",
     "text": [
      "GBPUSD\n",
      "0 1\n",
      "GBPJPY\n",
      "1 0\n",
      "USDJPY\n",
      "1 0\n",
      "USDCAD\n",
      "0 0\n",
      "EURUSD\n",
      "0 0\n",
      "2020-08-23 04:45:00\n",
      "2020-08-31 12:45:00\n"
     ]
    },
    {
     "name": "stderr",
     "output_type": "stream",
     "text": [
      "100%|███████████████████████████████████████████████████████████████████████████████████| 5/5 [00:00<00:00, 185.29it/s]\n"
     ]
    },
    {
     "name": "stdout",
     "output_type": "stream",
     "text": [
      "GBPUSD\n",
      "0 1\n",
      "GBPJPY\n",
      "1 0\n",
      "USDJPY\n",
      "1 0\n",
      "USDCAD\n",
      "0 0\n",
      "EURUSD\n",
      "0 0\n",
      "2020-08-23 04:45:00\n",
      "2020-08-31 12:45:00\n"
     ]
    },
    {
     "name": "stderr",
     "output_type": "stream",
     "text": [
      "100%|███████████████████████████████████████████████████████████████████████████████████| 5/5 [00:00<00:00, 185.29it/s]\n"
     ]
    },
    {
     "name": "stdout",
     "output_type": "stream",
     "text": [
      "GBPUSD\n",
      "0 1\n",
      "GBPJPY\n",
      "1 0\n",
      "USDJPY\n",
      "1 0\n",
      "USDCAD\n",
      "0 0\n",
      "EURUSD\n",
      "0 0\n",
      "2020-08-23 04:45:00\n",
      "2020-08-31 12:45:00\n"
     ]
    },
    {
     "name": "stderr",
     "output_type": "stream",
     "text": [
      "100%|███████████████████████████████████████████████████████████████████████████████████| 5/5 [00:00<00:00, 178.67it/s]\n"
     ]
    },
    {
     "name": "stdout",
     "output_type": "stream",
     "text": [
      "GBPUSD\n",
      "0 1\n",
      "GBPJPY\n",
      "1 0\n",
      "USDJPY\n",
      "1 0\n",
      "USDCAD\n",
      "0 0\n",
      "EURUSD\n",
      "0 0\n",
      "2020-08-23 04:45:00\n",
      "2020-08-31 12:45:00\n"
     ]
    },
    {
     "name": "stderr",
     "output_type": "stream",
     "text": [
      "100%|███████████████████████████████████████████████████████████████████████████████████| 5/5 [00:00<00:00, 185.29it/s]\n"
     ]
    },
    {
     "name": "stdout",
     "output_type": "stream",
     "text": [
      "GBPUSD\n",
      "0 1\n",
      "GBPJPY\n",
      "1 0\n",
      "USDJPY\n",
      "1 0\n",
      "USDCAD\n",
      "0 0\n",
      "EURUSD\n",
      "0 0\n",
      "2020-08-23 04:45:00\n",
      "2020-08-31 12:45:00\n"
     ]
    },
    {
     "name": "stderr",
     "output_type": "stream",
     "text": [
      "100%|███████████████████████████████████████████████████████████████████████████████████| 5/5 [00:00<00:00, 192.42it/s]\n"
     ]
    },
    {
     "name": "stdout",
     "output_type": "stream",
     "text": [
      "GBPUSD\n",
      "0 1\n",
      "GBPJPY\n",
      "1 0\n",
      "USDJPY\n",
      "1 0\n",
      "USDCAD\n",
      "0 0\n",
      "EURUSD\n",
      "0 0\n",
      "2020-08-23 04:45:00\n",
      "2020-08-31 12:45:00\n"
     ]
    },
    {
     "name": "stderr",
     "output_type": "stream",
     "text": [
      "100%|███████████████████████████████████████████████████████████████████████████████████| 5/5 [00:00<00:00, 185.29it/s]\n"
     ]
    },
    {
     "name": "stdout",
     "output_type": "stream",
     "text": [
      "GBPUSD\n",
      "0 1\n",
      "GBPJPY\n",
      "1 0\n",
      "USDJPY\n",
      "1 0\n",
      "USDCAD\n",
      "0 0\n",
      "EURUSD\n",
      "0 0\n",
      "2020-08-23 05:00:00\n",
      "2020-08-31 13:00:00\n"
     ]
    },
    {
     "name": "stderr",
     "output_type": "stream",
     "text": [
      "100%|███████████████████████████████████████████████████████████████████████████████████| 5/5 [00:00<00:00, 147.14it/s]\n"
     ]
    },
    {
     "name": "stdout",
     "output_type": "stream",
     "text": [
      "GBPUSD\n",
      "0 0\n",
      "GBPJPY\n",
      "1 0\n",
      "USDJPY\n",
      "0 0\n",
      "USDCAD\n",
      "0 0\n",
      "EURUSD\n",
      "1 0\n",
      "Buy EURUSD\n",
      "2020-08-23 05:00:00\n",
      "2020-08-31 13:00:00\n"
     ]
    },
    {
     "name": "stderr",
     "output_type": "stream",
     "text": [
      "100%|███████████████████████████████████████████████████████████████████████████████████| 5/5 [00:00<00:00, 151.60it/s]\n"
     ]
    },
    {
     "name": "stdout",
     "output_type": "stream",
     "text": [
      "GBPUSD\n",
      "0 0\n",
      "GBPJPY\n",
      "1 0\n",
      "USDJPY\n",
      "0 0\n",
      "USDCAD\n",
      "0 0\n",
      "EURUSD\n",
      "1 0\n",
      "2020-08-23 05:00:00\n",
      "2020-08-31 13:00:00\n"
     ]
    },
    {
     "name": "stderr",
     "output_type": "stream",
     "text": [
      "100%|███████████████████████████████████████████████████████████████████████████████████| 5/5 [00:00<00:00, 138.97it/s]\n"
     ]
    },
    {
     "name": "stdout",
     "output_type": "stream",
     "text": [
      "GBPUSD\n",
      "0 0\n",
      "GBPJPY\n",
      "1 0\n",
      "USDJPY\n",
      "0 0\n",
      "USDCAD\n",
      "0 0\n",
      "EURUSD\n",
      "1 0\n",
      "2020-08-23 05:00:00\n",
      "2020-08-31 13:00:00\n"
     ]
    },
    {
     "name": "stderr",
     "output_type": "stream",
     "text": [
      "100%|███████████████████████████████████████████████████████████████████████████████████| 5/5 [00:00<00:00, 156.34it/s]\n"
     ]
    },
    {
     "name": "stdout",
     "output_type": "stream",
     "text": [
      "GBPUSD\n",
      "0 0\n",
      "GBPJPY\n",
      "1 0\n",
      "USDJPY\n",
      "0 0\n",
      "USDCAD\n",
      "0 0\n",
      "EURUSD\n",
      "1 0\n",
      "2020-08-23 05:00:00\n",
      "2020-08-31 13:00:00\n"
     ]
    },
    {
     "name": "stderr",
     "output_type": "stream",
     "text": [
      "100%|███████████████████████████████████████████████████████████████████████████████████| 5/5 [00:00<00:00, 151.60it/s]\n"
     ]
    },
    {
     "name": "stdout",
     "output_type": "stream",
     "text": [
      "GBPUSD\n",
      "0 0\n",
      "GBPJPY\n",
      "1 0\n",
      "USDJPY\n",
      "0 0\n",
      "USDCAD\n",
      "0 0\n",
      "EURUSD\n",
      "1 0\n",
      "2020-08-23 05:00:00\n",
      "2020-08-31 13:00:00\n"
     ]
    },
    {
     "name": "stderr",
     "output_type": "stream",
     "text": [
      "100%|███████████████████████████████████████████████████████████████████████████████████| 5/5 [00:00<00:00, 156.34it/s]\n"
     ]
    },
    {
     "name": "stdout",
     "output_type": "stream",
     "text": [
      "GBPUSD\n",
      "0 0\n",
      "GBPJPY\n",
      "1 0\n",
      "USDJPY\n",
      "0 0\n",
      "USDCAD\n",
      "0 0\n",
      "EURUSD\n",
      "1 0\n",
      "2020-08-23 05:00:00\n",
      "2020-08-31 13:00:00\n"
     ]
    },
    {
     "name": "stderr",
     "output_type": "stream",
     "text": [
      "100%|███████████████████████████████████████████████████████████████████████████████████| 5/5 [00:00<00:00, 166.76it/s]\n"
     ]
    },
    {
     "name": "stdout",
     "output_type": "stream",
     "text": [
      "GBPUSD\n",
      "0 0\n",
      "GBPJPY\n",
      "1 0\n",
      "USDJPY\n",
      "0 0\n",
      "USDCAD\n",
      "0 0\n",
      "EURUSD\n",
      "1 0\n",
      "2020-08-23 05:00:00\n",
      "2020-08-31 13:00:00\n"
     ]
    },
    {
     "name": "stderr",
     "output_type": "stream",
     "text": [
      "100%|███████████████████████████████████████████████████████████████████████████████████| 5/5 [00:00<00:00, 172.52it/s]\n"
     ]
    },
    {
     "name": "stdout",
     "output_type": "stream",
     "text": [
      "GBPUSD\n",
      "0 0\n",
      "GBPJPY\n",
      "1 0\n",
      "USDJPY\n",
      "0 0\n",
      "USDCAD\n",
      "0 0\n",
      "EURUSD\n",
      "1 0\n",
      "2020-08-23 05:00:00\n",
      "2020-08-31 13:00:00\n"
     ]
    },
    {
     "name": "stderr",
     "output_type": "stream",
     "text": [
      "100%|███████████████████████████████████████████████████████████████████████████████████| 5/5 [00:00<00:00, 142.94it/s]\n"
     ]
    },
    {
     "name": "stdout",
     "output_type": "stream",
     "text": [
      "GBPUSD\n",
      "0 0\n",
      "GBPJPY\n",
      "1 0\n",
      "USDJPY\n",
      "0 0\n",
      "USDCAD\n",
      "0 0\n",
      "EURUSD\n",
      "1 0\n",
      "2020-08-23 05:00:00\n",
      "2020-08-31 13:00:00\n"
     ]
    },
    {
     "name": "stderr",
     "output_type": "stream",
     "text": [
      "100%|███████████████████████████████████████████████████████████████████████████████████| 5/5 [00:00<00:00, 172.52it/s]\n"
     ]
    },
    {
     "name": "stdout",
     "output_type": "stream",
     "text": [
      "GBPUSD\n",
      "0 0\n",
      "GBPJPY\n",
      "1 0\n",
      "USDJPY\n",
      "0 0\n",
      "USDCAD\n",
      "0 0\n",
      "EURUSD\n",
      "1 0\n",
      "2020-08-23 05:15:00\n",
      "2020-08-31 13:15:00\n"
     ]
    },
    {
     "name": "stderr",
     "output_type": "stream",
     "text": [
      "100%|███████████████████████████████████████████████████████████████████████████████████| 5/5 [00:00<00:00, 161.39it/s]\n"
     ]
    },
    {
     "name": "stdout",
     "output_type": "stream",
     "text": [
      "GBPUSD\n",
      "1 0\n",
      "Buy GBPUSD\n",
      "GBPJPY\n",
      "1 0\n",
      "USDJPY\n",
      "1 0\n",
      "Buy USDJPY\n",
      "USDCAD\n",
      "0 0\n",
      "EURUSD\n",
      "0 1\n",
      "2020-08-23 05:15:00\n",
      "2020-08-31 13:15:00\n"
     ]
    },
    {
     "name": "stderr",
     "output_type": "stream",
     "text": [
      "100%|███████████████████████████████████████████████████████████████████████████████████| 5/5 [00:00<00:00, 147.14it/s]\n"
     ]
    },
    {
     "name": "stdout",
     "output_type": "stream",
     "text": [
      "GBPUSD\n",
      "1 0\n",
      "GBPJPY\n",
      "1 0\n",
      "USDJPY\n",
      "1 0\n",
      "USDCAD\n",
      "0 0\n",
      "EURUSD\n",
      "0 1\n",
      "Sell EURUSD\n",
      "2020-08-23 05:15:00\n",
      "2020-08-31 13:15:00\n"
     ]
    },
    {
     "name": "stderr",
     "output_type": "stream",
     "text": [
      "100%|███████████████████████████████████████████████████████████████████████████████████| 5/5 [00:00<00:00, 142.94it/s]\n"
     ]
    },
    {
     "name": "stdout",
     "output_type": "stream",
     "text": [
      "GBPUSD\n",
      "1 0\n",
      "GBPJPY\n",
      "1 0\n",
      "USDJPY\n",
      "1 0\n",
      "USDCAD\n",
      "0 0\n",
      "EURUSD\n",
      "0 1\n",
      "2020-08-23 05:15:00\n",
      "2020-08-31 13:15:00\n"
     ]
    },
    {
     "name": "stderr",
     "output_type": "stream",
     "text": [
      "100%|███████████████████████████████████████████████████████████████████████████████████| 5/5 [00:00<00:00, 172.52it/s]\n"
     ]
    },
    {
     "name": "stdout",
     "output_type": "stream",
     "text": [
      "GBPUSD\n",
      "1 0\n",
      "GBPJPY\n",
      "1 0\n",
      "USDJPY\n",
      "1 0\n",
      "USDCAD\n",
      "0 0\n",
      "EURUSD\n",
      "0 1\n",
      "2020-08-23 05:15:00\n",
      "2020-08-31 13:15:00\n"
     ]
    },
    {
     "name": "stderr",
     "output_type": "stream",
     "text": [
      "100%|███████████████████████████████████████████████████████████████████████████████████| 5/5 [00:00<00:00, 142.95it/s]\n"
     ]
    },
    {
     "name": "stdout",
     "output_type": "stream",
     "text": [
      "GBPUSD\n",
      "1 0\n",
      "GBPJPY\n",
      "1 0\n",
      "USDJPY\n",
      "1 0\n",
      "USDCAD\n",
      "0 0\n",
      "EURUSD\n",
      "0 1\n",
      "2020-08-23 05:15:00\n",
      "2020-08-31 13:15:00\n"
     ]
    },
    {
     "name": "stderr",
     "output_type": "stream",
     "text": [
      "100%|███████████████████████████████████████████████████████████████████████████████████| 5/5 [00:00<00:00, 156.34it/s]\n"
     ]
    },
    {
     "name": "stdout",
     "output_type": "stream",
     "text": [
      "GBPUSD\n",
      "1 0\n",
      "GBPJPY\n",
      "1 0\n",
      "USDJPY\n",
      "1 0\n",
      "USDCAD\n",
      "0 0\n",
      "EURUSD\n",
      "0 1\n",
      "2020-08-23 05:15:00\n",
      "2020-08-31 13:15:00\n"
     ]
    },
    {
     "name": "stderr",
     "output_type": "stream",
     "text": [
      "100%|███████████████████████████████████████████████████████████████████████████████████| 5/5 [00:00<00:00, 166.77it/s]\n"
     ]
    },
    {
     "name": "stdout",
     "output_type": "stream",
     "text": [
      "GBPUSD\n",
      "1 0\n",
      "GBPJPY\n",
      "1 0\n",
      "USDJPY\n",
      "1 0\n",
      "USDCAD\n",
      "0 0\n",
      "EURUSD\n",
      "0 1\n",
      "2020-08-23 05:15:00\n",
      "2020-08-31 13:15:00\n"
     ]
    },
    {
     "name": "stderr",
     "output_type": "stream",
     "text": [
      "100%|███████████████████████████████████████████████████████████████████████████████████| 5/5 [00:00<00:00, 172.52it/s]\n"
     ]
    },
    {
     "name": "stdout",
     "output_type": "stream",
     "text": [
      "GBPUSD\n",
      "1 0\n",
      "GBPJPY\n",
      "1 0\n",
      "USDJPY\n",
      "1 0\n",
      "USDCAD\n",
      "0 0\n",
      "EURUSD\n",
      "0 1\n",
      "2020-08-23 05:15:00\n",
      "2020-08-31 13:15:00\n"
     ]
    },
    {
     "name": "stderr",
     "output_type": "stream",
     "text": [
      "100%|███████████████████████████████████████████████████████████████████████████████████| 5/5 [00:00<00:00, 178.68it/s]\n"
     ]
    },
    {
     "name": "stdout",
     "output_type": "stream",
     "text": [
      "GBPUSD\n",
      "1 0\n",
      "GBPJPY\n",
      "1 0\n",
      "USDJPY\n",
      "1 0\n",
      "USDCAD\n",
      "0 0\n",
      "EURUSD\n",
      "0 1\n",
      "2020-08-23 05:15:00\n",
      "2020-08-31 13:15:00\n"
     ]
    },
    {
     "name": "stderr",
     "output_type": "stream",
     "text": [
      "100%|███████████████████████████████████████████████████████████████████████████████████| 5/5 [00:00<00:00, 151.60it/s]\n"
     ]
    },
    {
     "name": "stdout",
     "output_type": "stream",
     "text": [
      "GBPUSD\n",
      "1 0\n",
      "GBPJPY\n",
      "1 0\n",
      "USDJPY\n",
      "1 0\n",
      "USDCAD\n",
      "0 0\n",
      "EURUSD\n",
      "0 1\n",
      "2020-08-23 05:30:00\n",
      "2020-08-31 13:30:00\n"
     ]
    },
    {
     "name": "stderr",
     "output_type": "stream",
     "text": [
      "100%|███████████████████████████████████████████████████████████████████████████████████| 5/5 [00:00<00:00, 178.67it/s]\n"
     ]
    },
    {
     "name": "stdout",
     "output_type": "stream",
     "text": [
      "GBPUSD\n",
      "1 0\n",
      "GBPJPY\n",
      "1 0\n",
      "USDJPY\n",
      "0 0\n",
      "USDCAD\n",
      "0 1\n",
      "Sell USDCAD\n",
      "EURUSD\n",
      "1 0\n",
      "Buy EURUSD\n",
      "2020-08-23 05:30:00\n",
      "2020-08-31 13:30:00\n"
     ]
    },
    {
     "name": "stderr",
     "output_type": "stream",
     "text": [
      "100%|███████████████████████████████████████████████████████████████████████████████████| 5/5 [00:00<00:00, 156.34it/s]\n"
     ]
    },
    {
     "name": "stdout",
     "output_type": "stream",
     "text": [
      "GBPUSD\n",
      "1 0\n",
      "GBPJPY\n",
      "1 0\n",
      "USDJPY\n",
      "0 0\n",
      "USDCAD\n",
      "0 1\n",
      "EURUSD\n",
      "1 0\n",
      "2020-08-23 05:30:00\n",
      "2020-08-31 13:30:00\n"
     ]
    },
    {
     "name": "stderr",
     "output_type": "stream",
     "text": [
      "100%|███████████████████████████████████████████████████████████████████████████████████| 5/5 [00:00<00:00, 142.94it/s]\n"
     ]
    },
    {
     "name": "stdout",
     "output_type": "stream",
     "text": [
      "GBPUSD\n",
      "1 0\n",
      "GBPJPY\n",
      "1 0\n",
      "USDJPY\n",
      "0 0\n",
      "USDCAD\n",
      "0 1\n",
      "EURUSD\n",
      "1 0\n",
      "2020-08-23 05:30:00\n",
      "2020-08-31 13:30:00\n"
     ]
    },
    {
     "name": "stderr",
     "output_type": "stream",
     "text": [
      "100%|███████████████████████████████████████████████████████████████████████████████████| 5/5 [00:00<00:00, 166.77it/s]\n"
     ]
    },
    {
     "name": "stdout",
     "output_type": "stream",
     "text": [
      "GBPUSD\n",
      "1 0\n",
      "GBPJPY\n",
      "1 0\n",
      "USDJPY\n",
      "0 0\n",
      "USDCAD\n",
      "0 1\n",
      "EURUSD\n",
      "1 0\n",
      "2020-08-23 05:30:00\n",
      "2020-08-31 13:30:00\n"
     ]
    },
    {
     "name": "stderr",
     "output_type": "stream",
     "text": [
      "100%|███████████████████████████████████████████████████████████████████████████████████| 5/5 [00:00<00:00, 156.34it/s]\n"
     ]
    },
    {
     "name": "stdout",
     "output_type": "stream",
     "text": [
      "GBPUSD\n",
      "1 0\n",
      "GBPJPY\n",
      "1 0\n",
      "USDJPY\n",
      "0 0\n",
      "USDCAD\n",
      "0 1\n",
      "EURUSD\n",
      "1 0\n",
      "2020-08-23 05:30:00\n",
      "2020-08-31 13:30:00\n"
     ]
    },
    {
     "name": "stderr",
     "output_type": "stream",
     "text": [
      "100%|███████████████████████████████████████████████████████████████████████████████████| 5/5 [00:00<00:00, 147.14it/s]\n"
     ]
    },
    {
     "name": "stdout",
     "output_type": "stream",
     "text": [
      "GBPUSD\n",
      "1 0\n",
      "GBPJPY\n",
      "1 0\n",
      "USDJPY\n",
      "0 0\n",
      "USDCAD\n",
      "0 1\n",
      "EURUSD\n",
      "1 0\n",
      "2020-08-23 05:30:00\n",
      "2020-08-31 13:30:00\n"
     ]
    },
    {
     "name": "stderr",
     "output_type": "stream",
     "text": [
      "100%|███████████████████████████████████████████████████████████████████████████████████| 5/5 [00:00<00:00, 172.52it/s]\n"
     ]
    },
    {
     "name": "stdout",
     "output_type": "stream",
     "text": [
      "GBPUSD\n",
      "1 0\n",
      "GBPJPY\n",
      "1 0\n",
      "USDJPY\n",
      "0 0\n",
      "USDCAD\n",
      "0 1\n",
      "EURUSD\n",
      "1 0\n",
      "2020-08-23 05:30:00\n",
      "2020-08-31 13:30:00\n"
     ]
    },
    {
     "name": "stderr",
     "output_type": "stream",
     "text": [
      "100%|███████████████████████████████████████████████████████████████████████████████████| 5/5 [00:00<00:00, 172.52it/s]\n"
     ]
    },
    {
     "name": "stdout",
     "output_type": "stream",
     "text": [
      "GBPUSD\n",
      "1 0\n",
      "GBPJPY\n",
      "1 0\n",
      "USDJPY\n",
      "0 0\n",
      "USDCAD\n",
      "0 1\n",
      "EURUSD\n",
      "1 0\n",
      "2020-08-23 05:30:00\n",
      "2020-08-31 13:30:00\n"
     ]
    },
    {
     "name": "stderr",
     "output_type": "stream",
     "text": [
      "100%|███████████████████████████████████████████████████████████████████████████████████| 5/5 [00:00<00:00, 166.77it/s]\n"
     ]
    },
    {
     "name": "stdout",
     "output_type": "stream",
     "text": [
      "GBPUSD\n",
      "1 0\n",
      "GBPJPY\n",
      "1 0\n",
      "USDJPY\n",
      "0 0\n",
      "USDCAD\n",
      "0 1\n",
      "EURUSD\n",
      "1 0\n",
      "2020-08-23 05:30:00\n",
      "2020-08-31 13:30:00\n"
     ]
    },
    {
     "name": "stderr",
     "output_type": "stream",
     "text": [
      "100%|███████████████████████████████████████████████████████████████████████████████████| 5/5 [00:00<00:00, 161.38it/s]\n"
     ]
    },
    {
     "name": "stdout",
     "output_type": "stream",
     "text": [
      "GBPUSD\n",
      "1 0\n",
      "GBPJPY\n",
      "1 0\n",
      "USDJPY\n",
      "0 0\n",
      "USDCAD\n",
      "0 1\n",
      "EURUSD\n",
      "1 0\n",
      "2020-08-23 05:30:00\n",
      "2020-08-31 13:30:00\n"
     ]
    },
    {
     "name": "stderr",
     "output_type": "stream",
     "text": [
      "100%|███████████████████████████████████████████████████████████████████████████████████| 5/5 [00:00<00:00, 166.76it/s]\n"
     ]
    },
    {
     "name": "stdout",
     "output_type": "stream",
     "text": [
      "GBPUSD\n",
      "1 0\n",
      "GBPJPY\n",
      "1 0\n",
      "USDJPY\n",
      "0 0\n",
      "USDCAD\n",
      "0 1\n",
      "EURUSD\n",
      "1 0\n",
      "2020-08-23 05:45:00\n",
      "2020-08-31 13:45:00\n"
     ]
    },
    {
     "name": "stderr",
     "output_type": "stream",
     "text": [
      "100%|███████████████████████████████████████████████████████████████████████████████████| 5/5 [00:00<00:00, 166.77it/s]\n"
     ]
    },
    {
     "name": "stdout",
     "output_type": "stream",
     "text": [
      "GBPUSD\n",
      "0 0\n",
      "GBPJPY\n",
      "0 0\n",
      "USDJPY\n",
      "0 0\n",
      "USDCAD\n",
      "0 0\n",
      "EURUSD\n",
      "1 0\n",
      "2020-08-23 05:45:00\n",
      "2020-08-31 13:45:00\n"
     ]
    },
    {
     "name": "stderr",
     "output_type": "stream",
     "text": [
      "100%|███████████████████████████████████████████████████████████████████████████████████| 5/5 [00:00<00:00, 172.52it/s]\n"
     ]
    },
    {
     "name": "stdout",
     "output_type": "stream",
     "text": [
      "GBPUSD\n",
      "0 0\n",
      "GBPJPY\n",
      "0 0\n",
      "USDJPY\n",
      "0 0\n",
      "USDCAD\n",
      "0 0\n",
      "EURUSD\n",
      "1 0\n",
      "2020-08-23 05:45:00\n",
      "2020-08-31 13:45:00\n"
     ]
    },
    {
     "name": "stderr",
     "output_type": "stream",
     "text": [
      "100%|███████████████████████████████████████████████████████████████████████████████████| 5/5 [00:00<00:00, 156.34it/s]\n"
     ]
    },
    {
     "name": "stdout",
     "output_type": "stream",
     "text": [
      "GBPUSD\n",
      "0 0\n",
      "GBPJPY\n",
      "0 0\n",
      "USDJPY\n",
      "0 0\n",
      "USDCAD\n",
      "0 0\n",
      "EURUSD\n",
      "1 0\n",
      "2020-08-23 05:45:00\n",
      "2020-08-31 13:45:00\n"
     ]
    },
    {
     "name": "stderr",
     "output_type": "stream",
     "text": [
      "100%|███████████████████████████████████████████████████████████████████████████████████| 5/5 [00:00<00:00, 156.34it/s]\n"
     ]
    },
    {
     "name": "stdout",
     "output_type": "stream",
     "text": [
      "GBPUSD\n",
      "0 0\n",
      "GBPJPY\n",
      "0 0\n",
      "USDJPY\n",
      "0 0\n",
      "USDCAD\n",
      "0 0\n",
      "EURUSD\n",
      "1 0\n",
      "2020-08-23 05:45:00\n",
      "2020-08-31 13:45:00\n"
     ]
    },
    {
     "name": "stderr",
     "output_type": "stream",
     "text": [
      "100%|███████████████████████████████████████████████████████████████████████████████████| 5/5 [00:00<00:00, 151.60it/s]\n"
     ]
    },
    {
     "name": "stdout",
     "output_type": "stream",
     "text": [
      "GBPUSD\n",
      "0 0\n",
      "GBPJPY\n",
      "0 0\n",
      "USDJPY\n",
      "0 0\n",
      "USDCAD\n",
      "0 0\n",
      "EURUSD\n",
      "1 0\n",
      "2020-08-23 05:45:00\n",
      "2020-08-31 13:45:00\n"
     ]
    },
    {
     "name": "stderr",
     "output_type": "stream",
     "text": [
      "100%|███████████████████████████████████████████████████████████████████████████████████| 5/5 [00:00<00:00, 166.77it/s]\n"
     ]
    },
    {
     "name": "stdout",
     "output_type": "stream",
     "text": [
      "GBPUSD\n",
      "0 0\n",
      "GBPJPY\n",
      "0 0\n",
      "USDJPY\n",
      "0 0\n",
      "USDCAD\n",
      "0 0\n",
      "EURUSD\n",
      "1 0\n",
      "2020-08-23 05:45:00\n",
      "2020-08-31 13:45:00\n"
     ]
    },
    {
     "name": "stderr",
     "output_type": "stream",
     "text": [
      "100%|███████████████████████████████████████████████████████████████████████████████████| 5/5 [00:00<00:00, 166.77it/s]\n"
     ]
    },
    {
     "name": "stdout",
     "output_type": "stream",
     "text": [
      "GBPUSD\n",
      "0 0\n",
      "GBPJPY\n",
      "0 0\n",
      "USDJPY\n",
      "0 0\n",
      "USDCAD\n",
      "0 0\n",
      "EURUSD\n",
      "1 0\n",
      "2020-08-23 05:45:00\n",
      "2020-08-31 13:45:00\n"
     ]
    },
    {
     "name": "stderr",
     "output_type": "stream",
     "text": [
      "100%|███████████████████████████████████████████████████████████████████████████████████| 5/5 [00:00<00:00, 151.61it/s]\n"
     ]
    },
    {
     "name": "stdout",
     "output_type": "stream",
     "text": [
      "GBPUSD\n",
      "0 0\n",
      "GBPJPY\n",
      "0 0\n",
      "USDJPY\n",
      "0 0\n",
      "USDCAD\n",
      "0 0\n",
      "EURUSD\n",
      "1 0\n",
      "2020-08-23 05:45:00\n",
      "2020-08-31 13:45:00\n"
     ]
    },
    {
     "name": "stderr",
     "output_type": "stream",
     "text": [
      "100%|███████████████████████████████████████████████████████████████████████████████████| 5/5 [00:00<00:00, 166.77it/s]\n"
     ]
    },
    {
     "name": "stdout",
     "output_type": "stream",
     "text": [
      "GBPUSD\n",
      "0 0\n",
      "GBPJPY\n",
      "0 0\n",
      "USDJPY\n",
      "0 0\n",
      "USDCAD\n",
      "0 0\n",
      "EURUSD\n",
      "1 0\n",
      "2020-08-23 05:45:00\n",
      "2020-08-31 13:45:00\n"
     ]
    },
    {
     "name": "stderr",
     "output_type": "stream",
     "text": [
      "100%|███████████████████████████████████████████████████████████████████████████████████| 5/5 [00:00<00:00, 156.34it/s]\n"
     ]
    },
    {
     "name": "stdout",
     "output_type": "stream",
     "text": [
      "GBPUSD\n",
      "0 0\n",
      "GBPJPY\n",
      "0 0\n",
      "USDJPY\n",
      "0 0\n",
      "USDCAD\n",
      "0 0\n",
      "EURUSD\n",
      "1 0\n",
      "2020-08-23 05:45:00\n",
      "2020-08-31 13:45:00\n"
     ]
    },
    {
     "name": "stderr",
     "output_type": "stream",
     "text": [
      "100%|███████████████████████████████████████████████████████████████████████████████████| 5/5 [00:00<00:00, 151.60it/s]\n"
     ]
    },
    {
     "name": "stdout",
     "output_type": "stream",
     "text": [
      "GBPUSD\n",
      "0 0\n",
      "GBPJPY\n",
      "0 0\n",
      "USDJPY\n",
      "0 0\n",
      "USDCAD\n",
      "0 0\n",
      "EURUSD\n",
      "1 0\n",
      "2020-08-23 05:45:00\n",
      "2020-08-31 13:45:00\n"
     ]
    },
    {
     "name": "stderr",
     "output_type": "stream",
     "text": [
      "100%|███████████████████████████████████████████████████████████████████████████████████| 5/5 [00:00<00:00, 151.60it/s]\n"
     ]
    },
    {
     "name": "stdout",
     "output_type": "stream",
     "text": [
      "GBPUSD\n",
      "0 0\n",
      "GBPJPY\n",
      "0 0\n",
      "USDJPY\n",
      "0 0\n",
      "USDCAD\n",
      "0 0\n",
      "EURUSD\n",
      "1 0\n",
      "2020-08-23 05:45:00\n",
      "2020-08-31 13:45:00\n"
     ]
    },
    {
     "name": "stderr",
     "output_type": "stream",
     "text": [
      "100%|███████████████████████████████████████████████████████████████████████████████████| 5/5 [00:00<00:00, 172.52it/s]\n"
     ]
    },
    {
     "name": "stdout",
     "output_type": "stream",
     "text": [
      "GBPUSD\n",
      "0 0\n",
      "GBPJPY\n",
      "0 0\n",
      "USDJPY\n",
      "0 0\n",
      "USDCAD\n",
      "0 0\n",
      "EURUSD\n",
      "1 0\n",
      "2020-08-23 06:00:00\n",
      "2020-08-31 14:00:00\n"
     ]
    },
    {
     "name": "stderr",
     "output_type": "stream",
     "text": [
      "100%|███████████████████████████████████████████████████████████████████████████████████| 5/5 [00:00<00:00, 135.21it/s]\n"
     ]
    },
    {
     "name": "stdout",
     "output_type": "stream",
     "text": [
      "GBPUSD\n",
      "0 0\n",
      "GBPJPY\n",
      "0 0\n",
      "USDJPY\n",
      "0 0\n",
      "USDCAD\n",
      "1 0\n",
      "Buy USDCAD\n",
      "EURUSD\n",
      "0 0\n",
      "2020-08-23 06:00:00\n",
      "2020-08-31 14:00:00\n"
     ]
    },
    {
     "name": "stderr",
     "output_type": "stream",
     "text": [
      "100%|███████████████████████████████████████████████████████████████████████████████████| 5/5 [00:00<00:00, 166.76it/s]\n"
     ]
    },
    {
     "name": "stdout",
     "output_type": "stream",
     "text": [
      "GBPUSD\n",
      "0 0\n",
      "GBPJPY\n",
      "0 0\n",
      "USDJPY\n",
      "0 0\n",
      "USDCAD\n",
      "1 0\n",
      "EURUSD\n",
      "0 0\n",
      "2020-08-23 06:00:00\n",
      "2020-08-31 14:00:00\n"
     ]
    },
    {
     "name": "stderr",
     "output_type": "stream",
     "text": [
      "100%|███████████████████████████████████████████████████████████████████████████████████| 5/5 [00:00<00:00, 185.29it/s]\n"
     ]
    },
    {
     "name": "stdout",
     "output_type": "stream",
     "text": [
      "GBPUSD\n",
      "0 0\n",
      "GBPJPY\n",
      "0 0\n",
      "USDJPY\n",
      "0 0\n",
      "USDCAD\n",
      "1 0\n",
      "EURUSD\n",
      "0 0\n",
      "2020-08-23 06:00:00\n",
      "2020-08-31 14:00:00\n"
     ]
    },
    {
     "name": "stderr",
     "output_type": "stream",
     "text": [
      "100%|███████████████████████████████████████████████████████████████████████████████████| 5/5 [00:00<00:00, 172.51it/s]\n"
     ]
    },
    {
     "name": "stdout",
     "output_type": "stream",
     "text": [
      "GBPUSD\n",
      "0 0\n",
      "GBPJPY\n",
      "0 0\n",
      "USDJPY\n",
      "0 0\n",
      "USDCAD\n",
      "1 0\n",
      "EURUSD\n",
      "0 0\n",
      "2020-08-23 06:00:00\n",
      "2020-08-31 14:00:00\n"
     ]
    },
    {
     "name": "stderr",
     "output_type": "stream",
     "text": [
      "100%|███████████████████████████████████████████████████████████████████████████████████| 5/5 [00:00<00:00, 185.29it/s]\n"
     ]
    },
    {
     "name": "stdout",
     "output_type": "stream",
     "text": [
      "GBPUSD\n",
      "0 0\n",
      "GBPJPY\n",
      "0 0\n",
      "USDJPY\n",
      "0 0\n",
      "USDCAD\n",
      "1 0\n",
      "EURUSD\n",
      "0 0\n",
      "2020-08-23 06:00:00\n",
      "2020-08-31 14:00:00\n"
     ]
    },
    {
     "name": "stderr",
     "output_type": "stream",
     "text": [
      "100%|███████████████████████████████████████████████████████████████████████████████████| 5/5 [00:00<00:00, 185.29it/s]\n"
     ]
    },
    {
     "name": "stdout",
     "output_type": "stream",
     "text": [
      "GBPUSD\n",
      "0 0\n",
      "GBPJPY\n",
      "0 0\n",
      "USDJPY\n",
      "0 0\n",
      "USDCAD\n",
      "1 0\n",
      "EURUSD\n",
      "0 0\n",
      "2020-08-23 06:00:00\n",
      "2020-08-31 14:00:00\n"
     ]
    },
    {
     "name": "stderr",
     "output_type": "stream",
     "text": [
      "100%|███████████████████████████████████████████████████████████████████████████████████| 5/5 [00:00<00:00, 178.67it/s]\n"
     ]
    },
    {
     "name": "stdout",
     "output_type": "stream",
     "text": [
      "GBPUSD\n",
      "0 0\n",
      "GBPJPY\n",
      "0 0\n",
      "USDJPY\n",
      "0 0\n",
      "USDCAD\n",
      "1 0\n",
      "EURUSD\n",
      "0 0\n",
      "2020-08-23 06:00:00\n",
      "2020-08-31 14:00:00\n"
     ]
    },
    {
     "name": "stderr",
     "output_type": "stream",
     "text": [
      "100%|███████████████████████████████████████████████████████████████████████████████████| 5/5 [00:00<00:00, 185.29it/s]\n"
     ]
    },
    {
     "name": "stdout",
     "output_type": "stream",
     "text": [
      "GBPUSD\n",
      "0 0\n",
      "GBPJPY\n",
      "0 0\n",
      "USDJPY\n",
      "0 0\n",
      "USDCAD\n",
      "1 0\n",
      "EURUSD\n",
      "0 0\n",
      "2020-08-23 06:00:00\n",
      "2020-08-31 14:00:00\n"
     ]
    },
    {
     "name": "stderr",
     "output_type": "stream",
     "text": [
      "100%|███████████████████████████████████████████████████████████████████████████████████| 5/5 [00:00<00:00, 185.29it/s]\n"
     ]
    },
    {
     "name": "stdout",
     "output_type": "stream",
     "text": [
      "GBPUSD\n",
      "0 0\n",
      "GBPJPY\n",
      "0 0\n",
      "USDJPY\n",
      "0 0\n",
      "USDCAD\n",
      "1 0\n",
      "EURUSD\n",
      "0 0\n",
      "2020-08-23 06:00:00\n",
      "2020-08-31 14:00:00\n"
     ]
    },
    {
     "name": "stderr",
     "output_type": "stream",
     "text": [
      "100%|███████████████████████████████████████████████████████████████████████████████████| 5/5 [00:00<00:00, 185.29it/s]\n"
     ]
    },
    {
     "name": "stdout",
     "output_type": "stream",
     "text": [
      "GBPUSD\n",
      "0 0\n",
      "GBPJPY\n",
      "0 0\n",
      "USDJPY\n",
      "0 0\n",
      "USDCAD\n",
      "1 0\n",
      "EURUSD\n",
      "0 0\n",
      "2020-08-23 06:00:00\n",
      "2020-08-31 14:00:00\n"
     ]
    },
    {
     "name": "stderr",
     "output_type": "stream",
     "text": [
      "100%|███████████████████████████████████████████████████████████████████████████████████| 5/5 [00:00<00:00, 178.67it/s]\n"
     ]
    },
    {
     "name": "stdout",
     "output_type": "stream",
     "text": [
      "GBPUSD\n",
      "0 0\n",
      "GBPJPY\n",
      "0 0\n",
      "USDJPY\n",
      "0 0\n",
      "USDCAD\n",
      "1 0\n",
      "EURUSD\n",
      "0 0\n",
      "2020-08-23 06:15:00\n",
      "2020-08-31 14:15:00\n"
     ]
    },
    {
     "name": "stderr",
     "output_type": "stream",
     "text": [
      "100%|███████████████████████████████████████████████████████████████████████████████████| 5/5 [00:00<00:00, 161.40it/s]\n"
     ]
    },
    {
     "name": "stdout",
     "output_type": "stream",
     "text": [
      "GBPUSD\n",
      "1 0\n",
      "Buy GBPUSD\n",
      "GBPJPY\n",
      "1 0\n",
      "Buy GBPJPY\n",
      "USDJPY\n",
      "0 0\n",
      "USDCAD\n",
      "0 0\n",
      "EURUSD\n",
      "1 0\n",
      "Buy EURUSD\n",
      "2020-08-23 06:15:00\n",
      "2020-08-31 14:15:00\n"
     ]
    },
    {
     "name": "stderr",
     "output_type": "stream",
     "text": [
      "100%|███████████████████████████████████████████████████████████████████████████████████| 5/5 [00:00<00:00, 172.52it/s]\n"
     ]
    },
    {
     "name": "stdout",
     "output_type": "stream",
     "text": [
      "GBPUSD\n",
      "1 0\n",
      "GBPJPY\n",
      "1 0\n",
      "USDJPY\n",
      "0 0\n",
      "USDCAD\n",
      "0 0\n",
      "EURUSD\n",
      "1 0\n",
      "2020-08-23 06:15:00\n",
      "2020-08-31 14:15:00\n"
     ]
    },
    {
     "name": "stderr",
     "output_type": "stream",
     "text": [
      "100%|███████████████████████████████████████████████████████████████████████████████████| 5/5 [00:00<00:00, 166.76it/s]\n"
     ]
    },
    {
     "name": "stdout",
     "output_type": "stream",
     "text": [
      "GBPUSD\n",
      "1 0\n",
      "GBPJPY\n",
      "1 0\n",
      "USDJPY\n",
      "0 0\n",
      "USDCAD\n",
      "0 0\n",
      "EURUSD\n",
      "1 0\n",
      "2020-08-23 06:15:00\n",
      "2020-08-31 14:15:00\n"
     ]
    },
    {
     "name": "stderr",
     "output_type": "stream",
     "text": [
      "100%|███████████████████████████████████████████████████████████████████████████████████| 5/5 [00:00<00:00, 172.51it/s]\n"
     ]
    },
    {
     "name": "stdout",
     "output_type": "stream",
     "text": [
      "GBPUSD\n",
      "1 0\n",
      "GBPJPY\n",
      "1 0\n",
      "USDJPY\n",
      "0 0\n",
      "USDCAD\n",
      "0 0\n",
      "EURUSD\n",
      "1 0\n",
      "2020-08-23 06:15:00\n",
      "2020-08-31 14:15:00\n"
     ]
    },
    {
     "name": "stderr",
     "output_type": "stream",
     "text": [
      "100%|███████████████████████████████████████████████████████████████████████████████████| 5/5 [00:00<00:00, 161.39it/s]\n"
     ]
    },
    {
     "name": "stdout",
     "output_type": "stream",
     "text": [
      "GBPUSD\n",
      "1 0\n",
      "GBPJPY\n",
      "1 0\n",
      "USDJPY\n",
      "0 0\n",
      "USDCAD\n",
      "0 0\n",
      "EURUSD\n",
      "1 0\n",
      "2020-08-23 06:15:00\n",
      "2020-08-31 14:15:00\n"
     ]
    },
    {
     "name": "stderr",
     "output_type": "stream",
     "text": [
      "100%|███████████████████████████████████████████████████████████████████████████████████| 5/5 [00:00<00:00, 156.34it/s]\n"
     ]
    },
    {
     "name": "stdout",
     "output_type": "stream",
     "text": [
      "GBPUSD\n",
      "1 0\n",
      "GBPJPY\n",
      "1 0\n",
      "USDJPY\n",
      "0 0\n",
      "USDCAD\n",
      "0 0\n",
      "EURUSD\n",
      "1 0\n",
      "2020-08-23 06:15:00\n",
      "2020-08-31 14:15:00\n"
     ]
    },
    {
     "name": "stderr",
     "output_type": "stream",
     "text": [
      "100%|███████████████████████████████████████████████████████████████████████████████████| 5/5 [00:00<00:00, 178.68it/s]\n"
     ]
    },
    {
     "name": "stdout",
     "output_type": "stream",
     "text": [
      "GBPUSD\n",
      "1 0\n",
      "GBPJPY\n",
      "1 0\n",
      "USDJPY\n",
      "0 0\n",
      "USDCAD\n",
      "0 0\n",
      "EURUSD\n",
      "1 0\n",
      "2020-08-23 06:15:00\n",
      "2020-08-31 14:15:00\n"
     ]
    },
    {
     "name": "stderr",
     "output_type": "stream",
     "text": [
      "100%|███████████████████████████████████████████████████████████████████████████████████| 5/5 [00:00<00:00, 147.08it/s]\n"
     ]
    },
    {
     "name": "stdout",
     "output_type": "stream",
     "text": [
      "GBPUSD\n",
      "1 0\n",
      "GBPJPY\n",
      "1 0\n",
      "USDJPY\n",
      "0 0\n",
      "USDCAD\n",
      "0 0\n",
      "EURUSD\n",
      "1 0\n",
      "2020-08-23 06:15:00\n",
      "2020-08-31 14:15:00\n"
     ]
    },
    {
     "name": "stderr",
     "output_type": "stream",
     "text": [
      "100%|███████████████████████████████████████████████████████████████████████████████████| 5/5 [00:00<00:00, 166.76it/s]\n"
     ]
    },
    {
     "name": "stdout",
     "output_type": "stream",
     "text": [
      "GBPUSD\n",
      "1 0\n",
      "GBPJPY\n",
      "1 0\n",
      "USDJPY\n",
      "0 0\n",
      "USDCAD\n",
      "0 0\n",
      "EURUSD\n",
      "1 0\n",
      "2020-08-23 06:15:00\n",
      "2020-08-31 14:15:00\n"
     ]
    },
    {
     "name": "stderr",
     "output_type": "stream",
     "text": [
      "100%|███████████████████████████████████████████████████████████████████████████████████| 5/5 [00:00<00:00, 156.34it/s]\n"
     ]
    },
    {
     "name": "stdout",
     "output_type": "stream",
     "text": [
      "GBPUSD\n",
      "1 0\n",
      "GBPJPY\n",
      "1 0\n",
      "USDJPY\n",
      "0 0\n",
      "USDCAD\n",
      "0 0\n",
      "EURUSD\n",
      "1 0\n",
      "2020-08-23 06:15:00\n",
      "2020-08-31 14:15:00\n"
     ]
    },
    {
     "name": "stderr",
     "output_type": "stream",
     "text": [
      "100%|███████████████████████████████████████████████████████████████████████████████████| 5/5 [00:00<00:00, 172.52it/s]\n"
     ]
    },
    {
     "name": "stdout",
     "output_type": "stream",
     "text": [
      "GBPUSD\n",
      "1 0\n",
      "GBPJPY\n",
      "1 0\n",
      "USDJPY\n",
      "0 0\n",
      "USDCAD\n",
      "0 0\n",
      "EURUSD\n",
      "1 0\n",
      "2020-08-23 06:30:00\n",
      "2020-08-31 14:30:00\n"
     ]
    },
    {
     "name": "stderr",
     "output_type": "stream",
     "text": [
      "100%|████████████████████████████████████████████████████████████████████████████████████| 5/5 [00:00<00:00, 69.48it/s]\n"
     ]
    },
    {
     "name": "stdout",
     "output_type": "stream",
     "text": [
      "GBPUSD\n",
      "1 0\n",
      "GBPJPY\n",
      "1 0\n",
      "USDJPY\n",
      "1 0\n",
      "Buy USDJPY\n",
      "USDCAD\n",
      "0 0\n",
      "EURUSD\n",
      "1 0\n",
      "2020-08-23 06:30:00\n",
      "2020-08-31 14:30:00\n"
     ]
    },
    {
     "name": "stderr",
     "output_type": "stream",
     "text": [
      "100%|███████████████████████████████████████████████████████████████████████████████████| 5/5 [00:00<00:00, 156.34it/s]\n"
     ]
    },
    {
     "name": "stdout",
     "output_type": "stream",
     "text": [
      "GBPUSD\n",
      "1 0\n",
      "GBPJPY\n",
      "1 0\n",
      "USDJPY\n",
      "1 0\n",
      "USDCAD\n",
      "0 0\n",
      "EURUSD\n",
      "1 0\n",
      "2020-08-23 06:30:00\n",
      "2020-08-31 14:30:00\n"
     ]
    },
    {
     "name": "stderr",
     "output_type": "stream",
     "text": [
      "100%|███████████████████████████████████████████████████████████████████████████████████| 5/5 [00:00<00:00, 161.39it/s]\n"
     ]
    },
    {
     "name": "stdout",
     "output_type": "stream",
     "text": [
      "GBPUSD\n",
      "1 0\n",
      "GBPJPY\n",
      "1 0\n",
      "USDJPY\n",
      "1 0\n",
      "USDCAD\n",
      "0 0\n",
      "EURUSD\n",
      "1 0\n",
      "2020-08-23 06:30:00\n",
      "2020-08-31 14:30:00\n"
     ]
    },
    {
     "name": "stderr",
     "output_type": "stream",
     "text": [
      "100%|███████████████████████████████████████████████████████████████████████████████████| 5/5 [00:00<00:00, 172.52it/s]\n"
     ]
    },
    {
     "name": "stdout",
     "output_type": "stream",
     "text": [
      "GBPUSD\n",
      "1 0\n",
      "GBPJPY\n",
      "1 0\n",
      "USDJPY\n",
      "1 0\n",
      "USDCAD\n",
      "0 0\n",
      "EURUSD\n",
      "1 0\n",
      "2020-08-23 06:30:00\n",
      "2020-08-31 14:30:00\n"
     ]
    },
    {
     "name": "stderr",
     "output_type": "stream",
     "text": [
      "100%|███████████████████████████████████████████████████████████████████████████████████| 5/5 [00:00<00:00, 156.34it/s]\n"
     ]
    },
    {
     "name": "stdout",
     "output_type": "stream",
     "text": [
      "GBPUSD\n",
      "1 0\n",
      "GBPJPY\n",
      "1 0\n",
      "USDJPY\n",
      "1 0\n",
      "USDCAD\n",
      "0 0\n",
      "EURUSD\n",
      "1 0\n",
      "2020-08-23 06:30:00\n",
      "2020-08-31 14:30:00\n"
     ]
    },
    {
     "name": "stderr",
     "output_type": "stream",
     "text": [
      "100%|███████████████████████████████████████████████████████████████████████████████████| 5/5 [00:00<00:00, 156.34it/s]\n"
     ]
    },
    {
     "name": "stdout",
     "output_type": "stream",
     "text": [
      "GBPUSD\n",
      "1 0\n",
      "GBPJPY\n",
      "1 0\n",
      "USDJPY\n",
      "1 0\n",
      "USDCAD\n",
      "0 0\n",
      "EURUSD\n",
      "1 0\n",
      "2020-08-23 06:30:00\n",
      "2020-08-31 14:30:00\n"
     ]
    },
    {
     "name": "stderr",
     "output_type": "stream",
     "text": [
      "100%|███████████████████████████████████████████████████████████████████████████████████| 5/5 [00:00<00:00, 178.68it/s]\n"
     ]
    },
    {
     "name": "stdout",
     "output_type": "stream",
     "text": [
      "GBPUSD\n",
      "1 0\n",
      "GBPJPY\n",
      "1 0\n",
      "USDJPY\n",
      "1 0\n",
      "USDCAD\n",
      "0 0\n",
      "EURUSD\n",
      "1 0\n",
      "2020-08-23 06:30:00\n",
      "2020-08-31 14:30:00\n"
     ]
    },
    {
     "name": "stderr",
     "output_type": "stream",
     "text": [
      "100%|███████████████████████████████████████████████████████████████████████████████████| 5/5 [00:00<00:00, 166.76it/s]\n"
     ]
    },
    {
     "name": "stdout",
     "output_type": "stream",
     "text": [
      "GBPUSD\n",
      "1 0\n",
      "GBPJPY\n",
      "1 0\n",
      "USDJPY\n",
      "1 0\n",
      "USDCAD\n",
      "0 0\n",
      "EURUSD\n",
      "1 0\n",
      "2020-08-23 06:30:00\n",
      "2020-08-31 14:30:00\n"
     ]
    },
    {
     "name": "stderr",
     "output_type": "stream",
     "text": [
      "100%|███████████████████████████████████████████████████████████████████████████████████| 5/5 [00:00<00:00, 161.38it/s]\n"
     ]
    },
    {
     "name": "stdout",
     "output_type": "stream",
     "text": [
      "GBPUSD\n",
      "1 0\n",
      "GBPJPY\n",
      "1 0\n",
      "USDJPY\n",
      "1 0\n",
      "USDCAD\n",
      "0 0\n",
      "EURUSD\n",
      "1 0\n",
      "2020-08-23 06:30:00\n",
      "2020-08-31 14:30:00\n"
     ]
    },
    {
     "name": "stderr",
     "output_type": "stream",
     "text": [
      "100%|███████████████████████████████████████████████████████████████████████████████████| 5/5 [00:00<00:00, 161.39it/s]\n"
     ]
    },
    {
     "name": "stdout",
     "output_type": "stream",
     "text": [
      "GBPUSD\n",
      "1 0\n",
      "GBPJPY\n",
      "1 0\n",
      "USDJPY\n",
      "1 0\n",
      "USDCAD\n",
      "0 0\n",
      "EURUSD\n",
      "1 0\n",
      "2020-08-23 06:30:00\n",
      "2020-08-31 14:30:00\n"
     ]
    },
    {
     "name": "stderr",
     "output_type": "stream",
     "text": [
      "100%|███████████████████████████████████████████████████████████████████████████████████| 5/5 [00:00<00:00, 161.39it/s]\n"
     ]
    },
    {
     "name": "stdout",
     "output_type": "stream",
     "text": [
      "GBPUSD\n",
      "1 0\n",
      "GBPJPY\n",
      "1 0\n",
      "USDJPY\n",
      "1 0\n",
      "USDCAD\n",
      "0 0\n",
      "EURUSD\n",
      "1 0\n",
      "2020-08-23 06:45:00\n",
      "2020-08-31 14:45:00\n"
     ]
    },
    {
     "name": "stderr",
     "output_type": "stream",
     "text": [
      "100%|███████████████████████████████████████████████████████████████████████████████████| 5/5 [00:00<00:00, 166.77it/s]\n"
     ]
    },
    {
     "name": "stdout",
     "output_type": "stream",
     "text": [
      "GBPUSD\n",
      "0 0\n",
      "GBPJPY\n",
      "0 0\n",
      "USDJPY\n",
      "0 0\n",
      "USDCAD\n",
      "0 1\n",
      "Sell USDCAD\n",
      "EURUSD\n",
      "1 0\n",
      "2020-08-23 06:45:00\n",
      "2020-08-31 14:45:00\n"
     ]
    },
    {
     "name": "stderr",
     "output_type": "stream",
     "text": [
      "100%|███████████████████████████████████████████████████████████████████████████████████| 5/5 [00:00<00:00, 147.14it/s]\n"
     ]
    },
    {
     "name": "stdout",
     "output_type": "stream",
     "text": [
      "GBPUSD\n",
      "0 0\n",
      "GBPJPY\n",
      "0 0\n",
      "USDJPY\n",
      "0 0\n",
      "USDCAD\n",
      "0 1\n",
      "EURUSD\n",
      "1 0\n",
      "2020-08-23 06:45:00\n",
      "2020-08-31 14:45:00\n"
     ]
    },
    {
     "name": "stderr",
     "output_type": "stream",
     "text": [
      "100%|███████████████████████████████████████████████████████████████████████████████████| 5/5 [00:00<00:00, 172.51it/s]\n"
     ]
    },
    {
     "name": "stdout",
     "output_type": "stream",
     "text": [
      "GBPUSD\n",
      "0 0\n",
      "GBPJPY\n",
      "0 0\n",
      "USDJPY\n",
      "0 0\n",
      "USDCAD\n",
      "0 1\n",
      "EURUSD\n",
      "1 0\n",
      "2020-08-23 06:45:00\n",
      "2020-08-31 14:45:00\n"
     ]
    },
    {
     "name": "stderr",
     "output_type": "stream",
     "text": [
      "100%|███████████████████████████████████████████████████████████████████████████████████| 5/5 [00:00<00:00, 172.54it/s]\n"
     ]
    },
    {
     "name": "stdout",
     "output_type": "stream",
     "text": [
      "GBPUSD\n",
      "0 0\n",
      "GBPJPY\n",
      "0 0\n",
      "USDJPY\n",
      "0 0\n",
      "USDCAD\n",
      "0 1\n",
      "EURUSD\n",
      "1 0\n",
      "2020-08-23 06:45:00\n",
      "2020-08-31 14:45:00\n"
     ]
    },
    {
     "name": "stderr",
     "output_type": "stream",
     "text": [
      "100%|███████████████████████████████████████████████████████████████████████████████████| 5/5 [00:00<00:00, 166.76it/s]\n"
     ]
    },
    {
     "name": "stdout",
     "output_type": "stream",
     "text": [
      "GBPUSD\n",
      "0 0\n",
      "GBPJPY\n",
      "0 0\n",
      "USDJPY\n",
      "0 0\n",
      "USDCAD\n",
      "0 1\n",
      "EURUSD\n",
      "1 0\n",
      "2020-08-23 06:45:00\n",
      "2020-08-31 14:45:00\n"
     ]
    },
    {
     "name": "stderr",
     "output_type": "stream",
     "text": [
      "100%|███████████████████████████████████████████████████████████████████████████████████| 5/5 [00:00<00:00, 161.39it/s]\n"
     ]
    },
    {
     "name": "stdout",
     "output_type": "stream",
     "text": [
      "GBPUSD\n",
      "0 0\n",
      "GBPJPY\n",
      "0 0\n",
      "USDJPY\n",
      "0 0\n",
      "USDCAD\n",
      "0 1\n",
      "EURUSD\n",
      "1 0\n",
      "2020-08-23 06:45:00\n",
      "2020-08-31 14:45:00\n"
     ]
    },
    {
     "name": "stderr",
     "output_type": "stream",
     "text": [
      "100%|███████████████████████████████████████████████████████████████████████████████████| 5/5 [00:00<00:00, 151.60it/s]\n"
     ]
    },
    {
     "name": "stdout",
     "output_type": "stream",
     "text": [
      "GBPUSD\n",
      "0 0\n",
      "GBPJPY\n",
      "0 0\n",
      "USDJPY\n",
      "0 0\n",
      "USDCAD\n",
      "0 1\n",
      "EURUSD\n",
      "1 0\n",
      "2020-08-23 06:45:00\n",
      "2020-08-31 14:45:00\n"
     ]
    },
    {
     "name": "stderr",
     "output_type": "stream",
     "text": [
      "100%|███████████████████████████████████████████████████████████████████████████████████| 5/5 [00:00<00:00, 166.77it/s]\n"
     ]
    },
    {
     "name": "stdout",
     "output_type": "stream",
     "text": [
      "GBPUSD\n",
      "0 0\n",
      "GBPJPY\n",
      "0 0\n",
      "USDJPY\n",
      "0 0\n",
      "USDCAD\n",
      "0 1\n",
      "EURUSD\n",
      "1 0\n",
      "2020-08-23 06:45:00\n",
      "2020-08-31 14:45:00\n"
     ]
    },
    {
     "name": "stderr",
     "output_type": "stream",
     "text": [
      "100%|███████████████████████████████████████████████████████████████████████████████████| 5/5 [00:00<00:00, 172.51it/s]\n"
     ]
    },
    {
     "name": "stdout",
     "output_type": "stream",
     "text": [
      "GBPUSD\n",
      "0 0\n",
      "GBPJPY\n",
      "0 0\n",
      "USDJPY\n",
      "0 0\n",
      "USDCAD\n",
      "0 1\n",
      "EURUSD\n",
      "1 0\n",
      "2020-08-23 06:45:00\n",
      "2020-08-31 14:45:00\n"
     ]
    },
    {
     "name": "stderr",
     "output_type": "stream",
     "text": [
      "100%|███████████████████████████████████████████████████████████████████████████████████| 5/5 [00:00<00:00, 161.39it/s]\n"
     ]
    },
    {
     "name": "stdout",
     "output_type": "stream",
     "text": [
      "GBPUSD\n",
      "0 0\n",
      "GBPJPY\n",
      "0 0\n",
      "USDJPY\n",
      "0 0\n",
      "USDCAD\n",
      "0 1\n",
      "EURUSD\n",
      "1 0\n",
      "2020-08-23 06:45:00\n",
      "2020-08-31 14:45:00\n"
     ]
    },
    {
     "name": "stderr",
     "output_type": "stream",
     "text": [
      "100%|███████████████████████████████████████████████████████████████████████████████████| 5/5 [00:00<00:00, 156.34it/s]\n"
     ]
    },
    {
     "name": "stdout",
     "output_type": "stream",
     "text": [
      "GBPUSD\n",
      "0 0\n",
      "GBPJPY\n",
      "0 0\n",
      "USDJPY\n",
      "0 0\n",
      "USDCAD\n",
      "0 1\n",
      "EURUSD\n",
      "1 0\n",
      "2020-08-23 07:00:00\n",
      "2020-08-31 15:00:00\n"
     ]
    },
    {
     "name": "stderr",
     "output_type": "stream",
     "text": [
      "100%|███████████████████████████████████████████████████████████████████████████████████| 5/5 [00:00<00:00, 161.38it/s]\n"
     ]
    },
    {
     "name": "stdout",
     "output_type": "stream",
     "text": [
      "GBPUSD\n",
      "0 0\n",
      "GBPJPY\n",
      "0 0\n",
      "USDJPY\n",
      "0 0\n",
      "USDCAD\n",
      "0 1\n",
      "EURUSD\n",
      "1 0\n",
      "2020-08-23 07:00:00\n",
      "2020-08-31 15:00:00\n"
     ]
    },
    {
     "name": "stderr",
     "output_type": "stream",
     "text": [
      "100%|███████████████████████████████████████████████████████████████████████████████████| 5/5 [00:00<00:00, 161.39it/s]\n"
     ]
    },
    {
     "name": "stdout",
     "output_type": "stream",
     "text": [
      "GBPUSD\n",
      "0 0\n",
      "GBPJPY\n",
      "0 0\n",
      "USDJPY\n",
      "0 0\n",
      "USDCAD\n",
      "0 1\n",
      "EURUSD\n",
      "1 0\n",
      "2020-08-23 07:00:00\n",
      "2020-08-31 15:00:00\n"
     ]
    },
    {
     "name": "stderr",
     "output_type": "stream",
     "text": [
      "100%|███████████████████████████████████████████████████████████████████████████████████| 5/5 [00:00<00:00, 151.60it/s]\n"
     ]
    },
    {
     "name": "stdout",
     "output_type": "stream",
     "text": [
      "GBPUSD\n",
      "0 0\n",
      "GBPJPY\n",
      "0 0\n",
      "USDJPY\n",
      "0 0\n",
      "USDCAD\n",
      "0 1\n",
      "EURUSD\n",
      "1 0\n",
      "2020-08-23 07:00:00\n",
      "2020-08-31 15:00:00\n"
     ]
    },
    {
     "name": "stderr",
     "output_type": "stream",
     "text": [
      "100%|███████████████████████████████████████████████████████████████████████████████████| 5/5 [00:00<00:00, 151.60it/s]\n"
     ]
    },
    {
     "name": "stdout",
     "output_type": "stream",
     "text": [
      "GBPUSD\n",
      "0 0\n",
      "GBPJPY\n",
      "0 0\n",
      "USDJPY\n",
      "0 0\n",
      "USDCAD\n",
      "0 1\n",
      "EURUSD\n",
      "1 0\n",
      "2020-08-23 07:00:00\n",
      "2020-08-31 15:00:00\n"
     ]
    },
    {
     "name": "stderr",
     "output_type": "stream",
     "text": [
      "100%|███████████████████████████████████████████████████████████████████████████████████| 5/5 [00:00<00:00, 172.52it/s]\n"
     ]
    },
    {
     "name": "stdout",
     "output_type": "stream",
     "text": [
      "GBPUSD\n",
      "0 0\n",
      "GBPJPY\n",
      "0 0\n",
      "USDJPY\n",
      "0 0\n",
      "USDCAD\n",
      "0 1\n",
      "EURUSD\n",
      "1 0\n",
      "2020-08-23 07:00:00\n",
      "2020-08-31 15:00:00\n"
     ]
    },
    {
     "name": "stderr",
     "output_type": "stream",
     "text": [
      "100%|███████████████████████████████████████████████████████████████████████████████████| 5/5 [00:00<00:00, 156.34it/s]\n"
     ]
    },
    {
     "name": "stdout",
     "output_type": "stream",
     "text": [
      "GBPUSD\n",
      "0 0\n",
      "GBPJPY\n",
      "0 0\n",
      "USDJPY\n",
      "0 0\n",
      "USDCAD\n",
      "0 1\n",
      "EURUSD\n",
      "1 0\n",
      "2020-08-23 07:00:00\n",
      "2020-08-31 15:00:00\n"
     ]
    },
    {
     "name": "stderr",
     "output_type": "stream",
     "text": [
      "100%|███████████████████████████████████████████████████████████████████████████████████| 5/5 [00:00<00:00, 172.51it/s]\n"
     ]
    },
    {
     "name": "stdout",
     "output_type": "stream",
     "text": [
      "GBPUSD\n",
      "0 0\n",
      "GBPJPY\n",
      "0 0\n",
      "USDJPY\n",
      "0 0\n",
      "USDCAD\n",
      "0 1\n",
      "EURUSD\n",
      "1 0\n",
      "2020-08-23 07:00:00\n",
      "2020-08-31 15:00:00\n"
     ]
    },
    {
     "name": "stderr",
     "output_type": "stream",
     "text": [
      "100%|███████████████████████████████████████████████████████████████████████████████████| 5/5 [00:00<00:00, 166.78it/s]\n"
     ]
    },
    {
     "name": "stdout",
     "output_type": "stream",
     "text": [
      "GBPUSD\n",
      "0 0\n",
      "GBPJPY\n",
      "0 0\n",
      "USDJPY\n",
      "0 0\n",
      "USDCAD\n",
      "0 1\n",
      "EURUSD\n",
      "1 0\n",
      "2020-08-23 07:00:00\n",
      "2020-08-31 15:00:00\n"
     ]
    },
    {
     "name": "stderr",
     "output_type": "stream",
     "text": [
      "100%|███████████████████████████████████████████████████████████████████████████████████| 5/5 [00:00<00:00, 172.52it/s]\n"
     ]
    },
    {
     "name": "stdout",
     "output_type": "stream",
     "text": [
      "GBPUSD\n",
      "0 0\n",
      "GBPJPY\n",
      "0 0\n",
      "USDJPY\n",
      "0 0\n",
      "USDCAD\n",
      "0 1\n",
      "EURUSD\n",
      "1 0\n",
      "2020-08-23 07:00:00\n",
      "2020-08-31 15:00:00\n"
     ]
    },
    {
     "name": "stderr",
     "output_type": "stream",
     "text": [
      "100%|███████████████████████████████████████████████████████████████████████████████████| 5/5 [00:00<00:00, 138.97it/s]\n"
     ]
    },
    {
     "name": "stdout",
     "output_type": "stream",
     "text": [
      "GBPUSD\n",
      "0 0\n",
      "GBPJPY\n",
      "0 0\n",
      "USDJPY\n",
      "0 0\n",
      "USDCAD\n",
      "0 1\n",
      "EURUSD\n",
      "1 0\n",
      "2020-08-23 07:15:00\n",
      "2020-08-31 15:15:00\n"
     ]
    },
    {
     "name": "stderr",
     "output_type": "stream",
     "text": [
      "100%|███████████████████████████████████████████████████████████████████████████████████| 5/5 [00:00<00:00, 166.77it/s]\n"
     ]
    },
    {
     "name": "stdout",
     "output_type": "stream",
     "text": [
      "GBPUSD\n",
      "0 1\n",
      "Sell GBPUSD\n",
      "GBPJPY\n",
      "0 1\n",
      "Sell GBPJPY\n",
      "USDJPY\n",
      "0 1\n",
      "Sell USDJPY\n",
      "USDCAD\n",
      "0 1\n",
      "EURUSD\n",
      "1 0\n",
      "2020-08-23 07:15:00\n",
      "2020-08-31 15:15:00\n"
     ]
    },
    {
     "name": "stderr",
     "output_type": "stream",
     "text": [
      "100%|███████████████████████████████████████████████████████████████████████████████████| 5/5 [00:00<00:00, 138.97it/s]\n"
     ]
    },
    {
     "name": "stdout",
     "output_type": "stream",
     "text": [
      "GBPUSD\n",
      "0 1\n",
      "GBPJPY\n",
      "0 1\n",
      "USDJPY\n",
      "0 1\n",
      "USDCAD\n",
      "0 1\n",
      "EURUSD\n",
      "1 0\n",
      "2020-08-23 07:15:00\n",
      "2020-08-31 15:15:00\n"
     ]
    },
    {
     "name": "stderr",
     "output_type": "stream",
     "text": [
      "100%|███████████████████████████████████████████████████████████████████████████████████| 5/5 [00:00<00:00, 156.34it/s]\n"
     ]
    },
    {
     "name": "stdout",
     "output_type": "stream",
     "text": [
      "GBPUSD\n",
      "0 1\n",
      "GBPJPY\n",
      "0 1\n",
      "USDJPY\n",
      "0 1\n",
      "USDCAD\n",
      "0 1\n",
      "EURUSD\n",
      "1 0\n",
      "2020-08-23 07:15:00\n",
      "2020-08-31 15:15:00\n"
     ]
    },
    {
     "name": "stderr",
     "output_type": "stream",
     "text": [
      "100%|███████████████████████████████████████████████████████████████████████████████████| 5/5 [00:00<00:00, 172.51it/s]\n"
     ]
    },
    {
     "name": "stdout",
     "output_type": "stream",
     "text": [
      "GBPUSD\n",
      "0 1\n",
      "GBPJPY\n",
      "0 1\n",
      "USDJPY\n",
      "0 1\n",
      "USDCAD\n",
      "0 1\n",
      "EURUSD\n",
      "1 0\n",
      "2020-08-23 07:15:00\n",
      "2020-08-31 15:15:00\n"
     ]
    },
    {
     "name": "stderr",
     "output_type": "stream",
     "text": [
      "100%|███████████████████████████████████████████████████████████████████████████████████| 5/5 [00:00<00:00, 156.34it/s]\n"
     ]
    },
    {
     "name": "stdout",
     "output_type": "stream",
     "text": [
      "GBPUSD\n",
      "0 1\n",
      "GBPJPY\n",
      "0 1\n",
      "USDJPY\n",
      "0 1\n",
      "USDCAD\n",
      "0 1\n",
      "EURUSD\n",
      "1 0\n",
      "2020-08-23 07:15:00\n",
      "2020-08-31 15:15:00\n"
     ]
    },
    {
     "name": "stderr",
     "output_type": "stream",
     "text": [
      "100%|███████████████████████████████████████████████████████████████████████████████████| 5/5 [00:00<00:00, 156.34it/s]\n"
     ]
    },
    {
     "name": "stdout",
     "output_type": "stream",
     "text": [
      "GBPUSD\n",
      "0 1\n",
      "GBPJPY\n",
      "0 1\n",
      "USDJPY\n",
      "0 1\n",
      "USDCAD\n",
      "0 1\n",
      "EURUSD\n",
      "1 0\n",
      "2020-08-23 07:15:00\n",
      "2020-08-31 15:15:00\n"
     ]
    },
    {
     "name": "stderr",
     "output_type": "stream",
     "text": [
      "100%|███████████████████████████████████████████████████████████████████████████████████| 5/5 [00:00<00:00, 142.94it/s]\n"
     ]
    },
    {
     "name": "stdout",
     "output_type": "stream",
     "text": [
      "GBPUSD\n",
      "0 1\n",
      "GBPJPY\n",
      "0 1\n",
      "USDJPY\n",
      "0 1\n",
      "USDCAD\n",
      "0 1\n",
      "EURUSD\n",
      "1 0\n",
      "2020-08-23 07:15:00\n",
      "2020-08-31 15:15:00\n"
     ]
    },
    {
     "name": "stderr",
     "output_type": "stream",
     "text": [
      "100%|███████████████████████████████████████████████████████████████████████████████████| 5/5 [00:00<00:00, 161.39it/s]\n"
     ]
    },
    {
     "name": "stdout",
     "output_type": "stream",
     "text": [
      "GBPUSD\n",
      "0 1\n",
      "GBPJPY\n",
      "0 1\n",
      "USDJPY\n",
      "0 1\n",
      "USDCAD\n",
      "0 1\n",
      "EURUSD\n",
      "1 0\n",
      "2020-08-23 07:15:00\n",
      "2020-08-31 15:15:00\n"
     ]
    },
    {
     "name": "stderr",
     "output_type": "stream",
     "text": [
      "100%|███████████████████████████████████████████████████████████████████████████████████| 5/5 [00:00<00:00, 147.14it/s]\n"
     ]
    },
    {
     "name": "stdout",
     "output_type": "stream",
     "text": [
      "GBPUSD\n",
      "0 1\n",
      "GBPJPY\n",
      "0 1\n",
      "USDJPY\n",
      "0 1\n",
      "USDCAD\n",
      "0 1\n",
      "EURUSD\n",
      "1 0\n",
      "2020-08-23 07:15:00\n",
      "2020-08-31 15:15:00\n"
     ]
    },
    {
     "name": "stderr",
     "output_type": "stream",
     "text": [
      "100%|███████████████████████████████████████████████████████████████████████████████████| 5/5 [00:00<00:00, 166.77it/s]\n"
     ]
    },
    {
     "name": "stdout",
     "output_type": "stream",
     "text": [
      "GBPUSD\n",
      "0 1\n",
      "GBPJPY\n",
      "0 1\n",
      "USDJPY\n",
      "0 1\n",
      "USDCAD\n",
      "0 1\n",
      "EURUSD\n",
      "1 0\n",
      "2020-08-23 07:30:00\n",
      "2020-08-31 15:30:00\n"
     ]
    },
    {
     "name": "stderr",
     "output_type": "stream",
     "text": [
      "100%|███████████████████████████████████████████████████████████████████████████████████| 5/5 [00:00<00:00, 166.77it/s]\n"
     ]
    },
    {
     "name": "stdout",
     "output_type": "stream",
     "text": [
      "GBPUSD\n",
      "0 1\n",
      "GBPJPY\n",
      "0 1\n",
      "USDJPY\n",
      "1 0\n",
      "USDCAD\n",
      "0 0\n",
      "EURUSD\n",
      "0 1\n",
      "2020-08-23 07:30:00\n",
      "2020-08-31 15:30:00\n"
     ]
    },
    {
     "name": "stderr",
     "output_type": "stream",
     "text": [
      "100%|███████████████████████████████████████████████████████████████████████████████████| 5/5 [00:00<00:00, 151.61it/s]\n"
     ]
    },
    {
     "name": "stdout",
     "output_type": "stream",
     "text": [
      "GBPUSD\n",
      "0 1\n",
      "GBPJPY\n",
      "0 1\n",
      "USDJPY\n",
      "1 0\n",
      "Buy USDJPY\n",
      "USDCAD\n",
      "0 0\n",
      "EURUSD\n",
      "0 1\n",
      "Sell EURUSD\n",
      "2020-08-23 07:30:00\n",
      "2020-08-31 15:30:00\n"
     ]
    },
    {
     "name": "stderr",
     "output_type": "stream",
     "text": [
      "100%|███████████████████████████████████████████████████████████████████████████████████| 5/5 [00:00<00:00, 161.39it/s]\n"
     ]
    },
    {
     "name": "stdout",
     "output_type": "stream",
     "text": [
      "GBPUSD\n",
      "0 1\n",
      "GBPJPY\n",
      "0 1\n",
      "USDJPY\n",
      "1 0\n",
      "USDCAD\n",
      "0 0\n",
      "EURUSD\n",
      "0 1\n",
      "2020-08-23 07:30:00\n",
      "2020-08-31 15:30:00\n"
     ]
    },
    {
     "name": "stderr",
     "output_type": "stream",
     "text": [
      "100%|███████████████████████████████████████████████████████████████████████████████████| 5/5 [00:00<00:00, 151.61it/s]\n"
     ]
    },
    {
     "name": "stdout",
     "output_type": "stream",
     "text": [
      "GBPUSD\n",
      "0 1\n",
      "GBPJPY\n",
      "0 1\n",
      "USDJPY\n",
      "1 0\n",
      "USDCAD\n",
      "0 0\n",
      "EURUSD\n",
      "0 1\n",
      "2020-08-23 07:30:00\n",
      "2020-08-31 15:30:00\n"
     ]
    },
    {
     "name": "stderr",
     "output_type": "stream",
     "text": [
      "100%|███████████████████████████████████████████████████████████████████████████████████| 5/5 [00:00<00:00, 156.34it/s]\n"
     ]
    },
    {
     "name": "stdout",
     "output_type": "stream",
     "text": [
      "GBPUSD\n",
      "0 1\n",
      "GBPJPY\n",
      "0 1\n",
      "USDJPY\n",
      "1 0\n",
      "USDCAD\n",
      "0 0\n",
      "EURUSD\n",
      "0 1\n",
      "2020-08-23 07:30:00\n",
      "2020-08-31 15:30:00\n"
     ]
    },
    {
     "name": "stderr",
     "output_type": "stream",
     "text": [
      "100%|███████████████████████████████████████████████████████████████████████████████████| 5/5 [00:00<00:00, 138.97it/s]\n"
     ]
    },
    {
     "name": "stdout",
     "output_type": "stream",
     "text": [
      "GBPUSD\n",
      "0 1\n",
      "GBPJPY\n",
      "0 1\n",
      "USDJPY\n",
      "1 0\n",
      "USDCAD\n",
      "0 0\n",
      "EURUSD\n",
      "0 1\n",
      "2020-08-23 07:30:00\n",
      "2020-08-31 15:30:00\n"
     ]
    },
    {
     "name": "stderr",
     "output_type": "stream",
     "text": [
      "100%|███████████████████████████████████████████████████████████████████████████████████| 5/5 [00:00<00:00, 161.38it/s]\n"
     ]
    },
    {
     "name": "stdout",
     "output_type": "stream",
     "text": [
      "GBPUSD\n",
      "0 1\n",
      "GBPJPY\n",
      "0 1\n",
      "USDJPY\n",
      "1 0\n",
      "USDCAD\n",
      "0 0\n",
      "EURUSD\n",
      "0 1\n",
      "2020-08-23 07:30:00\n",
      "2020-08-31 15:30:00\n"
     ]
    },
    {
     "name": "stderr",
     "output_type": "stream",
     "text": [
      "100%|███████████████████████████████████████████████████████████████████████████████████| 5/5 [00:00<00:00, 147.14it/s]\n"
     ]
    },
    {
     "name": "stdout",
     "output_type": "stream",
     "text": [
      "GBPUSD\n",
      "0 1\n",
      "GBPJPY\n",
      "0 1\n",
      "USDJPY\n",
      "1 0\n",
      "USDCAD\n",
      "0 0\n",
      "EURUSD\n",
      "0 1\n",
      "2020-08-23 07:30:00\n",
      "2020-08-31 15:30:00\n"
     ]
    },
    {
     "name": "stderr",
     "output_type": "stream",
     "text": [
      "100%|███████████████████████████████████████████████████████████████████████████████████| 5/5 [00:00<00:00, 151.60it/s]\n"
     ]
    },
    {
     "name": "stdout",
     "output_type": "stream",
     "text": [
      "GBPUSD\n",
      "0 1\n",
      "GBPJPY\n",
      "0 1\n",
      "USDJPY\n",
      "1 0\n",
      "USDCAD\n",
      "0 0\n",
      "EURUSD\n",
      "0 1\n",
      "2020-08-23 07:30:00\n",
      "2020-08-31 15:30:00\n"
     ]
    },
    {
     "name": "stderr",
     "output_type": "stream",
     "text": [
      "100%|███████████████████████████████████████████████████████████████████████████████████| 5/5 [00:00<00:00, 156.35it/s]\n"
     ]
    },
    {
     "name": "stdout",
     "output_type": "stream",
     "text": [
      "GBPUSD\n",
      "0 1\n",
      "GBPJPY\n",
      "0 1\n",
      "USDJPY\n",
      "1 0\n",
      "USDCAD\n",
      "0 0\n",
      "EURUSD\n",
      "0 1\n",
      "2020-08-23 07:45:00\n",
      "2020-08-31 15:45:00\n"
     ]
    },
    {
     "name": "stderr",
     "output_type": "stream",
     "text": [
      "100%|███████████████████████████████████████████████████████████████████████████████████| 5/5 [00:00<00:00, 178.68it/s]\n"
     ]
    },
    {
     "name": "stdout",
     "output_type": "stream",
     "text": [
      "GBPUSD\n",
      "0 0\n",
      "GBPJPY\n",
      "0 0\n",
      "USDJPY\n",
      "1 0\n",
      "USDCAD\n",
      "0 1\n",
      "Sell USDCAD\n",
      "EURUSD\n",
      "0 1\n",
      "2020-08-23 07:45:00\n",
      "2020-08-31 15:45:00\n"
     ]
    },
    {
     "name": "stderr",
     "output_type": "stream",
     "text": [
      "100%|███████████████████████████████████████████████████████████████████████████████████| 5/5 [00:00<00:00, 125.07it/s]\n"
     ]
    },
    {
     "name": "stdout",
     "output_type": "stream",
     "text": [
      "GBPUSD\n",
      "0 0\n",
      "GBPJPY\n",
      "0 0\n",
      "USDJPY\n",
      "1 0\n",
      "USDCAD\n",
      "0 1\n",
      "EURUSD\n",
      "0 1\n",
      "2020-08-23 07:45:00\n",
      "2020-08-31 15:45:00\n"
     ]
    },
    {
     "name": "stderr",
     "output_type": "stream",
     "text": [
      "100%|███████████████████████████████████████████████████████████████████████████████████| 5/5 [00:00<00:00, 142.85it/s]\n"
     ]
    },
    {
     "name": "stdout",
     "output_type": "stream",
     "text": [
      "GBPUSD\n",
      "0 0\n",
      "GBPJPY\n",
      "0 0\n",
      "USDJPY\n",
      "1 0\n",
      "USDCAD\n",
      "0 1\n",
      "EURUSD\n",
      "0 1\n",
      "2020-08-23 07:45:00\n",
      "2020-08-31 15:45:00\n"
     ]
    },
    {
     "name": "stderr",
     "output_type": "stream",
     "text": [
      "100%|███████████████████████████████████████████████████████████████████████████████████| 5/5 [00:00<00:00, 166.77it/s]\n"
     ]
    },
    {
     "name": "stdout",
     "output_type": "stream",
     "text": [
      "GBPUSD\n",
      "0 0\n",
      "GBPJPY\n",
      "0 0\n",
      "USDJPY\n",
      "1 0\n",
      "USDCAD\n",
      "0 1\n",
      "EURUSD\n",
      "0 1\n",
      "2020-08-23 07:45:00\n",
      "2020-08-31 15:45:00\n"
     ]
    },
    {
     "name": "stderr",
     "output_type": "stream",
     "text": [
      "100%|███████████████████████████████████████████████████████████████████████████████████| 5/5 [00:00<00:00, 151.60it/s]\n"
     ]
    },
    {
     "name": "stdout",
     "output_type": "stream",
     "text": [
      "GBPUSD\n",
      "0 0\n",
      "GBPJPY\n",
      "0 0\n",
      "USDJPY\n",
      "1 0\n",
      "USDCAD\n",
      "0 1\n",
      "EURUSD\n",
      "0 1\n",
      "2020-08-23 07:45:00\n",
      "2020-08-31 15:45:00\n"
     ]
    },
    {
     "name": "stderr",
     "output_type": "stream",
     "text": [
      "100%|███████████████████████████████████████████████████████████████████████████████████| 5/5 [00:00<00:00, 172.52it/s]\n"
     ]
    },
    {
     "name": "stdout",
     "output_type": "stream",
     "text": [
      "GBPUSD\n",
      "0 0\n",
      "GBPJPY\n",
      "0 0\n",
      "USDJPY\n",
      "1 0\n",
      "USDCAD\n",
      "0 1\n",
      "EURUSD\n",
      "0 1\n",
      "2020-08-23 07:45:00\n",
      "2020-08-31 15:45:00\n"
     ]
    },
    {
     "name": "stderr",
     "output_type": "stream",
     "text": [
      "100%|███████████████████████████████████████████████████████████████████████████████████| 5/5 [00:00<00:00, 161.39it/s]\n"
     ]
    },
    {
     "name": "stdout",
     "output_type": "stream",
     "text": [
      "GBPUSD\n",
      "0 0\n",
      "GBPJPY\n",
      "0 0\n",
      "USDJPY\n",
      "1 0\n",
      "USDCAD\n",
      "0 1\n",
      "EURUSD\n",
      "0 1\n",
      "2020-08-23 07:45:00\n",
      "2020-08-31 15:45:00\n"
     ]
    },
    {
     "name": "stderr",
     "output_type": "stream",
     "text": [
      "100%|███████████████████████████████████████████████████████████████████████████████████| 5/5 [00:00<00:00, 147.14it/s]\n"
     ]
    },
    {
     "name": "stdout",
     "output_type": "stream",
     "text": [
      "GBPUSD\n",
      "0 0\n",
      "GBPJPY\n",
      "0 0\n",
      "USDJPY\n",
      "1 0\n",
      "USDCAD\n",
      "0 1\n",
      "EURUSD\n",
      "0 1\n",
      "2020-08-23 07:45:00\n",
      "2020-08-31 15:45:00\n"
     ]
    },
    {
     "name": "stderr",
     "output_type": "stream",
     "text": [
      "100%|███████████████████████████████████████████████████████████████████████████████████| 5/5 [00:00<00:00, 151.61it/s]\n"
     ]
    },
    {
     "name": "stdout",
     "output_type": "stream",
     "text": [
      "GBPUSD\n",
      "0 0\n",
      "GBPJPY\n",
      "0 0\n",
      "USDJPY\n",
      "1 0\n",
      "USDCAD\n",
      "0 1\n",
      "EURUSD\n",
      "0 1\n",
      "2020-08-23 07:45:00\n",
      "2020-08-31 15:45:00\n"
     ]
    },
    {
     "name": "stderr",
     "output_type": "stream",
     "text": [
      "100%|███████████████████████████████████████████████████████████████████████████████████| 5/5 [00:00<00:00, 166.76it/s]\n"
     ]
    },
    {
     "name": "stdout",
     "output_type": "stream",
     "text": [
      "GBPUSD\n",
      "0 0\n",
      "GBPJPY\n",
      "0 0\n",
      "USDJPY\n",
      "1 0\n",
      "USDCAD\n",
      "0 1\n",
      "EURUSD\n",
      "0 1\n",
      "2020-08-23 08:00:00\n",
      "2020-08-31 16:00:00\n"
     ]
    },
    {
     "name": "stderr",
     "output_type": "stream",
     "text": [
      "100%|███████████████████████████████████████████████████████████████████████████████████| 5/5 [00:00<00:00, 147.14it/s]\n"
     ]
    },
    {
     "name": "stdout",
     "output_type": "stream",
     "text": [
      "GBPUSD\n",
      "0 0\n",
      "GBPJPY\n",
      "1 0\n",
      "Buy GBPJPY\n",
      "USDJPY\n",
      "1 0\n",
      "USDCAD\n",
      "0 0\n",
      "EURUSD\n",
      "0 0\n",
      "2020-08-23 08:00:00\n",
      "2020-08-31 16:00:00\n"
     ]
    },
    {
     "name": "stderr",
     "output_type": "stream",
     "text": [
      "100%|███████████████████████████████████████████████████████████████████████████████████| 5/5 [00:00<00:00, 172.52it/s]\n"
     ]
    },
    {
     "name": "stdout",
     "output_type": "stream",
     "text": [
      "GBPUSD\n",
      "0 0\n",
      "GBPJPY\n",
      "1 0\n",
      "USDJPY\n",
      "1 0\n",
      "USDCAD\n",
      "0 0\n",
      "EURUSD\n",
      "0 0\n",
      "2020-08-23 08:00:00\n",
      "2020-08-31 16:00:00\n"
     ]
    },
    {
     "name": "stderr",
     "output_type": "stream",
     "text": [
      "100%|███████████████████████████████████████████████████████████████████████████████████| 5/5 [00:00<00:00, 178.67it/s]\n"
     ]
    },
    {
     "name": "stdout",
     "output_type": "stream",
     "text": [
      "GBPUSD\n",
      "0 0\n",
      "GBPJPY\n",
      "1 0\n",
      "USDJPY\n",
      "1 0\n",
      "USDCAD\n",
      "0 0\n",
      "EURUSD\n",
      "0 0\n",
      "2020-08-23 08:00:00\n",
      "2020-08-31 16:00:00\n"
     ]
    },
    {
     "name": "stderr",
     "output_type": "stream",
     "text": [
      "100%|███████████████████████████████████████████████████████████████████████████████████| 5/5 [00:00<00:00, 172.51it/s]\n"
     ]
    },
    {
     "name": "stdout",
     "output_type": "stream",
     "text": [
      "GBPUSD\n",
      "0 0\n",
      "GBPJPY\n",
      "1 0\n",
      "USDJPY\n",
      "1 0\n",
      "USDCAD\n",
      "0 0\n",
      "EURUSD\n",
      "0 0\n",
      "2020-08-23 08:00:00\n",
      "2020-08-31 16:00:00\n"
     ]
    },
    {
     "name": "stderr",
     "output_type": "stream",
     "text": [
      "100%|███████████████████████████████████████████████████████████████████████████████████| 5/5 [00:00<00:00, 166.75it/s]\n"
     ]
    },
    {
     "name": "stdout",
     "output_type": "stream",
     "text": [
      "GBPUSD\n",
      "0 0\n",
      "GBPJPY\n",
      "1 0\n",
      "USDJPY\n",
      "1 0\n",
      "USDCAD\n",
      "0 0\n",
      "EURUSD\n",
      "0 0\n",
      "2020-08-23 08:00:00\n",
      "2020-08-31 16:00:00\n"
     ]
    },
    {
     "name": "stderr",
     "output_type": "stream",
     "text": [
      "100%|███████████████████████████████████████████████████████████████████████████████████| 5/5 [00:00<00:00, 185.29it/s]\n"
     ]
    },
    {
     "name": "stdout",
     "output_type": "stream",
     "text": [
      "GBPUSD\n",
      "0 0\n",
      "GBPJPY\n",
      "1 0\n",
      "USDJPY\n",
      "1 0\n",
      "USDCAD\n",
      "0 0\n",
      "EURUSD\n",
      "0 0\n",
      "2020-08-23 08:00:00\n",
      "2020-08-31 16:00:00\n"
     ]
    },
    {
     "name": "stderr",
     "output_type": "stream",
     "text": [
      "100%|███████████████████████████████████████████████████████████████████████████████████| 5/5 [00:00<00:00, 178.67it/s]\n"
     ]
    },
    {
     "name": "stdout",
     "output_type": "stream",
     "text": [
      "GBPUSD\n",
      "0 0\n",
      "GBPJPY\n",
      "1 0\n",
      "USDJPY\n",
      "1 0\n",
      "USDCAD\n",
      "0 0\n",
      "EURUSD\n",
      "0 0\n",
      "2020-08-23 08:00:00\n",
      "2020-08-31 16:00:00\n"
     ]
    },
    {
     "name": "stderr",
     "output_type": "stream",
     "text": [
      "100%|███████████████████████████████████████████████████████████████████████████████████| 5/5 [00:00<00:00, 178.67it/s]\n"
     ]
    },
    {
     "name": "stdout",
     "output_type": "stream",
     "text": [
      "GBPUSD\n",
      "0 0\n",
      "GBPJPY\n",
      "1 0\n",
      "USDJPY\n",
      "1 0\n",
      "USDCAD\n",
      "0 0\n",
      "EURUSD\n",
      "0 0\n",
      "2020-08-23 08:00:00\n",
      "2020-08-31 16:00:00\n"
     ]
    },
    {
     "name": "stderr",
     "output_type": "stream",
     "text": [
      "100%|███████████████████████████████████████████████████████████████████████████████████| 5/5 [00:00<00:00, 178.67it/s]\n"
     ]
    },
    {
     "name": "stdout",
     "output_type": "stream",
     "text": [
      "GBPUSD\n",
      "0 0\n",
      "GBPJPY\n",
      "1 0\n",
      "USDJPY\n",
      "1 0\n",
      "USDCAD\n",
      "0 0\n",
      "EURUSD\n",
      "0 0\n",
      "2020-08-23 08:00:00\n",
      "2020-08-31 16:00:00\n"
     ]
    },
    {
     "name": "stderr",
     "output_type": "stream",
     "text": [
      "100%|███████████████████████████████████████████████████████████████████████████████████| 5/5 [00:00<00:00, 185.29it/s]\n"
     ]
    },
    {
     "name": "stdout",
     "output_type": "stream",
     "text": [
      "GBPUSD\n",
      "0 0\n",
      "GBPJPY\n",
      "1 0\n",
      "USDJPY\n",
      "1 0\n",
      "USDCAD\n",
      "0 0\n",
      "EURUSD\n",
      "0 0\n",
      "2020-08-23 08:15:00\n",
      "2020-08-31 16:15:00\n"
     ]
    },
    {
     "name": "stderr",
     "output_type": "stream",
     "text": [
      "100%|███████████████████████████████████████████████████████████████████████████████████| 5/5 [00:00<00:00, 166.76it/s]\n"
     ]
    },
    {
     "name": "stdout",
     "output_type": "stream",
     "text": [
      "GBPUSD\n",
      "1 0\n",
      "Buy GBPUSD\n",
      "GBPJPY\n",
      "1 0\n",
      "USDJPY\n",
      "0 0\n",
      "USDCAD\n",
      "0 1\n",
      "Sell USDCAD\n",
      "EURUSD\n",
      "1 0\n",
      "Buy EURUSD\n",
      "2020-08-23 08:15:00\n",
      "2020-08-31 16:15:00\n"
     ]
    },
    {
     "name": "stderr",
     "output_type": "stream",
     "text": [
      "100%|███████████████████████████████████████████████████████████████████████████████████| 5/5 [00:00<00:00, 142.94it/s]\n"
     ]
    },
    {
     "name": "stdout",
     "output_type": "stream",
     "text": [
      "GBPUSD\n",
      "1 0\n",
      "GBPJPY\n",
      "1 0\n",
      "USDJPY\n",
      "0 0\n",
      "USDCAD\n",
      "0 1\n",
      "EURUSD\n",
      "1 0\n",
      "2020-08-23 08:15:00\n",
      "2020-08-31 16:15:00\n"
     ]
    },
    {
     "name": "stderr",
     "output_type": "stream",
     "text": [
      "100%|███████████████████████████████████████████████████████████████████████████████████| 5/5 [00:00<00:00, 161.38it/s]\n"
     ]
    },
    {
     "name": "stdout",
     "output_type": "stream",
     "text": [
      "GBPUSD\n",
      "1 0\n",
      "GBPJPY\n",
      "1 0\n",
      "USDJPY\n",
      "0 0\n",
      "USDCAD\n",
      "0 1\n",
      "EURUSD\n",
      "1 0\n",
      "2020-08-23 08:15:00\n",
      "2020-08-31 16:15:00\n"
     ]
    },
    {
     "name": "stderr",
     "output_type": "stream",
     "text": [
      "100%|███████████████████████████████████████████████████████████████████████████████████| 5/5 [00:00<00:00, 156.34it/s]\n"
     ]
    },
    {
     "name": "stdout",
     "output_type": "stream",
     "text": [
      "GBPUSD\n",
      "1 0\n",
      "GBPJPY\n",
      "1 0\n",
      "USDJPY\n",
      "0 0\n",
      "USDCAD\n",
      "0 1\n",
      "EURUSD\n",
      "1 0\n",
      "2020-08-23 08:15:00\n",
      "2020-08-31 16:15:00\n"
     ]
    },
    {
     "name": "stderr",
     "output_type": "stream",
     "text": [
      "100%|███████████████████████████████████████████████████████████████████████████████████| 5/5 [00:00<00:00, 172.52it/s]\n"
     ]
    },
    {
     "name": "stdout",
     "output_type": "stream",
     "text": [
      "GBPUSD\n",
      "1 0\n",
      "GBPJPY\n",
      "1 0\n",
      "USDJPY\n",
      "0 0\n",
      "USDCAD\n",
      "0 1\n",
      "EURUSD\n",
      "1 0\n",
      "2020-08-23 08:15:00\n",
      "2020-08-31 16:15:00\n"
     ]
    },
    {
     "name": "stderr",
     "output_type": "stream",
     "text": [
      "100%|███████████████████████████████████████████████████████████████████████████████████| 5/5 [00:00<00:00, 151.61it/s]\n"
     ]
    },
    {
     "name": "stdout",
     "output_type": "stream",
     "text": [
      "GBPUSD\n",
      "1 0\n",
      "GBPJPY\n",
      "1 0\n",
      "USDJPY\n",
      "0 0\n",
      "USDCAD\n",
      "0 1\n",
      "EURUSD\n",
      "1 0\n",
      "2020-08-23 08:15:00\n",
      "2020-08-31 16:15:00\n"
     ]
    },
    {
     "name": "stderr",
     "output_type": "stream",
     "text": [
      "100%|███████████████████████████████████████████████████████████████████████████████████| 5/5 [00:00<00:00, 178.68it/s]\n"
     ]
    },
    {
     "name": "stdout",
     "output_type": "stream",
     "text": [
      "GBPUSD\n",
      "1 0\n",
      "GBPJPY\n",
      "1 0\n",
      "USDJPY\n",
      "0 0\n",
      "USDCAD\n",
      "0 1\n",
      "EURUSD\n",
      "1 0\n",
      "2020-08-23 08:15:00\n",
      "2020-08-31 16:15:00\n"
     ]
    },
    {
     "name": "stderr",
     "output_type": "stream",
     "text": [
      "100%|███████████████████████████████████████████████████████████████████████████████████| 5/5 [00:00<00:00, 156.34it/s]\n"
     ]
    },
    {
     "name": "stdout",
     "output_type": "stream",
     "text": [
      "GBPUSD\n",
      "1 0\n",
      "GBPJPY\n",
      "1 0\n",
      "USDJPY\n",
      "0 0\n",
      "USDCAD\n",
      "0 1\n",
      "EURUSD\n",
      "1 0\n",
      "2020-08-23 08:15:00\n",
      "2020-08-31 16:15:00\n"
     ]
    },
    {
     "name": "stderr",
     "output_type": "stream",
     "text": [
      "100%|███████████████████████████████████████████████████████████████████████████████████| 5/5 [00:00<00:00, 172.51it/s]\n"
     ]
    },
    {
     "name": "stdout",
     "output_type": "stream",
     "text": [
      "GBPUSD\n",
      "1 0\n",
      "GBPJPY\n",
      "1 0\n",
      "USDJPY\n",
      "0 0\n",
      "USDCAD\n",
      "0 1\n",
      "EURUSD\n",
      "1 0\n",
      "2020-08-23 08:15:00\n",
      "2020-08-31 16:15:00\n"
     ]
    },
    {
     "name": "stderr",
     "output_type": "stream",
     "text": [
      "100%|███████████████████████████████████████████████████████████████████████████████████| 5/5 [00:00<00:00, 172.51it/s]\n"
     ]
    },
    {
     "name": "stdout",
     "output_type": "stream",
     "text": [
      "GBPUSD\n",
      "1 0\n",
      "GBPJPY\n",
      "1 0\n",
      "USDJPY\n",
      "0 0\n",
      "USDCAD\n",
      "0 1\n",
      "EURUSD\n",
      "1 0\n",
      "2020-08-23 08:30:00\n",
      "2020-08-31 16:30:00\n"
     ]
    },
    {
     "name": "stderr",
     "output_type": "stream",
     "text": [
      "100%|███████████████████████████████████████████████████████████████████████████████████| 5/5 [00:00<00:00, 166.77it/s]\n"
     ]
    },
    {
     "name": "stdout",
     "output_type": "stream",
     "text": [
      "GBPUSD\n",
      "0 0\n",
      "GBPJPY\n",
      "0 0\n",
      "USDJPY\n",
      "1 0\n",
      "Buy USDJPY\n",
      "USDCAD\n",
      "0 0\n",
      "EURUSD\n",
      "0 0\n",
      "2020-08-23 08:30:00\n",
      "2020-08-31 16:30:00\n"
     ]
    },
    {
     "name": "stderr",
     "output_type": "stream",
     "text": [
      "100%|███████████████████████████████████████████████████████████████████████████████████| 5/5 [00:00<00:00, 156.34it/s]\n"
     ]
    },
    {
     "name": "stdout",
     "output_type": "stream",
     "text": [
      "GBPUSD\n",
      "0 0\n",
      "GBPJPY\n",
      "0 0\n",
      "USDJPY\n",
      "1 0\n",
      "USDCAD\n",
      "0 0\n",
      "EURUSD\n",
      "0 0\n",
      "2020-08-23 08:30:00\n",
      "2020-08-31 16:30:00\n"
     ]
    },
    {
     "name": "stderr",
     "output_type": "stream",
     "text": [
      "100%|███████████████████████████████████████████████████████████████████████████████████| 5/5 [00:00<00:00, 200.11it/s]\n"
     ]
    },
    {
     "name": "stdout",
     "output_type": "stream",
     "text": [
      "GBPUSD\n",
      "0 0\n",
      "GBPJPY\n",
      "0 0\n",
      "USDJPY\n",
      "1 0\n",
      "USDCAD\n",
      "0 0\n",
      "EURUSD\n",
      "0 0\n",
      "2020-08-23 08:30:00\n",
      "2020-08-31 16:30:00\n"
     ]
    },
    {
     "name": "stderr",
     "output_type": "stream",
     "text": [
      "100%|███████████████████████████████████████████████████████████████████████████████████| 5/5 [00:00<00:00, 172.51it/s]\n"
     ]
    },
    {
     "name": "stdout",
     "output_type": "stream",
     "text": [
      "GBPUSD\n",
      "0 0\n",
      "GBPJPY\n",
      "0 0\n",
      "USDJPY\n",
      "1 0\n",
      "USDCAD\n",
      "0 0\n",
      "EURUSD\n",
      "0 0\n",
      "2020-08-23 08:30:00\n",
      "2020-08-31 16:30:00\n"
     ]
    },
    {
     "name": "stderr",
     "output_type": "stream",
     "text": [
      "100%|███████████████████████████████████████████████████████████████████████████████████| 5/5 [00:00<00:00, 178.67it/s]\n"
     ]
    },
    {
     "name": "stdout",
     "output_type": "stream",
     "text": [
      "GBPUSD\n",
      "0 0\n",
      "GBPJPY\n",
      "0 0\n",
      "USDJPY\n",
      "1 0\n",
      "USDCAD\n",
      "0 0\n",
      "EURUSD\n",
      "0 0\n",
      "2020-08-23 08:30:00\n",
      "2020-08-31 16:30:00\n"
     ]
    },
    {
     "name": "stderr",
     "output_type": "stream",
     "text": [
      "100%|███████████████████████████████████████████████████████████████████████████████████| 5/5 [00:00<00:00, 185.29it/s]\n"
     ]
    },
    {
     "name": "stdout",
     "output_type": "stream",
     "text": [
      "GBPUSD\n",
      "0 0\n",
      "GBPJPY\n",
      "0 0\n",
      "USDJPY\n",
      "1 0\n",
      "USDCAD\n",
      "0 0\n",
      "EURUSD\n",
      "0 0\n",
      "2020-08-23 08:30:00\n",
      "2020-08-31 16:30:00\n"
     ]
    },
    {
     "name": "stderr",
     "output_type": "stream",
     "text": [
      "100%|███████████████████████████████████████████████████████████████████████████████████| 5/5 [00:00<00:00, 185.29it/s]\n"
     ]
    },
    {
     "name": "stdout",
     "output_type": "stream",
     "text": [
      "GBPUSD\n",
      "0 0\n",
      "GBPJPY\n",
      "0 0\n",
      "USDJPY\n",
      "1 0\n",
      "USDCAD\n",
      "0 0\n",
      "EURUSD\n",
      "0 0\n",
      "2020-08-23 08:30:00\n",
      "2020-08-31 16:30:00\n"
     ]
    },
    {
     "name": "stderr",
     "output_type": "stream",
     "text": [
      "100%|███████████████████████████████████████████████████████████████████████████████████| 5/5 [00:00<00:00, 178.67it/s]\n"
     ]
    },
    {
     "name": "stdout",
     "output_type": "stream",
     "text": [
      "GBPUSD\n",
      "0 0\n",
      "GBPJPY\n",
      "0 0\n",
      "USDJPY\n",
      "1 0\n",
      "USDCAD\n",
      "0 0\n",
      "EURUSD\n",
      "0 0\n",
      "2020-08-23 08:30:00\n",
      "2020-08-31 16:30:00\n"
     ]
    },
    {
     "name": "stderr",
     "output_type": "stream",
     "text": [
      "100%|███████████████████████████████████████████████████████████████████████████████████| 5/5 [00:00<00:00, 178.67it/s]\n"
     ]
    },
    {
     "name": "stdout",
     "output_type": "stream",
     "text": [
      "GBPUSD\n",
      "0 0\n",
      "GBPJPY\n",
      "0 0\n",
      "USDJPY\n",
      "1 0\n",
      "USDCAD\n",
      "0 0\n",
      "EURUSD\n",
      "0 0\n",
      "2020-08-23 08:30:00\n",
      "2020-08-31 16:30:00\n"
     ]
    },
    {
     "name": "stderr",
     "output_type": "stream",
     "text": [
      "100%|███████████████████████████████████████████████████████████████████████████████████| 5/5 [00:00<00:00, 178.67it/s]\n"
     ]
    },
    {
     "name": "stdout",
     "output_type": "stream",
     "text": [
      "GBPUSD\n",
      "0 0\n",
      "GBPJPY\n",
      "0 0\n",
      "USDJPY\n",
      "1 0\n",
      "USDCAD\n",
      "0 0\n",
      "EURUSD\n",
      "0 0\n",
      "2020-08-23 08:30:00\n",
      "2020-08-31 16:30:00\n"
     ]
    },
    {
     "name": "stderr",
     "output_type": "stream",
     "text": [
      "100%|███████████████████████████████████████████████████████████████████████████████████| 5/5 [00:00<00:00, 178.67it/s]\n"
     ]
    },
    {
     "name": "stdout",
     "output_type": "stream",
     "text": [
      "GBPUSD\n",
      "0 0\n",
      "GBPJPY\n",
      "0 0\n",
      "USDJPY\n",
      "1 0\n",
      "USDCAD\n",
      "0 0\n",
      "EURUSD\n",
      "0 0\n",
      "2020-08-23 08:30:00\n",
      "2020-08-31 16:30:00\n"
     ]
    },
    {
     "name": "stderr",
     "output_type": "stream",
     "text": [
      "100%|███████████████████████████████████████████████████████████████████████████████████| 5/5 [00:00<00:00, 166.76it/s]\n"
     ]
    },
    {
     "name": "stdout",
     "output_type": "stream",
     "text": [
      "GBPUSD\n",
      "0 0\n",
      "GBPJPY\n",
      "0 0\n",
      "USDJPY\n",
      "1 0\n",
      "USDCAD\n",
      "0 0\n",
      "EURUSD\n",
      "0 0\n",
      "2020-08-23 08:45:00\n",
      "2020-08-31 16:45:00\n"
     ]
    },
    {
     "name": "stderr",
     "output_type": "stream",
     "text": [
      "100%|███████████████████████████████████████████████████████████████████████████████████| 5/5 [00:00<00:00, 172.51it/s]\n"
     ]
    },
    {
     "name": "stdout",
     "output_type": "stream",
     "text": [
      "GBPUSD\n",
      "0 0\n",
      "GBPJPY\n",
      "0 0\n",
      "USDJPY\n",
      "0 0\n",
      "USDCAD\n",
      "0 1\n",
      "Sell USDCAD\n",
      "EURUSD\n",
      "0 0\n",
      "2020-08-23 08:45:00\n",
      "2020-08-31 16:45:00\n"
     ]
    },
    {
     "name": "stderr",
     "output_type": "stream",
     "text": [
      "100%|███████████████████████████████████████████████████████████████████████████████████| 5/5 [00:00<00:00, 178.67it/s]\n"
     ]
    },
    {
     "name": "stdout",
     "output_type": "stream",
     "text": [
      "GBPUSD\n",
      "0 0\n",
      "GBPJPY\n",
      "0 0\n",
      "USDJPY\n",
      "0 0\n",
      "USDCAD\n",
      "0 1\n",
      "EURUSD\n",
      "0 0\n",
      "2020-08-23 08:45:00\n",
      "2020-08-31 16:45:00\n"
     ]
    },
    {
     "name": "stderr",
     "output_type": "stream",
     "text": [
      "100%|███████████████████████████████████████████████████████████████████████████████████| 5/5 [00:00<00:00, 178.67it/s]\n"
     ]
    },
    {
     "name": "stdout",
     "output_type": "stream",
     "text": [
      "GBPUSD\n",
      "0 0\n",
      "GBPJPY\n",
      "0 0\n",
      "USDJPY\n",
      "0 0\n",
      "USDCAD\n",
      "0 1\n",
      "EURUSD\n",
      "0 0\n",
      "2020-08-23 08:45:00\n",
      "2020-08-31 16:45:00\n"
     ]
    },
    {
     "name": "stderr",
     "output_type": "stream",
     "text": [
      "100%|███████████████████████████████████████████████████████████████████████████████████| 5/5 [00:00<00:00, 178.67it/s]\n"
     ]
    },
    {
     "name": "stdout",
     "output_type": "stream",
     "text": [
      "GBPUSD\n",
      "0 0\n",
      "GBPJPY\n",
      "0 0\n",
      "USDJPY\n",
      "0 0\n",
      "USDCAD\n",
      "0 1\n",
      "EURUSD\n",
      "0 0\n",
      "2020-08-23 08:45:00\n",
      "2020-08-31 16:45:00\n"
     ]
    },
    {
     "name": "stderr",
     "output_type": "stream",
     "text": [
      "100%|███████████████████████████████████████████████████████████████████████████████████| 5/5 [00:00<00:00, 178.67it/s]\n"
     ]
    },
    {
     "name": "stdout",
     "output_type": "stream",
     "text": [
      "GBPUSD\n",
      "0 0\n",
      "GBPJPY\n",
      "0 0\n",
      "USDJPY\n",
      "0 0\n",
      "USDCAD\n",
      "0 1\n",
      "EURUSD\n",
      "0 0\n",
      "2020-08-23 08:45:00\n",
      "2020-08-31 16:45:00\n"
     ]
    },
    {
     "name": "stderr",
     "output_type": "stream",
     "text": [
      "100%|███████████████████████████████████████████████████████████████████████████████████| 5/5 [00:00<00:00, 178.67it/s]\n"
     ]
    },
    {
     "name": "stdout",
     "output_type": "stream",
     "text": [
      "GBPUSD\n",
      "0 0\n",
      "GBPJPY\n",
      "0 0\n",
      "USDJPY\n",
      "0 0\n",
      "USDCAD\n",
      "0 1\n",
      "EURUSD\n",
      "0 0\n",
      "2020-08-23 08:45:00\n",
      "2020-08-31 16:45:00\n"
     ]
    },
    {
     "name": "stderr",
     "output_type": "stream",
     "text": [
      "100%|███████████████████████████████████████████████████████████████████████████████████| 5/5 [00:00<00:00, 185.29it/s]\n"
     ]
    },
    {
     "name": "stdout",
     "output_type": "stream",
     "text": [
      "GBPUSD\n",
      "0 0\n",
      "GBPJPY\n",
      "0 0\n",
      "USDJPY\n",
      "0 0\n",
      "USDCAD\n",
      "0 1\n",
      "EURUSD\n",
      "0 0\n",
      "2020-08-23 08:45:00\n",
      "2020-08-31 16:45:00\n"
     ]
    },
    {
     "name": "stderr",
     "output_type": "stream",
     "text": [
      "100%|███████████████████████████████████████████████████████████████████████████████████| 5/5 [00:00<00:00, 185.29it/s]\n"
     ]
    },
    {
     "name": "stdout",
     "output_type": "stream",
     "text": [
      "GBPUSD\n",
      "0 0\n",
      "GBPJPY\n",
      "0 0\n",
      "USDJPY\n",
      "0 0\n",
      "USDCAD\n",
      "0 1\n",
      "EURUSD\n",
      "0 0\n",
      "2020-08-23 08:45:00\n",
      "2020-08-31 16:45:00\n"
     ]
    },
    {
     "name": "stderr",
     "output_type": "stream",
     "text": [
      "100%|███████████████████████████████████████████████████████████████████████████████████| 5/5 [00:00<00:00, 178.68it/s]\n"
     ]
    },
    {
     "name": "stdout",
     "output_type": "stream",
     "text": [
      "GBPUSD\n",
      "0 0\n",
      "GBPJPY\n",
      "0 0\n",
      "USDJPY\n",
      "0 0\n",
      "USDCAD\n",
      "0 1\n",
      "EURUSD\n",
      "0 0\n",
      "2020-08-23 08:45:00\n",
      "2020-08-31 16:45:00\n"
     ]
    },
    {
     "name": "stderr",
     "output_type": "stream",
     "text": [
      "100%|███████████████████████████████████████████████████████████████████████████████████| 5/5 [00:00<00:00, 178.67it/s]\n"
     ]
    },
    {
     "name": "stdout",
     "output_type": "stream",
     "text": [
      "GBPUSD\n",
      "0 0\n",
      "GBPJPY\n",
      "0 0\n",
      "USDJPY\n",
      "0 0\n",
      "USDCAD\n",
      "0 1\n",
      "EURUSD\n",
      "0 0\n",
      "2020-08-23 08:45:00\n",
      "2020-08-31 16:45:00\n"
     ]
    },
    {
     "name": "stderr",
     "output_type": "stream",
     "text": [
      "100%|███████████████████████████████████████████████████████████████████████████████████| 5/5 [00:00<00:00, 185.29it/s]\n"
     ]
    },
    {
     "name": "stdout",
     "output_type": "stream",
     "text": [
      "GBPUSD\n",
      "0 0\n",
      "GBPJPY\n",
      "0 0\n",
      "USDJPY\n",
      "0 0\n",
      "USDCAD\n",
      "0 1\n",
      "EURUSD\n",
      "0 0\n",
      "2020-08-23 08:45:00\n",
      "2020-08-31 16:45:00\n"
     ]
    },
    {
     "name": "stderr",
     "output_type": "stream",
     "text": [
      "100%|███████████████████████████████████████████████████████████████████████████████████| 5/5 [00:00<00:00, 178.67it/s]\n"
     ]
    },
    {
     "name": "stdout",
     "output_type": "stream",
     "text": [
      "GBPUSD\n",
      "0 0\n",
      "GBPJPY\n",
      "0 0\n",
      "USDJPY\n",
      "0 0\n",
      "USDCAD\n",
      "0 1\n",
      "EURUSD\n",
      "0 0\n",
      "2020-08-23 09:00:00\n",
      "2020-08-31 17:00:00\n"
     ]
    },
    {
     "name": "stderr",
     "output_type": "stream",
     "text": [
      "100%|███████████████████████████████████████████████████████████████████████████████████| 5/5 [00:00<00:00, 138.97it/s]\n"
     ]
    },
    {
     "name": "stdout",
     "output_type": "stream",
     "text": [
      "GBPUSD\n",
      "0 1\n",
      "Sell GBPUSD\n",
      "GBPJPY\n",
      "0 0\n",
      "USDJPY\n",
      "1 0\n",
      "Buy USDJPY\n",
      "USDCAD\n",
      "0 0\n",
      "EURUSD\n",
      "0 1\n",
      "Sell EURUSD\n",
      "2020-08-23 09:00:00\n",
      "2020-08-31 17:00:00\n"
     ]
    },
    {
     "name": "stderr",
     "output_type": "stream",
     "text": [
      "100%|███████████████████████████████████████████████████████████████████████████████████| 5/5 [00:00<00:00, 147.17it/s]\n"
     ]
    },
    {
     "name": "stdout",
     "output_type": "stream",
     "text": [
      "GBPUSD\n",
      "0 1\n",
      "GBPJPY\n",
      "0 0\n",
      "USDJPY\n",
      "1 0\n",
      "USDCAD\n",
      "0 0\n",
      "EURUSD\n",
      "0 1\n",
      "2020-08-23 09:00:00\n",
      "2020-08-31 17:00:00\n"
     ]
    },
    {
     "name": "stderr",
     "output_type": "stream",
     "text": [
      "100%|███████████████████████████████████████████████████████████████████████████████████| 5/5 [00:00<00:00, 142.94it/s]\n"
     ]
    },
    {
     "name": "stdout",
     "output_type": "stream",
     "text": [
      "GBPUSD\n",
      "0 1\n",
      "GBPJPY\n",
      "0 0\n",
      "USDJPY\n",
      "1 0\n",
      "USDCAD\n",
      "0 0\n",
      "EURUSD\n",
      "0 1\n",
      "2020-08-23 09:00:00\n",
      "2020-08-31 17:00:00\n"
     ]
    },
    {
     "name": "stderr",
     "output_type": "stream",
     "text": [
      "100%|███████████████████████████████████████████████████████████████████████████████████| 5/5 [00:00<00:00, 172.52it/s]\n"
     ]
    },
    {
     "name": "stdout",
     "output_type": "stream",
     "text": [
      "GBPUSD\n",
      "0 1\n",
      "GBPJPY\n",
      "0 0\n",
      "USDJPY\n",
      "1 0\n",
      "USDCAD\n",
      "0 0\n",
      "EURUSD\n",
      "0 1\n",
      "2020-08-23 09:00:00\n",
      "2020-08-31 17:00:00\n"
     ]
    },
    {
     "name": "stderr",
     "output_type": "stream",
     "text": [
      "100%|███████████████████████████████████████████████████████████████████████████████████| 5/5 [00:00<00:00, 172.52it/s]\n"
     ]
    },
    {
     "name": "stdout",
     "output_type": "stream",
     "text": [
      "GBPUSD\n",
      "0 1\n",
      "GBPJPY\n",
      "0 0\n",
      "USDJPY\n",
      "1 0\n",
      "USDCAD\n",
      "0 0\n",
      "EURUSD\n",
      "0 1\n",
      "2020-08-23 09:00:00\n",
      "2020-08-31 17:00:00\n"
     ]
    },
    {
     "name": "stderr",
     "output_type": "stream",
     "text": [
      "100%|███████████████████████████████████████████████████████████████████████████████████| 5/5 [00:00<00:00, 166.76it/s]\n"
     ]
    },
    {
     "name": "stdout",
     "output_type": "stream",
     "text": [
      "GBPUSD\n",
      "0 1\n",
      "GBPJPY\n",
      "0 0\n",
      "USDJPY\n",
      "1 0\n",
      "USDCAD\n",
      "0 0\n",
      "EURUSD\n",
      "0 1\n",
      "2020-08-23 09:00:00\n",
      "2020-08-31 17:00:00\n"
     ]
    },
    {
     "name": "stderr",
     "output_type": "stream",
     "text": [
      "100%|███████████████████████████████████████████████████████████████████████████████████| 5/5 [00:00<00:00, 142.94it/s]\n"
     ]
    },
    {
     "name": "stdout",
     "output_type": "stream",
     "text": [
      "GBPUSD\n",
      "0 1\n",
      "GBPJPY\n",
      "0 0\n",
      "USDJPY\n",
      "1 0\n",
      "USDCAD\n",
      "0 0\n",
      "EURUSD\n",
      "0 1\n",
      "2020-08-23 09:00:00\n",
      "2020-08-31 17:00:00\n"
     ]
    },
    {
     "name": "stderr",
     "output_type": "stream",
     "text": [
      "100%|███████████████████████████████████████████████████████████████████████████████████| 5/5 [00:00<00:00, 166.77it/s]\n"
     ]
    },
    {
     "name": "stdout",
     "output_type": "stream",
     "text": [
      "GBPUSD\n",
      "0 1\n",
      "GBPJPY\n",
      "0 0\n",
      "USDJPY\n",
      "1 0\n",
      "USDCAD\n",
      "0 0\n",
      "EURUSD\n",
      "0 1\n",
      "2020-08-23 09:00:00\n",
      "2020-08-31 17:00:00\n"
     ]
    },
    {
     "name": "stderr",
     "output_type": "stream",
     "text": [
      "100%|███████████████████████████████████████████████████████████████████████████████████| 5/5 [00:00<00:00, 166.76it/s]\n"
     ]
    },
    {
     "name": "stdout",
     "output_type": "stream",
     "text": [
      "GBPUSD\n",
      "0 1\n",
      "GBPJPY\n",
      "0 0\n",
      "USDJPY\n",
      "1 0\n",
      "USDCAD\n",
      "0 0\n",
      "EURUSD\n",
      "0 1\n",
      "2020-08-23 09:00:00\n",
      "2020-08-31 17:00:00\n"
     ]
    },
    {
     "name": "stderr",
     "output_type": "stream",
     "text": [
      "100%|███████████████████████████████████████████████████████████████████████████████████| 5/5 [00:00<00:00, 142.94it/s]\n"
     ]
    },
    {
     "name": "stdout",
     "output_type": "stream",
     "text": [
      "GBPUSD\n",
      "0 1\n",
      "GBPJPY\n",
      "0 0\n",
      "USDJPY\n",
      "1 0\n",
      "USDCAD\n",
      "0 0\n",
      "EURUSD\n",
      "0 1\n",
      "2020-08-23 09:15:00\n",
      "2020-08-31 17:15:00\n"
     ]
    },
    {
     "name": "stderr",
     "output_type": "stream",
     "text": [
      "100%|███████████████████████████████████████████████████████████████████████████████████| 5/5 [00:00<00:00, 172.52it/s]\n"
     ]
    },
    {
     "name": "stdout",
     "output_type": "stream",
     "text": [
      "GBPUSD\n",
      "1 0\n",
      "Buy GBPUSD\n",
      "GBPJPY\n",
      "1 0\n",
      "Buy GBPJPY\n",
      "USDJPY\n",
      "0 1\n",
      "Sell USDJPY\n",
      "USDCAD\n",
      "0 1\n",
      "Sell USDCAD\n",
      "EURUSD\n",
      "0 0\n",
      "2020-08-23 09:15:00\n",
      "2020-08-31 17:15:00\n"
     ]
    },
    {
     "name": "stderr",
     "output_type": "stream",
     "text": [
      "100%|███████████████████████████████████████████████████████████████████████████████████| 5/5 [00:00<00:00, 166.76it/s]\n"
     ]
    },
    {
     "name": "stdout",
     "output_type": "stream",
     "text": [
      "GBPUSD\n",
      "1 0\n",
      "GBPJPY\n",
      "1 0\n",
      "USDJPY\n",
      "0 1\n",
      "USDCAD\n",
      "0 1\n",
      "EURUSD\n",
      "0 0\n",
      "2020-08-23 09:15:00\n",
      "2020-08-31 17:15:00\n"
     ]
    },
    {
     "name": "stderr",
     "output_type": "stream",
     "text": [
      "100%|███████████████████████████████████████████████████████████████████████████████████| 5/5 [00:00<00:00, 185.30it/s]\n"
     ]
    },
    {
     "name": "stdout",
     "output_type": "stream",
     "text": [
      "GBPUSD\n",
      "1 0\n",
      "GBPJPY\n",
      "1 0\n",
      "USDJPY\n",
      "0 1\n",
      "USDCAD\n",
      "0 1\n",
      "EURUSD\n",
      "0 0\n",
      "2020-08-23 09:15:00\n",
      "2020-08-31 17:15:00\n"
     ]
    },
    {
     "name": "stderr",
     "output_type": "stream",
     "text": [
      "100%|███████████████████████████████████████████████████████████████████████████████████| 5/5 [00:00<00:00, 178.67it/s]\n"
     ]
    },
    {
     "name": "stdout",
     "output_type": "stream",
     "text": [
      "GBPUSD\n",
      "1 0\n",
      "GBPJPY\n",
      "1 0\n",
      "USDJPY\n",
      "0 1\n",
      "USDCAD\n",
      "0 1\n",
      "EURUSD\n",
      "0 0\n",
      "2020-08-23 09:15:00\n",
      "2020-08-31 17:15:00\n"
     ]
    },
    {
     "name": "stderr",
     "output_type": "stream",
     "text": [
      "100%|███████████████████████████████████████████████████████████████████████████████████| 5/5 [00:00<00:00, 178.67it/s]\n"
     ]
    },
    {
     "name": "stdout",
     "output_type": "stream",
     "text": [
      "GBPUSD\n",
      "1 0\n",
      "GBPJPY\n",
      "1 0\n",
      "USDJPY\n",
      "0 1\n",
      "USDCAD\n",
      "0 1\n",
      "EURUSD\n",
      "0 0\n",
      "2020-08-23 09:15:00\n",
      "2020-08-31 17:15:00\n"
     ]
    },
    {
     "name": "stderr",
     "output_type": "stream",
     "text": [
      "100%|███████████████████████████████████████████████████████████████████████████████████| 5/5 [00:00<00:00, 178.68it/s]\n"
     ]
    },
    {
     "name": "stdout",
     "output_type": "stream",
     "text": [
      "GBPUSD\n",
      "1 0\n",
      "GBPJPY\n",
      "1 0\n",
      "USDJPY\n",
      "0 1\n",
      "USDCAD\n",
      "0 1\n",
      "EURUSD\n",
      "0 0\n",
      "2020-08-23 09:15:00\n",
      "2020-08-31 17:15:00\n"
     ]
    },
    {
     "name": "stderr",
     "output_type": "stream",
     "text": [
      "100%|███████████████████████████████████████████████████████████████████████████████████| 5/5 [00:00<00:00, 178.68it/s]\n"
     ]
    },
    {
     "name": "stdout",
     "output_type": "stream",
     "text": [
      "GBPUSD\n",
      "1 0\n",
      "GBPJPY\n",
      "1 0\n",
      "USDJPY\n",
      "0 1\n",
      "USDCAD\n",
      "0 1\n",
      "EURUSD\n",
      "0 0\n",
      "2020-08-23 09:15:00\n",
      "2020-08-31 17:15:00\n"
     ]
    },
    {
     "name": "stderr",
     "output_type": "stream",
     "text": [
      "100%|███████████████████████████████████████████████████████████████████████████████████| 5/5 [00:00<00:00, 192.42it/s]\n"
     ]
    },
    {
     "name": "stdout",
     "output_type": "stream",
     "text": [
      "GBPUSD\n",
      "1 0\n",
      "GBPJPY\n",
      "1 0\n",
      "USDJPY\n",
      "0 1\n",
      "USDCAD\n",
      "0 1\n",
      "EURUSD\n",
      "0 0\n",
      "2020-08-23 09:15:00\n",
      "2020-08-31 17:15:00\n"
     ]
    },
    {
     "name": "stderr",
     "output_type": "stream",
     "text": [
      "100%|███████████████████████████████████████████████████████████████████████████████████| 5/5 [00:00<00:00, 178.67it/s]\n"
     ]
    },
    {
     "name": "stdout",
     "output_type": "stream",
     "text": [
      "GBPUSD\n",
      "1 0\n",
      "GBPJPY\n",
      "1 0\n",
      "USDJPY\n",
      "0 1\n",
      "USDCAD\n",
      "0 1\n",
      "EURUSD\n",
      "0 0\n",
      "2020-08-23 09:15:00\n",
      "2020-08-31 17:15:00\n"
     ]
    },
    {
     "name": "stderr",
     "output_type": "stream",
     "text": [
      "100%|███████████████████████████████████████████████████████████████████████████████████| 5/5 [00:00<00:00, 178.67it/s]\n"
     ]
    },
    {
     "name": "stdout",
     "output_type": "stream",
     "text": [
      "GBPUSD\n",
      "1 0\n",
      "GBPJPY\n",
      "1 0\n",
      "USDJPY\n",
      "0 1\n",
      "USDCAD\n",
      "0 1\n",
      "EURUSD\n",
      "0 0\n",
      "2020-08-23 09:30:00\n",
      "2020-08-31 17:30:00\n"
     ]
    },
    {
     "name": "stderr",
     "output_type": "stream",
     "text": [
      "100%|███████████████████████████████████████████████████████████████████████████████████| 5/5 [00:00<00:00, 178.68it/s]\n"
     ]
    },
    {
     "name": "stdout",
     "output_type": "stream",
     "text": [
      "GBPUSD\n",
      "1 0\n",
      "GBPJPY\n",
      "1 0\n",
      "USDJPY\n",
      "0 0\n",
      "USDCAD\n",
      "0 0\n",
      "EURUSD\n",
      "1 0\n",
      "Buy EURUSD\n",
      "2020-08-23 09:30:00\n",
      "2020-08-31 17:30:00\n"
     ]
    },
    {
     "name": "stderr",
     "output_type": "stream",
     "text": [
      "100%|███████████████████████████████████████████████████████████████████████████████████| 5/5 [00:00<00:00, 166.76it/s]\n"
     ]
    },
    {
     "name": "stdout",
     "output_type": "stream",
     "text": [
      "GBPUSD\n",
      "1 0\n",
      "GBPJPY\n",
      "1 0\n",
      "USDJPY\n",
      "0 0\n",
      "USDCAD\n",
      "0 0\n",
      "EURUSD\n",
      "1 0\n",
      "2020-08-23 09:30:00\n",
      "2020-08-31 17:30:00\n"
     ]
    },
    {
     "name": "stderr",
     "output_type": "stream",
     "text": [
      "100%|███████████████████████████████████████████████████████████████████████████████████| 5/5 [00:00<00:00, 161.39it/s]\n"
     ]
    },
    {
     "name": "stdout",
     "output_type": "stream",
     "text": [
      "GBPUSD\n",
      "1 0\n",
      "GBPJPY\n",
      "1 0\n",
      "USDJPY\n",
      "0 0\n",
      "USDCAD\n",
      "0 0\n",
      "EURUSD\n",
      "1 0\n",
      "2020-08-23 09:30:00\n",
      "2020-08-31 17:30:00\n"
     ]
    },
    {
     "name": "stderr",
     "output_type": "stream",
     "text": [
      "100%|███████████████████████████████████████████████████████████████████████████████████| 5/5 [00:00<00:00, 166.76it/s]\n"
     ]
    },
    {
     "name": "stdout",
     "output_type": "stream",
     "text": [
      "GBPUSD\n",
      "1 0\n",
      "GBPJPY\n",
      "1 0\n",
      "USDJPY\n",
      "0 0\n",
      "USDCAD\n",
      "0 0\n",
      "EURUSD\n",
      "1 0\n",
      "2020-08-23 09:30:00\n",
      "2020-08-31 17:30:00\n"
     ]
    },
    {
     "name": "stderr",
     "output_type": "stream",
     "text": [
      "100%|███████████████████████████████████████████████████████████████████████████████████| 5/5 [00:00<00:00, 151.61it/s]\n"
     ]
    },
    {
     "name": "stdout",
     "output_type": "stream",
     "text": [
      "GBPUSD\n",
      "1 0\n",
      "GBPJPY\n",
      "1 0\n",
      "USDJPY\n",
      "0 0\n",
      "USDCAD\n",
      "0 0\n",
      "EURUSD\n",
      "1 0\n",
      "2020-08-23 09:30:00\n",
      "2020-08-31 17:30:00\n"
     ]
    },
    {
     "name": "stderr",
     "output_type": "stream",
     "text": [
      "100%|███████████████████████████████████████████████████████████████████████████████████| 5/5 [00:00<00:00, 166.76it/s]\n"
     ]
    },
    {
     "name": "stdout",
     "output_type": "stream",
     "text": [
      "GBPUSD\n",
      "1 0\n",
      "GBPJPY\n",
      "1 0\n",
      "USDJPY\n",
      "0 0\n",
      "USDCAD\n",
      "0 0\n",
      "EURUSD\n",
      "1 0\n",
      "2020-08-23 09:30:00\n",
      "2020-08-31 17:30:00\n"
     ]
    },
    {
     "name": "stderr",
     "output_type": "stream",
     "text": [
      "100%|███████████████████████████████████████████████████████████████████████████████████| 5/5 [00:00<00:00, 151.60it/s]\n"
     ]
    },
    {
     "name": "stdout",
     "output_type": "stream",
     "text": [
      "GBPUSD\n",
      "1 0\n",
      "GBPJPY\n",
      "1 0\n",
      "USDJPY\n",
      "0 0\n",
      "USDCAD\n",
      "0 0\n",
      "EURUSD\n",
      "1 0\n",
      "2020-08-23 09:30:00\n",
      "2020-08-31 17:30:00\n"
     ]
    },
    {
     "name": "stderr",
     "output_type": "stream",
     "text": [
      "100%|███████████████████████████████████████████████████████████████████████████████████| 5/5 [00:00<00:00, 166.76it/s]\n"
     ]
    },
    {
     "name": "stdout",
     "output_type": "stream",
     "text": [
      "GBPUSD\n",
      "1 0\n",
      "GBPJPY\n",
      "1 0\n",
      "USDJPY\n",
      "0 0\n",
      "USDCAD\n",
      "0 0\n",
      "EURUSD\n",
      "1 0\n",
      "2020-08-23 09:30:00\n",
      "2020-08-31 17:30:00\n"
     ]
    },
    {
     "name": "stderr",
     "output_type": "stream",
     "text": [
      "100%|███████████████████████████████████████████████████████████████████████████████████| 5/5 [00:00<00:00, 161.38it/s]\n"
     ]
    },
    {
     "name": "stdout",
     "output_type": "stream",
     "text": [
      "GBPUSD\n",
      "1 0\n",
      "GBPJPY\n",
      "1 0\n",
      "USDJPY\n",
      "0 0\n",
      "USDCAD\n",
      "0 0\n",
      "EURUSD\n",
      "1 0\n",
      "2020-08-23 09:30:00\n",
      "2020-08-31 17:30:00\n"
     ]
    },
    {
     "name": "stderr",
     "output_type": "stream",
     "text": [
      "100%|███████████████████████████████████████████████████████████████████████████████████| 5/5 [00:00<00:00, 147.14it/s]\n"
     ]
    },
    {
     "name": "stdout",
     "output_type": "stream",
     "text": [
      "GBPUSD\n",
      "1 0\n",
      "GBPJPY\n",
      "1 0\n",
      "USDJPY\n",
      "0 0\n",
      "USDCAD\n",
      "0 0\n",
      "EURUSD\n",
      "1 0\n",
      "2020-08-23 09:45:00\n",
      "2020-08-31 17:45:00\n"
     ]
    },
    {
     "name": "stderr",
     "output_type": "stream",
     "text": [
      "100%|███████████████████████████████████████████████████████████████████████████████████| 5/5 [00:00<00:00, 172.51it/s]\n"
     ]
    },
    {
     "name": "stdout",
     "output_type": "stream",
     "text": [
      "GBPUSD\n",
      "0 0\n",
      "GBPJPY\n",
      "0 0\n",
      "USDJPY\n",
      "0 0\n",
      "USDCAD\n",
      "0 1\n",
      "Sell USDCAD\n",
      "EURUSD\n",
      "1 0\n",
      "2020-08-23 09:45:00\n",
      "2020-08-31 17:45:00\n"
     ]
    },
    {
     "name": "stderr",
     "output_type": "stream",
     "text": [
      "100%|███████████████████████████████████████████████████████████████████████████████████| 5/5 [00:00<00:00, 147.19it/s]\n"
     ]
    },
    {
     "name": "stdout",
     "output_type": "stream",
     "text": [
      "GBPUSD\n",
      "0 0\n",
      "GBPJPY\n",
      "0 0\n",
      "USDJPY\n",
      "0 0\n",
      "USDCAD\n",
      "0 1\n",
      "EURUSD\n",
      "1 0\n",
      "2020-08-23 09:45:00\n",
      "2020-08-31 17:45:00\n"
     ]
    },
    {
     "name": "stderr",
     "output_type": "stream",
     "text": [
      "100%|███████████████████████████████████████████████████████████████████████████████████| 5/5 [00:00<00:00, 166.77it/s]\n"
     ]
    },
    {
     "name": "stdout",
     "output_type": "stream",
     "text": [
      "GBPUSD\n",
      "0 0\n",
      "GBPJPY\n",
      "0 0\n",
      "USDJPY\n",
      "0 0\n",
      "USDCAD\n",
      "0 1\n",
      "EURUSD\n",
      "1 0\n",
      "2020-08-23 09:45:00\n",
      "2020-08-31 17:45:00\n"
     ]
    },
    {
     "name": "stderr",
     "output_type": "stream",
     "text": [
      "100%|███████████████████████████████████████████████████████████████████████████████████| 5/5 [00:00<00:00, 178.67it/s]\n"
     ]
    },
    {
     "name": "stdout",
     "output_type": "stream",
     "text": [
      "GBPUSD\n",
      "0 0\n",
      "GBPJPY\n",
      "0 0\n",
      "USDJPY\n",
      "0 0\n",
      "USDCAD\n",
      "0 1\n",
      "EURUSD\n",
      "1 0\n",
      "2020-08-23 09:45:00\n",
      "2020-08-31 17:45:00\n"
     ]
    },
    {
     "name": "stderr",
     "output_type": "stream",
     "text": [
      "100%|███████████████████████████████████████████████████████████████████████████████████| 5/5 [00:00<00:00, 161.39it/s]\n"
     ]
    },
    {
     "name": "stdout",
     "output_type": "stream",
     "text": [
      "GBPUSD\n",
      "0 0\n",
      "GBPJPY\n",
      "0 0\n",
      "USDJPY\n",
      "0 0\n",
      "USDCAD\n",
      "0 1\n",
      "EURUSD\n",
      "1 0\n",
      "2020-08-23 09:45:00\n",
      "2020-08-31 17:45:00\n"
     ]
    },
    {
     "name": "stderr",
     "output_type": "stream",
     "text": [
      "100%|███████████████████████████████████████████████████████████████████████████████████| 5/5 [00:00<00:00, 172.51it/s]\n"
     ]
    },
    {
     "name": "stdout",
     "output_type": "stream",
     "text": [
      "GBPUSD\n",
      "0 0\n",
      "GBPJPY\n",
      "0 0\n",
      "USDJPY\n",
      "0 0\n",
      "USDCAD\n",
      "0 1\n",
      "EURUSD\n",
      "1 0\n",
      "2020-08-23 09:45:00\n",
      "2020-08-31 17:45:00\n"
     ]
    },
    {
     "name": "stderr",
     "output_type": "stream",
     "text": [
      "100%|███████████████████████████████████████████████████████████████████████████████████| 5/5 [00:00<00:00, 151.61it/s]\n"
     ]
    },
    {
     "name": "stdout",
     "output_type": "stream",
     "text": [
      "GBPUSD\n",
      "0 0\n",
      "GBPJPY\n",
      "0 0\n",
      "USDJPY\n",
      "0 0\n",
      "USDCAD\n",
      "0 1\n",
      "EURUSD\n",
      "1 0\n",
      "2020-08-23 09:45:00\n",
      "2020-08-31 17:45:00\n"
     ]
    },
    {
     "name": "stderr",
     "output_type": "stream",
     "text": [
      "100%|███████████████████████████████████████████████████████████████████████████████████| 5/5 [00:00<00:00, 172.51it/s]\n"
     ]
    },
    {
     "name": "stdout",
     "output_type": "stream",
     "text": [
      "GBPUSD\n",
      "0 0\n",
      "GBPJPY\n",
      "0 0\n",
      "USDJPY\n",
      "0 0\n",
      "USDCAD\n",
      "0 1\n",
      "EURUSD\n",
      "1 0\n",
      "2020-08-23 09:45:00\n",
      "2020-08-31 17:45:00\n"
     ]
    },
    {
     "name": "stderr",
     "output_type": "stream",
     "text": [
      "100%|███████████████████████████████████████████████████████████████████████████████████| 5/5 [00:00<00:00, 142.94it/s]\n"
     ]
    },
    {
     "name": "stdout",
     "output_type": "stream",
     "text": [
      "GBPUSD\n",
      "0 0\n",
      "GBPJPY\n",
      "0 0\n",
      "USDJPY\n",
      "0 0\n",
      "USDCAD\n",
      "0 1\n",
      "EURUSD\n",
      "1 0\n",
      "2020-08-23 09:45:00\n",
      "2020-08-31 17:45:00\n"
     ]
    },
    {
     "name": "stderr",
     "output_type": "stream",
     "text": [
      "100%|███████████████████████████████████████████████████████████████████████████████████| 5/5 [00:00<00:00, 178.68it/s]\n"
     ]
    },
    {
     "name": "stdout",
     "output_type": "stream",
     "text": [
      "GBPUSD\n",
      "0 0\n",
      "GBPJPY\n",
      "0 0\n",
      "USDJPY\n",
      "0 0\n",
      "USDCAD\n",
      "0 1\n",
      "EURUSD\n",
      "1 0\n",
      "2020-08-23 10:00:00\n",
      "2020-08-31 18:00:00\n"
     ]
    },
    {
     "name": "stderr",
     "output_type": "stream",
     "text": [
      "100%|███████████████████████████████████████████████████████████████████████████████████| 5/5 [00:00<00:00, 128.28it/s]\n"
     ]
    },
    {
     "name": "stdout",
     "output_type": "stream",
     "text": [
      "GBPUSD\n",
      "1 0\n",
      "Buy GBPUSD\n",
      "GBPJPY\n",
      "1 0\n",
      "Buy GBPJPY\n",
      "USDJPY\n",
      "1 0\n",
      "Buy USDJPY\n",
      "USDCAD\n",
      "0 0\n",
      "EURUSD\n",
      "0 0\n",
      "2020-08-23 10:00:00\n",
      "2020-08-31 18:00:00\n"
     ]
    },
    {
     "name": "stderr",
     "output_type": "stream",
     "text": [
      "100%|███████████████████████████████████████████████████████████████████████████████████| 5/5 [00:00<00:00, 156.34it/s]\n"
     ]
    },
    {
     "name": "stdout",
     "output_type": "stream",
     "text": [
      "GBPUSD\n",
      "1 0\n",
      "GBPJPY\n",
      "1 0\n",
      "USDJPY\n",
      "1 0\n",
      "USDCAD\n",
      "0 0\n",
      "EURUSD\n",
      "0 0\n",
      "2020-08-23 10:00:00\n",
      "2020-08-31 18:00:00\n"
     ]
    },
    {
     "name": "stderr",
     "output_type": "stream",
     "text": [
      "100%|███████████████████████████████████████████████████████████████████████████████████| 5/5 [00:00<00:00, 172.51it/s]\n"
     ]
    },
    {
     "name": "stdout",
     "output_type": "stream",
     "text": [
      "GBPUSD\n",
      "1 0\n",
      "GBPJPY\n",
      "1 0\n",
      "USDJPY\n",
      "1 0\n",
      "USDCAD\n",
      "0 0\n",
      "EURUSD\n",
      "0 0\n",
      "2020-08-23 10:00:00\n",
      "2020-08-31 18:00:00\n"
     ]
    },
    {
     "name": "stderr",
     "output_type": "stream",
     "text": [
      "100%|███████████████████████████████████████████████████████████████████████████████████| 5/5 [00:00<00:00, 172.51it/s]\n"
     ]
    },
    {
     "name": "stdout",
     "output_type": "stream",
     "text": [
      "GBPUSD\n",
      "1 0\n",
      "GBPJPY\n",
      "1 0\n",
      "USDJPY\n",
      "1 0\n",
      "USDCAD\n",
      "0 0\n",
      "EURUSD\n",
      "0 0\n",
      "2020-08-23 10:00:00\n",
      "2020-08-31 18:00:00\n"
     ]
    },
    {
     "name": "stderr",
     "output_type": "stream",
     "text": [
      "100%|███████████████████████████████████████████████████████████████████████████████████| 5/5 [00:00<00:00, 166.76it/s]\n"
     ]
    },
    {
     "name": "stdout",
     "output_type": "stream",
     "text": [
      "GBPUSD\n",
      "1 0\n",
      "GBPJPY\n",
      "1 0\n",
      "USDJPY\n",
      "1 0\n",
      "USDCAD\n",
      "0 0\n",
      "EURUSD\n",
      "0 0\n",
      "2020-08-23 10:00:00\n",
      "2020-08-31 18:00:00\n"
     ]
    },
    {
     "name": "stderr",
     "output_type": "stream",
     "text": [
      "100%|███████████████████████████████████████████████████████████████████████████████████| 5/5 [00:00<00:00, 156.34it/s]\n"
     ]
    },
    {
     "name": "stdout",
     "output_type": "stream",
     "text": [
      "GBPUSD\n",
      "1 0\n",
      "GBPJPY\n",
      "1 0\n",
      "USDJPY\n",
      "1 0\n",
      "USDCAD\n",
      "0 0\n",
      "EURUSD\n",
      "0 0\n",
      "2020-08-23 10:00:00\n",
      "2020-08-31 18:00:00\n"
     ]
    },
    {
     "name": "stderr",
     "output_type": "stream",
     "text": [
      "100%|███████████████████████████████████████████████████████████████████████████████████| 5/5 [00:00<00:00, 172.51it/s]\n"
     ]
    },
    {
     "name": "stdout",
     "output_type": "stream",
     "text": [
      "GBPUSD\n",
      "1 0\n",
      "GBPJPY\n",
      "1 0\n",
      "USDJPY\n",
      "1 0\n",
      "USDCAD\n",
      "0 0\n",
      "EURUSD\n",
      "0 0\n",
      "2020-08-23 10:00:00\n",
      "2020-08-31 18:00:00\n"
     ]
    },
    {
     "name": "stderr",
     "output_type": "stream",
     "text": [
      "100%|███████████████████████████████████████████████████████████████████████████████████| 5/5 [00:00<00:00, 151.60it/s]\n"
     ]
    },
    {
     "name": "stdout",
     "output_type": "stream",
     "text": [
      "GBPUSD\n",
      "1 0\n",
      "GBPJPY\n",
      "1 0\n",
      "USDJPY\n",
      "1 0\n",
      "USDCAD\n",
      "0 0\n",
      "EURUSD\n",
      "0 0\n",
      "2020-08-23 10:15:00\n",
      "2020-08-31 18:15:00\n"
     ]
    },
    {
     "name": "stderr",
     "output_type": "stream",
     "text": [
      "100%|███████████████████████████████████████████████████████████████████████████████████| 5/5 [00:00<00:00, 161.38it/s]\n"
     ]
    },
    {
     "name": "stdout",
     "output_type": "stream",
     "text": [
      "GBPUSD\n",
      "0 0\n",
      "GBPJPY\n",
      "0 0\n",
      "USDJPY\n",
      "0 1\n",
      "Sell USDJPY\n",
      "USDCAD\n",
      "1 0\n",
      "Buy USDCAD\n",
      "EURUSD\n",
      "0 0\n",
      "2020-08-23 10:15:00\n",
      "2020-08-31 18:15:00\n"
     ]
    },
    {
     "name": "stderr",
     "output_type": "stream",
     "text": [
      "100%|███████████████████████████████████████████████████████████████████████████████████| 5/5 [00:00<00:00, 178.67it/s]\n"
     ]
    },
    {
     "name": "stdout",
     "output_type": "stream",
     "text": [
      "GBPUSD\n",
      "0 0\n",
      "GBPJPY\n",
      "0 0\n",
      "USDJPY\n",
      "0 1\n",
      "USDCAD\n",
      "1 0\n",
      "EURUSD\n",
      "0 0\n",
      "2020-08-23 10:15:00\n",
      "2020-08-31 18:15:00\n"
     ]
    },
    {
     "name": "stderr",
     "output_type": "stream",
     "text": [
      "100%|███████████████████████████████████████████████████████████████████████████████████| 5/5 [00:00<00:00, 178.67it/s]\n"
     ]
    },
    {
     "name": "stdout",
     "output_type": "stream",
     "text": [
      "GBPUSD\n",
      "0 0\n",
      "GBPJPY\n",
      "0 0\n",
      "USDJPY\n",
      "0 1\n",
      "USDCAD\n",
      "1 0\n",
      "EURUSD\n",
      "0 0\n",
      "2020-08-23 10:15:00\n",
      "2020-08-31 18:15:00\n"
     ]
    },
    {
     "name": "stderr",
     "output_type": "stream",
     "text": [
      "100%|███████████████████████████████████████████████████████████████████████████████████| 5/5 [00:00<00:00, 178.67it/s]\n"
     ]
    },
    {
     "name": "stdout",
     "output_type": "stream",
     "text": [
      "GBPUSD\n",
      "0 0\n",
      "GBPJPY\n",
      "0 0\n",
      "USDJPY\n",
      "0 1\n",
      "USDCAD\n",
      "1 0\n",
      "EURUSD\n",
      "0 0\n",
      "2020-08-23 10:15:00\n",
      "2020-08-31 18:15:00\n"
     ]
    },
    {
     "name": "stderr",
     "output_type": "stream",
     "text": [
      "100%|███████████████████████████████████████████████████████████████████████████████████| 5/5 [00:00<00:00, 185.29it/s]\n"
     ]
    },
    {
     "name": "stdout",
     "output_type": "stream",
     "text": [
      "GBPUSD\n",
      "0 0\n",
      "GBPJPY\n",
      "0 0\n",
      "USDJPY\n",
      "0 1\n",
      "USDCAD\n",
      "1 0\n",
      "EURUSD\n",
      "0 0\n",
      "2020-08-23 10:15:00\n",
      "2020-08-31 18:15:00\n"
     ]
    },
    {
     "name": "stderr",
     "output_type": "stream",
     "text": [
      "100%|███████████████████████████████████████████████████████████████████████████████████| 5/5 [00:00<00:00, 172.51it/s]\n"
     ]
    },
    {
     "name": "stdout",
     "output_type": "stream",
     "text": [
      "GBPUSD\n",
      "0 0\n",
      "GBPJPY\n",
      "0 0\n",
      "USDJPY\n",
      "0 1\n",
      "USDCAD\n",
      "1 0\n",
      "EURUSD\n",
      "0 0\n",
      "2020-08-23 10:15:00\n",
      "2020-08-31 18:15:00\n"
     ]
    },
    {
     "name": "stderr",
     "output_type": "stream",
     "text": [
      "100%|███████████████████████████████████████████████████████████████████████████████████| 5/5 [00:00<00:00, 178.68it/s]\n"
     ]
    },
    {
     "name": "stdout",
     "output_type": "stream",
     "text": [
      "GBPUSD\n",
      "0 0\n",
      "GBPJPY\n",
      "0 0\n",
      "USDJPY\n",
      "0 1\n",
      "USDCAD\n",
      "1 0\n",
      "EURUSD\n",
      "0 0\n",
      "2020-08-23 10:15:00\n",
      "2020-08-31 18:15:00\n"
     ]
    },
    {
     "name": "stderr",
     "output_type": "stream",
     "text": [
      "100%|███████████████████████████████████████████████████████████████████████████████████| 5/5 [00:00<00:00, 185.29it/s]\n"
     ]
    },
    {
     "name": "stdout",
     "output_type": "stream",
     "text": [
      "GBPUSD\n",
      "0 0\n",
      "GBPJPY\n",
      "0 0\n",
      "USDJPY\n",
      "0 1\n",
      "USDCAD\n",
      "1 0\n",
      "EURUSD\n",
      "0 0\n",
      "2020-08-23 10:15:00\n",
      "2020-08-31 18:15:00\n"
     ]
    },
    {
     "name": "stderr",
     "output_type": "stream",
     "text": [
      "100%|███████████████████████████████████████████████████████████████████████████████████| 5/5 [00:00<00:00, 185.29it/s]\n"
     ]
    },
    {
     "name": "stdout",
     "output_type": "stream",
     "text": [
      "GBPUSD\n",
      "0 0\n",
      "GBPJPY\n",
      "0 0\n",
      "USDJPY\n",
      "0 1\n",
      "USDCAD\n",
      "1 0\n",
      "EURUSD\n",
      "0 0\n",
      "2020-08-23 10:15:00\n",
      "2020-08-31 18:15:00\n"
     ]
    },
    {
     "name": "stderr",
     "output_type": "stream",
     "text": [
      "100%|███████████████████████████████████████████████████████████████████████████████████| 5/5 [00:00<00:00, 185.29it/s]\n"
     ]
    },
    {
     "name": "stdout",
     "output_type": "stream",
     "text": [
      "GBPUSD\n",
      "0 0\n",
      "GBPJPY\n",
      "0 0\n",
      "USDJPY\n",
      "0 1\n",
      "USDCAD\n",
      "1 0\n",
      "EURUSD\n",
      "0 0\n",
      "2020-08-23 10:15:00\n",
      "2020-08-31 18:15:00\n"
     ]
    },
    {
     "name": "stderr",
     "output_type": "stream",
     "text": [
      "100%|███████████████████████████████████████████████████████████████████████████████████| 5/5 [00:00<00:00, 178.67it/s]\n"
     ]
    },
    {
     "name": "stdout",
     "output_type": "stream",
     "text": [
      "GBPUSD\n",
      "0 0\n",
      "GBPJPY\n",
      "0 0\n",
      "USDJPY\n",
      "0 1\n",
      "USDCAD\n",
      "1 0\n",
      "EURUSD\n",
      "0 0\n",
      "2020-08-23 10:30:00\n",
      "2020-08-31 18:30:00\n"
     ]
    },
    {
     "name": "stderr",
     "output_type": "stream",
     "text": [
      "100%|███████████████████████████████████████████████████████████████████████████████████| 5/5 [00:00<00:00, 122.02it/s]\n"
     ]
    },
    {
     "name": "stdout",
     "output_type": "stream",
     "text": [
      "GBPUSD\n",
      "0 0\n",
      "GBPJPY\n",
      "0 1\n",
      "Sell GBPJPY\n",
      "USDJPY\n",
      "0 0\n",
      "USDCAD\n",
      "1 0\n",
      "EURUSD\n",
      "0 0\n",
      "2020-08-23 10:30:00\n",
      "2020-08-31 18:30:00\n"
     ]
    },
    {
     "name": "stderr",
     "output_type": "stream",
     "text": [
      "100%|███████████████████████████████████████████████████████████████████████████████████| 5/5 [00:00<00:00, 172.51it/s]\n"
     ]
    },
    {
     "name": "stdout",
     "output_type": "stream",
     "text": [
      "GBPUSD\n",
      "0 0\n",
      "GBPJPY\n",
      "0 1\n",
      "USDJPY\n",
      "0 0\n",
      "USDCAD\n",
      "1 0\n",
      "EURUSD\n",
      "0 0\n",
      "2020-08-23 10:30:00\n",
      "2020-08-31 18:30:00\n"
     ]
    },
    {
     "name": "stderr",
     "output_type": "stream",
     "text": [
      "100%|███████████████████████████████████████████████████████████████████████████████████| 5/5 [00:00<00:00, 161.39it/s]\n"
     ]
    },
    {
     "name": "stdout",
     "output_type": "stream",
     "text": [
      "GBPUSD\n",
      "0 0\n",
      "GBPJPY\n",
      "0 1\n",
      "USDJPY\n",
      "0 0\n",
      "USDCAD\n",
      "1 0\n",
      "EURUSD\n",
      "0 0\n",
      "2020-08-23 10:30:00\n",
      "2020-08-31 18:30:00\n"
     ]
    },
    {
     "name": "stderr",
     "output_type": "stream",
     "text": [
      "100%|███████████████████████████████████████████████████████████████████████████████████| 5/5 [00:00<00:00, 172.51it/s]\n"
     ]
    },
    {
     "name": "stdout",
     "output_type": "stream",
     "text": [
      "GBPUSD\n",
      "0 0\n",
      "GBPJPY\n",
      "0 1\n",
      "USDJPY\n",
      "0 0\n",
      "USDCAD\n",
      "1 0\n",
      "EURUSD\n",
      "0 0\n",
      "2020-08-23 10:30:00\n",
      "2020-08-31 18:30:00\n"
     ]
    },
    {
     "name": "stderr",
     "output_type": "stream",
     "text": [
      "100%|███████████████████████████████████████████████████████████████████████████████████| 5/5 [00:00<00:00, 178.68it/s]\n"
     ]
    },
    {
     "name": "stdout",
     "output_type": "stream",
     "text": [
      "GBPUSD\n",
      "0 0\n",
      "GBPJPY\n",
      "0 1\n",
      "USDJPY\n",
      "0 0\n",
      "USDCAD\n",
      "1 0\n",
      "EURUSD\n",
      "0 0\n",
      "2020-08-23 10:30:00\n",
      "2020-08-31 18:30:00\n"
     ]
    },
    {
     "name": "stderr",
     "output_type": "stream",
     "text": [
      "100%|███████████████████████████████████████████████████████████████████████████████████| 5/5 [00:00<00:00, 178.68it/s]\n"
     ]
    },
    {
     "name": "stdout",
     "output_type": "stream",
     "text": [
      "GBPUSD\n",
      "0 0\n",
      "GBPJPY\n",
      "0 1\n",
      "USDJPY\n",
      "0 0\n",
      "USDCAD\n",
      "1 0\n",
      "EURUSD\n",
      "0 0\n",
      "2020-08-23 10:30:00\n",
      "2020-08-31 18:30:00\n"
     ]
    },
    {
     "name": "stderr",
     "output_type": "stream",
     "text": [
      "100%|███████████████████████████████████████████████████████████████████████████████████| 5/5 [00:00<00:00, 166.76it/s]\n"
     ]
    },
    {
     "name": "stdout",
     "output_type": "stream",
     "text": [
      "GBPUSD\n",
      "0 0\n",
      "GBPJPY\n",
      "0 1\n",
      "USDJPY\n",
      "0 0\n",
      "USDCAD\n",
      "1 0\n",
      "EURUSD\n",
      "0 0\n",
      "2020-08-23 10:30:00\n",
      "2020-08-31 18:30:00\n"
     ]
    },
    {
     "name": "stderr",
     "output_type": "stream",
     "text": [
      "100%|███████████████████████████████████████████████████████████████████████████████████| 5/5 [00:00<00:00, 156.34it/s]\n"
     ]
    },
    {
     "name": "stdout",
     "output_type": "stream",
     "text": [
      "GBPUSD\n",
      "0 0\n",
      "GBPJPY\n",
      "0 1\n",
      "USDJPY\n",
      "0 0\n",
      "USDCAD\n",
      "1 0\n",
      "EURUSD\n",
      "0 0\n",
      "2020-08-23 10:30:00\n",
      "2020-08-31 18:30:00\n"
     ]
    },
    {
     "name": "stderr",
     "output_type": "stream",
     "text": [
      "100%|███████████████████████████████████████████████████████████████████████████████████| 5/5 [00:00<00:00, 166.76it/s]\n"
     ]
    },
    {
     "name": "stdout",
     "output_type": "stream",
     "text": [
      "GBPUSD\n",
      "0 0\n",
      "GBPJPY\n",
      "0 1\n",
      "USDJPY\n",
      "0 0\n",
      "USDCAD\n",
      "1 0\n",
      "EURUSD\n",
      "0 0\n",
      "2020-08-23 10:30:00\n",
      "2020-08-31 18:30:00\n"
     ]
    },
    {
     "name": "stderr",
     "output_type": "stream",
     "text": [
      "100%|███████████████████████████████████████████████████████████████████████████████████| 5/5 [00:00<00:00, 185.29it/s]\n"
     ]
    },
    {
     "name": "stdout",
     "output_type": "stream",
     "text": [
      "GBPUSD\n",
      "0 0\n",
      "GBPJPY\n",
      "0 1\n",
      "USDJPY\n",
      "0 0\n",
      "USDCAD\n",
      "1 0\n",
      "EURUSD\n",
      "0 0\n",
      "2020-08-23 10:45:00\n",
      "2020-08-31 18:45:00\n"
     ]
    },
    {
     "name": "stderr",
     "output_type": "stream",
     "text": [
      "100%|███████████████████████████████████████████████████████████████████████████████████| 5/5 [00:00<00:00, 166.76it/s]\n"
     ]
    },
    {
     "name": "stdout",
     "output_type": "stream",
     "text": [
      "GBPUSD\n",
      "0 0\n",
      "GBPJPY\n",
      "0 0\n",
      "USDJPY\n",
      "0 0\n",
      "USDCAD\n",
      "0 0\n",
      "EURUSD\n",
      "0 1\n",
      "Sell EURUSD\n",
      "2020-08-23 10:45:00\n",
      "2020-08-31 18:45:00\n"
     ]
    },
    {
     "name": "stderr",
     "output_type": "stream",
     "text": [
      "100%|███████████████████████████████████████████████████████████████████████████████████| 5/5 [00:00<00:00, 172.51it/s]\n"
     ]
    },
    {
     "name": "stdout",
     "output_type": "stream",
     "text": [
      "GBPUSD\n",
      "0 0\n",
      "GBPJPY\n",
      "0 0\n",
      "USDJPY\n",
      "0 0\n",
      "USDCAD\n",
      "0 0\n",
      "EURUSD\n",
      "0 1\n",
      "2020-08-23 10:45:00\n",
      "2020-08-31 18:45:00\n"
     ]
    },
    {
     "name": "stderr",
     "output_type": "stream",
     "text": [
      "100%|███████████████████████████████████████████████████████████████████████████████████| 5/5 [00:00<00:00, 142.92it/s]\n"
     ]
    },
    {
     "name": "stdout",
     "output_type": "stream",
     "text": [
      "GBPUSD\n",
      "0 0\n",
      "GBPJPY\n",
      "0 0\n",
      "USDJPY\n",
      "0 0\n",
      "USDCAD\n",
      "0 0\n",
      "EURUSD\n",
      "0 1\n",
      "2020-08-23 10:45:00\n",
      "2020-08-31 18:45:00\n"
     ]
    },
    {
     "name": "stderr",
     "output_type": "stream",
     "text": [
      "100%|███████████████████████████████████████████████████████████████████████████████████| 5/5 [00:00<00:00, 135.22it/s]\n"
     ]
    },
    {
     "name": "stdout",
     "output_type": "stream",
     "text": [
      "GBPUSD\n",
      "0 0\n",
      "GBPJPY\n",
      "0 0\n",
      "USDJPY\n",
      "0 0\n",
      "USDCAD\n",
      "0 0\n",
      "EURUSD\n",
      "0 1\n",
      "2020-08-23 10:45:00\n",
      "2020-08-31 18:45:00\n"
     ]
    },
    {
     "name": "stderr",
     "output_type": "stream",
     "text": [
      "100%|███████████████████████████████████████████████████████████████████████████████████| 5/5 [00:00<00:00, 166.76it/s]\n"
     ]
    },
    {
     "name": "stdout",
     "output_type": "stream",
     "text": [
      "GBPUSD\n",
      "0 0\n",
      "GBPJPY\n",
      "0 0\n",
      "USDJPY\n",
      "0 0\n",
      "USDCAD\n",
      "0 0\n",
      "EURUSD\n",
      "0 1\n",
      "2020-08-23 10:45:00\n",
      "2020-08-31 18:45:00\n"
     ]
    },
    {
     "name": "stderr",
     "output_type": "stream",
     "text": [
      "100%|███████████████████████████████████████████████████████████████████████████████████| 5/5 [00:00<00:00, 156.34it/s]\n"
     ]
    },
    {
     "name": "stdout",
     "output_type": "stream",
     "text": [
      "GBPUSD\n",
      "0 0\n",
      "GBPJPY\n",
      "0 0\n",
      "USDJPY\n",
      "0 0\n",
      "USDCAD\n",
      "0 0\n",
      "EURUSD\n",
      "0 1\n",
      "2020-08-23 10:45:00\n",
      "2020-08-31 18:45:00\n"
     ]
    },
    {
     "name": "stderr",
     "output_type": "stream",
     "text": [
      "100%|███████████████████████████████████████████████████████████████████████████████████| 5/5 [00:00<00:00, 135.21it/s]\n"
     ]
    },
    {
     "name": "stdout",
     "output_type": "stream",
     "text": [
      "GBPUSD\n",
      "0 0\n",
      "GBPJPY\n",
      "0 0\n",
      "USDJPY\n",
      "0 0\n",
      "USDCAD\n",
      "0 0\n",
      "EURUSD\n",
      "0 1\n",
      "2020-08-23 10:45:00\n",
      "2020-08-31 18:45:00\n"
     ]
    },
    {
     "name": "stderr",
     "output_type": "stream",
     "text": [
      "100%|███████████████████████████████████████████████████████████████████████████████████| 5/5 [00:00<00:00, 161.38it/s]\n"
     ]
    },
    {
     "name": "stdout",
     "output_type": "stream",
     "text": [
      "GBPUSD\n",
      "0 0\n",
      "GBPJPY\n",
      "0 0\n",
      "USDJPY\n",
      "0 0\n",
      "USDCAD\n",
      "0 0\n",
      "EURUSD\n",
      "0 1\n",
      "2020-08-23 10:45:00\n",
      "2020-08-31 18:45:00\n"
     ]
    },
    {
     "name": "stderr",
     "output_type": "stream",
     "text": [
      "100%|███████████████████████████████████████████████████████████████████████████████████| 5/5 [00:00<00:00, 166.76it/s]\n"
     ]
    },
    {
     "name": "stdout",
     "output_type": "stream",
     "text": [
      "GBPUSD\n",
      "0 0\n",
      "GBPJPY\n",
      "0 0\n",
      "USDJPY\n",
      "0 0\n",
      "USDCAD\n",
      "0 0\n",
      "EURUSD\n",
      "0 1\n",
      "2020-08-23 10:45:00\n",
      "2020-08-31 18:45:00\n"
     ]
    },
    {
     "name": "stderr",
     "output_type": "stream",
     "text": [
      "100%|███████████████████████████████████████████████████████████████████████████████████| 5/5 [00:00<00:00, 166.76it/s]\n"
     ]
    },
    {
     "name": "stdout",
     "output_type": "stream",
     "text": [
      "GBPUSD\n",
      "0 0\n",
      "GBPJPY\n",
      "0 0\n",
      "USDJPY\n",
      "0 0\n",
      "USDCAD\n",
      "0 0\n",
      "EURUSD\n",
      "0 1\n",
      "2020-08-23 10:45:00\n",
      "2020-08-31 18:45:00\n"
     ]
    },
    {
     "name": "stderr",
     "output_type": "stream",
     "text": [
      "100%|███████████████████████████████████████████████████████████████████████████████████| 5/5 [00:00<00:00, 142.90it/s]\n"
     ]
    },
    {
     "name": "stdout",
     "output_type": "stream",
     "text": [
      "GBPUSD\n",
      "0 0\n",
      "GBPJPY\n",
      "0 0\n",
      "USDJPY\n",
      "0 0\n",
      "USDCAD\n",
      "0 0\n",
      "EURUSD\n",
      "0 1\n",
      "2020-08-23 10:45:00\n",
      "2020-08-31 18:45:00\n"
     ]
    },
    {
     "name": "stderr",
     "output_type": "stream",
     "text": [
      "100%|███████████████████████████████████████████████████████████████████████████████████| 5/5 [00:00<00:00, 142.94it/s]\n"
     ]
    },
    {
     "name": "stdout",
     "output_type": "stream",
     "text": [
      "GBPUSD\n",
      "0 0\n",
      "GBPJPY\n",
      "0 0\n",
      "USDJPY\n",
      "0 0\n",
      "USDCAD\n",
      "0 0\n",
      "EURUSD\n",
      "0 1\n",
      "2020-08-23 11:00:00\n",
      "2020-08-31 19:00:00\n"
     ]
    },
    {
     "name": "stderr",
     "output_type": "stream",
     "text": [
      "100%|███████████████████████████████████████████████████████████████████████████████████| 5/5 [00:00<00:00, 166.77it/s]\n"
     ]
    },
    {
     "name": "stdout",
     "output_type": "stream",
     "text": [
      "GBPUSD\n",
      "0 0\n",
      "GBPJPY\n",
      "0 0\n",
      "USDJPY\n",
      "0 0\n",
      "USDCAD\n",
      "0 0\n",
      "EURUSD\n",
      "0 0\n",
      "2020-08-23 11:00:00\n",
      "2020-08-31 19:00:00\n"
     ]
    },
    {
     "name": "stderr",
     "output_type": "stream",
     "text": [
      "100%|███████████████████████████████████████████████████████████████████████████████████| 5/5 [00:00<00:00, 147.14it/s]\n"
     ]
    },
    {
     "name": "stdout",
     "output_type": "stream",
     "text": [
      "GBPUSD\n",
      "0 0\n",
      "GBPJPY\n",
      "0 0\n",
      "USDJPY\n",
      "0 0\n",
      "USDCAD\n",
      "0 0\n",
      "EURUSD\n",
      "0 0\n",
      "2020-08-23 11:00:00\n",
      "2020-08-31 19:00:00\n"
     ]
    },
    {
     "name": "stderr",
     "output_type": "stream",
     "text": [
      "100%|███████████████████████████████████████████████████████████████████████████████████| 5/5 [00:00<00:00, 178.68it/s]\n"
     ]
    },
    {
     "name": "stdout",
     "output_type": "stream",
     "text": [
      "GBPUSD\n",
      "0 0\n",
      "GBPJPY\n",
      "0 0\n",
      "USDJPY\n",
      "0 0\n",
      "USDCAD\n",
      "0 0\n",
      "EURUSD\n",
      "0 0\n",
      "2020-08-23 11:00:00\n",
      "2020-08-31 19:00:00\n"
     ]
    },
    {
     "name": "stderr",
     "output_type": "stream",
     "text": [
      "100%|███████████████████████████████████████████████████████████████████████████████████| 5/5 [00:00<00:00, 185.29it/s]\n"
     ]
    },
    {
     "name": "stdout",
     "output_type": "stream",
     "text": [
      "GBPUSD\n",
      "0 0\n",
      "GBPJPY\n",
      "0 0\n",
      "USDJPY\n",
      "0 0\n",
      "USDCAD\n",
      "0 0\n",
      "EURUSD\n",
      "0 0\n",
      "2020-08-23 11:00:00\n",
      "2020-08-31 19:00:00\n"
     ]
    },
    {
     "name": "stderr",
     "output_type": "stream",
     "text": [
      "100%|███████████████████████████████████████████████████████████████████████████████████| 5/5 [00:00<00:00, 178.67it/s]\n"
     ]
    },
    {
     "name": "stdout",
     "output_type": "stream",
     "text": [
      "GBPUSD\n",
      "0 0\n",
      "GBPJPY\n",
      "0 0\n",
      "USDJPY\n",
      "0 0\n",
      "USDCAD\n",
      "0 0\n",
      "EURUSD\n",
      "0 0\n",
      "2020-08-23 11:00:00\n",
      "2020-08-31 19:00:00\n"
     ]
    },
    {
     "name": "stderr",
     "output_type": "stream",
     "text": [
      "100%|███████████████████████████████████████████████████████████████████████████████████| 5/5 [00:00<00:00, 185.29it/s]\n"
     ]
    },
    {
     "name": "stdout",
     "output_type": "stream",
     "text": [
      "GBPUSD\n",
      "0 0\n",
      "GBPJPY\n",
      "0 0\n",
      "USDJPY\n",
      "0 0\n",
      "USDCAD\n",
      "0 0\n",
      "EURUSD\n",
      "0 0\n",
      "2020-08-23 11:00:00\n",
      "2020-08-31 19:00:00\n"
     ]
    },
    {
     "name": "stderr",
     "output_type": "stream",
     "text": [
      "100%|███████████████████████████████████████████████████████████████████████████████████| 5/5 [00:00<00:00, 178.67it/s]\n"
     ]
    },
    {
     "name": "stdout",
     "output_type": "stream",
     "text": [
      "GBPUSD\n",
      "0 0\n",
      "GBPJPY\n",
      "0 0\n",
      "USDJPY\n",
      "0 0\n",
      "USDCAD\n",
      "0 0\n",
      "EURUSD\n",
      "0 0\n",
      "2020-08-23 11:00:00\n",
      "2020-08-31 19:00:00\n"
     ]
    },
    {
     "name": "stderr",
     "output_type": "stream",
     "text": [
      "100%|███████████████████████████████████████████████████████████████████████████████████| 5/5 [00:00<00:00, 185.29it/s]\n"
     ]
    },
    {
     "name": "stdout",
     "output_type": "stream",
     "text": [
      "GBPUSD\n",
      "0 0\n",
      "GBPJPY\n",
      "0 0\n",
      "USDJPY\n",
      "0 0\n",
      "USDCAD\n",
      "0 0\n",
      "EURUSD\n",
      "0 0\n",
      "2020-08-23 11:00:00\n",
      "2020-08-31 19:00:00\n"
     ]
    },
    {
     "name": "stderr",
     "output_type": "stream",
     "text": [
      "100%|███████████████████████████████████████████████████████████████████████████████████| 5/5 [00:00<00:00, 178.68it/s]\n"
     ]
    },
    {
     "name": "stdout",
     "output_type": "stream",
     "text": [
      "GBPUSD\n",
      "0 0\n",
      "GBPJPY\n",
      "0 0\n",
      "USDJPY\n",
      "0 0\n",
      "USDCAD\n",
      "0 0\n",
      "EURUSD\n",
      "0 0\n",
      "2020-08-23 11:00:00\n",
      "2020-08-31 19:00:00\n"
     ]
    },
    {
     "name": "stderr",
     "output_type": "stream",
     "text": [
      "100%|███████████████████████████████████████████████████████████████████████████████████| 5/5 [00:00<00:00, 178.67it/s]\n"
     ]
    },
    {
     "name": "stdout",
     "output_type": "stream",
     "text": [
      "GBPUSD\n",
      "0 0\n",
      "GBPJPY\n",
      "0 0\n",
      "USDJPY\n",
      "0 0\n",
      "USDCAD\n",
      "0 0\n",
      "EURUSD\n",
      "0 0\n",
      "2020-08-23 11:00:00\n",
      "2020-08-31 19:00:00\n"
     ]
    },
    {
     "name": "stderr",
     "output_type": "stream",
     "text": [
      "100%|███████████████████████████████████████████████████████████████████████████████████| 5/5 [00:00<00:00, 185.29it/s]\n"
     ]
    },
    {
     "name": "stdout",
     "output_type": "stream",
     "text": [
      "GBPUSD\n",
      "0 0\n",
      "GBPJPY\n",
      "0 0\n",
      "USDJPY\n",
      "0 0\n",
      "USDCAD\n",
      "0 0\n",
      "EURUSD\n",
      "0 0\n",
      "2020-08-23 11:00:00\n",
      "2020-08-31 19:00:00\n"
     ]
    },
    {
     "name": "stderr",
     "output_type": "stream",
     "text": [
      "100%|███████████████████████████████████████████████████████████████████████████████████| 5/5 [00:00<00:00, 185.29it/s]\n"
     ]
    },
    {
     "name": "stdout",
     "output_type": "stream",
     "text": [
      "GBPUSD\n",
      "0 0\n",
      "GBPJPY\n",
      "0 0\n",
      "USDJPY\n",
      "0 0\n",
      "USDCAD\n",
      "0 0\n",
      "EURUSD\n",
      "0 0\n",
      "2020-08-23 11:00:00\n",
      "2020-08-31 19:00:00\n"
     ]
    },
    {
     "name": "stderr",
     "output_type": "stream",
     "text": [
      "100%|███████████████████████████████████████████████████████████████████████████████████| 5/5 [00:00<00:00, 178.67it/s]\n"
     ]
    },
    {
     "name": "stdout",
     "output_type": "stream",
     "text": [
      "GBPUSD\n",
      "0 0\n",
      "GBPJPY\n",
      "0 0\n",
      "USDJPY\n",
      "0 0\n",
      "USDCAD\n",
      "0 0\n",
      "EURUSD\n",
      "0 0\n",
      "2020-08-23 11:15:00\n",
      "2020-08-31 19:15:00\n"
     ]
    },
    {
     "name": "stderr",
     "output_type": "stream",
     "text": [
      "100%|███████████████████████████████████████████████████████████████████████████████████| 5/5 [00:00<00:00, 161.38it/s]\n"
     ]
    },
    {
     "name": "stdout",
     "output_type": "stream",
     "text": [
      "GBPUSD\n",
      "0 0\n",
      "GBPJPY\n",
      "0 0\n",
      "USDJPY\n",
      "0 0\n",
      "USDCAD\n",
      "0 0\n",
      "EURUSD\n",
      "0 1\n",
      "Sell EURUSD\n",
      "2020-08-23 11:15:00\n",
      "2020-08-31 19:15:00\n"
     ]
    },
    {
     "name": "stderr",
     "output_type": "stream",
     "text": [
      "100%|███████████████████████████████████████████████████████████████████████████████████| 5/5 [00:00<00:00, 138.97it/s]\n"
     ]
    },
    {
     "name": "stdout",
     "output_type": "stream",
     "text": [
      "GBPUSD\n",
      "0 0\n",
      "GBPJPY\n",
      "0 0\n",
      "USDJPY\n",
      "0 0\n",
      "USDCAD\n",
      "0 0\n",
      "EURUSD\n",
      "0 1\n",
      "2020-08-23 11:15:00\n",
      "2020-08-31 19:15:00\n"
     ]
    },
    {
     "name": "stderr",
     "output_type": "stream",
     "text": [
      "100%|███████████████████████████████████████████████████████████████████████████████████| 5/5 [00:00<00:00, 142.94it/s]\n"
     ]
    },
    {
     "name": "stdout",
     "output_type": "stream",
     "text": [
      "GBPUSD\n",
      "0 0\n",
      "GBPJPY\n",
      "0 0\n",
      "USDJPY\n",
      "0 0\n",
      "USDCAD\n",
      "0 0\n",
      "EURUSD\n",
      "0 1\n",
      "2020-08-23 11:15:00\n",
      "2020-08-31 19:15:00\n"
     ]
    },
    {
     "name": "stderr",
     "output_type": "stream",
     "text": [
      "100%|███████████████████████████████████████████████████████████████████████████████████| 5/5 [00:00<00:00, 138.90it/s]\n"
     ]
    },
    {
     "name": "stdout",
     "output_type": "stream",
     "text": [
      "GBPUSD\n",
      "0 0\n",
      "GBPJPY\n",
      "0 0\n",
      "USDJPY\n",
      "0 0\n",
      "USDCAD\n",
      "0 0\n",
      "EURUSD\n",
      "0 1\n",
      "2020-08-23 11:15:00\n",
      "2020-08-31 19:15:00\n"
     ]
    },
    {
     "name": "stderr",
     "output_type": "stream",
     "text": [
      "100%|███████████████████████████████████████████████████████████████████████████████████| 5/5 [00:00<00:00, 156.34it/s]\n"
     ]
    },
    {
     "name": "stdout",
     "output_type": "stream",
     "text": [
      "GBPUSD\n",
      "0 0\n",
      "GBPJPY\n",
      "0 0\n",
      "USDJPY\n",
      "0 0\n",
      "USDCAD\n",
      "0 0\n",
      "EURUSD\n",
      "0 1\n",
      "2020-08-23 11:15:00\n",
      "2020-08-31 19:15:00\n"
     ]
    },
    {
     "name": "stderr",
     "output_type": "stream",
     "text": [
      "100%|███████████████████████████████████████████████████████████████████████████████████| 5/5 [00:00<00:00, 135.22it/s]\n"
     ]
    },
    {
     "name": "stdout",
     "output_type": "stream",
     "text": [
      "GBPUSD\n",
      "0 0\n",
      "GBPJPY\n",
      "0 0\n",
      "USDJPY\n",
      "0 0\n",
      "USDCAD\n",
      "0 0\n",
      "EURUSD\n",
      "0 1\n",
      "2020-08-23 11:15:00\n",
      "2020-08-31 19:15:00\n"
     ]
    },
    {
     "name": "stderr",
     "output_type": "stream",
     "text": [
      "100%|███████████████████████████████████████████████████████████████████████████████████| 5/5 [00:00<00:00, 166.76it/s]\n"
     ]
    },
    {
     "name": "stdout",
     "output_type": "stream",
     "text": [
      "GBPUSD\n",
      "0 0\n",
      "GBPJPY\n",
      "0 0\n",
      "USDJPY\n",
      "0 0\n",
      "USDCAD\n",
      "0 0\n",
      "EURUSD\n",
      "0 1\n",
      "2020-08-23 11:15:00\n",
      "2020-08-31 19:15:00\n"
     ]
    },
    {
     "name": "stderr",
     "output_type": "stream",
     "text": [
      "100%|███████████████████████████████████████████████████████████████████████████████████| 5/5 [00:00<00:00, 138.97it/s]\n"
     ]
    },
    {
     "name": "stdout",
     "output_type": "stream",
     "text": [
      "GBPUSD\n",
      "0 0\n",
      "GBPJPY\n",
      "0 0\n",
      "USDJPY\n",
      "0 0\n",
      "USDCAD\n",
      "0 0\n",
      "EURUSD\n",
      "0 1\n",
      "2020-08-23 11:15:00\n",
      "2020-08-31 19:15:00\n"
     ]
    },
    {
     "name": "stderr",
     "output_type": "stream",
     "text": [
      "100%|███████████████████████████████████████████████████████████████████████████████████| 5/5 [00:00<00:00, 147.14it/s]\n"
     ]
    },
    {
     "name": "stdout",
     "output_type": "stream",
     "text": [
      "GBPUSD\n",
      "0 0\n",
      "GBPJPY\n",
      "0 0\n",
      "USDJPY\n",
      "0 0\n",
      "USDCAD\n",
      "0 0\n",
      "EURUSD\n",
      "0 1\n",
      "2020-08-23 11:15:00\n",
      "2020-08-31 19:15:00\n"
     ]
    },
    {
     "name": "stderr",
     "output_type": "stream",
     "text": [
      "100%|███████████████████████████████████████████████████████████████████████████████████| 5/5 [00:00<00:00, 147.14it/s]\n"
     ]
    },
    {
     "name": "stdout",
     "output_type": "stream",
     "text": [
      "GBPUSD\n",
      "0 0\n",
      "GBPJPY\n",
      "0 0\n",
      "USDJPY\n",
      "0 0\n",
      "USDCAD\n",
      "0 0\n",
      "EURUSD\n",
      "0 1\n",
      "2020-08-23 11:15:00\n",
      "2020-08-31 19:15:00\n"
     ]
    },
    {
     "name": "stderr",
     "output_type": "stream",
     "text": [
      "100%|███████████████████████████████████████████████████████████████████████████████████| 5/5 [00:00<00:00, 178.68it/s]\n"
     ]
    },
    {
     "name": "stdout",
     "output_type": "stream",
     "text": [
      "GBPUSD\n",
      "0 0\n",
      "GBPJPY\n",
      "0 0\n",
      "USDJPY\n",
      "0 0\n",
      "USDCAD\n",
      "0 0\n",
      "EURUSD\n",
      "0 1\n",
      "2020-08-23 11:15:00\n",
      "2020-08-31 19:15:00\n"
     ]
    },
    {
     "name": "stderr",
     "output_type": "stream",
     "text": [
      "100%|███████████████████████████████████████████████████████████████████████████████████| 5/5 [00:00<00:00, 138.97it/s]\n"
     ]
    },
    {
     "name": "stdout",
     "output_type": "stream",
     "text": [
      "GBPUSD\n",
      "0 0\n",
      "GBPJPY\n",
      "0 0\n",
      "USDJPY\n",
      "0 0\n",
      "USDCAD\n",
      "0 0\n",
      "EURUSD\n",
      "0 1\n",
      "2020-08-23 11:15:00\n",
      "2020-08-31 19:15:00\n"
     ]
    },
    {
     "name": "stderr",
     "output_type": "stream",
     "text": [
      "100%|███████████████████████████████████████████████████████████████████████████████████| 5/5 [00:00<00:00, 151.60it/s]\n"
     ]
    },
    {
     "name": "stdout",
     "output_type": "stream",
     "text": [
      "GBPUSD\n",
      "0 0\n",
      "GBPJPY\n",
      "0 0\n",
      "USDJPY\n",
      "0 0\n",
      "USDCAD\n",
      "0 0\n",
      "EURUSD\n",
      "0 1\n",
      "2020-08-23 11:30:00\n",
      "2020-08-31 19:30:00\n"
     ]
    },
    {
     "name": "stderr",
     "output_type": "stream",
     "text": [
      "100%|████████████████████████████████████████████████████████████████████████████████████| 5/5 [00:00<00:00, 17.16it/s]\n"
     ]
    },
    {
     "name": "stdout",
     "output_type": "stream",
     "text": [
      "GBPUSD\n",
      "1 0\n",
      "Buy GBPUSD\n",
      "GBPJPY\n",
      "0 0\n",
      "USDJPY\n",
      "0 0\n",
      "USDCAD\n",
      "0 0\n",
      "EURUSD\n",
      "0 0\n",
      "2020-08-23 11:30:00\n",
      "2020-08-31 19:30:00\n"
     ]
    },
    {
     "name": "stderr",
     "output_type": "stream",
     "text": [
      "100%|███████████████████████████████████████████████████████████████████████████████████| 5/5 [00:00<00:00, 142.94it/s]\n"
     ]
    },
    {
     "name": "stdout",
     "output_type": "stream",
     "text": [
      "GBPUSD\n",
      "1 0\n",
      "GBPJPY\n",
      "0 0\n",
      "USDJPY\n",
      "0 0\n",
      "USDCAD\n",
      "0 0\n",
      "EURUSD\n",
      "0 0\n",
      "2020-08-23 11:30:00\n",
      "2020-08-31 19:30:00\n"
     ]
    },
    {
     "name": "stderr",
     "output_type": "stream",
     "text": [
      "100%|███████████████████████████████████████████████████████████████████████████████████| 5/5 [00:00<00:00, 178.67it/s]\n"
     ]
    },
    {
     "name": "stdout",
     "output_type": "stream",
     "text": [
      "GBPUSD\n",
      "1 0\n",
      "GBPJPY\n",
      "0 0\n",
      "USDJPY\n",
      "0 0\n",
      "USDCAD\n",
      "0 0\n",
      "EURUSD\n",
      "0 0\n",
      "2020-08-23 11:30:00\n",
      "2020-08-31 19:30:00\n"
     ]
    },
    {
     "name": "stderr",
     "output_type": "stream",
     "text": [
      "100%|███████████████████████████████████████████████████████████████████████████████████| 5/5 [00:00<00:00, 172.51it/s]\n"
     ]
    },
    {
     "name": "stdout",
     "output_type": "stream",
     "text": [
      "GBPUSD\n",
      "1 0\n",
      "GBPJPY\n",
      "0 0\n",
      "USDJPY\n",
      "0 0\n",
      "USDCAD\n",
      "0 0\n",
      "EURUSD\n",
      "0 0\n",
      "2020-08-23 11:30:00\n",
      "2020-08-31 19:30:00\n"
     ]
    },
    {
     "name": "stderr",
     "output_type": "stream",
     "text": [
      "100%|███████████████████████████████████████████████████████████████████████████████████| 5/5 [00:00<00:00, 178.67it/s]\n"
     ]
    },
    {
     "name": "stdout",
     "output_type": "stream",
     "text": [
      "GBPUSD\n",
      "1 0\n",
      "GBPJPY\n",
      "0 0\n",
      "USDJPY\n",
      "0 0\n",
      "USDCAD\n",
      "0 0\n",
      "EURUSD\n",
      "0 0\n",
      "2020-08-23 11:30:00\n",
      "2020-08-31 19:30:00\n"
     ]
    },
    {
     "name": "stderr",
     "output_type": "stream",
     "text": [
      "100%|███████████████████████████████████████████████████████████████████████████████████| 5/5 [00:00<00:00, 178.67it/s]\n"
     ]
    },
    {
     "name": "stdout",
     "output_type": "stream",
     "text": [
      "GBPUSD\n",
      "1 0\n",
      "GBPJPY\n",
      "0 0\n",
      "USDJPY\n",
      "0 0\n",
      "USDCAD\n",
      "0 0\n",
      "EURUSD\n",
      "0 0\n",
      "2020-08-23 11:30:00\n",
      "2020-08-31 19:30:00\n"
     ]
    },
    {
     "name": "stderr",
     "output_type": "stream",
     "text": [
      "100%|███████████████████████████████████████████████████████████████████████████████████| 5/5 [00:00<00:00, 178.67it/s]\n"
     ]
    },
    {
     "name": "stdout",
     "output_type": "stream",
     "text": [
      "GBPUSD\n",
      "1 0\n",
      "GBPJPY\n",
      "0 0\n",
      "USDJPY\n",
      "0 0\n",
      "USDCAD\n",
      "0 0\n",
      "EURUSD\n",
      "0 0\n",
      "2020-08-23 11:30:00\n",
      "2020-08-31 19:30:00\n"
     ]
    },
    {
     "name": "stderr",
     "output_type": "stream",
     "text": [
      "100%|███████████████████████████████████████████████████████████████████████████████████| 5/5 [00:00<00:00, 172.51it/s]\n"
     ]
    },
    {
     "name": "stdout",
     "output_type": "stream",
     "text": [
      "GBPUSD\n",
      "1 0\n",
      "GBPJPY\n",
      "0 0\n",
      "USDJPY\n",
      "0 0\n",
      "USDCAD\n",
      "0 0\n",
      "EURUSD\n",
      "0 0\n",
      "2020-08-23 11:30:00\n",
      "2020-08-31 19:30:00\n"
     ]
    },
    {
     "name": "stderr",
     "output_type": "stream",
     "text": [
      "100%|███████████████████████████████████████████████████████████████████████████████████| 5/5 [00:00<00:00, 178.67it/s]\n"
     ]
    },
    {
     "name": "stdout",
     "output_type": "stream",
     "text": [
      "GBPUSD\n",
      "1 0\n",
      "GBPJPY\n",
      "0 0\n",
      "USDJPY\n",
      "0 0\n",
      "USDCAD\n",
      "0 0\n",
      "EURUSD\n",
      "0 0\n",
      "2020-08-23 11:30:00\n",
      "2020-08-31 19:30:00\n"
     ]
    },
    {
     "name": "stderr",
     "output_type": "stream",
     "text": [
      "100%|███████████████████████████████████████████████████████████████████████████████████| 5/5 [00:00<00:00, 178.67it/s]\n"
     ]
    },
    {
     "name": "stdout",
     "output_type": "stream",
     "text": [
      "GBPUSD\n",
      "1 0\n",
      "GBPJPY\n",
      "0 0\n",
      "USDJPY\n",
      "0 0\n",
      "USDCAD\n",
      "0 0\n",
      "EURUSD\n",
      "0 0\n",
      "2020-08-23 11:30:00\n",
      "2020-08-31 19:30:00\n"
     ]
    },
    {
     "name": "stderr",
     "output_type": "stream",
     "text": [
      "100%|███████████████████████████████████████████████████████████████████████████████████| 5/5 [00:00<00:00, 172.51it/s]\n"
     ]
    },
    {
     "name": "stdout",
     "output_type": "stream",
     "text": [
      "GBPUSD\n",
      "1 0\n",
      "GBPJPY\n",
      "0 0\n",
      "USDJPY\n",
      "0 0\n",
      "USDCAD\n",
      "0 0\n",
      "EURUSD\n",
      "0 0\n",
      "2020-08-23 11:30:00\n",
      "2020-08-31 19:30:00\n"
     ]
    },
    {
     "name": "stderr",
     "output_type": "stream",
     "text": [
      "100%|███████████████████████████████████████████████████████████████████████████████████| 5/5 [00:00<00:00, 178.67it/s]\n"
     ]
    },
    {
     "name": "stdout",
     "output_type": "stream",
     "text": [
      "GBPUSD\n",
      "1 0\n",
      "GBPJPY\n",
      "0 0\n",
      "USDJPY\n",
      "0 0\n",
      "USDCAD\n",
      "0 0\n",
      "EURUSD\n",
      "0 0\n",
      "2020-08-23 11:45:00\n",
      "2020-08-31 19:45:00\n"
     ]
    },
    {
     "name": "stderr",
     "output_type": "stream",
     "text": [
      "100%|████████████████████████████████████████████████████████████████████████████████████| 5/5 [00:00<00:00, 23.94it/s]\n"
     ]
    },
    {
     "name": "stdout",
     "output_type": "stream",
     "text": [
      "GBPUSD\n",
      "0 0\n",
      "GBPJPY\n",
      "0 0\n",
      "USDJPY\n",
      "0 0\n",
      "USDCAD\n",
      "0 1\n",
      "Sell USDCAD\n",
      "EURUSD\n",
      "0 0\n",
      "2020-08-23 11:45:00\n",
      "2020-08-31 19:45:00\n"
     ]
    },
    {
     "name": "stderr",
     "output_type": "stream",
     "text": [
      "100%|███████████████████████████████████████████████████████████████████████████████████| 5/5 [00:00<00:00, 185.29it/s]\n"
     ]
    },
    {
     "name": "stdout",
     "output_type": "stream",
     "text": [
      "GBPUSD\n",
      "0 0\n",
      "GBPJPY\n",
      "0 0\n",
      "USDJPY\n",
      "0 0\n",
      "USDCAD\n",
      "0 1\n",
      "EURUSD\n",
      "0 0\n",
      "2020-08-23 11:45:00\n",
      "2020-08-31 19:45:00\n"
     ]
    },
    {
     "name": "stderr",
     "output_type": "stream",
     "text": [
      "100%|███████████████████████████████████████████████████████████████████████████████████| 5/5 [00:00<00:00, 185.29it/s]\n"
     ]
    },
    {
     "name": "stdout",
     "output_type": "stream",
     "text": [
      "GBPUSD\n",
      "0 0\n",
      "GBPJPY\n",
      "0 0\n",
      "USDJPY\n",
      "0 0\n",
      "USDCAD\n",
      "0 1\n",
      "EURUSD\n",
      "0 0\n",
      "2020-08-23 11:45:00\n",
      "2020-08-31 19:45:00\n"
     ]
    },
    {
     "name": "stderr",
     "output_type": "stream",
     "text": [
      "100%|███████████████████████████████████████████████████████████████████████████████████| 5/5 [00:00<00:00, 185.29it/s]\n"
     ]
    },
    {
     "name": "stdout",
     "output_type": "stream",
     "text": [
      "GBPUSD\n",
      "0 0\n",
      "GBPJPY\n",
      "0 0\n",
      "USDJPY\n",
      "0 0\n",
      "USDCAD\n",
      "0 1\n",
      "EURUSD\n",
      "0 0\n",
      "2020-08-23 11:45:00\n",
      "2020-08-31 19:45:00\n"
     ]
    },
    {
     "name": "stderr",
     "output_type": "stream",
     "text": [
      "100%|███████████████████████████████████████████████████████████████████████████████████| 5/5 [00:00<00:00, 178.67it/s]\n"
     ]
    },
    {
     "name": "stdout",
     "output_type": "stream",
     "text": [
      "GBPUSD\n",
      "0 0\n",
      "GBPJPY\n",
      "0 0\n",
      "USDJPY\n",
      "0 0\n",
      "USDCAD\n",
      "0 1\n",
      "EURUSD\n",
      "0 0\n",
      "2020-08-23 11:45:00\n",
      "2020-08-31 19:45:00\n"
     ]
    },
    {
     "name": "stderr",
     "output_type": "stream",
     "text": [
      "100%|███████████████████████████████████████████████████████████████████████████████████| 5/5 [00:00<00:00, 178.67it/s]\n"
     ]
    },
    {
     "name": "stdout",
     "output_type": "stream",
     "text": [
      "GBPUSD\n",
      "0 0\n",
      "GBPJPY\n",
      "0 0\n",
      "USDJPY\n",
      "0 0\n",
      "USDCAD\n",
      "0 1\n",
      "EURUSD\n",
      "0 0\n",
      "2020-08-23 11:45:00\n",
      "2020-08-31 19:45:00\n"
     ]
    },
    {
     "name": "stderr",
     "output_type": "stream",
     "text": [
      "100%|███████████████████████████████████████████████████████████████████████████████████| 5/5 [00:00<00:00, 166.76it/s]\n"
     ]
    },
    {
     "name": "stdout",
     "output_type": "stream",
     "text": [
      "GBPUSD\n",
      "0 0\n",
      "GBPJPY\n",
      "0 0\n",
      "USDJPY\n",
      "0 0\n",
      "USDCAD\n",
      "0 1\n",
      "EURUSD\n",
      "0 0\n",
      "2020-08-23 11:45:00\n",
      "2020-08-31 19:45:00\n"
     ]
    },
    {
     "name": "stderr",
     "output_type": "stream",
     "text": [
      "100%|███████████████████████████████████████████████████████████████████████████████████| 5/5 [00:00<00:00, 178.67it/s]\n"
     ]
    },
    {
     "name": "stdout",
     "output_type": "stream",
     "text": [
      "GBPUSD\n",
      "0 0\n",
      "GBPJPY\n",
      "0 0\n",
      "USDJPY\n",
      "0 0\n",
      "USDCAD\n",
      "0 1\n",
      "EURUSD\n",
      "0 0\n",
      "2020-08-23 11:45:00\n",
      "2020-08-31 19:45:00\n"
     ]
    },
    {
     "name": "stderr",
     "output_type": "stream",
     "text": [
      "100%|███████████████████████████████████████████████████████████████████████████████████| 5/5 [00:00<00:00, 178.67it/s]\n"
     ]
    },
    {
     "name": "stdout",
     "output_type": "stream",
     "text": [
      "GBPUSD\n",
      "0 0\n",
      "GBPJPY\n",
      "0 0\n",
      "USDJPY\n",
      "0 0\n",
      "USDCAD\n",
      "0 1\n",
      "EURUSD\n",
      "0 0\n",
      "2020-08-23 11:45:00\n",
      "2020-08-31 19:45:00\n"
     ]
    },
    {
     "name": "stderr",
     "output_type": "stream",
     "text": [
      "100%|███████████████████████████████████████████████████████████████████████████████████| 5/5 [00:00<00:00, 185.29it/s]\n"
     ]
    },
    {
     "name": "stdout",
     "output_type": "stream",
     "text": [
      "GBPUSD\n",
      "0 0\n",
      "GBPJPY\n",
      "0 0\n",
      "USDJPY\n",
      "0 0\n",
      "USDCAD\n",
      "0 1\n",
      "EURUSD\n",
      "0 0\n",
      "2020-08-23 11:45:00\n",
      "2020-08-31 19:45:00\n"
     ]
    },
    {
     "name": "stderr",
     "output_type": "stream",
     "text": [
      "100%|███████████████████████████████████████████████████████████████████████████████████| 5/5 [00:00<00:00, 172.51it/s]\n"
     ]
    },
    {
     "name": "stdout",
     "output_type": "stream",
     "text": [
      "GBPUSD\n",
      "0 0\n",
      "GBPJPY\n",
      "0 0\n",
      "USDJPY\n",
      "0 0\n",
      "USDCAD\n",
      "0 1\n",
      "EURUSD\n",
      "0 0\n",
      "2020-08-23 11:45:00\n",
      "2020-08-31 19:45:00\n"
     ]
    },
    {
     "name": "stderr",
     "output_type": "stream",
     "text": [
      "100%|███████████████████████████████████████████████████████████████████████████████████| 5/5 [00:00<00:00, 185.29it/s]\n"
     ]
    },
    {
     "name": "stdout",
     "output_type": "stream",
     "text": [
      "GBPUSD\n",
      "0 0\n",
      "GBPJPY\n",
      "0 0\n",
      "USDJPY\n",
      "0 0\n",
      "USDCAD\n",
      "0 1\n",
      "EURUSD\n",
      "0 0\n"
     ]
    }
   ],
   "source": [
    "\n",
    "buffer_size = timedelta(hours=200)\n",
    "currentTime = 0\n",
    "while True:\n",
    "\n",
    "    if datetime.now().minute % 15 == 0:\n",
    "        end_date = datetime.now().replace(microsecond=0, second=0)\n",
    "        if currentTime != end_date:\n",
    "            currentTime = end_date\n",
    "            start_date = end_date - buffer_size\n",
    "        \n",
    "        priceset = pd.DataFrame() \n",
    "        while priceset.empty:\n",
    "            index_df = pd.DataFrame(index=pd.date_range(start_date, end_date, freq=\"15min\"))\n",
    "            index_df[\"hour\"] = index_df.index.hour\n",
    "            index_df[\"minute\"] = index_df.index.minute\n",
    "            print(start_date)\n",
    "            print(end_date)\n",
    "            priceset = dp.get_timesnp(admiral_demo, \n",
    "                           valid_symbols, \n",
    "                           start_date,  \n",
    "                           end_date, \n",
    "                           index_df, \n",
    "                           timeframe=mt5.TIMEFRAME_M15, \n",
    "                           pricetypes=[\"high\", \"low\", \"close\", \"tick_volume\"])\n",
    "\n",
    "            priceset = priceset.fillna(method='ffill')\n",
    "            for each_sym in valid_symbols:\n",
    "                high_hour = dp.extract_max(priceset, each_sym + \"_high\", 4, new_column=None)\n",
    "                low_hour = dp.extract_min(priceset, each_sym + \"_low\", 4, new_column=None)\n",
    "                priceset = priceset.join(high_hour).join(low_hour)\n",
    "            priceset = priceset.dropna(axis=0)\n",
    "\n",
    "            priceset =  dp.extract_windowMean(priceset, valid_symbols, column_postfixes=[\"_high\", \"_close\", \"_low\"], periods=[4,12,24,48,100])\n",
    "            priceset =  dp.extract_windowStdev(priceset, valid_symbols, column_postfixes=[\"_high\", \"_close\", \"_low\"], periods=[4,12,24,48,100])\n",
    "            priceset =  dp.extract_windowCumulativeSum(priceset, valid_symbols, column_postfixes=[\"_high\", \"_close\", \"_low\"], periods=[4,12,24,48,100])\n",
    "            priceset =  dp.extract_candleDesc(priceset, valid_symbols)\n",
    "            priceset =  dp.extract_meanDistance(priceset, valid_symbols, column_postfixes=[\"_high\", \"_close\", \"_low\"], periods=[4,12,24,48,100])\n",
    "            priceset =  dp.extract_maxDistance(priceset, valid_symbols, column_postfixes=[\"_high\", \"_close\", \"_low\"], periods=[4,12,24,48,100])\n",
    "            priceset =  dp.extract_minDistance(priceset, valid_symbols, column_postfixes=[\"_high\", \"_close\", \"_low\"], periods=[4,12,24,48,100])\n",
    "            priceset = priceset.dropna(axis=0)\n",
    "#         features = list(filter(lambda x: name in x, priceset.columns)) \n",
    "#         priceset = priceset[features]\n",
    "    \n",
    "        for each_col in priceset.columns:\n",
    "            priceset[\"ar_0_\"+each_col] = (priceset[each_col] - priceset[each_col].shift(1))\n",
    "            priceset[\"ar_1_\"+each_col] = (priceset[each_col] - priceset[each_col].shift(2))\n",
    "            priceset[\"ar_2_\"+each_col] = (priceset[each_col] - priceset[each_col].shift(3))\n",
    "            priceset[\"ar_3_\"+each_col] = (priceset[each_col] - priceset[each_col].shift(4))\n",
    "            priceset[\"ar_4_\"+each_col] = (priceset[each_col] - priceset[each_col].shift(5))\n",
    "            \n",
    "        priceset = priceset.dropna(axis=0)\n",
    "        \n",
    "        for each_strategy in strategies:\n",
    "            asset = each_strategy.asset\n",
    "            tick = admiral_demo.get_tick(asset)\n",
    "            spread = tick.ask - tick.bid\n",
    "            candle_min = priceset[\"min_\"+asset + \"_low_4\"][-1]\n",
    "            candle_max = priceset[\"max_\"+asset + \"_high_4\"][-1]\n",
    "            features = list(filter(lambda x: asset in x, priceset.columns)) \n",
    "            X = priceset[features]\n",
    "            features_to_learn = list(filter(lambda x: \"ar\" in x, X.columns))\n",
    "            X = priceset[features_to_learn].join(index_df[[\"hour\", \"minute\"]])\n",
    "            X = pd.DataFrame(X.iloc[-2, :]).T\n",
    "            print(asset)\n",
    "            up_signal = each_strategy.up_predictor.predict(X)[0]\n",
    "            down_signal = each_strategy.down_predictor.predict(X)[0]\n",
    "            print(up_signal, down_signal)\n",
    "            \n",
    "            if up_signal == 1 and down_signal == 0:\n",
    "                signal = 0      \n",
    "            elif down_signal == 1 and up_signal == 0:\n",
    "                signal = 1\n",
    "            else:\n",
    "                signal = -1\n",
    "            \n",
    "            positions = admiral_demo.get_positions(asset)\n",
    "            position_cnt = 0\n",
    "            if len(positions) > 0:\n",
    "                for each_position in positions: \n",
    "                    if each_position.magic == 15777:\n",
    "                        position_cnt = position_cnt + 1\n",
    "                        position_direction = each_position.type\n",
    "                        if signal != position_direction:\n",
    "                            result = admiral_demo.close_position(each_position, filltype=0)\n",
    "                            Informer.send_mess(str(result))\n",
    "                        else:\n",
    "                            if position_direction == 0:\n",
    "                                result = admiral_demo.modify_tpsl(each_position, sl=candle_min)\n",
    "                                Informer.send_mess(str(result))                            \n",
    "                            else:\n",
    "                                result = admiral_demo.modify_tpsl(each_position, sl=candle_max+spread)\n",
    "                                Informer.send_mess(str(result))   \n",
    "                        \n",
    "            positions = admiral_demo.get_positions(asset)\n",
    "\n",
    "            if signal == 0 and position_cnt == 0:\n",
    "                print(\"Buy\", asset)\n",
    "                result = admiral_demo.open_position(\"BUY\", asset, filltype=0, lot=0.01, comment=\"15Min\", magic=15777)\n",
    "                Informer.send_mess(str(result))\n",
    "            if signal == 1 and position_cnt == 0:\n",
    "                print(\"Sell\", asset) \n",
    "                result = admiral_demo.open_position(\"SELL\", asset, filltype=0, lot=0.01, comment=\"15Min\", magic=15777)\n",
    "                Informer.send_mess(str(result))\n"
   ]
  },
  {
   "cell_type": "code",
   "execution_count": 8,
   "metadata": {},
   "outputs": [
    {
     "data": {
      "text/plain": [
       "OrderSendResult(retcode=10009, deal=0, order=1054747591, volume=0.01, price=0.0, bid=0.0, ask=0.0, comment='15Min', request_id=23, retcode_external=0, request=TradeRequest(action=1, magic=4577, order=0, symbol='NZDCAD', volume=0.01, price=0.88019, stoplimit=0.0, sl=0.0, tp=0.0, deviation=1, type=0, type_filling=0, type_time=0, expiration=0, comment='15Min', position=0, position_by=0))"
      ]
     },
     "execution_count": 8,
     "metadata": {},
     "output_type": "execute_result"
    }
   ],
   "source": [
    "admiral_demo.open_position(\"BUY\", \"NZDCAD\", filltype=0, lot=0.01, comment=\"15Min\")"
   ]
  },
  {
   "cell_type": "code",
   "execution_count": 44,
   "metadata": {},
   "outputs": [
    {
     "ename": "KeyError",
     "evalue": "'hour'",
     "output_type": "error",
     "traceback": [
      "\u001b[1;31m---------------------------------------------------------------------------\u001b[0m",
      "\u001b[1;31mKeyError\u001b[0m                                  Traceback (most recent call last)",
      "\u001b[1;32mC:\\Anaconda3\\lib\\site-packages\\pandas\\core\\indexes\\base.py\u001b[0m in \u001b[0;36mget_loc\u001b[1;34m(self, key, method, tolerance)\u001b[0m\n\u001b[0;32m   2888\u001b[0m             \u001b[1;32mtry\u001b[0m\u001b[1;33m:\u001b[0m\u001b[1;33m\u001b[0m\u001b[1;33m\u001b[0m\u001b[0m\n\u001b[1;32m-> 2889\u001b[1;33m                 \u001b[1;32mreturn\u001b[0m \u001b[0mself\u001b[0m\u001b[1;33m.\u001b[0m\u001b[0m_engine\u001b[0m\u001b[1;33m.\u001b[0m\u001b[0mget_loc\u001b[0m\u001b[1;33m(\u001b[0m\u001b[0mcasted_key\u001b[0m\u001b[1;33m)\u001b[0m\u001b[1;33m\u001b[0m\u001b[1;33m\u001b[0m\u001b[0m\n\u001b[0m\u001b[0;32m   2890\u001b[0m             \u001b[1;32mexcept\u001b[0m \u001b[0mKeyError\u001b[0m \u001b[1;32mas\u001b[0m \u001b[0merr\u001b[0m\u001b[1;33m:\u001b[0m\u001b[1;33m\u001b[0m\u001b[1;33m\u001b[0m\u001b[0m\n",
      "\u001b[1;32mpandas\\_libs\\index.pyx\u001b[0m in \u001b[0;36mpandas._libs.index.IndexEngine.get_loc\u001b[1;34m()\u001b[0m\n",
      "\u001b[1;32mpandas\\_libs\\index.pyx\u001b[0m in \u001b[0;36mpandas._libs.index.IndexEngine.get_loc\u001b[1;34m()\u001b[0m\n",
      "\u001b[1;32mpandas\\_libs\\hashtable_class_helper.pxi\u001b[0m in \u001b[0;36mpandas._libs.hashtable.PyObjectHashTable.get_item\u001b[1;34m()\u001b[0m\n",
      "\u001b[1;32mpandas\\_libs\\hashtable_class_helper.pxi\u001b[0m in \u001b[0;36mpandas._libs.hashtable.PyObjectHashTable.get_item\u001b[1;34m()\u001b[0m\n",
      "\u001b[1;31mKeyError\u001b[0m: 'hour'",
      "\nThe above exception was the direct cause of the following exception:\n",
      "\u001b[1;31mKeyError\u001b[0m                                  Traceback (most recent call last)",
      "\u001b[1;32m<ipython-input-44-892f0fc40531>\u001b[0m in \u001b[0;36m<module>\u001b[1;34m\u001b[0m\n\u001b[1;32m----> 1\u001b[1;33m \u001b[0mX\u001b[0m\u001b[1;33m[\u001b[0m\u001b[1;34m\"hour\"\u001b[0m\u001b[1;33m]\u001b[0m\u001b[1;33m\u001b[0m\u001b[1;33m\u001b[0m\u001b[0m\n\u001b[0m",
      "\u001b[1;32mC:\\Anaconda3\\lib\\site-packages\\pandas\\core\\frame.py\u001b[0m in \u001b[0;36m__getitem__\u001b[1;34m(self, key)\u001b[0m\n\u001b[0;32m   2900\u001b[0m             \u001b[1;32mif\u001b[0m \u001b[0mself\u001b[0m\u001b[1;33m.\u001b[0m\u001b[0mcolumns\u001b[0m\u001b[1;33m.\u001b[0m\u001b[0mnlevels\u001b[0m \u001b[1;33m>\u001b[0m \u001b[1;36m1\u001b[0m\u001b[1;33m:\u001b[0m\u001b[1;33m\u001b[0m\u001b[1;33m\u001b[0m\u001b[0m\n\u001b[0;32m   2901\u001b[0m                 \u001b[1;32mreturn\u001b[0m \u001b[0mself\u001b[0m\u001b[1;33m.\u001b[0m\u001b[0m_getitem_multilevel\u001b[0m\u001b[1;33m(\u001b[0m\u001b[0mkey\u001b[0m\u001b[1;33m)\u001b[0m\u001b[1;33m\u001b[0m\u001b[1;33m\u001b[0m\u001b[0m\n\u001b[1;32m-> 2902\u001b[1;33m             \u001b[0mindexer\u001b[0m \u001b[1;33m=\u001b[0m \u001b[0mself\u001b[0m\u001b[1;33m.\u001b[0m\u001b[0mcolumns\u001b[0m\u001b[1;33m.\u001b[0m\u001b[0mget_loc\u001b[0m\u001b[1;33m(\u001b[0m\u001b[0mkey\u001b[0m\u001b[1;33m)\u001b[0m\u001b[1;33m\u001b[0m\u001b[1;33m\u001b[0m\u001b[0m\n\u001b[0m\u001b[0;32m   2903\u001b[0m             \u001b[1;32mif\u001b[0m \u001b[0mis_integer\u001b[0m\u001b[1;33m(\u001b[0m\u001b[0mindexer\u001b[0m\u001b[1;33m)\u001b[0m\u001b[1;33m:\u001b[0m\u001b[1;33m\u001b[0m\u001b[1;33m\u001b[0m\u001b[0m\n\u001b[0;32m   2904\u001b[0m                 \u001b[0mindexer\u001b[0m \u001b[1;33m=\u001b[0m \u001b[1;33m[\u001b[0m\u001b[0mindexer\u001b[0m\u001b[1;33m]\u001b[0m\u001b[1;33m\u001b[0m\u001b[1;33m\u001b[0m\u001b[0m\n",
      "\u001b[1;32mC:\\Anaconda3\\lib\\site-packages\\pandas\\core\\indexes\\base.py\u001b[0m in \u001b[0;36mget_loc\u001b[1;34m(self, key, method, tolerance)\u001b[0m\n\u001b[0;32m   2889\u001b[0m                 \u001b[1;32mreturn\u001b[0m \u001b[0mself\u001b[0m\u001b[1;33m.\u001b[0m\u001b[0m_engine\u001b[0m\u001b[1;33m.\u001b[0m\u001b[0mget_loc\u001b[0m\u001b[1;33m(\u001b[0m\u001b[0mcasted_key\u001b[0m\u001b[1;33m)\u001b[0m\u001b[1;33m\u001b[0m\u001b[1;33m\u001b[0m\u001b[0m\n\u001b[0;32m   2890\u001b[0m             \u001b[1;32mexcept\u001b[0m \u001b[0mKeyError\u001b[0m \u001b[1;32mas\u001b[0m \u001b[0merr\u001b[0m\u001b[1;33m:\u001b[0m\u001b[1;33m\u001b[0m\u001b[1;33m\u001b[0m\u001b[0m\n\u001b[1;32m-> 2891\u001b[1;33m                 \u001b[1;32mraise\u001b[0m \u001b[0mKeyError\u001b[0m\u001b[1;33m(\u001b[0m\u001b[0mkey\u001b[0m\u001b[1;33m)\u001b[0m \u001b[1;32mfrom\u001b[0m \u001b[0merr\u001b[0m\u001b[1;33m\u001b[0m\u001b[1;33m\u001b[0m\u001b[0m\n\u001b[0m\u001b[0;32m   2892\u001b[0m \u001b[1;33m\u001b[0m\u001b[0m\n\u001b[0;32m   2893\u001b[0m         \u001b[1;32mif\u001b[0m \u001b[0mtolerance\u001b[0m \u001b[1;32mis\u001b[0m \u001b[1;32mnot\u001b[0m \u001b[1;32mNone\u001b[0m\u001b[1;33m:\u001b[0m\u001b[1;33m\u001b[0m\u001b[1;33m\u001b[0m\u001b[0m\n",
      "\u001b[1;31mKeyError\u001b[0m: 'hour'"
     ]
    }
   ],
   "source": [
    "X[\"hour\"]"
   ]
  },
  {
   "cell_type": "code",
   "execution_count": 43,
   "metadata": {},
   "outputs": [
    {
     "name": "stdout",
     "output_type": "stream",
     "text": [
      "ar_0_GBPUSD_high\n",
      "ar_1_GBPUSD_high\n",
      "ar_2_GBPUSD_high\n",
      "ar_3_GBPUSD_high\n",
      "ar_4_GBPUSD_high\n",
      "ar_0_GBPUSD_low\n",
      "ar_1_GBPUSD_low\n",
      "ar_2_GBPUSD_low\n",
      "ar_3_GBPUSD_low\n",
      "ar_4_GBPUSD_low\n",
      "ar_0_GBPUSD_close\n",
      "ar_1_GBPUSD_close\n",
      "ar_2_GBPUSD_close\n",
      "ar_3_GBPUSD_close\n",
      "ar_4_GBPUSD_close\n",
      "ar_0_GBPUSD_tick_volume\n",
      "ar_1_GBPUSD_tick_volume\n",
      "ar_2_GBPUSD_tick_volume\n",
      "ar_3_GBPUSD_tick_volume\n",
      "ar_4_GBPUSD_tick_volume\n",
      "ar_0_max_GBPUSD_high_4\n",
      "ar_1_max_GBPUSD_high_4\n",
      "ar_2_max_GBPUSD_high_4\n",
      "ar_3_max_GBPUSD_high_4\n",
      "ar_4_max_GBPUSD_high_4\n",
      "ar_0_min_GBPUSD_low_4\n",
      "ar_1_min_GBPUSD_low_4\n",
      "ar_2_min_GBPUSD_low_4\n",
      "ar_3_min_GBPUSD_low_4\n",
      "ar_4_min_GBPUSD_low_4\n",
      "ar_0_mean_GBPUSD_high_4\n",
      "ar_1_mean_GBPUSD_high_4\n",
      "ar_2_mean_GBPUSD_high_4\n",
      "ar_3_mean_GBPUSD_high_4\n",
      "ar_4_mean_GBPUSD_high_4\n",
      "ar_0_mean_GBPUSD_high_12\n",
      "ar_1_mean_GBPUSD_high_12\n",
      "ar_2_mean_GBPUSD_high_12\n",
      "ar_3_mean_GBPUSD_high_12\n",
      "ar_4_mean_GBPUSD_high_12\n",
      "ar_0_mean_GBPUSD_high_24\n",
      "ar_1_mean_GBPUSD_high_24\n",
      "ar_2_mean_GBPUSD_high_24\n",
      "ar_3_mean_GBPUSD_high_24\n",
      "ar_4_mean_GBPUSD_high_24\n",
      "ar_0_mean_GBPUSD_high_48\n",
      "ar_1_mean_GBPUSD_high_48\n",
      "ar_2_mean_GBPUSD_high_48\n",
      "ar_3_mean_GBPUSD_high_48\n",
      "ar_4_mean_GBPUSD_high_48\n",
      "ar_0_mean_GBPUSD_high_100\n",
      "ar_1_mean_GBPUSD_high_100\n",
      "ar_2_mean_GBPUSD_high_100\n",
      "ar_3_mean_GBPUSD_high_100\n",
      "ar_4_mean_GBPUSD_high_100\n",
      "ar_0_mean_GBPUSD_close_4\n",
      "ar_1_mean_GBPUSD_close_4\n",
      "ar_2_mean_GBPUSD_close_4\n",
      "ar_3_mean_GBPUSD_close_4\n",
      "ar_4_mean_GBPUSD_close_4\n",
      "ar_0_mean_GBPUSD_close_12\n",
      "ar_1_mean_GBPUSD_close_12\n",
      "ar_2_mean_GBPUSD_close_12\n",
      "ar_3_mean_GBPUSD_close_12\n",
      "ar_4_mean_GBPUSD_close_12\n",
      "ar_0_mean_GBPUSD_close_24\n",
      "ar_1_mean_GBPUSD_close_24\n",
      "ar_2_mean_GBPUSD_close_24\n",
      "ar_3_mean_GBPUSD_close_24\n",
      "ar_4_mean_GBPUSD_close_24\n",
      "ar_0_mean_GBPUSD_close_48\n",
      "ar_1_mean_GBPUSD_close_48\n",
      "ar_2_mean_GBPUSD_close_48\n",
      "ar_3_mean_GBPUSD_close_48\n",
      "ar_4_mean_GBPUSD_close_48\n",
      "ar_0_mean_GBPUSD_close_100\n",
      "ar_1_mean_GBPUSD_close_100\n",
      "ar_2_mean_GBPUSD_close_100\n",
      "ar_3_mean_GBPUSD_close_100\n",
      "ar_4_mean_GBPUSD_close_100\n",
      "ar_0_mean_GBPUSD_low_4\n",
      "ar_1_mean_GBPUSD_low_4\n",
      "ar_2_mean_GBPUSD_low_4\n",
      "ar_3_mean_GBPUSD_low_4\n",
      "ar_4_mean_GBPUSD_low_4\n",
      "ar_0_mean_GBPUSD_low_12\n",
      "ar_1_mean_GBPUSD_low_12\n",
      "ar_2_mean_GBPUSD_low_12\n",
      "ar_3_mean_GBPUSD_low_12\n",
      "ar_4_mean_GBPUSD_low_12\n",
      "ar_0_mean_GBPUSD_low_24\n",
      "ar_1_mean_GBPUSD_low_24\n",
      "ar_2_mean_GBPUSD_low_24\n",
      "ar_3_mean_GBPUSD_low_24\n",
      "ar_4_mean_GBPUSD_low_24\n",
      "ar_0_mean_GBPUSD_low_48\n",
      "ar_1_mean_GBPUSD_low_48\n",
      "ar_2_mean_GBPUSD_low_48\n",
      "ar_3_mean_GBPUSD_low_48\n",
      "ar_4_mean_GBPUSD_low_48\n",
      "ar_0_mean_GBPUSD_low_100\n",
      "ar_1_mean_GBPUSD_low_100\n",
      "ar_2_mean_GBPUSD_low_100\n",
      "ar_3_mean_GBPUSD_low_100\n",
      "ar_4_mean_GBPUSD_low_100\n",
      "ar_0_stdev_GBPUSD_high_4\n",
      "ar_1_stdev_GBPUSD_high_4\n",
      "ar_2_stdev_GBPUSD_high_4\n",
      "ar_3_stdev_GBPUSD_high_4\n",
      "ar_4_stdev_GBPUSD_high_4\n",
      "ar_0_stdev_GBPUSD_high_12\n",
      "ar_1_stdev_GBPUSD_high_12\n",
      "ar_2_stdev_GBPUSD_high_12\n",
      "ar_3_stdev_GBPUSD_high_12\n",
      "ar_4_stdev_GBPUSD_high_12\n",
      "ar_0_stdev_GBPUSD_high_24\n",
      "ar_1_stdev_GBPUSD_high_24\n",
      "ar_2_stdev_GBPUSD_high_24\n",
      "ar_3_stdev_GBPUSD_high_24\n",
      "ar_4_stdev_GBPUSD_high_24\n",
      "ar_0_stdev_GBPUSD_high_48\n",
      "ar_1_stdev_GBPUSD_high_48\n",
      "ar_2_stdev_GBPUSD_high_48\n",
      "ar_3_stdev_GBPUSD_high_48\n",
      "ar_4_stdev_GBPUSD_high_48\n",
      "ar_0_stdev_GBPUSD_high_100\n",
      "ar_1_stdev_GBPUSD_high_100\n",
      "ar_2_stdev_GBPUSD_high_100\n",
      "ar_3_stdev_GBPUSD_high_100\n",
      "ar_4_stdev_GBPUSD_high_100\n",
      "ar_0_stdev_GBPUSD_close_4\n",
      "ar_1_stdev_GBPUSD_close_4\n",
      "ar_2_stdev_GBPUSD_close_4\n",
      "ar_3_stdev_GBPUSD_close_4\n",
      "ar_4_stdev_GBPUSD_close_4\n",
      "ar_0_stdev_GBPUSD_close_12\n",
      "ar_1_stdev_GBPUSD_close_12\n",
      "ar_2_stdev_GBPUSD_close_12\n",
      "ar_3_stdev_GBPUSD_close_12\n",
      "ar_4_stdev_GBPUSD_close_12\n",
      "ar_0_stdev_GBPUSD_close_24\n",
      "ar_1_stdev_GBPUSD_close_24\n",
      "ar_2_stdev_GBPUSD_close_24\n",
      "ar_3_stdev_GBPUSD_close_24\n",
      "ar_4_stdev_GBPUSD_close_24\n",
      "ar_0_stdev_GBPUSD_close_48\n",
      "ar_1_stdev_GBPUSD_close_48\n",
      "ar_2_stdev_GBPUSD_close_48\n",
      "ar_3_stdev_GBPUSD_close_48\n",
      "ar_4_stdev_GBPUSD_close_48\n",
      "ar_0_stdev_GBPUSD_close_100\n",
      "ar_1_stdev_GBPUSD_close_100\n",
      "ar_2_stdev_GBPUSD_close_100\n",
      "ar_3_stdev_GBPUSD_close_100\n",
      "ar_4_stdev_GBPUSD_close_100\n",
      "ar_0_stdev_GBPUSD_low_4\n",
      "ar_1_stdev_GBPUSD_low_4\n",
      "ar_2_stdev_GBPUSD_low_4\n",
      "ar_3_stdev_GBPUSD_low_4\n",
      "ar_4_stdev_GBPUSD_low_4\n",
      "ar_0_stdev_GBPUSD_low_12\n",
      "ar_1_stdev_GBPUSD_low_12\n",
      "ar_2_stdev_GBPUSD_low_12\n",
      "ar_3_stdev_GBPUSD_low_12\n",
      "ar_4_stdev_GBPUSD_low_12\n",
      "ar_0_stdev_GBPUSD_low_24\n",
      "ar_1_stdev_GBPUSD_low_24\n",
      "ar_2_stdev_GBPUSD_low_24\n",
      "ar_3_stdev_GBPUSD_low_24\n",
      "ar_4_stdev_GBPUSD_low_24\n",
      "ar_0_stdev_GBPUSD_low_48\n",
      "ar_1_stdev_GBPUSD_low_48\n",
      "ar_2_stdev_GBPUSD_low_48\n",
      "ar_3_stdev_GBPUSD_low_48\n",
      "ar_4_stdev_GBPUSD_low_48\n",
      "ar_0_stdev_GBPUSD_low_100\n",
      "ar_1_stdev_GBPUSD_low_100\n",
      "ar_2_stdev_GBPUSD_low_100\n",
      "ar_3_stdev_GBPUSD_low_100\n",
      "ar_4_stdev_GBPUSD_low_100\n",
      "ar_0_csum_GBPUSD_high_4\n",
      "ar_1_csum_GBPUSD_high_4\n",
      "ar_2_csum_GBPUSD_high_4\n",
      "ar_3_csum_GBPUSD_high_4\n",
      "ar_4_csum_GBPUSD_high_4\n",
      "ar_0_csum_GBPUSD_high_12\n",
      "ar_1_csum_GBPUSD_high_12\n",
      "ar_2_csum_GBPUSD_high_12\n",
      "ar_3_csum_GBPUSD_high_12\n",
      "ar_4_csum_GBPUSD_high_12\n",
      "ar_0_csum_GBPUSD_high_24\n",
      "ar_1_csum_GBPUSD_high_24\n",
      "ar_2_csum_GBPUSD_high_24\n",
      "ar_3_csum_GBPUSD_high_24\n",
      "ar_4_csum_GBPUSD_high_24\n",
      "ar_0_csum_GBPUSD_high_48\n",
      "ar_1_csum_GBPUSD_high_48\n",
      "ar_2_csum_GBPUSD_high_48\n",
      "ar_3_csum_GBPUSD_high_48\n",
      "ar_4_csum_GBPUSD_high_48\n",
      "ar_0_csum_GBPUSD_high_100\n",
      "ar_1_csum_GBPUSD_high_100\n",
      "ar_2_csum_GBPUSD_high_100\n",
      "ar_3_csum_GBPUSD_high_100\n",
      "ar_4_csum_GBPUSD_high_100\n",
      "ar_0_csum_GBPUSD_close_4\n",
      "ar_1_csum_GBPUSD_close_4\n",
      "ar_2_csum_GBPUSD_close_4\n",
      "ar_3_csum_GBPUSD_close_4\n",
      "ar_4_csum_GBPUSD_close_4\n",
      "ar_0_csum_GBPUSD_close_12\n",
      "ar_1_csum_GBPUSD_close_12\n",
      "ar_2_csum_GBPUSD_close_12\n",
      "ar_3_csum_GBPUSD_close_12\n",
      "ar_4_csum_GBPUSD_close_12\n",
      "ar_0_csum_GBPUSD_close_24\n",
      "ar_1_csum_GBPUSD_close_24\n",
      "ar_2_csum_GBPUSD_close_24\n",
      "ar_3_csum_GBPUSD_close_24\n",
      "ar_4_csum_GBPUSD_close_24\n",
      "ar_0_csum_GBPUSD_close_48\n",
      "ar_1_csum_GBPUSD_close_48\n",
      "ar_2_csum_GBPUSD_close_48\n",
      "ar_3_csum_GBPUSD_close_48\n",
      "ar_4_csum_GBPUSD_close_48\n",
      "ar_0_csum_GBPUSD_close_100\n",
      "ar_1_csum_GBPUSD_close_100\n",
      "ar_2_csum_GBPUSD_close_100\n",
      "ar_3_csum_GBPUSD_close_100\n",
      "ar_4_csum_GBPUSD_close_100\n",
      "ar_0_csum_GBPUSD_low_4\n",
      "ar_1_csum_GBPUSD_low_4\n",
      "ar_2_csum_GBPUSD_low_4\n",
      "ar_3_csum_GBPUSD_low_4\n",
      "ar_4_csum_GBPUSD_low_4\n",
      "ar_0_csum_GBPUSD_low_12\n",
      "ar_1_csum_GBPUSD_low_12\n",
      "ar_2_csum_GBPUSD_low_12\n",
      "ar_3_csum_GBPUSD_low_12\n",
      "ar_4_csum_GBPUSD_low_12\n",
      "ar_0_csum_GBPUSD_low_24\n",
      "ar_1_csum_GBPUSD_low_24\n",
      "ar_2_csum_GBPUSD_low_24\n",
      "ar_3_csum_GBPUSD_low_24\n",
      "ar_4_csum_GBPUSD_low_24\n",
      "ar_0_csum_GBPUSD_low_48\n",
      "ar_1_csum_GBPUSD_low_48\n",
      "ar_2_csum_GBPUSD_low_48\n",
      "ar_3_csum_GBPUSD_low_48\n",
      "ar_4_csum_GBPUSD_low_48\n",
      "ar_0_csum_GBPUSD_low_100\n",
      "ar_1_csum_GBPUSD_low_100\n",
      "ar_2_csum_GBPUSD_low_100\n",
      "ar_3_csum_GBPUSD_low_100\n",
      "ar_4_csum_GBPUSD_low_100\n",
      "ar_0_body_GBPUSD\n",
      "ar_1_body_GBPUSD\n",
      "ar_2_body_GBPUSD\n",
      "ar_3_body_GBPUSD\n",
      "ar_4_body_GBPUSD\n",
      "ar_0_clhidiff_GBPUSD\n",
      "ar_1_clhidiff_GBPUSD\n",
      "ar_2_clhidiff_GBPUSD\n",
      "ar_3_clhidiff_GBPUSD\n",
      "ar_4_clhidiff_GBPUSD\n",
      "ar_0_cllodiff_GBPUSD\n",
      "ar_1_cllodiff_GBPUSD\n",
      "ar_2_cllodiff_GBPUSD\n",
      "ar_3_cllodiff_GBPUSD\n",
      "ar_4_cllodiff_GBPUSD\n",
      "ar_0_norm_GBPUSD_high_4\n",
      "ar_1_norm_GBPUSD_high_4\n",
      "ar_2_norm_GBPUSD_high_4\n",
      "ar_3_norm_GBPUSD_high_4\n",
      "ar_4_norm_GBPUSD_high_4\n",
      "ar_0_norm_GBPUSD_high_12\n",
      "ar_1_norm_GBPUSD_high_12\n",
      "ar_2_norm_GBPUSD_high_12\n",
      "ar_3_norm_GBPUSD_high_12\n",
      "ar_4_norm_GBPUSD_high_12\n",
      "ar_0_norm_GBPUSD_high_24\n",
      "ar_1_norm_GBPUSD_high_24\n",
      "ar_2_norm_GBPUSD_high_24\n",
      "ar_3_norm_GBPUSD_high_24\n",
      "ar_4_norm_GBPUSD_high_24\n",
      "ar_0_norm_GBPUSD_high_48\n",
      "ar_1_norm_GBPUSD_high_48\n",
      "ar_2_norm_GBPUSD_high_48\n",
      "ar_3_norm_GBPUSD_high_48\n",
      "ar_4_norm_GBPUSD_high_48\n",
      "ar_0_norm_GBPUSD_high_100\n",
      "ar_1_norm_GBPUSD_high_100\n",
      "ar_2_norm_GBPUSD_high_100\n",
      "ar_3_norm_GBPUSD_high_100\n",
      "ar_4_norm_GBPUSD_high_100\n",
      "ar_0_norm_GBPUSD_close_4\n",
      "ar_1_norm_GBPUSD_close_4\n",
      "ar_2_norm_GBPUSD_close_4\n",
      "ar_3_norm_GBPUSD_close_4\n",
      "ar_4_norm_GBPUSD_close_4\n",
      "ar_0_norm_GBPUSD_close_12\n",
      "ar_1_norm_GBPUSD_close_12\n",
      "ar_2_norm_GBPUSD_close_12\n",
      "ar_3_norm_GBPUSD_close_12\n",
      "ar_4_norm_GBPUSD_close_12\n",
      "ar_0_norm_GBPUSD_close_24\n",
      "ar_1_norm_GBPUSD_close_24\n",
      "ar_2_norm_GBPUSD_close_24\n",
      "ar_3_norm_GBPUSD_close_24\n",
      "ar_4_norm_GBPUSD_close_24\n",
      "ar_0_norm_GBPUSD_close_48\n",
      "ar_1_norm_GBPUSD_close_48\n",
      "ar_2_norm_GBPUSD_close_48\n",
      "ar_3_norm_GBPUSD_close_48\n",
      "ar_4_norm_GBPUSD_close_48\n",
      "ar_0_norm_GBPUSD_close_100\n",
      "ar_1_norm_GBPUSD_close_100\n",
      "ar_2_norm_GBPUSD_close_100\n",
      "ar_3_norm_GBPUSD_close_100\n",
      "ar_4_norm_GBPUSD_close_100\n",
      "ar_0_norm_GBPUSD_low_4\n",
      "ar_1_norm_GBPUSD_low_4\n",
      "ar_2_norm_GBPUSD_low_4\n",
      "ar_3_norm_GBPUSD_low_4\n",
      "ar_4_norm_GBPUSD_low_4\n",
      "ar_0_norm_GBPUSD_low_12\n",
      "ar_1_norm_GBPUSD_low_12\n",
      "ar_2_norm_GBPUSD_low_12\n",
      "ar_3_norm_GBPUSD_low_12\n",
      "ar_4_norm_GBPUSD_low_12\n",
      "ar_0_norm_GBPUSD_low_24\n",
      "ar_1_norm_GBPUSD_low_24\n",
      "ar_2_norm_GBPUSD_low_24\n",
      "ar_3_norm_GBPUSD_low_24\n",
      "ar_4_norm_GBPUSD_low_24\n",
      "ar_0_norm_GBPUSD_low_48\n",
      "ar_1_norm_GBPUSD_low_48\n",
      "ar_2_norm_GBPUSD_low_48\n",
      "ar_3_norm_GBPUSD_low_48\n",
      "ar_4_norm_GBPUSD_low_48\n",
      "ar_0_norm_GBPUSD_low_100\n",
      "ar_1_norm_GBPUSD_low_100\n",
      "ar_2_norm_GBPUSD_low_100\n",
      "ar_3_norm_GBPUSD_low_100\n",
      "ar_4_norm_GBPUSD_low_100\n",
      "ar_0_maxdist_GBPUSD_high_4\n",
      "ar_1_maxdist_GBPUSD_high_4\n",
      "ar_2_maxdist_GBPUSD_high_4\n",
      "ar_3_maxdist_GBPUSD_high_4\n",
      "ar_4_maxdist_GBPUSD_high_4\n",
      "ar_0_maxdist_GBPUSD_high_12\n",
      "ar_1_maxdist_GBPUSD_high_12\n",
      "ar_2_maxdist_GBPUSD_high_12\n",
      "ar_3_maxdist_GBPUSD_high_12\n",
      "ar_4_maxdist_GBPUSD_high_12\n",
      "ar_0_maxdist_GBPUSD_high_24\n",
      "ar_1_maxdist_GBPUSD_high_24\n",
      "ar_2_maxdist_GBPUSD_high_24\n",
      "ar_3_maxdist_GBPUSD_high_24\n",
      "ar_4_maxdist_GBPUSD_high_24\n",
      "ar_0_maxdist_GBPUSD_high_48\n",
      "ar_1_maxdist_GBPUSD_high_48\n",
      "ar_2_maxdist_GBPUSD_high_48\n",
      "ar_3_maxdist_GBPUSD_high_48\n",
      "ar_4_maxdist_GBPUSD_high_48\n",
      "ar_0_maxdist_GBPUSD_high_100\n",
      "ar_1_maxdist_GBPUSD_high_100\n",
      "ar_2_maxdist_GBPUSD_high_100\n",
      "ar_3_maxdist_GBPUSD_high_100\n",
      "ar_4_maxdist_GBPUSD_high_100\n",
      "ar_0_maxdist_GBPUSD_close_4\n",
      "ar_1_maxdist_GBPUSD_close_4\n",
      "ar_2_maxdist_GBPUSD_close_4\n",
      "ar_3_maxdist_GBPUSD_close_4\n",
      "ar_4_maxdist_GBPUSD_close_4\n",
      "ar_0_maxdist_GBPUSD_close_12\n",
      "ar_1_maxdist_GBPUSD_close_12\n",
      "ar_2_maxdist_GBPUSD_close_12\n",
      "ar_3_maxdist_GBPUSD_close_12\n",
      "ar_4_maxdist_GBPUSD_close_12\n",
      "ar_0_maxdist_GBPUSD_close_24\n",
      "ar_1_maxdist_GBPUSD_close_24\n",
      "ar_2_maxdist_GBPUSD_close_24\n",
      "ar_3_maxdist_GBPUSD_close_24\n",
      "ar_4_maxdist_GBPUSD_close_24\n",
      "ar_0_maxdist_GBPUSD_close_48\n",
      "ar_1_maxdist_GBPUSD_close_48\n",
      "ar_2_maxdist_GBPUSD_close_48\n",
      "ar_3_maxdist_GBPUSD_close_48\n",
      "ar_4_maxdist_GBPUSD_close_48\n",
      "ar_0_maxdist_GBPUSD_close_100\n",
      "ar_1_maxdist_GBPUSD_close_100\n",
      "ar_2_maxdist_GBPUSD_close_100\n",
      "ar_3_maxdist_GBPUSD_close_100\n",
      "ar_4_maxdist_GBPUSD_close_100\n",
      "ar_0_maxdist_GBPUSD_low_4\n",
      "ar_1_maxdist_GBPUSD_low_4\n",
      "ar_2_maxdist_GBPUSD_low_4\n",
      "ar_3_maxdist_GBPUSD_low_4\n",
      "ar_4_maxdist_GBPUSD_low_4\n",
      "ar_0_maxdist_GBPUSD_low_12\n",
      "ar_1_maxdist_GBPUSD_low_12\n",
      "ar_2_maxdist_GBPUSD_low_12\n",
      "ar_3_maxdist_GBPUSD_low_12\n",
      "ar_4_maxdist_GBPUSD_low_12\n",
      "ar_0_maxdist_GBPUSD_low_24\n",
      "ar_1_maxdist_GBPUSD_low_24\n",
      "ar_2_maxdist_GBPUSD_low_24\n",
      "ar_3_maxdist_GBPUSD_low_24\n",
      "ar_4_maxdist_GBPUSD_low_24\n",
      "ar_0_maxdist_GBPUSD_low_48\n",
      "ar_1_maxdist_GBPUSD_low_48\n",
      "ar_2_maxdist_GBPUSD_low_48\n",
      "ar_3_maxdist_GBPUSD_low_48\n",
      "ar_4_maxdist_GBPUSD_low_48\n",
      "ar_0_maxdist_GBPUSD_low_100\n",
      "ar_1_maxdist_GBPUSD_low_100\n",
      "ar_2_maxdist_GBPUSD_low_100\n",
      "ar_3_maxdist_GBPUSD_low_100\n",
      "ar_4_maxdist_GBPUSD_low_100\n",
      "ar_0_mindist_GBPUSD_high_4\n",
      "ar_1_mindist_GBPUSD_high_4\n",
      "ar_2_mindist_GBPUSD_high_4\n",
      "ar_3_mindist_GBPUSD_high_4\n",
      "ar_4_mindist_GBPUSD_high_4\n",
      "ar_0_mindist_GBPUSD_high_12\n",
      "ar_1_mindist_GBPUSD_high_12\n",
      "ar_2_mindist_GBPUSD_high_12\n",
      "ar_3_mindist_GBPUSD_high_12\n",
      "ar_4_mindist_GBPUSD_high_12\n",
      "ar_0_mindist_GBPUSD_high_24\n",
      "ar_1_mindist_GBPUSD_high_24\n",
      "ar_2_mindist_GBPUSD_high_24\n",
      "ar_3_mindist_GBPUSD_high_24\n",
      "ar_4_mindist_GBPUSD_high_24\n",
      "ar_0_mindist_GBPUSD_high_48\n",
      "ar_1_mindist_GBPUSD_high_48\n",
      "ar_2_mindist_GBPUSD_high_48\n",
      "ar_3_mindist_GBPUSD_high_48\n",
      "ar_4_mindist_GBPUSD_high_48\n",
      "ar_0_mindist_GBPUSD_high_100\n",
      "ar_1_mindist_GBPUSD_high_100\n",
      "ar_2_mindist_GBPUSD_high_100\n",
      "ar_3_mindist_GBPUSD_high_100\n",
      "ar_4_mindist_GBPUSD_high_100\n",
      "ar_0_mindist_GBPUSD_close_4\n",
      "ar_1_mindist_GBPUSD_close_4\n",
      "ar_2_mindist_GBPUSD_close_4\n",
      "ar_3_mindist_GBPUSD_close_4\n",
      "ar_4_mindist_GBPUSD_close_4\n",
      "ar_0_mindist_GBPUSD_close_12\n",
      "ar_1_mindist_GBPUSD_close_12\n",
      "ar_2_mindist_GBPUSD_close_12\n",
      "ar_3_mindist_GBPUSD_close_12\n",
      "ar_4_mindist_GBPUSD_close_12\n",
      "ar_0_mindist_GBPUSD_close_24\n",
      "ar_1_mindist_GBPUSD_close_24\n",
      "ar_2_mindist_GBPUSD_close_24\n",
      "ar_3_mindist_GBPUSD_close_24\n",
      "ar_4_mindist_GBPUSD_close_24\n",
      "ar_0_mindist_GBPUSD_close_48\n",
      "ar_1_mindist_GBPUSD_close_48\n",
      "ar_2_mindist_GBPUSD_close_48\n",
      "ar_3_mindist_GBPUSD_close_48\n",
      "ar_4_mindist_GBPUSD_close_48\n",
      "ar_0_mindist_GBPUSD_close_100\n",
      "ar_1_mindist_GBPUSD_close_100\n",
      "ar_2_mindist_GBPUSD_close_100\n",
      "ar_3_mindist_GBPUSD_close_100\n",
      "ar_4_mindist_GBPUSD_close_100\n",
      "ar_0_mindist_GBPUSD_low_4\n",
      "ar_1_mindist_GBPUSD_low_4\n",
      "ar_2_mindist_GBPUSD_low_4\n",
      "ar_3_mindist_GBPUSD_low_4\n",
      "ar_4_mindist_GBPUSD_low_4\n",
      "ar_0_mindist_GBPUSD_low_12\n",
      "ar_1_mindist_GBPUSD_low_12\n",
      "ar_2_mindist_GBPUSD_low_12\n",
      "ar_3_mindist_GBPUSD_low_12\n",
      "ar_4_mindist_GBPUSD_low_12\n",
      "ar_0_mindist_GBPUSD_low_24\n",
      "ar_1_mindist_GBPUSD_low_24\n",
      "ar_2_mindist_GBPUSD_low_24\n",
      "ar_3_mindist_GBPUSD_low_24\n",
      "ar_4_mindist_GBPUSD_low_24\n",
      "ar_0_mindist_GBPUSD_low_48\n",
      "ar_1_mindist_GBPUSD_low_48\n",
      "ar_2_mindist_GBPUSD_low_48\n",
      "ar_3_mindist_GBPUSD_low_48\n",
      "ar_4_mindist_GBPUSD_low_48\n",
      "ar_0_mindist_GBPUSD_low_100\n",
      "ar_1_mindist_GBPUSD_low_100\n",
      "ar_2_mindist_GBPUSD_low_100\n",
      "ar_3_mindist_GBPUSD_low_100\n",
      "ar_4_mindist_GBPUSD_low_100\n"
     ]
    }
   ],
   "source": [
    "for i in X.columns:\n",
    "    print(i)"
   ]
  },
  {
   "cell_type": "code",
   "execution_count": 32,
   "metadata": {},
   "outputs": [
    {
     "data": {
      "text/plain": [
       "Tick(time=1598647942, bid=1.31119, ask=1.31134, last=0.0, volume=0, time_msc=1598647942606, flags=6, volume_real=0.0)"
      ]
     },
     "execution_count": 32,
     "metadata": {},
     "output_type": "execute_result"
    }
   ],
   "source": []
  },
  {
   "cell_type": "code",
   "execution_count": 28,
   "metadata": {},
   "outputs": [
    {
     "data": {
      "text/plain": [
       "(TradePosition(ticket=1054721509, time=1598647246, time_msc=1598647246092, time_update=1598647246, time_update_msc=1598647246092, type=1, magic=4577, identifier=1054721509, reason=3, volume=0.01, price_open=1.31113, sl=0.0, tp=0.0, price_current=1.31163, swap=0.0, profit=-0.38, symbol='USDCAD', comment='', external_id=''),)"
      ]
     },
     "execution_count": 28,
     "metadata": {},
     "output_type": "execute_result"
    }
   ],
   "source": [
    "positions = admiral_demo.get_positions(\"USDCAD\")\n",
    "positions"
   ]
  },
  {
   "cell_type": "code",
   "execution_count": 30,
   "metadata": {},
   "outputs": [
    {
     "data": {
      "text/plain": [
       "OrderSendResult(retcode=10009, deal=0, order=0, volume=0.0, price=0.0, bid=0.0, ask=0.0, comment='Request executed', request_id=57, retcode_external=0, request=TradeRequest(action=6, magic=0, order=0, symbol='', volume=0.0, price=0.0, stoplimit=0.0, sl=1.4, tp=0.0, deviation=0, type=0, type_filling=0, type_time=0, expiration=0, comment='', position=1054721509, position_by=0))"
      ]
     },
     "execution_count": 30,
     "metadata": {},
     "output_type": "execute_result"
    }
   ],
   "source": [
    "result = admiral_demo.modify_tpsl(positions[0], sl=1.4)\n",
    "result"
   ]
  },
  {
   "cell_type": "code",
   "execution_count": 26,
   "metadata": {},
   "outputs": [],
   "source": [
    "result"
   ]
  },
  {
   "cell_type": "code",
   "execution_count": 27,
   "metadata": {},
   "outputs": [],
   "source": [
    "i = 0\n",
    "while i!=5:\n",
    "    i = i +1\n",
    "    \n",
    "    "
   ]
  },
  {
   "cell_type": "code",
   "execution_count": 37,
   "metadata": {},
   "outputs": [
    {
     "name": "stderr",
     "output_type": "stream",
     "text": [
      "100%|███████████████████████████████████████████████████████████████████████████████████| 5/5 [00:00<00:00, 121.99it/s]\n"
     ]
    }
   ],
   "source": [
    "priceset = dp.get_timesnp(admiral_demo, \n",
    "                           valid_symbols, \n",
    "                           start_date,  \n",
    "                           end_date, \n",
    "                           index_df, \n",
    "                           timeframe=mt5.TIMEFRAME_H1, \n",
    "                           pricetypes=[\"high\", \"low\", \"close\", \"tick_volume\"])\n",
    "\n",
    "priceset = priceset.fillna(method='ffill')\n",
    "priceset = priceset.dropna(axis=0)\n",
    "\n",
    "priceset =  dp.extract_windowMean(priceset, valid_symbols, column_postfixes=[\"_high\", \"_close\", \"_low\"], periods=[6,12,24,120])\n",
    "#priceset = priceset.dropna(axis=0)\n",
    "priceset =  dp.extract_windowStdev(priceset, valid_symbols, column_postfixes=[\"_high\", \"_close\", \"_low\"], periods=[6,12,24,120])\n",
    "priceset =  dp.extract_windowCumulativeSum(priceset, valid_symbols, column_postfixes=[\"_high\", \"_close\", \"_low\"], periods=[6,12,24,120])\n",
    "priceset =  dp.extract_candleDesc(priceset, valid_symbols)\n",
    "priceset =  dp.extract_meanDistance(priceset, valid_symbols, column_postfixes=[\"_high\", \"_close\", \"_low\"], periods=[6,12,24,120])\n",
    "priceset =  dp.extract_maxDistance(priceset, valid_symbols, column_postfixes=[\"_high\", \"_close\", \"_low\"], periods=[6,12,24,120])\n",
    "priceset =  dp.extract_minDistance(priceset, valid_symbols, column_postfixes=[\"_high\", \"_close\", \"_low\"], periods=[6,12,24,120])\n"
   ]
  },
  {
   "cell_type": "code",
   "execution_count": 41,
   "metadata": {},
   "outputs": [
    {
     "data": {
      "text/html": [
       "<div>\n",
       "<style scoped>\n",
       "    .dataframe tbody tr th:only-of-type {\n",
       "        vertical-align: middle;\n",
       "    }\n",
       "\n",
       "    .dataframe tbody tr th {\n",
       "        vertical-align: top;\n",
       "    }\n",
       "\n",
       "    .dataframe thead th {\n",
       "        text-align: right;\n",
       "    }\n",
       "</style>\n",
       "<table border=\"1\" class=\"dataframe\">\n",
       "  <thead>\n",
       "    <tr style=\"text-align: right;\">\n",
       "      <th></th>\n",
       "      <th>hour</th>\n",
       "      <th>GBPJPY_high</th>\n",
       "      <th>GBPJPY_low</th>\n",
       "      <th>GBPJPY_close</th>\n",
       "      <th>GBPJPY_tick_volume</th>\n",
       "      <th>GBPUSD_high</th>\n",
       "      <th>GBPUSD_low</th>\n",
       "      <th>GBPUSD_close</th>\n",
       "      <th>GBPUSD_tick_volume</th>\n",
       "      <th>USDJPY_high</th>\n",
       "      <th>...</th>\n",
       "      <th>mindist_EURUSD_high_24</th>\n",
       "      <th>mindist_EURUSD_high_120</th>\n",
       "      <th>mindist_EURUSD_close_6</th>\n",
       "      <th>mindist_EURUSD_close_12</th>\n",
       "      <th>mindist_EURUSD_close_24</th>\n",
       "      <th>mindist_EURUSD_close_120</th>\n",
       "      <th>mindist_EURUSD_low_6</th>\n",
       "      <th>mindist_EURUSD_low_12</th>\n",
       "      <th>mindist_EURUSD_low_24</th>\n",
       "      <th>mindist_EURUSD_low_120</th>\n",
       "    </tr>\n",
       "  </thead>\n",
       "  <tbody>\n",
       "    <tr>\n",
       "      <th>2020-08-24 00:00:00</th>\n",
       "      <td>0</td>\n",
       "      <td>138.527</td>\n",
       "      <td>138.361</td>\n",
       "      <td>138.383</td>\n",
       "      <td>239.0</td>\n",
       "      <td>1.30942</td>\n",
       "      <td>1.30835</td>\n",
       "      <td>1.30881</td>\n",
       "      <td>153.0</td>\n",
       "      <td>105.801</td>\n",
       "      <td>...</td>\n",
       "      <td>NaN</td>\n",
       "      <td>NaN</td>\n",
       "      <td>NaN</td>\n",
       "      <td>NaN</td>\n",
       "      <td>NaN</td>\n",
       "      <td>NaN</td>\n",
       "      <td>NaN</td>\n",
       "      <td>NaN</td>\n",
       "      <td>NaN</td>\n",
       "      <td>NaN</td>\n",
       "    </tr>\n",
       "    <tr>\n",
       "      <th>2020-08-24 01:00:00</th>\n",
       "      <td>1</td>\n",
       "      <td>138.705</td>\n",
       "      <td>138.377</td>\n",
       "      <td>138.682</td>\n",
       "      <td>1409.0</td>\n",
       "      <td>1.30990</td>\n",
       "      <td>1.30876</td>\n",
       "      <td>1.30982</td>\n",
       "      <td>987.0</td>\n",
       "      <td>105.920</td>\n",
       "      <td>...</td>\n",
       "      <td>NaN</td>\n",
       "      <td>NaN</td>\n",
       "      <td>NaN</td>\n",
       "      <td>NaN</td>\n",
       "      <td>NaN</td>\n",
       "      <td>NaN</td>\n",
       "      <td>NaN</td>\n",
       "      <td>NaN</td>\n",
       "      <td>NaN</td>\n",
       "      <td>NaN</td>\n",
       "    </tr>\n",
       "    <tr>\n",
       "      <th>2020-08-24 02:00:00</th>\n",
       "      <td>2</td>\n",
       "      <td>138.691</td>\n",
       "      <td>138.602</td>\n",
       "      <td>138.609</td>\n",
       "      <td>1892.0</td>\n",
       "      <td>1.31012</td>\n",
       "      <td>1.30907</td>\n",
       "      <td>1.30922</td>\n",
       "      <td>884.0</td>\n",
       "      <td>105.887</td>\n",
       "      <td>...</td>\n",
       "      <td>NaN</td>\n",
       "      <td>NaN</td>\n",
       "      <td>NaN</td>\n",
       "      <td>NaN</td>\n",
       "      <td>NaN</td>\n",
       "      <td>NaN</td>\n",
       "      <td>NaN</td>\n",
       "      <td>NaN</td>\n",
       "      <td>NaN</td>\n",
       "      <td>NaN</td>\n",
       "    </tr>\n",
       "    <tr>\n",
       "      <th>2020-08-24 03:00:00</th>\n",
       "      <td>3</td>\n",
       "      <td>138.678</td>\n",
       "      <td>138.412</td>\n",
       "      <td>138.422</td>\n",
       "      <td>3541.0</td>\n",
       "      <td>1.30959</td>\n",
       "      <td>1.30859</td>\n",
       "      <td>1.30871</td>\n",
       "      <td>1542.0</td>\n",
       "      <td>105.938</td>\n",
       "      <td>...</td>\n",
       "      <td>NaN</td>\n",
       "      <td>NaN</td>\n",
       "      <td>NaN</td>\n",
       "      <td>NaN</td>\n",
       "      <td>NaN</td>\n",
       "      <td>NaN</td>\n",
       "      <td>NaN</td>\n",
       "      <td>NaN</td>\n",
       "      <td>NaN</td>\n",
       "      <td>NaN</td>\n",
       "    </tr>\n",
       "    <tr>\n",
       "      <th>2020-08-24 04:00:00</th>\n",
       "      <td>4</td>\n",
       "      <td>138.494</td>\n",
       "      <td>138.311</td>\n",
       "      <td>138.477</td>\n",
       "      <td>3536.0</td>\n",
       "      <td>1.30971</td>\n",
       "      <td>1.30822</td>\n",
       "      <td>1.30942</td>\n",
       "      <td>1993.0</td>\n",
       "      <td>105.792</td>\n",
       "      <td>...</td>\n",
       "      <td>NaN</td>\n",
       "      <td>NaN</td>\n",
       "      <td>NaN</td>\n",
       "      <td>NaN</td>\n",
       "      <td>NaN</td>\n",
       "      <td>NaN</td>\n",
       "      <td>NaN</td>\n",
       "      <td>NaN</td>\n",
       "      <td>NaN</td>\n",
       "      <td>NaN</td>\n",
       "    </tr>\n",
       "    <tr>\n",
       "      <th>2020-08-24 05:00:00</th>\n",
       "      <td>5</td>\n",
       "      <td>138.508</td>\n",
       "      <td>138.426</td>\n",
       "      <td>138.462</td>\n",
       "      <td>2151.0</td>\n",
       "      <td>1.30974</td>\n",
       "      <td>1.30840</td>\n",
       "      <td>1.30861</td>\n",
       "      <td>1540.0</td>\n",
       "      <td>105.831</td>\n",
       "      <td>...</td>\n",
       "      <td>NaN</td>\n",
       "      <td>NaN</td>\n",
       "      <td>0.00000</td>\n",
       "      <td>NaN</td>\n",
       "      <td>NaN</td>\n",
       "      <td>NaN</td>\n",
       "      <td>0.00003</td>\n",
       "      <td>NaN</td>\n",
       "      <td>NaN</td>\n",
       "      <td>NaN</td>\n",
       "    </tr>\n",
       "    <tr>\n",
       "      <th>2020-08-24 06:00:00</th>\n",
       "      <td>6</td>\n",
       "      <td>138.516</td>\n",
       "      <td>138.453</td>\n",
       "      <td>138.458</td>\n",
       "      <td>2221.0</td>\n",
       "      <td>1.30915</td>\n",
       "      <td>1.30837</td>\n",
       "      <td>1.30840</td>\n",
       "      <td>1512.0</td>\n",
       "      <td>105.845</td>\n",
       "      <td>...</td>\n",
       "      <td>NaN</td>\n",
       "      <td>NaN</td>\n",
       "      <td>0.00000</td>\n",
       "      <td>NaN</td>\n",
       "      <td>NaN</td>\n",
       "      <td>NaN</td>\n",
       "      <td>0.00000</td>\n",
       "      <td>NaN</td>\n",
       "      <td>NaN</td>\n",
       "      <td>NaN</td>\n",
       "    </tr>\n",
       "    <tr>\n",
       "      <th>2020-08-24 07:00:00</th>\n",
       "      <td>7</td>\n",
       "      <td>138.573</td>\n",
       "      <td>138.454</td>\n",
       "      <td>138.530</td>\n",
       "      <td>2416.0</td>\n",
       "      <td>1.30920</td>\n",
       "      <td>1.30834</td>\n",
       "      <td>1.30874</td>\n",
       "      <td>1586.0</td>\n",
       "      <td>105.875</td>\n",
       "      <td>...</td>\n",
       "      <td>NaN</td>\n",
       "      <td>NaN</td>\n",
       "      <td>0.00066</td>\n",
       "      <td>NaN</td>\n",
       "      <td>NaN</td>\n",
       "      <td>NaN</td>\n",
       "      <td>0.00025</td>\n",
       "      <td>NaN</td>\n",
       "      <td>NaN</td>\n",
       "      <td>NaN</td>\n",
       "    </tr>\n",
       "    <tr>\n",
       "      <th>2020-08-24 08:00:00</th>\n",
       "      <td>8</td>\n",
       "      <td>138.661</td>\n",
       "      <td>138.530</td>\n",
       "      <td>138.647</td>\n",
       "      <td>2535.0</td>\n",
       "      <td>1.31033</td>\n",
       "      <td>1.30854</td>\n",
       "      <td>1.31026</td>\n",
       "      <td>1647.0</td>\n",
       "      <td>105.920</td>\n",
       "      <td>...</td>\n",
       "      <td>NaN</td>\n",
       "      <td>NaN</td>\n",
       "      <td>0.00160</td>\n",
       "      <td>NaN</td>\n",
       "      <td>NaN</td>\n",
       "      <td>NaN</td>\n",
       "      <td>0.00063</td>\n",
       "      <td>NaN</td>\n",
       "      <td>NaN</td>\n",
       "      <td>NaN</td>\n",
       "    </tr>\n",
       "    <tr>\n",
       "      <th>2020-08-24 09:00:00</th>\n",
       "      <td>9</td>\n",
       "      <td>138.737</td>\n",
       "      <td>138.565</td>\n",
       "      <td>138.696</td>\n",
       "      <td>3626.0</td>\n",
       "      <td>1.31109</td>\n",
       "      <td>1.30940</td>\n",
       "      <td>1.31067</td>\n",
       "      <td>3276.0</td>\n",
       "      <td>105.871</td>\n",
       "      <td>...</td>\n",
       "      <td>NaN</td>\n",
       "      <td>NaN</td>\n",
       "      <td>0.00182</td>\n",
       "      <td>NaN</td>\n",
       "      <td>NaN</td>\n",
       "      <td>NaN</td>\n",
       "      <td>0.00099</td>\n",
       "      <td>NaN</td>\n",
       "      <td>NaN</td>\n",
       "      <td>NaN</td>\n",
       "    </tr>\n",
       "    <tr>\n",
       "      <th>2020-08-24 10:00:00</th>\n",
       "      <td>10</td>\n",
       "      <td>138.811</td>\n",
       "      <td>138.515</td>\n",
       "      <td>138.706</td>\n",
       "      <td>4964.0</td>\n",
       "      <td>1.31156</td>\n",
       "      <td>1.30850</td>\n",
       "      <td>1.31029</td>\n",
       "      <td>5070.0</td>\n",
       "      <td>105.867</td>\n",
       "      <td>...</td>\n",
       "      <td>NaN</td>\n",
       "      <td>NaN</td>\n",
       "      <td>0.00263</td>\n",
       "      <td>NaN</td>\n",
       "      <td>NaN</td>\n",
       "      <td>NaN</td>\n",
       "      <td>0.00185</td>\n",
       "      <td>NaN</td>\n",
       "      <td>NaN</td>\n",
       "      <td>NaN</td>\n",
       "    </tr>\n",
       "    <tr>\n",
       "      <th>2020-08-24 11:00:00</th>\n",
       "      <td>11</td>\n",
       "      <td>138.737</td>\n",
       "      <td>138.386</td>\n",
       "      <td>138.662</td>\n",
       "      <td>5227.0</td>\n",
       "      <td>1.31114</td>\n",
       "      <td>1.30772</td>\n",
       "      <td>1.31029</td>\n",
       "      <td>4739.0</td>\n",
       "      <td>105.876</td>\n",
       "      <td>...</td>\n",
       "      <td>NaN</td>\n",
       "      <td>NaN</td>\n",
       "      <td>0.00343</td>\n",
       "      <td>0.00343</td>\n",
       "      <td>NaN</td>\n",
       "      <td>NaN</td>\n",
       "      <td>0.00240</td>\n",
       "      <td>0.00240</td>\n",
       "      <td>NaN</td>\n",
       "      <td>NaN</td>\n",
       "    </tr>\n",
       "    <tr>\n",
       "      <th>2020-08-24 12:00:00</th>\n",
       "      <td>12</td>\n",
       "      <td>138.836</td>\n",
       "      <td>138.557</td>\n",
       "      <td>138.737</td>\n",
       "      <td>4376.0</td>\n",
       "      <td>1.31307</td>\n",
       "      <td>1.30925</td>\n",
       "      <td>1.31243</td>\n",
       "      <td>4328.0</td>\n",
       "      <td>105.843</td>\n",
       "      <td>...</td>\n",
       "      <td>NaN</td>\n",
       "      <td>NaN</td>\n",
       "      <td>0.00392</td>\n",
       "      <td>0.00458</td>\n",
       "      <td>NaN</td>\n",
       "      <td>NaN</td>\n",
       "      <td>0.00342</td>\n",
       "      <td>0.00367</td>\n",
       "      <td>NaN</td>\n",
       "      <td>NaN</td>\n",
       "    </tr>\n",
       "    <tr>\n",
       "      <th>2020-08-24 13:00:00</th>\n",
       "      <td>13</td>\n",
       "      <td>138.799</td>\n",
       "      <td>138.652</td>\n",
       "      <td>138.679</td>\n",
       "      <td>3800.0</td>\n",
       "      <td>1.31304</td>\n",
       "      <td>1.31124</td>\n",
       "      <td>1.31160</td>\n",
       "      <td>3742.0</td>\n",
       "      <td>105.767</td>\n",
       "      <td>...</td>\n",
       "      <td>NaN</td>\n",
       "      <td>NaN</td>\n",
       "      <td>0.00284</td>\n",
       "      <td>0.00444</td>\n",
       "      <td>NaN</td>\n",
       "      <td>NaN</td>\n",
       "      <td>0.00369</td>\n",
       "      <td>0.00432</td>\n",
       "      <td>NaN</td>\n",
       "      <td>NaN</td>\n",
       "    </tr>\n",
       "    <tr>\n",
       "      <th>2020-08-24 14:00:00</th>\n",
       "      <td>14</td>\n",
       "      <td>138.959</td>\n",
       "      <td>138.621</td>\n",
       "      <td>138.923</td>\n",
       "      <td>4066.0</td>\n",
       "      <td>1.31382</td>\n",
       "      <td>1.31073</td>\n",
       "      <td>1.31381</td>\n",
       "      <td>3400.0</td>\n",
       "      <td>105.772</td>\n",
       "      <td>...</td>\n",
       "      <td>NaN</td>\n",
       "      <td>NaN</td>\n",
       "      <td>0.00371</td>\n",
       "      <td>0.00553</td>\n",
       "      <td>NaN</td>\n",
       "      <td>NaN</td>\n",
       "      <td>0.00336</td>\n",
       "      <td>0.00435</td>\n",
       "      <td>NaN</td>\n",
       "      <td>NaN</td>\n",
       "    </tr>\n",
       "    <tr>\n",
       "      <th>2020-08-24 15:00:00</th>\n",
       "      <td>15</td>\n",
       "      <td>138.996</td>\n",
       "      <td>138.727</td>\n",
       "      <td>138.791</td>\n",
       "      <td>4693.0</td>\n",
       "      <td>1.31486</td>\n",
       "      <td>1.31089</td>\n",
       "      <td>1.31201</td>\n",
       "      <td>4144.0</td>\n",
       "      <td>105.839</td>\n",
       "      <td>...</td>\n",
       "      <td>NaN</td>\n",
       "      <td>NaN</td>\n",
       "      <td>0.00281</td>\n",
       "      <td>0.00544</td>\n",
       "      <td>NaN</td>\n",
       "      <td>NaN</td>\n",
       "      <td>0.00297</td>\n",
       "      <td>0.00482</td>\n",
       "      <td>NaN</td>\n",
       "      <td>NaN</td>\n",
       "    </tr>\n",
       "    <tr>\n",
       "      <th>2020-08-24 16:00:00</th>\n",
       "      <td>16</td>\n",
       "      <td>138.833</td>\n",
       "      <td>138.420</td>\n",
       "      <td>138.432</td>\n",
       "      <td>5671.0</td>\n",
       "      <td>1.31233</td>\n",
       "      <td>1.30837</td>\n",
       "      <td>1.30857</td>\n",
       "      <td>5299.0</td>\n",
       "      <td>105.837</td>\n",
       "      <td>...</td>\n",
       "      <td>NaN</td>\n",
       "      <td>NaN</td>\n",
       "      <td>0.00038</td>\n",
       "      <td>0.00381</td>\n",
       "      <td>NaN</td>\n",
       "      <td>NaN</td>\n",
       "      <td>0.00165</td>\n",
       "      <td>0.00405</td>\n",
       "      <td>NaN</td>\n",
       "      <td>NaN</td>\n",
       "    </tr>\n",
       "    <tr>\n",
       "      <th>2020-08-24 17:00:00</th>\n",
       "      <td>17</td>\n",
       "      <td>138.539</td>\n",
       "      <td>138.282</td>\n",
       "      <td>138.345</td>\n",
       "      <td>6976.0</td>\n",
       "      <td>1.30887</td>\n",
       "      <td>1.30652</td>\n",
       "      <td>1.30702</td>\n",
       "      <td>6035.0</td>\n",
       "      <td>105.866</td>\n",
       "      <td>...</td>\n",
       "      <td>NaN</td>\n",
       "      <td>NaN</td>\n",
       "      <td>0.00000</td>\n",
       "      <td>0.00256</td>\n",
       "      <td>NaN</td>\n",
       "      <td>NaN</td>\n",
       "      <td>0.00000</td>\n",
       "      <td>0.00260</td>\n",
       "      <td>NaN</td>\n",
       "      <td>NaN</td>\n",
       "    </tr>\n",
       "    <tr>\n",
       "      <th>2020-08-24 18:00:00</th>\n",
       "      <td>18</td>\n",
       "      <td>138.538</td>\n",
       "      <td>138.320</td>\n",
       "      <td>138.496</td>\n",
       "      <td>5090.0</td>\n",
       "      <td>1.30835</td>\n",
       "      <td>1.30599</td>\n",
       "      <td>1.30781</td>\n",
       "      <td>4672.0</td>\n",
       "      <td>105.944</td>\n",
       "      <td>...</td>\n",
       "      <td>NaN</td>\n",
       "      <td>NaN</td>\n",
       "      <td>0.00000</td>\n",
       "      <td>0.00087</td>\n",
       "      <td>NaN</td>\n",
       "      <td>NaN</td>\n",
       "      <td>0.00000</td>\n",
       "      <td>0.00053</td>\n",
       "      <td>NaN</td>\n",
       "      <td>NaN</td>\n",
       "    </tr>\n",
       "    <tr>\n",
       "      <th>2020-08-24 19:00:00</th>\n",
       "      <td>19</td>\n",
       "      <td>138.497</td>\n",
       "      <td>138.363</td>\n",
       "      <td>138.376</td>\n",
       "      <td>3161.0</td>\n",
       "      <td>1.30779</td>\n",
       "      <td>1.30620</td>\n",
       "      <td>1.30687</td>\n",
       "      <td>3387.0</td>\n",
       "      <td>105.934</td>\n",
       "      <td>...</td>\n",
       "      <td>NaN</td>\n",
       "      <td>NaN</td>\n",
       "      <td>0.00000</td>\n",
       "      <td>0.00000</td>\n",
       "      <td>NaN</td>\n",
       "      <td>NaN</td>\n",
       "      <td>0.00000</td>\n",
       "      <td>0.00006</td>\n",
       "      <td>NaN</td>\n",
       "      <td>NaN</td>\n",
       "    </tr>\n",
       "    <tr>\n",
       "      <th>2020-08-24 20:00:00</th>\n",
       "      <td>20</td>\n",
       "      <td>138.440</td>\n",
       "      <td>138.285</td>\n",
       "      <td>138.374</td>\n",
       "      <td>2642.0</td>\n",
       "      <td>1.30735</td>\n",
       "      <td>1.30549</td>\n",
       "      <td>1.30616</td>\n",
       "      <td>2798.0</td>\n",
       "      <td>105.946</td>\n",
       "      <td>...</td>\n",
       "      <td>NaN</td>\n",
       "      <td>NaN</td>\n",
       "      <td>0.00000</td>\n",
       "      <td>0.00000</td>\n",
       "      <td>NaN</td>\n",
       "      <td>NaN</td>\n",
       "      <td>0.00017</td>\n",
       "      <td>0.00017</td>\n",
       "      <td>NaN</td>\n",
       "      <td>NaN</td>\n",
       "    </tr>\n",
       "    <tr>\n",
       "      <th>2020-08-24 21:00:00</th>\n",
       "      <td>21</td>\n",
       "      <td>138.438</td>\n",
       "      <td>138.335</td>\n",
       "      <td>138.352</td>\n",
       "      <td>2616.0</td>\n",
       "      <td>1.30664</td>\n",
       "      <td>1.30566</td>\n",
       "      <td>1.30576</td>\n",
       "      <td>2496.0</td>\n",
       "      <td>105.975</td>\n",
       "      <td>...</td>\n",
       "      <td>NaN</td>\n",
       "      <td>NaN</td>\n",
       "      <td>0.00000</td>\n",
       "      <td>0.00000</td>\n",
       "      <td>NaN</td>\n",
       "      <td>NaN</td>\n",
       "      <td>0.00000</td>\n",
       "      <td>0.00000</td>\n",
       "      <td>NaN</td>\n",
       "      <td>NaN</td>\n",
       "    </tr>\n",
       "    <tr>\n",
       "      <th>2020-08-24 22:00:00</th>\n",
       "      <td>22</td>\n",
       "      <td>138.490</td>\n",
       "      <td>138.328</td>\n",
       "      <td>138.488</td>\n",
       "      <td>2393.0</td>\n",
       "      <td>1.30685</td>\n",
       "      <td>1.30534</td>\n",
       "      <td>1.30683</td>\n",
       "      <td>2405.0</td>\n",
       "      <td>105.993</td>\n",
       "      <td>...</td>\n",
       "      <td>NaN</td>\n",
       "      <td>NaN</td>\n",
       "      <td>0.00000</td>\n",
       "      <td>0.00000</td>\n",
       "      <td>NaN</td>\n",
       "      <td>NaN</td>\n",
       "      <td>0.00000</td>\n",
       "      <td>0.00000</td>\n",
       "      <td>NaN</td>\n",
       "      <td>NaN</td>\n",
       "    </tr>\n",
       "    <tr>\n",
       "      <th>2020-08-24 23:00:00</th>\n",
       "      <td>23</td>\n",
       "      <td>138.488</td>\n",
       "      <td>138.405</td>\n",
       "      <td>138.433</td>\n",
       "      <td>1202.0</td>\n",
       "      <td>1.30683</td>\n",
       "      <td>1.30593</td>\n",
       "      <td>1.30627</td>\n",
       "      <td>977.0</td>\n",
       "      <td>105.994</td>\n",
       "      <td>...</td>\n",
       "      <td>0.00000</td>\n",
       "      <td>NaN</td>\n",
       "      <td>0.00000</td>\n",
       "      <td>0.00000</td>\n",
       "      <td>0.00000</td>\n",
       "      <td>NaN</td>\n",
       "      <td>0.00010</td>\n",
       "      <td>0.00010</td>\n",
       "      <td>0.00010</td>\n",
       "      <td>NaN</td>\n",
       "    </tr>\n",
       "    <tr>\n",
       "      <th>2020-08-25 00:00:00</th>\n",
       "      <td>0</td>\n",
       "      <td>138.509</td>\n",
       "      <td>138.378</td>\n",
       "      <td>138.440</td>\n",
       "      <td>2349.0</td>\n",
       "      <td>1.30698</td>\n",
       "      <td>1.30540</td>\n",
       "      <td>1.30635</td>\n",
       "      <td>858.0</td>\n",
       "      <td>105.996</td>\n",
       "      <td>...</td>\n",
       "      <td>0.00011</td>\n",
       "      <td>NaN</td>\n",
       "      <td>0.00035</td>\n",
       "      <td>0.00035</td>\n",
       "      <td>0.00035</td>\n",
       "      <td>NaN</td>\n",
       "      <td>0.00013</td>\n",
       "      <td>0.00013</td>\n",
       "      <td>0.00013</td>\n",
       "      <td>NaN</td>\n",
       "    </tr>\n",
       "    <tr>\n",
       "      <th>2020-08-25 01:00:00</th>\n",
       "      <td>1</td>\n",
       "      <td>138.493</td>\n",
       "      <td>138.411</td>\n",
       "      <td>138.479</td>\n",
       "      <td>1015.0</td>\n",
       "      <td>1.30694</td>\n",
       "      <td>1.30619</td>\n",
       "      <td>1.30691</td>\n",
       "      <td>639.0</td>\n",
       "      <td>105.981</td>\n",
       "      <td>...</td>\n",
       "      <td>0.00031</td>\n",
       "      <td>NaN</td>\n",
       "      <td>0.00068</td>\n",
       "      <td>0.00068</td>\n",
       "      <td>0.00068</td>\n",
       "      <td>NaN</td>\n",
       "      <td>0.00046</td>\n",
       "      <td>0.00046</td>\n",
       "      <td>0.00046</td>\n",
       "      <td>NaN</td>\n",
       "    </tr>\n",
       "    <tr>\n",
       "      <th>2020-08-25 02:00:00</th>\n",
       "      <td>2</td>\n",
       "      <td>138.563</td>\n",
       "      <td>138.467</td>\n",
       "      <td>138.544</td>\n",
       "      <td>1338.0</td>\n",
       "      <td>1.30722</td>\n",
       "      <td>1.30668</td>\n",
       "      <td>1.30704</td>\n",
       "      <td>656.0</td>\n",
       "      <td>106.008</td>\n",
       "      <td>...</td>\n",
       "      <td>0.00033</td>\n",
       "      <td>NaN</td>\n",
       "      <td>0.00064</td>\n",
       "      <td>0.00064</td>\n",
       "      <td>0.00064</td>\n",
       "      <td>NaN</td>\n",
       "      <td>0.00068</td>\n",
       "      <td>0.00068</td>\n",
       "      <td>0.00068</td>\n",
       "      <td>NaN</td>\n",
       "    </tr>\n",
       "    <tr>\n",
       "      <th>2020-08-25 03:00:00</th>\n",
       "      <td>3</td>\n",
       "      <td>138.626</td>\n",
       "      <td>138.437</td>\n",
       "      <td>138.620</td>\n",
       "      <td>3851.0</td>\n",
       "      <td>1.30790</td>\n",
       "      <td>1.30582</td>\n",
       "      <td>1.30784</td>\n",
       "      <td>2656.0</td>\n",
       "      <td>106.050</td>\n",
       "      <td>...</td>\n",
       "      <td>0.00086</td>\n",
       "      <td>NaN</td>\n",
       "      <td>0.00115</td>\n",
       "      <td>0.00115</td>\n",
       "      <td>0.00115</td>\n",
       "      <td>NaN</td>\n",
       "      <td>0.00000</td>\n",
       "      <td>0.00000</td>\n",
       "      <td>0.00000</td>\n",
       "      <td>NaN</td>\n",
       "    </tr>\n",
       "    <tr>\n",
       "      <th>2020-08-25 04:00:00</th>\n",
       "      <td>4</td>\n",
       "      <td>138.750</td>\n",
       "      <td>138.552</td>\n",
       "      <td>138.733</td>\n",
       "      <td>3576.0</td>\n",
       "      <td>1.30988</td>\n",
       "      <td>1.30752</td>\n",
       "      <td>1.30978</td>\n",
       "      <td>2695.0</td>\n",
       "      <td>106.040</td>\n",
       "      <td>...</td>\n",
       "      <td>0.00153</td>\n",
       "      <td>NaN</td>\n",
       "      <td>0.00191</td>\n",
       "      <td>0.00191</td>\n",
       "      <td>0.00191</td>\n",
       "      <td>NaN</td>\n",
       "      <td>0.00123</td>\n",
       "      <td>0.00123</td>\n",
       "      <td>0.00123</td>\n",
       "      <td>NaN</td>\n",
       "    </tr>\n",
       "    <tr>\n",
       "      <th>2020-08-25 05:00:00</th>\n",
       "      <td>5</td>\n",
       "      <td>138.813</td>\n",
       "      <td>138.681</td>\n",
       "      <td>138.760</td>\n",
       "      <td>2796.0</td>\n",
       "      <td>1.31088</td>\n",
       "      <td>1.30955</td>\n",
       "      <td>1.31013</td>\n",
       "      <td>2154.0</td>\n",
       "      <td>105.921</td>\n",
       "      <td>...</td>\n",
       "      <td>0.00163</td>\n",
       "      <td>NaN</td>\n",
       "      <td>0.00143</td>\n",
       "      <td>0.00178</td>\n",
       "      <td>0.00178</td>\n",
       "      <td>NaN</td>\n",
       "      <td>0.00154</td>\n",
       "      <td>0.00154</td>\n",
       "      <td>0.00154</td>\n",
       "      <td>NaN</td>\n",
       "    </tr>\n",
       "    <tr>\n",
       "      <th>...</th>\n",
       "      <td>...</td>\n",
       "      <td>...</td>\n",
       "      <td>...</td>\n",
       "      <td>...</td>\n",
       "      <td>...</td>\n",
       "      <td>...</td>\n",
       "      <td>...</td>\n",
       "      <td>...</td>\n",
       "      <td>...</td>\n",
       "      <td>...</td>\n",
       "      <td>...</td>\n",
       "      <td>...</td>\n",
       "      <td>...</td>\n",
       "      <td>...</td>\n",
       "      <td>...</td>\n",
       "      <td>...</td>\n",
       "      <td>...</td>\n",
       "      <td>...</td>\n",
       "      <td>...</td>\n",
       "      <td>...</td>\n",
       "      <td>...</td>\n",
       "    </tr>\n",
       "    <tr>\n",
       "      <th>2020-08-27 02:00:00</th>\n",
       "      <td>2</td>\n",
       "      <td>139.995</td>\n",
       "      <td>139.891</td>\n",
       "      <td>139.943</td>\n",
       "      <td>1867.0</td>\n",
       "      <td>1.32188</td>\n",
       "      <td>1.32123</td>\n",
       "      <td>1.32185</td>\n",
       "      <td>1125.0</td>\n",
       "      <td>105.934</td>\n",
       "      <td>...</td>\n",
       "      <td>0.00428</td>\n",
       "      <td>NaN</td>\n",
       "      <td>0.00248</td>\n",
       "      <td>0.00515</td>\n",
       "      <td>0.00515</td>\n",
       "      <td>NaN</td>\n",
       "      <td>0.00197</td>\n",
       "      <td>0.00622</td>\n",
       "      <td>0.00622</td>\n",
       "      <td>NaN</td>\n",
       "    </tr>\n",
       "    <tr>\n",
       "      <th>2020-08-27 03:00:00</th>\n",
       "      <td>3</td>\n",
       "      <td>139.968</td>\n",
       "      <td>139.822</td>\n",
       "      <td>139.967</td>\n",
       "      <td>2819.0</td>\n",
       "      <td>1.32234</td>\n",
       "      <td>1.32106</td>\n",
       "      <td>1.32140</td>\n",
       "      <td>1838.0</td>\n",
       "      <td>105.930</td>\n",
       "      <td>...</td>\n",
       "      <td>0.00473</td>\n",
       "      <td>NaN</td>\n",
       "      <td>0.00111</td>\n",
       "      <td>0.00267</td>\n",
       "      <td>0.00508</td>\n",
       "      <td>NaN</td>\n",
       "      <td>0.00215</td>\n",
       "      <td>0.00554</td>\n",
       "      <td>0.00642</td>\n",
       "      <td>NaN</td>\n",
       "    </tr>\n",
       "    <tr>\n",
       "      <th>2020-08-27 04:00:00</th>\n",
       "      <td>4</td>\n",
       "      <td>140.108</td>\n",
       "      <td>139.923</td>\n",
       "      <td>139.992</td>\n",
       "      <td>3711.0</td>\n",
       "      <td>1.32220</td>\n",
       "      <td>1.32041</td>\n",
       "      <td>1.32049</td>\n",
       "      <td>3103.0</td>\n",
       "      <td>106.041</td>\n",
       "      <td>...</td>\n",
       "      <td>0.00520</td>\n",
       "      <td>NaN</td>\n",
       "      <td>0.00004</td>\n",
       "      <td>0.00165</td>\n",
       "      <td>0.00406</td>\n",
       "      <td>NaN</td>\n",
       "      <td>0.00027</td>\n",
       "      <td>0.00194</td>\n",
       "      <td>0.00559</td>\n",
       "      <td>NaN</td>\n",
       "    </tr>\n",
       "    <tr>\n",
       "      <th>2020-08-27 05:00:00</th>\n",
       "      <td>5</td>\n",
       "      <td>140.098</td>\n",
       "      <td>139.881</td>\n",
       "      <td>139.881</td>\n",
       "      <td>3103.0</td>\n",
       "      <td>1.32089</td>\n",
       "      <td>1.31935</td>\n",
       "      <td>1.31962</td>\n",
       "      <td>3024.0</td>\n",
       "      <td>106.072</td>\n",
       "      <td>...</td>\n",
       "      <td>0.00353</td>\n",
       "      <td>NaN</td>\n",
       "      <td>0.00000</td>\n",
       "      <td>0.00153</td>\n",
       "      <td>0.00394</td>\n",
       "      <td>NaN</td>\n",
       "      <td>0.00000</td>\n",
       "      <td>0.00153</td>\n",
       "      <td>0.00535</td>\n",
       "      <td>NaN</td>\n",
       "    </tr>\n",
       "    <tr>\n",
       "      <th>2020-08-27 06:00:00</th>\n",
       "      <td>6</td>\n",
       "      <td>140.016</td>\n",
       "      <td>139.868</td>\n",
       "      <td>139.980</td>\n",
       "      <td>2270.0</td>\n",
       "      <td>1.32123</td>\n",
       "      <td>1.31948</td>\n",
       "      <td>1.32093</td>\n",
       "      <td>2061.0</td>\n",
       "      <td>106.019</td>\n",
       "      <td>...</td>\n",
       "      <td>0.00363</td>\n",
       "      <td>NaN</td>\n",
       "      <td>0.00057</td>\n",
       "      <td>0.00184</td>\n",
       "      <td>0.00451</td>\n",
       "      <td>NaN</td>\n",
       "      <td>0.00000</td>\n",
       "      <td>0.00122</td>\n",
       "      <td>0.00520</td>\n",
       "      <td>NaN</td>\n",
       "    </tr>\n",
       "    <tr>\n",
       "      <th>2020-08-27 07:00:00</th>\n",
       "      <td>7</td>\n",
       "      <td>140.042</td>\n",
       "      <td>139.923</td>\n",
       "      <td>139.945</td>\n",
       "      <td>2046.0</td>\n",
       "      <td>1.32125</td>\n",
       "      <td>1.32066</td>\n",
       "      <td>1.32099</td>\n",
       "      <td>1602.0</td>\n",
       "      <td>106.008</td>\n",
       "      <td>...</td>\n",
       "      <td>0.00380</td>\n",
       "      <td>NaN</td>\n",
       "      <td>0.00049</td>\n",
       "      <td>0.00176</td>\n",
       "      <td>0.00443</td>\n",
       "      <td>NaN</td>\n",
       "      <td>0.00067</td>\n",
       "      <td>0.00162</td>\n",
       "      <td>0.00587</td>\n",
       "      <td>NaN</td>\n",
       "    </tr>\n",
       "    <tr>\n",
       "      <th>2020-08-27 08:00:00</th>\n",
       "      <td>8</td>\n",
       "      <td>140.060</td>\n",
       "      <td>139.934</td>\n",
       "      <td>140.046</td>\n",
       "      <td>2294.0</td>\n",
       "      <td>1.32115</td>\n",
       "      <td>1.32015</td>\n",
       "      <td>1.32064</td>\n",
       "      <td>1807.0</td>\n",
       "      <td>106.054</td>\n",
       "      <td>...</td>\n",
       "      <td>0.00352</td>\n",
       "      <td>NaN</td>\n",
       "      <td>0.00031</td>\n",
       "      <td>0.00158</td>\n",
       "      <td>0.00425</td>\n",
       "      <td>NaN</td>\n",
       "      <td>0.00000</td>\n",
       "      <td>0.00094</td>\n",
       "      <td>0.00519</td>\n",
       "      <td>NaN</td>\n",
       "    </tr>\n",
       "    <tr>\n",
       "      <th>2020-08-27 09:00:00</th>\n",
       "      <td>9</td>\n",
       "      <td>140.071</td>\n",
       "      <td>139.927</td>\n",
       "      <td>140.017</td>\n",
       "      <td>3600.0</td>\n",
       "      <td>1.32128</td>\n",
       "      <td>1.31982</td>\n",
       "      <td>1.32082</td>\n",
       "      <td>2981.0</td>\n",
       "      <td>106.053</td>\n",
       "      <td>...</td>\n",
       "      <td>0.00417</td>\n",
       "      <td>NaN</td>\n",
       "      <td>0.00029</td>\n",
       "      <td>0.00029</td>\n",
       "      <td>0.00423</td>\n",
       "      <td>NaN</td>\n",
       "      <td>0.00000</td>\n",
       "      <td>0.00091</td>\n",
       "      <td>0.00518</td>\n",
       "      <td>NaN</td>\n",
       "    </tr>\n",
       "    <tr>\n",
       "      <th>2020-08-27 10:00:00</th>\n",
       "      <td>10</td>\n",
       "      <td>140.239</td>\n",
       "      <td>139.971</td>\n",
       "      <td>140.116</td>\n",
       "      <td>4907.0</td>\n",
       "      <td>1.32289</td>\n",
       "      <td>1.32023</td>\n",
       "      <td>1.32185</td>\n",
       "      <td>5765.0</td>\n",
       "      <td>106.036</td>\n",
       "      <td>...</td>\n",
       "      <td>0.00424</td>\n",
       "      <td>NaN</td>\n",
       "      <td>0.00064</td>\n",
       "      <td>0.00064</td>\n",
       "      <td>0.00458</td>\n",
       "      <td>NaN</td>\n",
       "      <td>0.00000</td>\n",
       "      <td>0.00000</td>\n",
       "      <td>0.00442</td>\n",
       "      <td>NaN</td>\n",
       "    </tr>\n",
       "    <tr>\n",
       "      <th>2020-08-27 11:00:00</th>\n",
       "      <td>11</td>\n",
       "      <td>140.262</td>\n",
       "      <td>140.001</td>\n",
       "      <td>140.121</td>\n",
       "      <td>5238.0</td>\n",
       "      <td>1.32288</td>\n",
       "      <td>1.32066</td>\n",
       "      <td>1.32129</td>\n",
       "      <td>4284.0</td>\n",
       "      <td>106.205</td>\n",
       "      <td>...</td>\n",
       "      <td>0.00414</td>\n",
       "      <td>NaN</td>\n",
       "      <td>0.00032</td>\n",
       "      <td>0.00061</td>\n",
       "      <td>0.00455</td>\n",
       "      <td>NaN</td>\n",
       "      <td>0.00114</td>\n",
       "      <td>0.00114</td>\n",
       "      <td>0.00556</td>\n",
       "      <td>NaN</td>\n",
       "    </tr>\n",
       "    <tr>\n",
       "      <th>2020-08-27 12:00:00</th>\n",
       "      <td>12</td>\n",
       "      <td>140.147</td>\n",
       "      <td>139.987</td>\n",
       "      <td>139.996</td>\n",
       "      <td>3623.0</td>\n",
       "      <td>1.32178</td>\n",
       "      <td>1.32005</td>\n",
       "      <td>1.32073</td>\n",
       "      <td>3555.0</td>\n",
       "      <td>106.062</td>\n",
       "      <td>...</td>\n",
       "      <td>0.00427</td>\n",
       "      <td>NaN</td>\n",
       "      <td>0.00000</td>\n",
       "      <td>0.00000</td>\n",
       "      <td>0.00365</td>\n",
       "      <td>NaN</td>\n",
       "      <td>0.00051</td>\n",
       "      <td>0.00051</td>\n",
       "      <td>0.00493</td>\n",
       "      <td>NaN</td>\n",
       "    </tr>\n",
       "    <tr>\n",
       "      <th>2020-08-27 13:00:00</th>\n",
       "      <td>13</td>\n",
       "      <td>140.028</td>\n",
       "      <td>139.840</td>\n",
       "      <td>139.845</td>\n",
       "      <td>3878.0</td>\n",
       "      <td>1.32081</td>\n",
       "      <td>1.31826</td>\n",
       "      <td>1.31829</td>\n",
       "      <td>3562.0</td>\n",
       "      <td>106.094</td>\n",
       "      <td>...</td>\n",
       "      <td>0.00281</td>\n",
       "      <td>NaN</td>\n",
       "      <td>0.00000</td>\n",
       "      <td>0.00000</td>\n",
       "      <td>0.00170</td>\n",
       "      <td>NaN</td>\n",
       "      <td>0.00000</td>\n",
       "      <td>0.00000</td>\n",
       "      <td>0.00295</td>\n",
       "      <td>NaN</td>\n",
       "    </tr>\n",
       "    <tr>\n",
       "      <th>2020-08-27 14:00:00</th>\n",
       "      <td>14</td>\n",
       "      <td>140.072</td>\n",
       "      <td>139.689</td>\n",
       "      <td>140.010</td>\n",
       "      <td>4355.0</td>\n",
       "      <td>1.32083</td>\n",
       "      <td>1.31639</td>\n",
       "      <td>1.31988</td>\n",
       "      <td>4711.0</td>\n",
       "      <td>106.156</td>\n",
       "      <td>...</td>\n",
       "      <td>0.00210</td>\n",
       "      <td>NaN</td>\n",
       "      <td>0.00074</td>\n",
       "      <td>0.00074</td>\n",
       "      <td>0.00244</td>\n",
       "      <td>NaN</td>\n",
       "      <td>0.00000</td>\n",
       "      <td>0.00000</td>\n",
       "      <td>0.00219</td>\n",
       "      <td>NaN</td>\n",
       "    </tr>\n",
       "    <tr>\n",
       "      <th>2020-08-27 15:00:00</th>\n",
       "      <td>15</td>\n",
       "      <td>140.243</td>\n",
       "      <td>139.939</td>\n",
       "      <td>140.200</td>\n",
       "      <td>5337.0</td>\n",
       "      <td>1.32246</td>\n",
       "      <td>1.31840</td>\n",
       "      <td>1.32160</td>\n",
       "      <td>5499.0</td>\n",
       "      <td>106.170</td>\n",
       "      <td>...</td>\n",
       "      <td>0.00202</td>\n",
       "      <td>NaN</td>\n",
       "      <td>0.00273</td>\n",
       "      <td>0.00273</td>\n",
       "      <td>0.00273</td>\n",
       "      <td>NaN</td>\n",
       "      <td>0.00049</td>\n",
       "      <td>0.00049</td>\n",
       "      <td>0.00180</td>\n",
       "      <td>NaN</td>\n",
       "    </tr>\n",
       "    <tr>\n",
       "      <th>2020-08-27 16:00:00</th>\n",
       "      <td>16</td>\n",
       "      <td>140.386</td>\n",
       "      <td>140.020</td>\n",
       "      <td>140.246</td>\n",
       "      <td>15887.0</td>\n",
       "      <td>1.32841</td>\n",
       "      <td>1.31822</td>\n",
       "      <td>1.32028</td>\n",
       "      <td>15701.0</td>\n",
       "      <td>106.304</td>\n",
       "      <td>...</td>\n",
       "      <td>0.00830</td>\n",
       "      <td>NaN</td>\n",
       "      <td>0.00000</td>\n",
       "      <td>0.00000</td>\n",
       "      <td>0.00000</td>\n",
       "      <td>NaN</td>\n",
       "      <td>0.00000</td>\n",
       "      <td>0.00000</td>\n",
       "      <td>0.00000</td>\n",
       "      <td>NaN</td>\n",
       "    </tr>\n",
       "    <tr>\n",
       "      <th>2020-08-27 17:00:00</th>\n",
       "      <td>17</td>\n",
       "      <td>140.412</td>\n",
       "      <td>140.025</td>\n",
       "      <td>140.371</td>\n",
       "      <td>13456.0</td>\n",
       "      <td>1.32029</td>\n",
       "      <td>1.31609</td>\n",
       "      <td>1.31886</td>\n",
       "      <td>13335.0</td>\n",
       "      <td>106.486</td>\n",
       "      <td>...</td>\n",
       "      <td>0.00000</td>\n",
       "      <td>NaN</td>\n",
       "      <td>0.00000</td>\n",
       "      <td>0.00000</td>\n",
       "      <td>0.00000</td>\n",
       "      <td>NaN</td>\n",
       "      <td>0.00000</td>\n",
       "      <td>0.00000</td>\n",
       "      <td>0.00000</td>\n",
       "      <td>NaN</td>\n",
       "    </tr>\n",
       "    <tr>\n",
       "      <th>2020-08-27 18:00:00</th>\n",
       "      <td>18</td>\n",
       "      <td>140.780</td>\n",
       "      <td>140.348</td>\n",
       "      <td>140.765</td>\n",
       "      <td>9020.0</td>\n",
       "      <td>1.32331</td>\n",
       "      <td>1.31791</td>\n",
       "      <td>1.32280</td>\n",
       "      <td>8702.0</td>\n",
       "      <td>106.574</td>\n",
       "      <td>...</td>\n",
       "      <td>0.00198</td>\n",
       "      <td>NaN</td>\n",
       "      <td>0.00343</td>\n",
       "      <td>0.00343</td>\n",
       "      <td>0.00343</td>\n",
       "      <td>NaN</td>\n",
       "      <td>0.00171</td>\n",
       "      <td>0.00171</td>\n",
       "      <td>0.00171</td>\n",
       "      <td>NaN</td>\n",
       "    </tr>\n",
       "    <tr>\n",
       "      <th>2020-08-27 19:00:00</th>\n",
       "      <td>19</td>\n",
       "      <td>140.832</td>\n",
       "      <td>140.604</td>\n",
       "      <td>140.628</td>\n",
       "      <td>7304.0</td>\n",
       "      <td>1.32292</td>\n",
       "      <td>1.31824</td>\n",
       "      <td>1.31827</td>\n",
       "      <td>7112.0</td>\n",
       "      <td>106.697</td>\n",
       "      <td>...</td>\n",
       "      <td>0.00226</td>\n",
       "      <td>NaN</td>\n",
       "      <td>0.00086</td>\n",
       "      <td>0.00086</td>\n",
       "      <td>0.00086</td>\n",
       "      <td>NaN</td>\n",
       "      <td>0.00331</td>\n",
       "      <td>0.00331</td>\n",
       "      <td>0.00331</td>\n",
       "      <td>NaN</td>\n",
       "    </tr>\n",
       "    <tr>\n",
       "      <th>2020-08-27 20:00:00</th>\n",
       "      <td>20</td>\n",
       "      <td>140.766</td>\n",
       "      <td>140.550</td>\n",
       "      <td>140.763</td>\n",
       "      <td>5083.0</td>\n",
       "      <td>1.32078</td>\n",
       "      <td>1.31810</td>\n",
       "      <td>1.32073</td>\n",
       "      <td>5366.0</td>\n",
       "      <td>106.684</td>\n",
       "      <td>...</td>\n",
       "      <td>0.00178</td>\n",
       "      <td>NaN</td>\n",
       "      <td>0.00338</td>\n",
       "      <td>0.00338</td>\n",
       "      <td>0.00338</td>\n",
       "      <td>NaN</td>\n",
       "      <td>0.00305</td>\n",
       "      <td>0.00305</td>\n",
       "      <td>0.00305</td>\n",
       "      <td>NaN</td>\n",
       "    </tr>\n",
       "    <tr>\n",
       "      <th>2020-08-27 21:00:00</th>\n",
       "      <td>21</td>\n",
       "      <td>140.850</td>\n",
       "      <td>140.736</td>\n",
       "      <td>140.757</td>\n",
       "      <td>3615.0</td>\n",
       "      <td>1.32200</td>\n",
       "      <td>1.32031</td>\n",
       "      <td>1.32032</td>\n",
       "      <td>4599.0</td>\n",
       "      <td>106.612</td>\n",
       "      <td>...</td>\n",
       "      <td>0.00250</td>\n",
       "      <td>NaN</td>\n",
       "      <td>0.00338</td>\n",
       "      <td>0.00338</td>\n",
       "      <td>0.00338</td>\n",
       "      <td>NaN</td>\n",
       "      <td>0.00593</td>\n",
       "      <td>0.00593</td>\n",
       "      <td>0.00593</td>\n",
       "      <td>NaN</td>\n",
       "    </tr>\n",
       "    <tr>\n",
       "      <th>2020-08-27 22:00:00</th>\n",
       "      <td>22</td>\n",
       "      <td>140.780</td>\n",
       "      <td>140.675</td>\n",
       "      <td>140.682</td>\n",
       "      <td>3204.0</td>\n",
       "      <td>1.32093</td>\n",
       "      <td>1.31960</td>\n",
       "      <td>1.31960</td>\n",
       "      <td>3734.0</td>\n",
       "      <td>106.620</td>\n",
       "      <td>...</td>\n",
       "      <td>0.00177</td>\n",
       "      <td>NaN</td>\n",
       "      <td>0.00306</td>\n",
       "      <td>0.00306</td>\n",
       "      <td>0.00306</td>\n",
       "      <td>NaN</td>\n",
       "      <td>0.00555</td>\n",
       "      <td>0.00555</td>\n",
       "      <td>0.00555</td>\n",
       "      <td>NaN</td>\n",
       "    </tr>\n",
       "    <tr>\n",
       "      <th>2020-08-27 23:00:00</th>\n",
       "      <td>23</td>\n",
       "      <td>140.739</td>\n",
       "      <td>140.632</td>\n",
       "      <td>140.651</td>\n",
       "      <td>1684.0</td>\n",
       "      <td>1.32055</td>\n",
       "      <td>1.31953</td>\n",
       "      <td>1.31984</td>\n",
       "      <td>1390.0</td>\n",
       "      <td>106.611</td>\n",
       "      <td>...</td>\n",
       "      <td>0.00138</td>\n",
       "      <td>NaN</td>\n",
       "      <td>0.00244</td>\n",
       "      <td>0.00330</td>\n",
       "      <td>0.00330</td>\n",
       "      <td>NaN</td>\n",
       "      <td>0.00384</td>\n",
       "      <td>0.00555</td>\n",
       "      <td>0.00555</td>\n",
       "      <td>NaN</td>\n",
       "    </tr>\n",
       "    <tr>\n",
       "      <th>2020-08-28 00:00:00</th>\n",
       "      <td>0</td>\n",
       "      <td>140.698</td>\n",
       "      <td>140.461</td>\n",
       "      <td>140.664</td>\n",
       "      <td>3234.0</td>\n",
       "      <td>1.32060</td>\n",
       "      <td>1.31880</td>\n",
       "      <td>1.32020</td>\n",
       "      <td>1281.0</td>\n",
       "      <td>106.566</td>\n",
       "      <td>...</td>\n",
       "      <td>0.00122</td>\n",
       "      <td>NaN</td>\n",
       "      <td>0.00225</td>\n",
       "      <td>0.00311</td>\n",
       "      <td>0.00311</td>\n",
       "      <td>NaN</td>\n",
       "      <td>0.00220</td>\n",
       "      <td>0.00525</td>\n",
       "      <td>0.00525</td>\n",
       "      <td>NaN</td>\n",
       "    </tr>\n",
       "    <tr>\n",
       "      <th>2020-08-28 01:00:00</th>\n",
       "      <td>1</td>\n",
       "      <td>140.704</td>\n",
       "      <td>140.608</td>\n",
       "      <td>140.683</td>\n",
       "      <td>968.0</td>\n",
       "      <td>1.32062</td>\n",
       "      <td>1.31962</td>\n",
       "      <td>1.31968</td>\n",
       "      <td>515.0</td>\n",
       "      <td>106.611</td>\n",
       "      <td>...</td>\n",
       "      <td>0.00150</td>\n",
       "      <td>NaN</td>\n",
       "      <td>0.00000</td>\n",
       "      <td>0.00297</td>\n",
       "      <td>0.00297</td>\n",
       "      <td>NaN</td>\n",
       "      <td>0.00251</td>\n",
       "      <td>0.00556</td>\n",
       "      <td>0.00556</td>\n",
       "      <td>NaN</td>\n",
       "    </tr>\n",
       "    <tr>\n",
       "      <th>2020-08-28 02:00:00</th>\n",
       "      <td>2</td>\n",
       "      <td>140.793</td>\n",
       "      <td>140.613</td>\n",
       "      <td>140.775</td>\n",
       "      <td>1923.0</td>\n",
       "      <td>1.32028</td>\n",
       "      <td>1.31929</td>\n",
       "      <td>1.31999</td>\n",
       "      <td>1147.0</td>\n",
       "      <td>106.680</td>\n",
       "      <td>...</td>\n",
       "      <td>0.00122</td>\n",
       "      <td>NaN</td>\n",
       "      <td>0.00022</td>\n",
       "      <td>0.00319</td>\n",
       "      <td>0.00319</td>\n",
       "      <td>NaN</td>\n",
       "      <td>0.00000</td>\n",
       "      <td>0.00525</td>\n",
       "      <td>0.00525</td>\n",
       "      <td>NaN</td>\n",
       "    </tr>\n",
       "    <tr>\n",
       "      <th>2020-08-28 03:00:00</th>\n",
       "      <td>3</td>\n",
       "      <td>140.854</td>\n",
       "      <td>140.681</td>\n",
       "      <td>140.754</td>\n",
       "      <td>4998.0</td>\n",
       "      <td>1.31999</td>\n",
       "      <td>1.31860</td>\n",
       "      <td>1.31978</td>\n",
       "      <td>2452.0</td>\n",
       "      <td>106.787</td>\n",
       "      <td>...</td>\n",
       "      <td>0.00111</td>\n",
       "      <td>NaN</td>\n",
       "      <td>0.00000</td>\n",
       "      <td>0.00285</td>\n",
       "      <td>0.00285</td>\n",
       "      <td>NaN</td>\n",
       "      <td>0.00000</td>\n",
       "      <td>0.00484</td>\n",
       "      <td>0.00484</td>\n",
       "      <td>NaN</td>\n",
       "    </tr>\n",
       "    <tr>\n",
       "      <th>2020-08-28 04:00:00</th>\n",
       "      <td>4</td>\n",
       "      <td>141.113</td>\n",
       "      <td>140.710</td>\n",
       "      <td>141.099</td>\n",
       "      <td>4123.0</td>\n",
       "      <td>1.32160</td>\n",
       "      <td>1.31921</td>\n",
       "      <td>1.32155</td>\n",
       "      <td>2720.0</td>\n",
       "      <td>106.777</td>\n",
       "      <td>...</td>\n",
       "      <td>0.00189</td>\n",
       "      <td>NaN</td>\n",
       "      <td>0.00114</td>\n",
       "      <td>0.00399</td>\n",
       "      <td>0.00399</td>\n",
       "      <td>NaN</td>\n",
       "      <td>0.00038</td>\n",
       "      <td>0.00522</td>\n",
       "      <td>0.00522</td>\n",
       "      <td>NaN</td>\n",
       "    </tr>\n",
       "    <tr>\n",
       "      <th>2020-08-28 05:00:00</th>\n",
       "      <td>5</td>\n",
       "      <td>141.312</td>\n",
       "      <td>141.095</td>\n",
       "      <td>141.300</td>\n",
       "      <td>4307.0</td>\n",
       "      <td>1.32314</td>\n",
       "      <td>1.32139</td>\n",
       "      <td>1.32314</td>\n",
       "      <td>3174.0</td>\n",
       "      <td>106.834</td>\n",
       "      <td>...</td>\n",
       "      <td>0.00261</td>\n",
       "      <td>NaN</td>\n",
       "      <td>0.00183</td>\n",
       "      <td>0.00382</td>\n",
       "      <td>0.00468</td>\n",
       "      <td>NaN</td>\n",
       "      <td>0.00153</td>\n",
       "      <td>0.00466</td>\n",
       "      <td>0.00637</td>\n",
       "      <td>NaN</td>\n",
       "    </tr>\n",
       "    <tr>\n",
       "      <th>2020-08-28 06:00:00</th>\n",
       "      <td>6</td>\n",
       "      <td>141.606</td>\n",
       "      <td>141.298</td>\n",
       "      <td>141.574</td>\n",
       "      <td>3963.0</td>\n",
       "      <td>1.32477</td>\n",
       "      <td>1.32310</td>\n",
       "      <td>1.32473</td>\n",
       "      <td>3068.0</td>\n",
       "      <td>106.944</td>\n",
       "      <td>...</td>\n",
       "      <td>0.00498</td>\n",
       "      <td>NaN</td>\n",
       "      <td>0.00419</td>\n",
       "      <td>0.00618</td>\n",
       "      <td>0.00704</td>\n",
       "      <td>NaN</td>\n",
       "      <td>0.00241</td>\n",
       "      <td>0.00420</td>\n",
       "      <td>0.00725</td>\n",
       "      <td>NaN</td>\n",
       "    </tr>\n",
       "    <tr>\n",
       "      <th>2020-08-28 07:00:00</th>\n",
       "      <td>7</td>\n",
       "      <td>141.596</td>\n",
       "      <td>141.363</td>\n",
       "      <td>141.433</td>\n",
       "      <td>2647.0</td>\n",
       "      <td>1.32508</td>\n",
       "      <td>1.32381</td>\n",
       "      <td>1.32480</td>\n",
       "      <td>1800.0</td>\n",
       "      <td>106.881</td>\n",
       "      <td>...</td>\n",
       "      <td>0.00538</td>\n",
       "      <td>NaN</td>\n",
       "      <td>0.00459</td>\n",
       "      <td>0.00459</td>\n",
       "      <td>0.00744</td>\n",
       "      <td>NaN</td>\n",
       "      <td>0.00419</td>\n",
       "      <td>0.00598</td>\n",
       "      <td>0.00903</td>\n",
       "      <td>NaN</td>\n",
       "    </tr>\n",
       "  </tbody>\n",
       "</table>\n",
       "<p>104 rows × 396 columns</p>\n",
       "</div>"
      ],
      "text/plain": [
       "                     hour  GBPJPY_high  GBPJPY_low  GBPJPY_close  \\\n",
       "2020-08-24 00:00:00     0      138.527     138.361       138.383   \n",
       "2020-08-24 01:00:00     1      138.705     138.377       138.682   \n",
       "2020-08-24 02:00:00     2      138.691     138.602       138.609   \n",
       "2020-08-24 03:00:00     3      138.678     138.412       138.422   \n",
       "2020-08-24 04:00:00     4      138.494     138.311       138.477   \n",
       "...                   ...          ...         ...           ...   \n",
       "2020-08-28 03:00:00     3      140.854     140.681       140.754   \n",
       "2020-08-28 04:00:00     4      141.113     140.710       141.099   \n",
       "2020-08-28 05:00:00     5      141.312     141.095       141.300   \n",
       "2020-08-28 06:00:00     6      141.606     141.298       141.574   \n",
       "2020-08-28 07:00:00     7      141.596     141.363       141.433   \n",
       "\n",
       "                     GBPJPY_tick_volume  GBPUSD_high  GBPUSD_low  \\\n",
       "2020-08-24 00:00:00               239.0      1.30942     1.30835   \n",
       "2020-08-24 01:00:00              1409.0      1.30990     1.30876   \n",
       "2020-08-24 02:00:00              1892.0      1.31012     1.30907   \n",
       "2020-08-24 03:00:00              3541.0      1.30959     1.30859   \n",
       "2020-08-24 04:00:00              3536.0      1.30971     1.30822   \n",
       "...                                 ...          ...         ...   \n",
       "2020-08-28 03:00:00              4998.0      1.31999     1.31860   \n",
       "2020-08-28 04:00:00              4123.0      1.32160     1.31921   \n",
       "2020-08-28 05:00:00              4307.0      1.32314     1.32139   \n",
       "2020-08-28 06:00:00              3963.0      1.32477     1.32310   \n",
       "2020-08-28 07:00:00              2647.0      1.32508     1.32381   \n",
       "\n",
       "                     GBPUSD_close  GBPUSD_tick_volume  USDJPY_high  ...  \\\n",
       "2020-08-24 00:00:00       1.30881               153.0      105.801  ...   \n",
       "2020-08-24 01:00:00       1.30982               987.0      105.920  ...   \n",
       "2020-08-24 02:00:00       1.30922               884.0      105.887  ...   \n",
       "2020-08-24 03:00:00       1.30871              1542.0      105.938  ...   \n",
       "2020-08-24 04:00:00       1.30942              1993.0      105.792  ...   \n",
       "...                           ...                 ...          ...  ...   \n",
       "2020-08-28 03:00:00       1.31978              2452.0      106.787  ...   \n",
       "2020-08-28 04:00:00       1.32155              2720.0      106.777  ...   \n",
       "2020-08-28 05:00:00       1.32314              3174.0      106.834  ...   \n",
       "2020-08-28 06:00:00       1.32473              3068.0      106.944  ...   \n",
       "2020-08-28 07:00:00       1.32480              1800.0      106.881  ...   \n",
       "\n",
       "                     mindist_EURUSD_high_24  mindist_EURUSD_high_120  \\\n",
       "2020-08-24 00:00:00                     NaN                      NaN   \n",
       "2020-08-24 01:00:00                     NaN                      NaN   \n",
       "2020-08-24 02:00:00                     NaN                      NaN   \n",
       "2020-08-24 03:00:00                     NaN                      NaN   \n",
       "2020-08-24 04:00:00                     NaN                      NaN   \n",
       "...                                     ...                      ...   \n",
       "2020-08-28 03:00:00                 0.00111                      NaN   \n",
       "2020-08-28 04:00:00                 0.00189                      NaN   \n",
       "2020-08-28 05:00:00                 0.00261                      NaN   \n",
       "2020-08-28 06:00:00                 0.00498                      NaN   \n",
       "2020-08-28 07:00:00                 0.00538                      NaN   \n",
       "\n",
       "                     mindist_EURUSD_close_6  mindist_EURUSD_close_12  \\\n",
       "2020-08-24 00:00:00                     NaN                      NaN   \n",
       "2020-08-24 01:00:00                     NaN                      NaN   \n",
       "2020-08-24 02:00:00                     NaN                      NaN   \n",
       "2020-08-24 03:00:00                     NaN                      NaN   \n",
       "2020-08-24 04:00:00                     NaN                      NaN   \n",
       "...                                     ...                      ...   \n",
       "2020-08-28 03:00:00                 0.00000                  0.00285   \n",
       "2020-08-28 04:00:00                 0.00114                  0.00399   \n",
       "2020-08-28 05:00:00                 0.00183                  0.00382   \n",
       "2020-08-28 06:00:00                 0.00419                  0.00618   \n",
       "2020-08-28 07:00:00                 0.00459                  0.00459   \n",
       "\n",
       "                     mindist_EURUSD_close_24  mindist_EURUSD_close_120  \\\n",
       "2020-08-24 00:00:00                      NaN                       NaN   \n",
       "2020-08-24 01:00:00                      NaN                       NaN   \n",
       "2020-08-24 02:00:00                      NaN                       NaN   \n",
       "2020-08-24 03:00:00                      NaN                       NaN   \n",
       "2020-08-24 04:00:00                      NaN                       NaN   \n",
       "...                                      ...                       ...   \n",
       "2020-08-28 03:00:00                  0.00285                       NaN   \n",
       "2020-08-28 04:00:00                  0.00399                       NaN   \n",
       "2020-08-28 05:00:00                  0.00468                       NaN   \n",
       "2020-08-28 06:00:00                  0.00704                       NaN   \n",
       "2020-08-28 07:00:00                  0.00744                       NaN   \n",
       "\n",
       "                     mindist_EURUSD_low_6  mindist_EURUSD_low_12  \\\n",
       "2020-08-24 00:00:00                   NaN                    NaN   \n",
       "2020-08-24 01:00:00                   NaN                    NaN   \n",
       "2020-08-24 02:00:00                   NaN                    NaN   \n",
       "2020-08-24 03:00:00                   NaN                    NaN   \n",
       "2020-08-24 04:00:00                   NaN                    NaN   \n",
       "...                                   ...                    ...   \n",
       "2020-08-28 03:00:00               0.00000                0.00484   \n",
       "2020-08-28 04:00:00               0.00038                0.00522   \n",
       "2020-08-28 05:00:00               0.00153                0.00466   \n",
       "2020-08-28 06:00:00               0.00241                0.00420   \n",
       "2020-08-28 07:00:00               0.00419                0.00598   \n",
       "\n",
       "                     mindist_EURUSD_low_24  mindist_EURUSD_low_120  \n",
       "2020-08-24 00:00:00                    NaN                     NaN  \n",
       "2020-08-24 01:00:00                    NaN                     NaN  \n",
       "2020-08-24 02:00:00                    NaN                     NaN  \n",
       "2020-08-24 03:00:00                    NaN                     NaN  \n",
       "2020-08-24 04:00:00                    NaN                     NaN  \n",
       "...                                    ...                     ...  \n",
       "2020-08-28 03:00:00                0.00484                     NaN  \n",
       "2020-08-28 04:00:00                0.00522                     NaN  \n",
       "2020-08-28 05:00:00                0.00637                     NaN  \n",
       "2020-08-28 06:00:00                0.00725                     NaN  \n",
       "2020-08-28 07:00:00                0.00903                     NaN  \n",
       "\n",
       "[104 rows x 396 columns]"
      ]
     },
     "execution_count": 41,
     "metadata": {},
     "output_type": "execute_result"
    }
   ],
   "source": [
    "priceset"
   ]
  },
  {
   "cell_type": "code",
   "execution_count": 13,
   "metadata": {},
   "outputs": [
    {
     "name": "stdout",
     "output_type": "stream",
     "text": [
      "a is None?\n"
     ]
    }
   ],
   "source": [
    "a = None\n",
    "a = 1\n",
    "if a:\n",
    "    print(\"a is None?\")"
   ]
  },
  {
   "cell_type": "code",
   "execution_count": 14,
   "metadata": {},
   "outputs": [],
   "source": [
    "positions = admiral_demo.get_positions(\"USDCHF\")"
   ]
  },
  {
   "cell_type": "code",
   "execution_count": 19,
   "metadata": {},
   "outputs": [
    {
     "data": {
      "text/plain": [
       "1"
      ]
     },
     "execution_count": 19,
     "metadata": {},
     "output_type": "execute_result"
    }
   ],
   "source": [
    "positions[0].type"
   ]
  },
  {
   "cell_type": "code",
   "execution_count": null,
   "metadata": {},
   "outputs": [],
   "source": [
    "def resultToStr(result):\n",
    "    result_string = result."
   ]
  },
  {
   "cell_type": "code",
   "execution_count": 186,
   "metadata": {},
   "outputs": [
    {
     "data": {
      "text/plain": [
       "'i love eating'"
      ]
     },
     "execution_count": 186,
     "metadata": {},
     "output_type": "execute_result"
    }
   ],
   "source": [
    "\" \".join([\"i\", \"love\", \"eating\"])"
   ]
  },
  {
   "cell_type": "code",
   "execution_count": 187,
   "metadata": {},
   "outputs": [
    {
     "data": {
      "text/plain": [
       "\"OrderSendResult(retcode=10009, deal=0, order=1054247938, volume=0.01, price=0.0, bid=0.0, ask=0.0, comment='Request executed', request_id=115, retcode_external=0, request=TradeRequest(action=1, magic=4577, order=0, symbol='GBPUSD', volume=0.01, price=1.31078, stoplimit=0.0, sl=0.0, tp=0.0, deviation=1, type=0, type_filling=0, type_time=0, expiration=0, comment='', position=0, position_by=0))\""
      ]
     },
     "execution_count": 187,
     "metadata": {},
     "output_type": "execute_result"
    }
   ],
   "source": []
  },
  {
   "cell_type": "code",
   "execution_count": 181,
   "metadata": {},
   "outputs": [
    {
     "data": {
      "text/plain": [
       "TradePosition(ticket=1054247012, time=1598338807, time_msc=1598338807702, time_update=1598338807, time_update_msc=1598338807702, type=1, magic=4577, identifier=1054247012, reason=3, volume=0.01, price_open=1.18075, sl=0.0, tp=0.0, price_current=1.18118, swap=0.0, profit=-0.43, symbol='EURUSD', comment='', external_id='')"
      ]
     },
     "execution_count": 181,
     "metadata": {},
     "output_type": "execute_result"
    }
   ],
   "source": [
    "each_position"
   ]
  },
  {
   "cell_type": "code",
   "execution_count": 162,
   "metadata": {},
   "outputs": [
    {
     "data": {
      "text/plain": [
       "OrderSendResult(retcode=10009, deal=0, order=1054235458, volume=0.01, price=0.0, bid=0.0, ask=0.0, comment='Request executed', request_id=3, retcode_external=0, request=TradeRequest(action=1, magic=4577, order=0, symbol='EURUSD', volume=0.01, price=1.17869, stoplimit=0.0, sl=0.0, tp=0.0, deviation=1, type=1, type_filling=0, type_time=0, expiration=0, comment='', position=0, position_by=0))"
      ]
     },
     "execution_count": 162,
     "metadata": {},
     "output_type": "execute_result"
    }
   ],
   "source": [
    "admiral_demo.open_position(\"SELL\", asset, filltype=0, lot=0.01)"
   ]
  },
  {
   "cell_type": "code",
   "execution_count": 150,
   "metadata": {},
   "outputs": [
    {
     "data": {
      "text/html": [
       "<div>\n",
       "<style scoped>\n",
       "    .dataframe tbody tr th:only-of-type {\n",
       "        vertical-align: middle;\n",
       "    }\n",
       "\n",
       "    .dataframe tbody tr th {\n",
       "        vertical-align: top;\n",
       "    }\n",
       "\n",
       "    .dataframe thead th {\n",
       "        text-align: right;\n",
       "    }\n",
       "</style>\n",
       "<table border=\"1\" class=\"dataframe\">\n",
       "  <thead>\n",
       "    <tr style=\"text-align: right;\">\n",
       "      <th></th>\n",
       "      <th>ar_0_EURUSD_high</th>\n",
       "      <th>ar_1_EURUSD_high</th>\n",
       "      <th>ar_0_EURUSD_low</th>\n",
       "      <th>ar_1_EURUSD_low</th>\n",
       "      <th>ar_0_EURUSD_close</th>\n",
       "      <th>ar_1_EURUSD_close</th>\n",
       "      <th>ar_0_EURUSD_tick_volume</th>\n",
       "      <th>ar_1_EURUSD_tick_volume</th>\n",
       "      <th>ar_0_mean_EURUSD_high_6</th>\n",
       "      <th>ar_1_mean_EURUSD_high_6</th>\n",
       "      <th>...</th>\n",
       "      <th>ar_0_mindist_EURUSD_close_120</th>\n",
       "      <th>ar_1_mindist_EURUSD_close_120</th>\n",
       "      <th>ar_0_mindist_EURUSD_low_6</th>\n",
       "      <th>ar_1_mindist_EURUSD_low_6</th>\n",
       "      <th>ar_0_mindist_EURUSD_low_12</th>\n",
       "      <th>ar_1_mindist_EURUSD_low_12</th>\n",
       "      <th>ar_0_mindist_EURUSD_low_24</th>\n",
       "      <th>ar_1_mindist_EURUSD_low_24</th>\n",
       "      <th>ar_0_mindist_EURUSD_low_120</th>\n",
       "      <th>ar_1_mindist_EURUSD_low_120</th>\n",
       "    </tr>\n",
       "  </thead>\n",
       "  <tbody>\n",
       "    <tr>\n",
       "      <th>2020-08-24 22:00:00</th>\n",
       "      <td>-0.00065</td>\n",
       "      <td>-0.00127</td>\n",
       "      <td>-0.00074</td>\n",
       "      <td>-0.00091</td>\n",
       "      <td>-0.00002</td>\n",
       "      <td>-0.00058</td>\n",
       "      <td>16.0</td>\n",
       "      <td>-589.0</td>\n",
       "      <td>-0.000868</td>\n",
       "      <td>-0.001707</td>\n",
       "      <td>...</td>\n",
       "      <td>-0.00002</td>\n",
       "      <td>-0.00058</td>\n",
       "      <td>0.0</td>\n",
       "      <td>-0.00017</td>\n",
       "      <td>0.0</td>\n",
       "      <td>-0.00017</td>\n",
       "      <td>-0.00069</td>\n",
       "      <td>-0.00086</td>\n",
       "      <td>-0.00074</td>\n",
       "      <td>-0.00091</td>\n",
       "    </tr>\n",
       "  </tbody>\n",
       "</table>\n",
       "<p>1 rows × 158 columns</p>\n",
       "</div>"
      ],
      "text/plain": [
       "                     ar_0_EURUSD_high  ar_1_EURUSD_high  ar_0_EURUSD_low  \\\n",
       "2020-08-24 22:00:00          -0.00065          -0.00127         -0.00074   \n",
       "\n",
       "                     ar_1_EURUSD_low  ar_0_EURUSD_close  ar_1_EURUSD_close  \\\n",
       "2020-08-24 22:00:00         -0.00091           -0.00002           -0.00058   \n",
       "\n",
       "                     ar_0_EURUSD_tick_volume  ar_1_EURUSD_tick_volume  \\\n",
       "2020-08-24 22:00:00                     16.0                   -589.0   \n",
       "\n",
       "                     ar_0_mean_EURUSD_high_6  ar_1_mean_EURUSD_high_6  ...  \\\n",
       "2020-08-24 22:00:00                -0.000868                -0.001707  ...   \n",
       "\n",
       "                     ar_0_mindist_EURUSD_close_120  \\\n",
       "2020-08-24 22:00:00                       -0.00002   \n",
       "\n",
       "                     ar_1_mindist_EURUSD_close_120  ar_0_mindist_EURUSD_low_6  \\\n",
       "2020-08-24 22:00:00                       -0.00058                        0.0   \n",
       "\n",
       "                     ar_1_mindist_EURUSD_low_6  ar_0_mindist_EURUSD_low_12  \\\n",
       "2020-08-24 22:00:00                   -0.00017                         0.0   \n",
       "\n",
       "                     ar_1_mindist_EURUSD_low_12  ar_0_mindist_EURUSD_low_24  \\\n",
       "2020-08-24 22:00:00                    -0.00017                    -0.00069   \n",
       "\n",
       "                     ar_1_mindist_EURUSD_low_24  ar_0_mindist_EURUSD_low_120  \\\n",
       "2020-08-24 22:00:00                    -0.00086                     -0.00074   \n",
       "\n",
       "                     ar_1_mindist_EURUSD_low_120  \n",
       "2020-08-24 22:00:00                     -0.00091  \n",
       "\n",
       "[1 rows x 158 columns]"
      ]
     },
     "execution_count": 150,
     "metadata": {},
     "output_type": "execute_result"
    }
   ],
   "source": [
    "pd.DataFrame(X.iloc[-2, :]).T"
   ]
  },
  {
   "cell_type": "code",
   "execution_count": 115,
   "metadata": {},
   "outputs": [],
   "source": [
    "enddate = datetime.now().replace(microsecond=0, second=0, minute=0) + timedelta(hours=3)"
   ]
  },
  {
   "cell_type": "code",
   "execution_count": null,
   "metadata": {},
   "outputs": [],
   "source": [
    "index_df"
   ]
  },
  {
   "cell_type": "code",
   "execution_count": 116,
   "metadata": {},
   "outputs": [
    {
     "name": "stderr",
     "output_type": "stream",
     "text": [
      "100%|███████████████████████████████████████████████████████████████████████████████████| 1/1 [00:00<00:00, 111.17it/s]\n"
     ]
    },
    {
     "data": {
      "text/html": [
       "<div>\n",
       "<style scoped>\n",
       "    .dataframe tbody tr th:only-of-type {\n",
       "        vertical-align: middle;\n",
       "    }\n",
       "\n",
       "    .dataframe tbody tr th {\n",
       "        vertical-align: top;\n",
       "    }\n",
       "\n",
       "    .dataframe thead th {\n",
       "        text-align: right;\n",
       "    }\n",
       "</style>\n",
       "<table border=\"1\" class=\"dataframe\">\n",
       "  <thead>\n",
       "    <tr style=\"text-align: right;\">\n",
       "      <th></th>\n",
       "      <th>hour</th>\n",
       "      <th>GBPUSD_high</th>\n",
       "      <th>GBPUSD_low</th>\n",
       "      <th>GBPUSD_close</th>\n",
       "      <th>GBPUSD_tick_volume</th>\n",
       "    </tr>\n",
       "  </thead>\n",
       "  <tbody>\n",
       "    <tr>\n",
       "      <th>2020-08-18 17:00:00</th>\n",
       "      <td>17</td>\n",
       "      <td>1.32377</td>\n",
       "      <td>1.32048</td>\n",
       "      <td>1.32176</td>\n",
       "      <td>7693.0</td>\n",
       "    </tr>\n",
       "    <tr>\n",
       "      <th>2020-08-18 18:00:00</th>\n",
       "      <td>18</td>\n",
       "      <td>1.32319</td>\n",
       "      <td>1.32098</td>\n",
       "      <td>1.32257</td>\n",
       "      <td>4276.0</td>\n",
       "    </tr>\n",
       "    <tr>\n",
       "      <th>2020-08-18 19:00:00</th>\n",
       "      <td>19</td>\n",
       "      <td>1.32362</td>\n",
       "      <td>1.32225</td>\n",
       "      <td>1.32341</td>\n",
       "      <td>3793.0</td>\n",
       "    </tr>\n",
       "    <tr>\n",
       "      <th>2020-08-18 20:00:00</th>\n",
       "      <td>20</td>\n",
       "      <td>1.32440</td>\n",
       "      <td>1.32320</td>\n",
       "      <td>1.32364</td>\n",
       "      <td>3800.0</td>\n",
       "    </tr>\n",
       "    <tr>\n",
       "      <th>2020-08-18 21:00:00</th>\n",
       "      <td>21</td>\n",
       "      <td>1.32439</td>\n",
       "      <td>1.32336</td>\n",
       "      <td>1.32436</td>\n",
       "      <td>2314.0</td>\n",
       "    </tr>\n",
       "    <tr>\n",
       "      <th>2020-08-18 22:00:00</th>\n",
       "      <td>22</td>\n",
       "      <td>1.32495</td>\n",
       "      <td>1.32376</td>\n",
       "      <td>1.32390</td>\n",
       "      <td>2498.0</td>\n",
       "    </tr>\n",
       "    <tr>\n",
       "      <th>2020-08-18 23:00:00</th>\n",
       "      <td>23</td>\n",
       "      <td>1.32441</td>\n",
       "      <td>1.32370</td>\n",
       "      <td>1.32378</td>\n",
       "      <td>1492.0</td>\n",
       "    </tr>\n",
       "    <tr>\n",
       "      <th>2020-08-19 00:00:00</th>\n",
       "      <td>0</td>\n",
       "      <td>1.32454</td>\n",
       "      <td>1.32285</td>\n",
       "      <td>1.32383</td>\n",
       "      <td>910.0</td>\n",
       "    </tr>\n",
       "    <tr>\n",
       "      <th>2020-08-19 01:00:00</th>\n",
       "      <td>1</td>\n",
       "      <td>1.32451</td>\n",
       "      <td>1.32377</td>\n",
       "      <td>1.32451</td>\n",
       "      <td>1340.0</td>\n",
       "    </tr>\n",
       "    <tr>\n",
       "      <th>2020-08-19 02:00:00</th>\n",
       "      <td>2</td>\n",
       "      <td>1.32543</td>\n",
       "      <td>1.32423</td>\n",
       "      <td>1.32523</td>\n",
       "      <td>1222.0</td>\n",
       "    </tr>\n",
       "    <tr>\n",
       "      <th>2020-08-19 03:00:00</th>\n",
       "      <td>3</td>\n",
       "      <td>1.32644</td>\n",
       "      <td>1.32451</td>\n",
       "      <td>1.32546</td>\n",
       "      <td>3064.0</td>\n",
       "    </tr>\n",
       "    <tr>\n",
       "      <th>2020-08-19 04:00:00</th>\n",
       "      <td>4</td>\n",
       "      <td>1.32632</td>\n",
       "      <td>1.32428</td>\n",
       "      <td>1.32443</td>\n",
       "      <td>3301.0</td>\n",
       "    </tr>\n",
       "    <tr>\n",
       "      <th>2020-08-19 05:00:00</th>\n",
       "      <td>5</td>\n",
       "      <td>1.32462</td>\n",
       "      <td>1.32357</td>\n",
       "      <td>1.32426</td>\n",
       "      <td>2702.0</td>\n",
       "    </tr>\n",
       "    <tr>\n",
       "      <th>2020-08-19 06:00:00</th>\n",
       "      <td>6</td>\n",
       "      <td>1.32483</td>\n",
       "      <td>1.32343</td>\n",
       "      <td>1.32373</td>\n",
       "      <td>2040.0</td>\n",
       "    </tr>\n",
       "    <tr>\n",
       "      <th>2020-08-19 07:00:00</th>\n",
       "      <td>7</td>\n",
       "      <td>1.32432</td>\n",
       "      <td>1.32349</td>\n",
       "      <td>1.32376</td>\n",
       "      <td>1848.0</td>\n",
       "    </tr>\n",
       "    <tr>\n",
       "      <th>2020-08-19 08:00:00</th>\n",
       "      <td>8</td>\n",
       "      <td>1.32521</td>\n",
       "      <td>1.32336</td>\n",
       "      <td>1.32444</td>\n",
       "      <td>2854.0</td>\n",
       "    </tr>\n",
       "    <tr>\n",
       "      <th>2020-08-19 09:00:00</th>\n",
       "      <td>9</td>\n",
       "      <td>1.32668</td>\n",
       "      <td>1.32402</td>\n",
       "      <td>1.32459</td>\n",
       "      <td>4484.0</td>\n",
       "    </tr>\n",
       "    <tr>\n",
       "      <th>2020-08-19 10:00:00</th>\n",
       "      <td>10</td>\n",
       "      <td>1.32542</td>\n",
       "      <td>1.32287</td>\n",
       "      <td>1.32527</td>\n",
       "      <td>5983.0</td>\n",
       "    </tr>\n",
       "    <tr>\n",
       "      <th>2020-08-19 11:00:00</th>\n",
       "      <td>11</td>\n",
       "      <td>1.32643</td>\n",
       "      <td>1.32410</td>\n",
       "      <td>1.32425</td>\n",
       "      <td>5330.0</td>\n",
       "    </tr>\n",
       "    <tr>\n",
       "      <th>2020-08-19 12:00:00</th>\n",
       "      <td>12</td>\n",
       "      <td>1.32550</td>\n",
       "      <td>1.32280</td>\n",
       "      <td>1.32313</td>\n",
       "      <td>5009.0</td>\n",
       "    </tr>\n",
       "    <tr>\n",
       "      <th>2020-08-19 13:00:00</th>\n",
       "      <td>13</td>\n",
       "      <td>1.32368</td>\n",
       "      <td>1.32119</td>\n",
       "      <td>1.32178</td>\n",
       "      <td>4491.0</td>\n",
       "    </tr>\n",
       "    <tr>\n",
       "      <th>2020-08-19 14:00:00</th>\n",
       "      <td>14</td>\n",
       "      <td>1.32250</td>\n",
       "      <td>1.31948</td>\n",
       "      <td>1.32107</td>\n",
       "      <td>4988.0</td>\n",
       "    </tr>\n",
       "    <tr>\n",
       "      <th>2020-08-19 15:00:00</th>\n",
       "      <td>15</td>\n",
       "      <td>1.32151</td>\n",
       "      <td>1.32022</td>\n",
       "      <td>1.32023</td>\n",
       "      <td>3729.0</td>\n",
       "    </tr>\n",
       "    <tr>\n",
       "      <th>2020-08-19 16:00:00</th>\n",
       "      <td>16</td>\n",
       "      <td>1.32268</td>\n",
       "      <td>1.32010</td>\n",
       "      <td>1.32150</td>\n",
       "      <td>4636.0</td>\n",
       "    </tr>\n",
       "    <tr>\n",
       "      <th>2020-08-19 17:00:00</th>\n",
       "      <td>17</td>\n",
       "      <td>1.32221</td>\n",
       "      <td>1.31710</td>\n",
       "      <td>1.31853</td>\n",
       "      <td>6664.0</td>\n",
       "    </tr>\n",
       "    <tr>\n",
       "      <th>2020-08-19 18:00:00</th>\n",
       "      <td>18</td>\n",
       "      <td>1.32006</td>\n",
       "      <td>1.31761</td>\n",
       "      <td>1.31908</td>\n",
       "      <td>5366.0</td>\n",
       "    </tr>\n",
       "    <tr>\n",
       "      <th>2020-08-19 19:00:00</th>\n",
       "      <td>19</td>\n",
       "      <td>1.31908</td>\n",
       "      <td>1.31550</td>\n",
       "      <td>1.31639</td>\n",
       "      <td>4833.0</td>\n",
       "    </tr>\n",
       "    <tr>\n",
       "      <th>2020-08-19 20:00:00</th>\n",
       "      <td>20</td>\n",
       "      <td>1.31644</td>\n",
       "      <td>1.31486</td>\n",
       "      <td>1.31611</td>\n",
       "      <td>3591.0</td>\n",
       "    </tr>\n",
       "    <tr>\n",
       "      <th>2020-08-19 21:00:00</th>\n",
       "      <td>21</td>\n",
       "      <td>1.31675</td>\n",
       "      <td>1.30940</td>\n",
       "      <td>1.31136</td>\n",
       "      <td>10184.0</td>\n",
       "    </tr>\n",
       "    <tr>\n",
       "      <th>2020-08-19 22:00:00</th>\n",
       "      <td>22</td>\n",
       "      <td>1.31191</td>\n",
       "      <td>1.30956</td>\n",
       "      <td>1.31008</td>\n",
       "      <td>5558.0</td>\n",
       "    </tr>\n",
       "    <tr>\n",
       "      <th>...</th>\n",
       "      <td>...</td>\n",
       "      <td>...</td>\n",
       "      <td>...</td>\n",
       "      <td>...</td>\n",
       "      <td>...</td>\n",
       "    </tr>\n",
       "    <tr>\n",
       "      <th>2020-08-23 18:00:00</th>\n",
       "      <td>18</td>\n",
       "      <td>NaN</td>\n",
       "      <td>NaN</td>\n",
       "      <td>NaN</td>\n",
       "      <td>NaN</td>\n",
       "    </tr>\n",
       "    <tr>\n",
       "      <th>2020-08-23 19:00:00</th>\n",
       "      <td>19</td>\n",
       "      <td>NaN</td>\n",
       "      <td>NaN</td>\n",
       "      <td>NaN</td>\n",
       "      <td>NaN</td>\n",
       "    </tr>\n",
       "    <tr>\n",
       "      <th>2020-08-23 20:00:00</th>\n",
       "      <td>20</td>\n",
       "      <td>NaN</td>\n",
       "      <td>NaN</td>\n",
       "      <td>NaN</td>\n",
       "      <td>NaN</td>\n",
       "    </tr>\n",
       "    <tr>\n",
       "      <th>2020-08-23 21:00:00</th>\n",
       "      <td>21</td>\n",
       "      <td>NaN</td>\n",
       "      <td>NaN</td>\n",
       "      <td>NaN</td>\n",
       "      <td>NaN</td>\n",
       "    </tr>\n",
       "    <tr>\n",
       "      <th>2020-08-23 22:00:00</th>\n",
       "      <td>22</td>\n",
       "      <td>NaN</td>\n",
       "      <td>NaN</td>\n",
       "      <td>NaN</td>\n",
       "      <td>NaN</td>\n",
       "    </tr>\n",
       "    <tr>\n",
       "      <th>2020-08-23 23:00:00</th>\n",
       "      <td>23</td>\n",
       "      <td>NaN</td>\n",
       "      <td>NaN</td>\n",
       "      <td>NaN</td>\n",
       "      <td>NaN</td>\n",
       "    </tr>\n",
       "    <tr>\n",
       "      <th>2020-08-24 00:00:00</th>\n",
       "      <td>0</td>\n",
       "      <td>1.30942</td>\n",
       "      <td>1.30835</td>\n",
       "      <td>1.30881</td>\n",
       "      <td>153.0</td>\n",
       "    </tr>\n",
       "    <tr>\n",
       "      <th>2020-08-24 01:00:00</th>\n",
       "      <td>1</td>\n",
       "      <td>1.30990</td>\n",
       "      <td>1.30876</td>\n",
       "      <td>1.30982</td>\n",
       "      <td>987.0</td>\n",
       "    </tr>\n",
       "    <tr>\n",
       "      <th>2020-08-24 02:00:00</th>\n",
       "      <td>2</td>\n",
       "      <td>1.31012</td>\n",
       "      <td>1.30907</td>\n",
       "      <td>1.30922</td>\n",
       "      <td>884.0</td>\n",
       "    </tr>\n",
       "    <tr>\n",
       "      <th>2020-08-24 03:00:00</th>\n",
       "      <td>3</td>\n",
       "      <td>1.30959</td>\n",
       "      <td>1.30859</td>\n",
       "      <td>1.30871</td>\n",
       "      <td>1542.0</td>\n",
       "    </tr>\n",
       "    <tr>\n",
       "      <th>2020-08-24 04:00:00</th>\n",
       "      <td>4</td>\n",
       "      <td>1.30971</td>\n",
       "      <td>1.30822</td>\n",
       "      <td>1.30942</td>\n",
       "      <td>1993.0</td>\n",
       "    </tr>\n",
       "    <tr>\n",
       "      <th>2020-08-24 05:00:00</th>\n",
       "      <td>5</td>\n",
       "      <td>1.30974</td>\n",
       "      <td>1.30840</td>\n",
       "      <td>1.30861</td>\n",
       "      <td>1540.0</td>\n",
       "    </tr>\n",
       "    <tr>\n",
       "      <th>2020-08-24 06:00:00</th>\n",
       "      <td>6</td>\n",
       "      <td>1.30915</td>\n",
       "      <td>1.30837</td>\n",
       "      <td>1.30840</td>\n",
       "      <td>1512.0</td>\n",
       "    </tr>\n",
       "    <tr>\n",
       "      <th>2020-08-24 07:00:00</th>\n",
       "      <td>7</td>\n",
       "      <td>1.30920</td>\n",
       "      <td>1.30834</td>\n",
       "      <td>1.30874</td>\n",
       "      <td>1586.0</td>\n",
       "    </tr>\n",
       "    <tr>\n",
       "      <th>2020-08-24 08:00:00</th>\n",
       "      <td>8</td>\n",
       "      <td>1.31033</td>\n",
       "      <td>1.30854</td>\n",
       "      <td>1.31026</td>\n",
       "      <td>1647.0</td>\n",
       "    </tr>\n",
       "    <tr>\n",
       "      <th>2020-08-24 09:00:00</th>\n",
       "      <td>9</td>\n",
       "      <td>1.31109</td>\n",
       "      <td>1.30940</td>\n",
       "      <td>1.31067</td>\n",
       "      <td>3276.0</td>\n",
       "    </tr>\n",
       "    <tr>\n",
       "      <th>2020-08-24 10:00:00</th>\n",
       "      <td>10</td>\n",
       "      <td>1.31156</td>\n",
       "      <td>1.30850</td>\n",
       "      <td>1.31029</td>\n",
       "      <td>5070.0</td>\n",
       "    </tr>\n",
       "    <tr>\n",
       "      <th>2020-08-24 11:00:00</th>\n",
       "      <td>11</td>\n",
       "      <td>1.31114</td>\n",
       "      <td>1.30772</td>\n",
       "      <td>1.31029</td>\n",
       "      <td>4739.0</td>\n",
       "    </tr>\n",
       "    <tr>\n",
       "      <th>2020-08-24 12:00:00</th>\n",
       "      <td>12</td>\n",
       "      <td>1.31307</td>\n",
       "      <td>1.30925</td>\n",
       "      <td>1.31243</td>\n",
       "      <td>4328.0</td>\n",
       "    </tr>\n",
       "    <tr>\n",
       "      <th>2020-08-24 13:00:00</th>\n",
       "      <td>13</td>\n",
       "      <td>1.31304</td>\n",
       "      <td>1.31124</td>\n",
       "      <td>1.31160</td>\n",
       "      <td>3742.0</td>\n",
       "    </tr>\n",
       "    <tr>\n",
       "      <th>2020-08-24 14:00:00</th>\n",
       "      <td>14</td>\n",
       "      <td>1.31382</td>\n",
       "      <td>1.31073</td>\n",
       "      <td>1.31381</td>\n",
       "      <td>3400.0</td>\n",
       "    </tr>\n",
       "    <tr>\n",
       "      <th>2020-08-24 15:00:00</th>\n",
       "      <td>15</td>\n",
       "      <td>1.31486</td>\n",
       "      <td>1.31089</td>\n",
       "      <td>1.31201</td>\n",
       "      <td>4144.0</td>\n",
       "    </tr>\n",
       "    <tr>\n",
       "      <th>2020-08-24 16:00:00</th>\n",
       "      <td>16</td>\n",
       "      <td>1.31233</td>\n",
       "      <td>1.30837</td>\n",
       "      <td>1.30857</td>\n",
       "      <td>5299.0</td>\n",
       "    </tr>\n",
       "    <tr>\n",
       "      <th>2020-08-24 17:00:00</th>\n",
       "      <td>17</td>\n",
       "      <td>1.30887</td>\n",
       "      <td>1.30652</td>\n",
       "      <td>1.30702</td>\n",
       "      <td>6035.0</td>\n",
       "    </tr>\n",
       "    <tr>\n",
       "      <th>2020-08-24 18:00:00</th>\n",
       "      <td>18</td>\n",
       "      <td>1.30835</td>\n",
       "      <td>1.30599</td>\n",
       "      <td>1.30781</td>\n",
       "      <td>4672.0</td>\n",
       "    </tr>\n",
       "    <tr>\n",
       "      <th>2020-08-24 19:00:00</th>\n",
       "      <td>19</td>\n",
       "      <td>1.30779</td>\n",
       "      <td>1.30620</td>\n",
       "      <td>1.30687</td>\n",
       "      <td>3387.0</td>\n",
       "    </tr>\n",
       "    <tr>\n",
       "      <th>2020-08-24 20:00:00</th>\n",
       "      <td>20</td>\n",
       "      <td>1.30735</td>\n",
       "      <td>1.30549</td>\n",
       "      <td>1.30616</td>\n",
       "      <td>2798.0</td>\n",
       "    </tr>\n",
       "    <tr>\n",
       "      <th>2020-08-24 21:00:00</th>\n",
       "      <td>21</td>\n",
       "      <td>1.30664</td>\n",
       "      <td>1.30566</td>\n",
       "      <td>1.30576</td>\n",
       "      <td>2496.0</td>\n",
       "    </tr>\n",
       "    <tr>\n",
       "      <th>2020-08-24 22:00:00</th>\n",
       "      <td>22</td>\n",
       "      <td>1.30685</td>\n",
       "      <td>1.30534</td>\n",
       "      <td>1.30683</td>\n",
       "      <td>2405.0</td>\n",
       "    </tr>\n",
       "    <tr>\n",
       "      <th>2020-08-24 23:00:00</th>\n",
       "      <td>23</td>\n",
       "      <td>1.30683</td>\n",
       "      <td>1.30593</td>\n",
       "      <td>1.30632</td>\n",
       "      <td>564.0</td>\n",
       "    </tr>\n",
       "  </tbody>\n",
       "</table>\n",
       "<p>151 rows × 5 columns</p>\n",
       "</div>"
      ],
      "text/plain": [
       "                     hour  GBPUSD_high  GBPUSD_low  GBPUSD_close  \\\n",
       "2020-08-18 17:00:00    17      1.32377     1.32048       1.32176   \n",
       "2020-08-18 18:00:00    18      1.32319     1.32098       1.32257   \n",
       "2020-08-18 19:00:00    19      1.32362     1.32225       1.32341   \n",
       "2020-08-18 20:00:00    20      1.32440     1.32320       1.32364   \n",
       "2020-08-18 21:00:00    21      1.32439     1.32336       1.32436   \n",
       "...                   ...          ...         ...           ...   \n",
       "2020-08-24 19:00:00    19      1.30779     1.30620       1.30687   \n",
       "2020-08-24 20:00:00    20      1.30735     1.30549       1.30616   \n",
       "2020-08-24 21:00:00    21      1.30664     1.30566       1.30576   \n",
       "2020-08-24 22:00:00    22      1.30685     1.30534       1.30683   \n",
       "2020-08-24 23:00:00    23      1.30683     1.30593       1.30632   \n",
       "\n",
       "                     GBPUSD_tick_volume  \n",
       "2020-08-18 17:00:00              7693.0  \n",
       "2020-08-18 18:00:00              4276.0  \n",
       "2020-08-18 19:00:00              3793.0  \n",
       "2020-08-18 20:00:00              3800.0  \n",
       "2020-08-18 21:00:00              2314.0  \n",
       "...                                 ...  \n",
       "2020-08-24 19:00:00              3387.0  \n",
       "2020-08-24 20:00:00              2798.0  \n",
       "2020-08-24 21:00:00              2496.0  \n",
       "2020-08-24 22:00:00              2405.0  \n",
       "2020-08-24 23:00:00               564.0  \n",
       "\n",
       "[151 rows x 5 columns]"
      ]
     },
     "execution_count": 116,
     "metadata": {},
     "output_type": "execute_result"
    }
   ],
   "source": [
    "priceset = dp.get_timesnp(admiral_demo, \n",
    "               [\"GBPUSD\"], \n",
    "               start_date,  \n",
    "               enddate, \n",
    "               index_df, \n",
    "               timeframe=mt5.TIMEFRAME_H1, \n",
    "               pricetypes=[\"high\", \"low\", \"close\", \"tick_volume\"])\n",
    "priceset"
   ]
  },
  {
   "cell_type": "code",
   "execution_count": 98,
   "metadata": {},
   "outputs": [
    {
     "data": {
      "text/html": [
       "<div>\n",
       "<style scoped>\n",
       "    .dataframe tbody tr th:only-of-type {\n",
       "        vertical-align: middle;\n",
       "    }\n",
       "\n",
       "    .dataframe tbody tr th {\n",
       "        vertical-align: top;\n",
       "    }\n",
       "\n",
       "    .dataframe thead th {\n",
       "        text-align: right;\n",
       "    }\n",
       "</style>\n",
       "<table border=\"1\" class=\"dataframe\">\n",
       "  <thead>\n",
       "    <tr style=\"text-align: right;\">\n",
       "      <th></th>\n",
       "      <th>time</th>\n",
       "      <th>open</th>\n",
       "      <th>high</th>\n",
       "      <th>low</th>\n",
       "      <th>close</th>\n",
       "      <th>tick_volume</th>\n",
       "      <th>spread</th>\n",
       "      <th>real_volume</th>\n",
       "    </tr>\n",
       "  </thead>\n",
       "  <tbody>\n",
       "    <tr>\n",
       "      <th>0</th>\n",
       "      <td>2020-08-18 14:00:00</td>\n",
       "      <td>1.31607</td>\n",
       "      <td>1.31783</td>\n",
       "      <td>1.31531</td>\n",
       "      <td>1.31773</td>\n",
       "      <td>4168</td>\n",
       "      <td>8</td>\n",
       "      <td>0</td>\n",
       "    </tr>\n",
       "    <tr>\n",
       "      <th>1</th>\n",
       "      <td>2020-08-18 15:00:00</td>\n",
       "      <td>1.31774</td>\n",
       "      <td>1.31991</td>\n",
       "      <td>1.31718</td>\n",
       "      <td>1.31944</td>\n",
       "      <td>4616</td>\n",
       "      <td>8</td>\n",
       "      <td>0</td>\n",
       "    </tr>\n",
       "    <tr>\n",
       "      <th>2</th>\n",
       "      <td>2020-08-18 16:00:00</td>\n",
       "      <td>1.31945</td>\n",
       "      <td>1.32402</td>\n",
       "      <td>1.31886</td>\n",
       "      <td>1.32286</td>\n",
       "      <td>6719</td>\n",
       "      <td>8</td>\n",
       "      <td>0</td>\n",
       "    </tr>\n",
       "    <tr>\n",
       "      <th>3</th>\n",
       "      <td>2020-08-18 17:00:00</td>\n",
       "      <td>1.32292</td>\n",
       "      <td>1.32377</td>\n",
       "      <td>1.32048</td>\n",
       "      <td>1.32176</td>\n",
       "      <td>7693</td>\n",
       "      <td>8</td>\n",
       "      <td>0</td>\n",
       "    </tr>\n",
       "    <tr>\n",
       "      <th>4</th>\n",
       "      <td>2020-08-18 18:00:00</td>\n",
       "      <td>1.32176</td>\n",
       "      <td>1.32319</td>\n",
       "      <td>1.32098</td>\n",
       "      <td>1.32257</td>\n",
       "      <td>4276</td>\n",
       "      <td>8</td>\n",
       "      <td>0</td>\n",
       "    </tr>\n",
       "    <tr>\n",
       "      <th>5</th>\n",
       "      <td>2020-08-18 19:00:00</td>\n",
       "      <td>1.32257</td>\n",
       "      <td>1.32362</td>\n",
       "      <td>1.32225</td>\n",
       "      <td>1.32341</td>\n",
       "      <td>3793</td>\n",
       "      <td>8</td>\n",
       "      <td>0</td>\n",
       "    </tr>\n",
       "    <tr>\n",
       "      <th>6</th>\n",
       "      <td>2020-08-18 20:00:00</td>\n",
       "      <td>1.32339</td>\n",
       "      <td>1.32440</td>\n",
       "      <td>1.32320</td>\n",
       "      <td>1.32364</td>\n",
       "      <td>3800</td>\n",
       "      <td>8</td>\n",
       "      <td>0</td>\n",
       "    </tr>\n",
       "    <tr>\n",
       "      <th>7</th>\n",
       "      <td>2020-08-18 21:00:00</td>\n",
       "      <td>1.32364</td>\n",
       "      <td>1.32439</td>\n",
       "      <td>1.32336</td>\n",
       "      <td>1.32436</td>\n",
       "      <td>2314</td>\n",
       "      <td>8</td>\n",
       "      <td>0</td>\n",
       "    </tr>\n",
       "    <tr>\n",
       "      <th>8</th>\n",
       "      <td>2020-08-18 22:00:00</td>\n",
       "      <td>1.32436</td>\n",
       "      <td>1.32495</td>\n",
       "      <td>1.32376</td>\n",
       "      <td>1.32390</td>\n",
       "      <td>2498</td>\n",
       "      <td>8</td>\n",
       "      <td>0</td>\n",
       "    </tr>\n",
       "    <tr>\n",
       "      <th>9</th>\n",
       "      <td>2020-08-18 23:00:00</td>\n",
       "      <td>1.32394</td>\n",
       "      <td>1.32441</td>\n",
       "      <td>1.32370</td>\n",
       "      <td>1.32378</td>\n",
       "      <td>1492</td>\n",
       "      <td>8</td>\n",
       "      <td>0</td>\n",
       "    </tr>\n",
       "    <tr>\n",
       "      <th>10</th>\n",
       "      <td>2020-08-19 00:00:00</td>\n",
       "      <td>1.32288</td>\n",
       "      <td>1.32454</td>\n",
       "      <td>1.32285</td>\n",
       "      <td>1.32383</td>\n",
       "      <td>910</td>\n",
       "      <td>8</td>\n",
       "      <td>0</td>\n",
       "    </tr>\n",
       "    <tr>\n",
       "      <th>11</th>\n",
       "      <td>2020-08-19 01:00:00</td>\n",
       "      <td>1.32386</td>\n",
       "      <td>1.32451</td>\n",
       "      <td>1.32377</td>\n",
       "      <td>1.32451</td>\n",
       "      <td>1340</td>\n",
       "      <td>8</td>\n",
       "      <td>0</td>\n",
       "    </tr>\n",
       "    <tr>\n",
       "      <th>12</th>\n",
       "      <td>2020-08-19 02:00:00</td>\n",
       "      <td>1.32451</td>\n",
       "      <td>1.32543</td>\n",
       "      <td>1.32423</td>\n",
       "      <td>1.32523</td>\n",
       "      <td>1222</td>\n",
       "      <td>8</td>\n",
       "      <td>0</td>\n",
       "    </tr>\n",
       "    <tr>\n",
       "      <th>13</th>\n",
       "      <td>2020-08-19 03:00:00</td>\n",
       "      <td>1.32523</td>\n",
       "      <td>1.32644</td>\n",
       "      <td>1.32451</td>\n",
       "      <td>1.32546</td>\n",
       "      <td>3064</td>\n",
       "      <td>8</td>\n",
       "      <td>0</td>\n",
       "    </tr>\n",
       "    <tr>\n",
       "      <th>14</th>\n",
       "      <td>2020-08-19 04:00:00</td>\n",
       "      <td>1.32545</td>\n",
       "      <td>1.32632</td>\n",
       "      <td>1.32428</td>\n",
       "      <td>1.32443</td>\n",
       "      <td>3301</td>\n",
       "      <td>8</td>\n",
       "      <td>0</td>\n",
       "    </tr>\n",
       "    <tr>\n",
       "      <th>15</th>\n",
       "      <td>2020-08-19 05:00:00</td>\n",
       "      <td>1.32443</td>\n",
       "      <td>1.32462</td>\n",
       "      <td>1.32357</td>\n",
       "      <td>1.32426</td>\n",
       "      <td>2702</td>\n",
       "      <td>8</td>\n",
       "      <td>0</td>\n",
       "    </tr>\n",
       "    <tr>\n",
       "      <th>16</th>\n",
       "      <td>2020-08-19 06:00:00</td>\n",
       "      <td>1.32424</td>\n",
       "      <td>1.32483</td>\n",
       "      <td>1.32343</td>\n",
       "      <td>1.32373</td>\n",
       "      <td>2040</td>\n",
       "      <td>8</td>\n",
       "      <td>0</td>\n",
       "    </tr>\n",
       "    <tr>\n",
       "      <th>17</th>\n",
       "      <td>2020-08-19 07:00:00</td>\n",
       "      <td>1.32374</td>\n",
       "      <td>1.32432</td>\n",
       "      <td>1.32349</td>\n",
       "      <td>1.32376</td>\n",
       "      <td>1848</td>\n",
       "      <td>8</td>\n",
       "      <td>0</td>\n",
       "    </tr>\n",
       "    <tr>\n",
       "      <th>18</th>\n",
       "      <td>2020-08-19 08:00:00</td>\n",
       "      <td>1.32376</td>\n",
       "      <td>1.32521</td>\n",
       "      <td>1.32336</td>\n",
       "      <td>1.32444</td>\n",
       "      <td>2854</td>\n",
       "      <td>8</td>\n",
       "      <td>0</td>\n",
       "    </tr>\n",
       "    <tr>\n",
       "      <th>19</th>\n",
       "      <td>2020-08-19 09:00:00</td>\n",
       "      <td>1.32445</td>\n",
       "      <td>1.32668</td>\n",
       "      <td>1.32402</td>\n",
       "      <td>1.32459</td>\n",
       "      <td>4484</td>\n",
       "      <td>8</td>\n",
       "      <td>0</td>\n",
       "    </tr>\n",
       "    <tr>\n",
       "      <th>20</th>\n",
       "      <td>2020-08-19 10:00:00</td>\n",
       "      <td>1.32459</td>\n",
       "      <td>1.32542</td>\n",
       "      <td>1.32287</td>\n",
       "      <td>1.32527</td>\n",
       "      <td>5983</td>\n",
       "      <td>8</td>\n",
       "      <td>0</td>\n",
       "    </tr>\n",
       "    <tr>\n",
       "      <th>21</th>\n",
       "      <td>2020-08-19 11:00:00</td>\n",
       "      <td>1.32527</td>\n",
       "      <td>1.32643</td>\n",
       "      <td>1.32410</td>\n",
       "      <td>1.32425</td>\n",
       "      <td>5330</td>\n",
       "      <td>8</td>\n",
       "      <td>0</td>\n",
       "    </tr>\n",
       "    <tr>\n",
       "      <th>22</th>\n",
       "      <td>2020-08-19 12:00:00</td>\n",
       "      <td>1.32425</td>\n",
       "      <td>1.32550</td>\n",
       "      <td>1.32280</td>\n",
       "      <td>1.32313</td>\n",
       "      <td>5009</td>\n",
       "      <td>8</td>\n",
       "      <td>0</td>\n",
       "    </tr>\n",
       "    <tr>\n",
       "      <th>23</th>\n",
       "      <td>2020-08-19 13:00:00</td>\n",
       "      <td>1.32315</td>\n",
       "      <td>1.32368</td>\n",
       "      <td>1.32119</td>\n",
       "      <td>1.32178</td>\n",
       "      <td>4491</td>\n",
       "      <td>8</td>\n",
       "      <td>0</td>\n",
       "    </tr>\n",
       "    <tr>\n",
       "      <th>24</th>\n",
       "      <td>2020-08-19 14:00:00</td>\n",
       "      <td>1.32178</td>\n",
       "      <td>1.32250</td>\n",
       "      <td>1.31948</td>\n",
       "      <td>1.32107</td>\n",
       "      <td>4988</td>\n",
       "      <td>8</td>\n",
       "      <td>0</td>\n",
       "    </tr>\n",
       "    <tr>\n",
       "      <th>25</th>\n",
       "      <td>2020-08-19 15:00:00</td>\n",
       "      <td>1.32107</td>\n",
       "      <td>1.32151</td>\n",
       "      <td>1.32022</td>\n",
       "      <td>1.32023</td>\n",
       "      <td>3729</td>\n",
       "      <td>8</td>\n",
       "      <td>0</td>\n",
       "    </tr>\n",
       "    <tr>\n",
       "      <th>26</th>\n",
       "      <td>2020-08-19 16:00:00</td>\n",
       "      <td>1.32023</td>\n",
       "      <td>1.32268</td>\n",
       "      <td>1.32010</td>\n",
       "      <td>1.32150</td>\n",
       "      <td>4636</td>\n",
       "      <td>8</td>\n",
       "      <td>0</td>\n",
       "    </tr>\n",
       "    <tr>\n",
       "      <th>27</th>\n",
       "      <td>2020-08-19 17:00:00</td>\n",
       "      <td>1.32150</td>\n",
       "      <td>1.32221</td>\n",
       "      <td>1.31710</td>\n",
       "      <td>1.31853</td>\n",
       "      <td>6664</td>\n",
       "      <td>8</td>\n",
       "      <td>0</td>\n",
       "    </tr>\n",
       "    <tr>\n",
       "      <th>28</th>\n",
       "      <td>2020-08-19 18:00:00</td>\n",
       "      <td>1.31853</td>\n",
       "      <td>1.32006</td>\n",
       "      <td>1.31761</td>\n",
       "      <td>1.31908</td>\n",
       "      <td>5366</td>\n",
       "      <td>8</td>\n",
       "      <td>0</td>\n",
       "    </tr>\n",
       "    <tr>\n",
       "      <th>29</th>\n",
       "      <td>2020-08-19 19:00:00</td>\n",
       "      <td>1.31908</td>\n",
       "      <td>1.31908</td>\n",
       "      <td>1.31550</td>\n",
       "      <td>1.31639</td>\n",
       "      <td>4833</td>\n",
       "      <td>8</td>\n",
       "      <td>0</td>\n",
       "    </tr>\n",
       "    <tr>\n",
       "      <th>...</th>\n",
       "      <td>...</td>\n",
       "      <td>...</td>\n",
       "      <td>...</td>\n",
       "      <td>...</td>\n",
       "      <td>...</td>\n",
       "      <td>...</td>\n",
       "      <td>...</td>\n",
       "      <td>...</td>\n",
       "    </tr>\n",
       "    <tr>\n",
       "      <th>72</th>\n",
       "      <td>2020-08-21 15:00:00</td>\n",
       "      <td>1.31082</td>\n",
       "      <td>1.31152</td>\n",
       "      <td>1.30976</td>\n",
       "      <td>1.31076</td>\n",
       "      <td>6572</td>\n",
       "      <td>8</td>\n",
       "      <td>0</td>\n",
       "    </tr>\n",
       "    <tr>\n",
       "      <th>73</th>\n",
       "      <td>2020-08-21 16:00:00</td>\n",
       "      <td>1.31076</td>\n",
       "      <td>1.31100</td>\n",
       "      <td>1.30691</td>\n",
       "      <td>1.30942</td>\n",
       "      <td>6917</td>\n",
       "      <td>8</td>\n",
       "      <td>0</td>\n",
       "    </tr>\n",
       "    <tr>\n",
       "      <th>74</th>\n",
       "      <td>2020-08-21 17:00:00</td>\n",
       "      <td>1.30942</td>\n",
       "      <td>1.31056</td>\n",
       "      <td>1.30647</td>\n",
       "      <td>1.30730</td>\n",
       "      <td>6539</td>\n",
       "      <td>8</td>\n",
       "      <td>0</td>\n",
       "    </tr>\n",
       "    <tr>\n",
       "      <th>75</th>\n",
       "      <td>2020-08-21 18:00:00</td>\n",
       "      <td>1.30730</td>\n",
       "      <td>1.31007</td>\n",
       "      <td>1.30586</td>\n",
       "      <td>1.30978</td>\n",
       "      <td>4900</td>\n",
       "      <td>8</td>\n",
       "      <td>0</td>\n",
       "    </tr>\n",
       "    <tr>\n",
       "      <th>76</th>\n",
       "      <td>2020-08-21 19:00:00</td>\n",
       "      <td>1.30976</td>\n",
       "      <td>1.30976</td>\n",
       "      <td>1.30708</td>\n",
       "      <td>1.30774</td>\n",
       "      <td>3481</td>\n",
       "      <td>8</td>\n",
       "      <td>0</td>\n",
       "    </tr>\n",
       "    <tr>\n",
       "      <th>77</th>\n",
       "      <td>2020-08-21 20:00:00</td>\n",
       "      <td>1.30775</td>\n",
       "      <td>1.30833</td>\n",
       "      <td>1.30718</td>\n",
       "      <td>1.30820</td>\n",
       "      <td>2903</td>\n",
       "      <td>8</td>\n",
       "      <td>0</td>\n",
       "    </tr>\n",
       "    <tr>\n",
       "      <th>78</th>\n",
       "      <td>2020-08-21 21:00:00</td>\n",
       "      <td>1.30820</td>\n",
       "      <td>1.30931</td>\n",
       "      <td>1.30801</td>\n",
       "      <td>1.30930</td>\n",
       "      <td>1857</td>\n",
       "      <td>8</td>\n",
       "      <td>0</td>\n",
       "    </tr>\n",
       "    <tr>\n",
       "      <th>79</th>\n",
       "      <td>2020-08-21 22:00:00</td>\n",
       "      <td>1.30931</td>\n",
       "      <td>1.30968</td>\n",
       "      <td>1.30867</td>\n",
       "      <td>1.30871</td>\n",
       "      <td>2181</td>\n",
       "      <td>8</td>\n",
       "      <td>0</td>\n",
       "    </tr>\n",
       "    <tr>\n",
       "      <th>80</th>\n",
       "      <td>2020-08-21 23:00:00</td>\n",
       "      <td>1.30873</td>\n",
       "      <td>1.30967</td>\n",
       "      <td>1.30863</td>\n",
       "      <td>1.30876</td>\n",
       "      <td>1581</td>\n",
       "      <td>8</td>\n",
       "      <td>0</td>\n",
       "    </tr>\n",
       "    <tr>\n",
       "      <th>81</th>\n",
       "      <td>2020-08-24 00:00:00</td>\n",
       "      <td>1.30847</td>\n",
       "      <td>1.30942</td>\n",
       "      <td>1.30835</td>\n",
       "      <td>1.30881</td>\n",
       "      <td>153</td>\n",
       "      <td>8</td>\n",
       "      <td>0</td>\n",
       "    </tr>\n",
       "    <tr>\n",
       "      <th>82</th>\n",
       "      <td>2020-08-24 01:00:00</td>\n",
       "      <td>1.30881</td>\n",
       "      <td>1.30990</td>\n",
       "      <td>1.30876</td>\n",
       "      <td>1.30982</td>\n",
       "      <td>987</td>\n",
       "      <td>8</td>\n",
       "      <td>0</td>\n",
       "    </tr>\n",
       "    <tr>\n",
       "      <th>83</th>\n",
       "      <td>2020-08-24 02:00:00</td>\n",
       "      <td>1.30979</td>\n",
       "      <td>1.31012</td>\n",
       "      <td>1.30907</td>\n",
       "      <td>1.30922</td>\n",
       "      <td>884</td>\n",
       "      <td>8</td>\n",
       "      <td>0</td>\n",
       "    </tr>\n",
       "    <tr>\n",
       "      <th>84</th>\n",
       "      <td>2020-08-24 03:00:00</td>\n",
       "      <td>1.30924</td>\n",
       "      <td>1.30959</td>\n",
       "      <td>1.30859</td>\n",
       "      <td>1.30871</td>\n",
       "      <td>1542</td>\n",
       "      <td>8</td>\n",
       "      <td>0</td>\n",
       "    </tr>\n",
       "    <tr>\n",
       "      <th>85</th>\n",
       "      <td>2020-08-24 04:00:00</td>\n",
       "      <td>1.30871</td>\n",
       "      <td>1.30971</td>\n",
       "      <td>1.30822</td>\n",
       "      <td>1.30942</td>\n",
       "      <td>1993</td>\n",
       "      <td>8</td>\n",
       "      <td>0</td>\n",
       "    </tr>\n",
       "    <tr>\n",
       "      <th>86</th>\n",
       "      <td>2020-08-24 05:00:00</td>\n",
       "      <td>1.30941</td>\n",
       "      <td>1.30974</td>\n",
       "      <td>1.30840</td>\n",
       "      <td>1.30861</td>\n",
       "      <td>1540</td>\n",
       "      <td>8</td>\n",
       "      <td>0</td>\n",
       "    </tr>\n",
       "    <tr>\n",
       "      <th>87</th>\n",
       "      <td>2020-08-24 06:00:00</td>\n",
       "      <td>1.30861</td>\n",
       "      <td>1.30915</td>\n",
       "      <td>1.30837</td>\n",
       "      <td>1.30840</td>\n",
       "      <td>1512</td>\n",
       "      <td>8</td>\n",
       "      <td>0</td>\n",
       "    </tr>\n",
       "    <tr>\n",
       "      <th>88</th>\n",
       "      <td>2020-08-24 07:00:00</td>\n",
       "      <td>1.30840</td>\n",
       "      <td>1.30920</td>\n",
       "      <td>1.30834</td>\n",
       "      <td>1.30874</td>\n",
       "      <td>1586</td>\n",
       "      <td>8</td>\n",
       "      <td>0</td>\n",
       "    </tr>\n",
       "    <tr>\n",
       "      <th>89</th>\n",
       "      <td>2020-08-24 08:00:00</td>\n",
       "      <td>1.30874</td>\n",
       "      <td>1.31033</td>\n",
       "      <td>1.30854</td>\n",
       "      <td>1.31026</td>\n",
       "      <td>1647</td>\n",
       "      <td>8</td>\n",
       "      <td>0</td>\n",
       "    </tr>\n",
       "    <tr>\n",
       "      <th>90</th>\n",
       "      <td>2020-08-24 09:00:00</td>\n",
       "      <td>1.31026</td>\n",
       "      <td>1.31109</td>\n",
       "      <td>1.30940</td>\n",
       "      <td>1.31067</td>\n",
       "      <td>3276</td>\n",
       "      <td>8</td>\n",
       "      <td>0</td>\n",
       "    </tr>\n",
       "    <tr>\n",
       "      <th>91</th>\n",
       "      <td>2020-08-24 10:00:00</td>\n",
       "      <td>1.31067</td>\n",
       "      <td>1.31156</td>\n",
       "      <td>1.30850</td>\n",
       "      <td>1.31029</td>\n",
       "      <td>5070</td>\n",
       "      <td>8</td>\n",
       "      <td>0</td>\n",
       "    </tr>\n",
       "    <tr>\n",
       "      <th>92</th>\n",
       "      <td>2020-08-24 11:00:00</td>\n",
       "      <td>1.31026</td>\n",
       "      <td>1.31114</td>\n",
       "      <td>1.30772</td>\n",
       "      <td>1.31029</td>\n",
       "      <td>4739</td>\n",
       "      <td>8</td>\n",
       "      <td>0</td>\n",
       "    </tr>\n",
       "    <tr>\n",
       "      <th>93</th>\n",
       "      <td>2020-08-24 12:00:00</td>\n",
       "      <td>1.31028</td>\n",
       "      <td>1.31307</td>\n",
       "      <td>1.30925</td>\n",
       "      <td>1.31243</td>\n",
       "      <td>4328</td>\n",
       "      <td>8</td>\n",
       "      <td>0</td>\n",
       "    </tr>\n",
       "    <tr>\n",
       "      <th>94</th>\n",
       "      <td>2020-08-24 13:00:00</td>\n",
       "      <td>1.31244</td>\n",
       "      <td>1.31304</td>\n",
       "      <td>1.31124</td>\n",
       "      <td>1.31160</td>\n",
       "      <td>3742</td>\n",
       "      <td>8</td>\n",
       "      <td>0</td>\n",
       "    </tr>\n",
       "    <tr>\n",
       "      <th>95</th>\n",
       "      <td>2020-08-24 14:00:00</td>\n",
       "      <td>1.31162</td>\n",
       "      <td>1.31382</td>\n",
       "      <td>1.31073</td>\n",
       "      <td>1.31381</td>\n",
       "      <td>3400</td>\n",
       "      <td>8</td>\n",
       "      <td>0</td>\n",
       "    </tr>\n",
       "    <tr>\n",
       "      <th>96</th>\n",
       "      <td>2020-08-24 15:00:00</td>\n",
       "      <td>1.31383</td>\n",
       "      <td>1.31486</td>\n",
       "      <td>1.31089</td>\n",
       "      <td>1.31201</td>\n",
       "      <td>4144</td>\n",
       "      <td>8</td>\n",
       "      <td>0</td>\n",
       "    </tr>\n",
       "    <tr>\n",
       "      <th>97</th>\n",
       "      <td>2020-08-24 16:00:00</td>\n",
       "      <td>1.31201</td>\n",
       "      <td>1.31233</td>\n",
       "      <td>1.30837</td>\n",
       "      <td>1.30857</td>\n",
       "      <td>5299</td>\n",
       "      <td>8</td>\n",
       "      <td>0</td>\n",
       "    </tr>\n",
       "    <tr>\n",
       "      <th>98</th>\n",
       "      <td>2020-08-24 17:00:00</td>\n",
       "      <td>1.30857</td>\n",
       "      <td>1.30887</td>\n",
       "      <td>1.30652</td>\n",
       "      <td>1.30702</td>\n",
       "      <td>6035</td>\n",
       "      <td>8</td>\n",
       "      <td>0</td>\n",
       "    </tr>\n",
       "    <tr>\n",
       "      <th>99</th>\n",
       "      <td>2020-08-24 18:00:00</td>\n",
       "      <td>1.30702</td>\n",
       "      <td>1.30835</td>\n",
       "      <td>1.30599</td>\n",
       "      <td>1.30781</td>\n",
       "      <td>4672</td>\n",
       "      <td>8</td>\n",
       "      <td>0</td>\n",
       "    </tr>\n",
       "    <tr>\n",
       "      <th>100</th>\n",
       "      <td>2020-08-24 19:00:00</td>\n",
       "      <td>1.30779</td>\n",
       "      <td>1.30779</td>\n",
       "      <td>1.30620</td>\n",
       "      <td>1.30687</td>\n",
       "      <td>3387</td>\n",
       "      <td>8</td>\n",
       "      <td>0</td>\n",
       "    </tr>\n",
       "    <tr>\n",
       "      <th>101</th>\n",
       "      <td>2020-08-24 20:00:00</td>\n",
       "      <td>1.30687</td>\n",
       "      <td>1.30735</td>\n",
       "      <td>1.30549</td>\n",
       "      <td>1.30616</td>\n",
       "      <td>2798</td>\n",
       "      <td>8</td>\n",
       "      <td>0</td>\n",
       "    </tr>\n",
       "  </tbody>\n",
       "</table>\n",
       "<p>102 rows × 8 columns</p>\n",
       "</div>"
      ],
      "text/plain": [
       "                   time     open     high      low    close  tick_volume  \\\n",
       "0   2020-08-18 14:00:00  1.31607  1.31783  1.31531  1.31773         4168   \n",
       "1   2020-08-18 15:00:00  1.31774  1.31991  1.31718  1.31944         4616   \n",
       "2   2020-08-18 16:00:00  1.31945  1.32402  1.31886  1.32286         6719   \n",
       "3   2020-08-18 17:00:00  1.32292  1.32377  1.32048  1.32176         7693   \n",
       "4   2020-08-18 18:00:00  1.32176  1.32319  1.32098  1.32257         4276   \n",
       "..                  ...      ...      ...      ...      ...          ...   \n",
       "97  2020-08-24 16:00:00  1.31201  1.31233  1.30837  1.30857         5299   \n",
       "98  2020-08-24 17:00:00  1.30857  1.30887  1.30652  1.30702         6035   \n",
       "99  2020-08-24 18:00:00  1.30702  1.30835  1.30599  1.30781         4672   \n",
       "100 2020-08-24 19:00:00  1.30779  1.30779  1.30620  1.30687         3387   \n",
       "101 2020-08-24 20:00:00  1.30687  1.30735  1.30549  1.30616         2798   \n",
       "\n",
       "     spread  real_volume  \n",
       "0         8            0  \n",
       "1         8            0  \n",
       "2         8            0  \n",
       "3         8            0  \n",
       "4         8            0  \n",
       "..      ...          ...  \n",
       "97        8            0  \n",
       "98        8            0  \n",
       "99        8            0  \n",
       "100       8            0  \n",
       "101       8            0  \n",
       "\n",
       "[102 rows x 8 columns]"
      ]
     },
     "execution_count": 98,
     "metadata": {},
     "output_type": "execute_result"
    }
   ],
   "source": [
    "dp.extract_bars(admiral_demo, \"GBPUSD\", mt5.TIMEFRAME_H1, start_date, end_date)"
   ]
  },
  {
   "cell_type": "code",
   "execution_count": 68,
   "metadata": {},
   "outputs": [
    {
     "name": "stderr",
     "output_type": "stream",
     "text": [
      "100%|███████████████████████████████████████████████████████████████████████████████████| 2/2 [00:00<00:00, 117.72it/s]\n"
     ]
    },
    {
     "data": {
      "text/html": [
       "<div>\n",
       "<style scoped>\n",
       "    .dataframe tbody tr th:only-of-type {\n",
       "        vertical-align: middle;\n",
       "    }\n",
       "\n",
       "    .dataframe tbody tr th {\n",
       "        vertical-align: top;\n",
       "    }\n",
       "\n",
       "    .dataframe thead th {\n",
       "        text-align: right;\n",
       "    }\n",
       "</style>\n",
       "<table border=\"1\" class=\"dataframe\">\n",
       "  <thead>\n",
       "    <tr style=\"text-align: right;\">\n",
       "      <th></th>\n",
       "      <th>hour</th>\n",
       "      <th>GBPJPY_high</th>\n",
       "      <th>GBPJPY_low</th>\n",
       "      <th>GBPJPY_close</th>\n",
       "      <th>GBPJPY_tick_volume</th>\n",
       "      <th>GBPUSD_high</th>\n",
       "      <th>GBPUSD_low</th>\n",
       "      <th>GBPUSD_close</th>\n",
       "      <th>GBPUSD_tick_volume</th>\n",
       "    </tr>\n",
       "  </thead>\n",
       "  <tbody>\n",
       "    <tr>\n",
       "      <th>2020-08-16 13:53:00</th>\n",
       "      <td>13</td>\n",
       "      <td>NaN</td>\n",
       "      <td>NaN</td>\n",
       "      <td>NaN</td>\n",
       "      <td>NaN</td>\n",
       "      <td>NaN</td>\n",
       "      <td>NaN</td>\n",
       "      <td>NaN</td>\n",
       "      <td>NaN</td>\n",
       "    </tr>\n",
       "    <tr>\n",
       "      <th>2020-08-16 14:53:00</th>\n",
       "      <td>14</td>\n",
       "      <td>NaN</td>\n",
       "      <td>NaN</td>\n",
       "      <td>NaN</td>\n",
       "      <td>NaN</td>\n",
       "      <td>NaN</td>\n",
       "      <td>NaN</td>\n",
       "      <td>NaN</td>\n",
       "      <td>NaN</td>\n",
       "    </tr>\n",
       "    <tr>\n",
       "      <th>2020-08-16 15:53:00</th>\n",
       "      <td>15</td>\n",
       "      <td>NaN</td>\n",
       "      <td>NaN</td>\n",
       "      <td>NaN</td>\n",
       "      <td>NaN</td>\n",
       "      <td>NaN</td>\n",
       "      <td>NaN</td>\n",
       "      <td>NaN</td>\n",
       "      <td>NaN</td>\n",
       "    </tr>\n",
       "    <tr>\n",
       "      <th>2020-08-16 16:53:00</th>\n",
       "      <td>16</td>\n",
       "      <td>NaN</td>\n",
       "      <td>NaN</td>\n",
       "      <td>NaN</td>\n",
       "      <td>NaN</td>\n",
       "      <td>NaN</td>\n",
       "      <td>NaN</td>\n",
       "      <td>NaN</td>\n",
       "      <td>NaN</td>\n",
       "    </tr>\n",
       "    <tr>\n",
       "      <th>2020-08-16 17:53:00</th>\n",
       "      <td>17</td>\n",
       "      <td>NaN</td>\n",
       "      <td>NaN</td>\n",
       "      <td>NaN</td>\n",
       "      <td>NaN</td>\n",
       "      <td>NaN</td>\n",
       "      <td>NaN</td>\n",
       "      <td>NaN</td>\n",
       "      <td>NaN</td>\n",
       "    </tr>\n",
       "    <tr>\n",
       "      <th>2020-08-16 18:53:00</th>\n",
       "      <td>18</td>\n",
       "      <td>NaN</td>\n",
       "      <td>NaN</td>\n",
       "      <td>NaN</td>\n",
       "      <td>NaN</td>\n",
       "      <td>NaN</td>\n",
       "      <td>NaN</td>\n",
       "      <td>NaN</td>\n",
       "      <td>NaN</td>\n",
       "    </tr>\n",
       "    <tr>\n",
       "      <th>2020-08-16 19:53:00</th>\n",
       "      <td>19</td>\n",
       "      <td>NaN</td>\n",
       "      <td>NaN</td>\n",
       "      <td>NaN</td>\n",
       "      <td>NaN</td>\n",
       "      <td>NaN</td>\n",
       "      <td>NaN</td>\n",
       "      <td>NaN</td>\n",
       "      <td>NaN</td>\n",
       "    </tr>\n",
       "    <tr>\n",
       "      <th>2020-08-16 20:53:00</th>\n",
       "      <td>20</td>\n",
       "      <td>NaN</td>\n",
       "      <td>NaN</td>\n",
       "      <td>NaN</td>\n",
       "      <td>NaN</td>\n",
       "      <td>NaN</td>\n",
       "      <td>NaN</td>\n",
       "      <td>NaN</td>\n",
       "      <td>NaN</td>\n",
       "    </tr>\n",
       "    <tr>\n",
       "      <th>2020-08-16 21:53:00</th>\n",
       "      <td>21</td>\n",
       "      <td>NaN</td>\n",
       "      <td>NaN</td>\n",
       "      <td>NaN</td>\n",
       "      <td>NaN</td>\n",
       "      <td>NaN</td>\n",
       "      <td>NaN</td>\n",
       "      <td>NaN</td>\n",
       "      <td>NaN</td>\n",
       "    </tr>\n",
       "    <tr>\n",
       "      <th>2020-08-16 22:53:00</th>\n",
       "      <td>22</td>\n",
       "      <td>NaN</td>\n",
       "      <td>NaN</td>\n",
       "      <td>NaN</td>\n",
       "      <td>NaN</td>\n",
       "      <td>NaN</td>\n",
       "      <td>NaN</td>\n",
       "      <td>NaN</td>\n",
       "      <td>NaN</td>\n",
       "    </tr>\n",
       "    <tr>\n",
       "      <th>2020-08-16 23:53:00</th>\n",
       "      <td>23</td>\n",
       "      <td>NaN</td>\n",
       "      <td>NaN</td>\n",
       "      <td>NaN</td>\n",
       "      <td>NaN</td>\n",
       "      <td>NaN</td>\n",
       "      <td>NaN</td>\n",
       "      <td>NaN</td>\n",
       "      <td>NaN</td>\n",
       "    </tr>\n",
       "    <tr>\n",
       "      <th>2020-08-17 00:53:00</th>\n",
       "      <td>0</td>\n",
       "      <td>NaN</td>\n",
       "      <td>NaN</td>\n",
       "      <td>NaN</td>\n",
       "      <td>NaN</td>\n",
       "      <td>NaN</td>\n",
       "      <td>NaN</td>\n",
       "      <td>NaN</td>\n",
       "      <td>NaN</td>\n",
       "    </tr>\n",
       "    <tr>\n",
       "      <th>2020-08-17 01:53:00</th>\n",
       "      <td>1</td>\n",
       "      <td>NaN</td>\n",
       "      <td>NaN</td>\n",
       "      <td>NaN</td>\n",
       "      <td>NaN</td>\n",
       "      <td>NaN</td>\n",
       "      <td>NaN</td>\n",
       "      <td>NaN</td>\n",
       "      <td>NaN</td>\n",
       "    </tr>\n",
       "    <tr>\n",
       "      <th>2020-08-17 02:53:00</th>\n",
       "      <td>2</td>\n",
       "      <td>NaN</td>\n",
       "      <td>NaN</td>\n",
       "      <td>NaN</td>\n",
       "      <td>NaN</td>\n",
       "      <td>NaN</td>\n",
       "      <td>NaN</td>\n",
       "      <td>NaN</td>\n",
       "      <td>NaN</td>\n",
       "    </tr>\n",
       "    <tr>\n",
       "      <th>2020-08-17 03:53:00</th>\n",
       "      <td>3</td>\n",
       "      <td>NaN</td>\n",
       "      <td>NaN</td>\n",
       "      <td>NaN</td>\n",
       "      <td>NaN</td>\n",
       "      <td>NaN</td>\n",
       "      <td>NaN</td>\n",
       "      <td>NaN</td>\n",
       "      <td>NaN</td>\n",
       "    </tr>\n",
       "    <tr>\n",
       "      <th>2020-08-17 04:53:00</th>\n",
       "      <td>4</td>\n",
       "      <td>NaN</td>\n",
       "      <td>NaN</td>\n",
       "      <td>NaN</td>\n",
       "      <td>NaN</td>\n",
       "      <td>NaN</td>\n",
       "      <td>NaN</td>\n",
       "      <td>NaN</td>\n",
       "      <td>NaN</td>\n",
       "    </tr>\n",
       "    <tr>\n",
       "      <th>2020-08-17 05:53:00</th>\n",
       "      <td>5</td>\n",
       "      <td>NaN</td>\n",
       "      <td>NaN</td>\n",
       "      <td>NaN</td>\n",
       "      <td>NaN</td>\n",
       "      <td>NaN</td>\n",
       "      <td>NaN</td>\n",
       "      <td>NaN</td>\n",
       "      <td>NaN</td>\n",
       "    </tr>\n",
       "    <tr>\n",
       "      <th>2020-08-17 06:53:00</th>\n",
       "      <td>6</td>\n",
       "      <td>NaN</td>\n",
       "      <td>NaN</td>\n",
       "      <td>NaN</td>\n",
       "      <td>NaN</td>\n",
       "      <td>NaN</td>\n",
       "      <td>NaN</td>\n",
       "      <td>NaN</td>\n",
       "      <td>NaN</td>\n",
       "    </tr>\n",
       "    <tr>\n",
       "      <th>2020-08-17 07:53:00</th>\n",
       "      <td>7</td>\n",
       "      <td>NaN</td>\n",
       "      <td>NaN</td>\n",
       "      <td>NaN</td>\n",
       "      <td>NaN</td>\n",
       "      <td>NaN</td>\n",
       "      <td>NaN</td>\n",
       "      <td>NaN</td>\n",
       "      <td>NaN</td>\n",
       "    </tr>\n",
       "    <tr>\n",
       "      <th>2020-08-17 08:53:00</th>\n",
       "      <td>8</td>\n",
       "      <td>NaN</td>\n",
       "      <td>NaN</td>\n",
       "      <td>NaN</td>\n",
       "      <td>NaN</td>\n",
       "      <td>NaN</td>\n",
       "      <td>NaN</td>\n",
       "      <td>NaN</td>\n",
       "      <td>NaN</td>\n",
       "    </tr>\n",
       "    <tr>\n",
       "      <th>2020-08-17 09:53:00</th>\n",
       "      <td>9</td>\n",
       "      <td>NaN</td>\n",
       "      <td>NaN</td>\n",
       "      <td>NaN</td>\n",
       "      <td>NaN</td>\n",
       "      <td>NaN</td>\n",
       "      <td>NaN</td>\n",
       "      <td>NaN</td>\n",
       "      <td>NaN</td>\n",
       "    </tr>\n",
       "    <tr>\n",
       "      <th>2020-08-17 10:53:00</th>\n",
       "      <td>10</td>\n",
       "      <td>NaN</td>\n",
       "      <td>NaN</td>\n",
       "      <td>NaN</td>\n",
       "      <td>NaN</td>\n",
       "      <td>NaN</td>\n",
       "      <td>NaN</td>\n",
       "      <td>NaN</td>\n",
       "      <td>NaN</td>\n",
       "    </tr>\n",
       "    <tr>\n",
       "      <th>2020-08-17 11:53:00</th>\n",
       "      <td>11</td>\n",
       "      <td>NaN</td>\n",
       "      <td>NaN</td>\n",
       "      <td>NaN</td>\n",
       "      <td>NaN</td>\n",
       "      <td>NaN</td>\n",
       "      <td>NaN</td>\n",
       "      <td>NaN</td>\n",
       "      <td>NaN</td>\n",
       "    </tr>\n",
       "    <tr>\n",
       "      <th>2020-08-17 12:53:00</th>\n",
       "      <td>12</td>\n",
       "      <td>NaN</td>\n",
       "      <td>NaN</td>\n",
       "      <td>NaN</td>\n",
       "      <td>NaN</td>\n",
       "      <td>NaN</td>\n",
       "      <td>NaN</td>\n",
       "      <td>NaN</td>\n",
       "      <td>NaN</td>\n",
       "    </tr>\n",
       "    <tr>\n",
       "      <th>2020-08-17 13:53:00</th>\n",
       "      <td>13</td>\n",
       "      <td>NaN</td>\n",
       "      <td>NaN</td>\n",
       "      <td>NaN</td>\n",
       "      <td>NaN</td>\n",
       "      <td>NaN</td>\n",
       "      <td>NaN</td>\n",
       "      <td>NaN</td>\n",
       "      <td>NaN</td>\n",
       "    </tr>\n",
       "    <tr>\n",
       "      <th>2020-08-17 14:53:00</th>\n",
       "      <td>14</td>\n",
       "      <td>NaN</td>\n",
       "      <td>NaN</td>\n",
       "      <td>NaN</td>\n",
       "      <td>NaN</td>\n",
       "      <td>NaN</td>\n",
       "      <td>NaN</td>\n",
       "      <td>NaN</td>\n",
       "      <td>NaN</td>\n",
       "    </tr>\n",
       "    <tr>\n",
       "      <th>2020-08-17 15:53:00</th>\n",
       "      <td>15</td>\n",
       "      <td>NaN</td>\n",
       "      <td>NaN</td>\n",
       "      <td>NaN</td>\n",
       "      <td>NaN</td>\n",
       "      <td>NaN</td>\n",
       "      <td>NaN</td>\n",
       "      <td>NaN</td>\n",
       "      <td>NaN</td>\n",
       "    </tr>\n",
       "    <tr>\n",
       "      <th>2020-08-17 16:53:00</th>\n",
       "      <td>16</td>\n",
       "      <td>NaN</td>\n",
       "      <td>NaN</td>\n",
       "      <td>NaN</td>\n",
       "      <td>NaN</td>\n",
       "      <td>NaN</td>\n",
       "      <td>NaN</td>\n",
       "      <td>NaN</td>\n",
       "      <td>NaN</td>\n",
       "    </tr>\n",
       "    <tr>\n",
       "      <th>2020-08-17 17:53:00</th>\n",
       "      <td>17</td>\n",
       "      <td>NaN</td>\n",
       "      <td>NaN</td>\n",
       "      <td>NaN</td>\n",
       "      <td>NaN</td>\n",
       "      <td>NaN</td>\n",
       "      <td>NaN</td>\n",
       "      <td>NaN</td>\n",
       "      <td>NaN</td>\n",
       "    </tr>\n",
       "    <tr>\n",
       "      <th>2020-08-17 18:53:00</th>\n",
       "      <td>18</td>\n",
       "      <td>NaN</td>\n",
       "      <td>NaN</td>\n",
       "      <td>NaN</td>\n",
       "      <td>NaN</td>\n",
       "      <td>NaN</td>\n",
       "      <td>NaN</td>\n",
       "      <td>NaN</td>\n",
       "      <td>NaN</td>\n",
       "    </tr>\n",
       "    <tr>\n",
       "      <th>...</th>\n",
       "      <td>...</td>\n",
       "      <td>...</td>\n",
       "      <td>...</td>\n",
       "      <td>...</td>\n",
       "      <td>...</td>\n",
       "      <td>...</td>\n",
       "      <td>...</td>\n",
       "      <td>...</td>\n",
       "      <td>...</td>\n",
       "    </tr>\n",
       "    <tr>\n",
       "      <th>2020-08-23 16:53:00</th>\n",
       "      <td>16</td>\n",
       "      <td>NaN</td>\n",
       "      <td>NaN</td>\n",
       "      <td>NaN</td>\n",
       "      <td>NaN</td>\n",
       "      <td>NaN</td>\n",
       "      <td>NaN</td>\n",
       "      <td>NaN</td>\n",
       "      <td>NaN</td>\n",
       "    </tr>\n",
       "    <tr>\n",
       "      <th>2020-08-23 17:53:00</th>\n",
       "      <td>17</td>\n",
       "      <td>NaN</td>\n",
       "      <td>NaN</td>\n",
       "      <td>NaN</td>\n",
       "      <td>NaN</td>\n",
       "      <td>NaN</td>\n",
       "      <td>NaN</td>\n",
       "      <td>NaN</td>\n",
       "      <td>NaN</td>\n",
       "    </tr>\n",
       "    <tr>\n",
       "      <th>2020-08-23 18:53:00</th>\n",
       "      <td>18</td>\n",
       "      <td>NaN</td>\n",
       "      <td>NaN</td>\n",
       "      <td>NaN</td>\n",
       "      <td>NaN</td>\n",
       "      <td>NaN</td>\n",
       "      <td>NaN</td>\n",
       "      <td>NaN</td>\n",
       "      <td>NaN</td>\n",
       "    </tr>\n",
       "    <tr>\n",
       "      <th>2020-08-23 19:53:00</th>\n",
       "      <td>19</td>\n",
       "      <td>NaN</td>\n",
       "      <td>NaN</td>\n",
       "      <td>NaN</td>\n",
       "      <td>NaN</td>\n",
       "      <td>NaN</td>\n",
       "      <td>NaN</td>\n",
       "      <td>NaN</td>\n",
       "      <td>NaN</td>\n",
       "    </tr>\n",
       "    <tr>\n",
       "      <th>2020-08-23 20:53:00</th>\n",
       "      <td>20</td>\n",
       "      <td>NaN</td>\n",
       "      <td>NaN</td>\n",
       "      <td>NaN</td>\n",
       "      <td>NaN</td>\n",
       "      <td>NaN</td>\n",
       "      <td>NaN</td>\n",
       "      <td>NaN</td>\n",
       "      <td>NaN</td>\n",
       "    </tr>\n",
       "    <tr>\n",
       "      <th>2020-08-23 21:53:00</th>\n",
       "      <td>21</td>\n",
       "      <td>NaN</td>\n",
       "      <td>NaN</td>\n",
       "      <td>NaN</td>\n",
       "      <td>NaN</td>\n",
       "      <td>NaN</td>\n",
       "      <td>NaN</td>\n",
       "      <td>NaN</td>\n",
       "      <td>NaN</td>\n",
       "    </tr>\n",
       "    <tr>\n",
       "      <th>2020-08-23 22:53:00</th>\n",
       "      <td>22</td>\n",
       "      <td>NaN</td>\n",
       "      <td>NaN</td>\n",
       "      <td>NaN</td>\n",
       "      <td>NaN</td>\n",
       "      <td>NaN</td>\n",
       "      <td>NaN</td>\n",
       "      <td>NaN</td>\n",
       "      <td>NaN</td>\n",
       "    </tr>\n",
       "    <tr>\n",
       "      <th>2020-08-23 23:53:00</th>\n",
       "      <td>23</td>\n",
       "      <td>NaN</td>\n",
       "      <td>NaN</td>\n",
       "      <td>NaN</td>\n",
       "      <td>NaN</td>\n",
       "      <td>NaN</td>\n",
       "      <td>NaN</td>\n",
       "      <td>NaN</td>\n",
       "      <td>NaN</td>\n",
       "    </tr>\n",
       "    <tr>\n",
       "      <th>2020-08-24 00:53:00</th>\n",
       "      <td>0</td>\n",
       "      <td>NaN</td>\n",
       "      <td>NaN</td>\n",
       "      <td>NaN</td>\n",
       "      <td>NaN</td>\n",
       "      <td>NaN</td>\n",
       "      <td>NaN</td>\n",
       "      <td>NaN</td>\n",
       "      <td>NaN</td>\n",
       "    </tr>\n",
       "    <tr>\n",
       "      <th>2020-08-24 01:53:00</th>\n",
       "      <td>1</td>\n",
       "      <td>NaN</td>\n",
       "      <td>NaN</td>\n",
       "      <td>NaN</td>\n",
       "      <td>NaN</td>\n",
       "      <td>NaN</td>\n",
       "      <td>NaN</td>\n",
       "      <td>NaN</td>\n",
       "      <td>NaN</td>\n",
       "    </tr>\n",
       "    <tr>\n",
       "      <th>2020-08-24 02:53:00</th>\n",
       "      <td>2</td>\n",
       "      <td>NaN</td>\n",
       "      <td>NaN</td>\n",
       "      <td>NaN</td>\n",
       "      <td>NaN</td>\n",
       "      <td>NaN</td>\n",
       "      <td>NaN</td>\n",
       "      <td>NaN</td>\n",
       "      <td>NaN</td>\n",
       "    </tr>\n",
       "    <tr>\n",
       "      <th>2020-08-24 03:53:00</th>\n",
       "      <td>3</td>\n",
       "      <td>NaN</td>\n",
       "      <td>NaN</td>\n",
       "      <td>NaN</td>\n",
       "      <td>NaN</td>\n",
       "      <td>NaN</td>\n",
       "      <td>NaN</td>\n",
       "      <td>NaN</td>\n",
       "      <td>NaN</td>\n",
       "    </tr>\n",
       "    <tr>\n",
       "      <th>2020-08-24 04:53:00</th>\n",
       "      <td>4</td>\n",
       "      <td>NaN</td>\n",
       "      <td>NaN</td>\n",
       "      <td>NaN</td>\n",
       "      <td>NaN</td>\n",
       "      <td>NaN</td>\n",
       "      <td>NaN</td>\n",
       "      <td>NaN</td>\n",
       "      <td>NaN</td>\n",
       "    </tr>\n",
       "    <tr>\n",
       "      <th>2020-08-24 05:53:00</th>\n",
       "      <td>5</td>\n",
       "      <td>NaN</td>\n",
       "      <td>NaN</td>\n",
       "      <td>NaN</td>\n",
       "      <td>NaN</td>\n",
       "      <td>NaN</td>\n",
       "      <td>NaN</td>\n",
       "      <td>NaN</td>\n",
       "      <td>NaN</td>\n",
       "    </tr>\n",
       "    <tr>\n",
       "      <th>2020-08-24 06:53:00</th>\n",
       "      <td>6</td>\n",
       "      <td>NaN</td>\n",
       "      <td>NaN</td>\n",
       "      <td>NaN</td>\n",
       "      <td>NaN</td>\n",
       "      <td>NaN</td>\n",
       "      <td>NaN</td>\n",
       "      <td>NaN</td>\n",
       "      <td>NaN</td>\n",
       "    </tr>\n",
       "    <tr>\n",
       "      <th>2020-08-24 07:53:00</th>\n",
       "      <td>7</td>\n",
       "      <td>NaN</td>\n",
       "      <td>NaN</td>\n",
       "      <td>NaN</td>\n",
       "      <td>NaN</td>\n",
       "      <td>NaN</td>\n",
       "      <td>NaN</td>\n",
       "      <td>NaN</td>\n",
       "      <td>NaN</td>\n",
       "    </tr>\n",
       "    <tr>\n",
       "      <th>2020-08-24 08:53:00</th>\n",
       "      <td>8</td>\n",
       "      <td>NaN</td>\n",
       "      <td>NaN</td>\n",
       "      <td>NaN</td>\n",
       "      <td>NaN</td>\n",
       "      <td>NaN</td>\n",
       "      <td>NaN</td>\n",
       "      <td>NaN</td>\n",
       "      <td>NaN</td>\n",
       "    </tr>\n",
       "    <tr>\n",
       "      <th>2020-08-24 09:53:00</th>\n",
       "      <td>9</td>\n",
       "      <td>NaN</td>\n",
       "      <td>NaN</td>\n",
       "      <td>NaN</td>\n",
       "      <td>NaN</td>\n",
       "      <td>NaN</td>\n",
       "      <td>NaN</td>\n",
       "      <td>NaN</td>\n",
       "      <td>NaN</td>\n",
       "    </tr>\n",
       "    <tr>\n",
       "      <th>2020-08-24 10:53:00</th>\n",
       "      <td>10</td>\n",
       "      <td>NaN</td>\n",
       "      <td>NaN</td>\n",
       "      <td>NaN</td>\n",
       "      <td>NaN</td>\n",
       "      <td>NaN</td>\n",
       "      <td>NaN</td>\n",
       "      <td>NaN</td>\n",
       "      <td>NaN</td>\n",
       "    </tr>\n",
       "    <tr>\n",
       "      <th>2020-08-24 11:53:00</th>\n",
       "      <td>11</td>\n",
       "      <td>NaN</td>\n",
       "      <td>NaN</td>\n",
       "      <td>NaN</td>\n",
       "      <td>NaN</td>\n",
       "      <td>NaN</td>\n",
       "      <td>NaN</td>\n",
       "      <td>NaN</td>\n",
       "      <td>NaN</td>\n",
       "    </tr>\n",
       "    <tr>\n",
       "      <th>2020-08-24 12:53:00</th>\n",
       "      <td>12</td>\n",
       "      <td>NaN</td>\n",
       "      <td>NaN</td>\n",
       "      <td>NaN</td>\n",
       "      <td>NaN</td>\n",
       "      <td>NaN</td>\n",
       "      <td>NaN</td>\n",
       "      <td>NaN</td>\n",
       "      <td>NaN</td>\n",
       "    </tr>\n",
       "    <tr>\n",
       "      <th>2020-08-24 13:53:00</th>\n",
       "      <td>13</td>\n",
       "      <td>NaN</td>\n",
       "      <td>NaN</td>\n",
       "      <td>NaN</td>\n",
       "      <td>NaN</td>\n",
       "      <td>NaN</td>\n",
       "      <td>NaN</td>\n",
       "      <td>NaN</td>\n",
       "      <td>NaN</td>\n",
       "    </tr>\n",
       "    <tr>\n",
       "      <th>2020-08-24 14:53:00</th>\n",
       "      <td>14</td>\n",
       "      <td>NaN</td>\n",
       "      <td>NaN</td>\n",
       "      <td>NaN</td>\n",
       "      <td>NaN</td>\n",
       "      <td>NaN</td>\n",
       "      <td>NaN</td>\n",
       "      <td>NaN</td>\n",
       "      <td>NaN</td>\n",
       "    </tr>\n",
       "    <tr>\n",
       "      <th>2020-08-24 15:53:00</th>\n",
       "      <td>15</td>\n",
       "      <td>NaN</td>\n",
       "      <td>NaN</td>\n",
       "      <td>NaN</td>\n",
       "      <td>NaN</td>\n",
       "      <td>NaN</td>\n",
       "      <td>NaN</td>\n",
       "      <td>NaN</td>\n",
       "      <td>NaN</td>\n",
       "    </tr>\n",
       "    <tr>\n",
       "      <th>2020-08-24 16:53:00</th>\n",
       "      <td>16</td>\n",
       "      <td>NaN</td>\n",
       "      <td>NaN</td>\n",
       "      <td>NaN</td>\n",
       "      <td>NaN</td>\n",
       "      <td>NaN</td>\n",
       "      <td>NaN</td>\n",
       "      <td>NaN</td>\n",
       "      <td>NaN</td>\n",
       "    </tr>\n",
       "    <tr>\n",
       "      <th>2020-08-24 17:53:00</th>\n",
       "      <td>17</td>\n",
       "      <td>NaN</td>\n",
       "      <td>NaN</td>\n",
       "      <td>NaN</td>\n",
       "      <td>NaN</td>\n",
       "      <td>NaN</td>\n",
       "      <td>NaN</td>\n",
       "      <td>NaN</td>\n",
       "      <td>NaN</td>\n",
       "    </tr>\n",
       "    <tr>\n",
       "      <th>2020-08-24 18:53:00</th>\n",
       "      <td>18</td>\n",
       "      <td>NaN</td>\n",
       "      <td>NaN</td>\n",
       "      <td>NaN</td>\n",
       "      <td>NaN</td>\n",
       "      <td>NaN</td>\n",
       "      <td>NaN</td>\n",
       "      <td>NaN</td>\n",
       "      <td>NaN</td>\n",
       "    </tr>\n",
       "    <tr>\n",
       "      <th>2020-08-24 19:53:00</th>\n",
       "      <td>19</td>\n",
       "      <td>NaN</td>\n",
       "      <td>NaN</td>\n",
       "      <td>NaN</td>\n",
       "      <td>NaN</td>\n",
       "      <td>NaN</td>\n",
       "      <td>NaN</td>\n",
       "      <td>NaN</td>\n",
       "      <td>NaN</td>\n",
       "    </tr>\n",
       "    <tr>\n",
       "      <th>2020-08-24 20:53:00</th>\n",
       "      <td>20</td>\n",
       "      <td>NaN</td>\n",
       "      <td>NaN</td>\n",
       "      <td>NaN</td>\n",
       "      <td>NaN</td>\n",
       "      <td>NaN</td>\n",
       "      <td>NaN</td>\n",
       "      <td>NaN</td>\n",
       "      <td>NaN</td>\n",
       "    </tr>\n",
       "    <tr>\n",
       "      <th>2020-08-24 21:53:00</th>\n",
       "      <td>21</td>\n",
       "      <td>NaN</td>\n",
       "      <td>NaN</td>\n",
       "      <td>NaN</td>\n",
       "      <td>NaN</td>\n",
       "      <td>NaN</td>\n",
       "      <td>NaN</td>\n",
       "      <td>NaN</td>\n",
       "      <td>NaN</td>\n",
       "    </tr>\n",
       "  </tbody>\n",
       "</table>\n",
       "<p>201 rows × 9 columns</p>\n",
       "</div>"
      ],
      "text/plain": [
       "                     hour  GBPJPY_high  GBPJPY_low  GBPJPY_close  \\\n",
       "2020-08-16 13:53:00    13          NaN         NaN           NaN   \n",
       "2020-08-16 14:53:00    14          NaN         NaN           NaN   \n",
       "2020-08-16 15:53:00    15          NaN         NaN           NaN   \n",
       "2020-08-16 16:53:00    16          NaN         NaN           NaN   \n",
       "2020-08-16 17:53:00    17          NaN         NaN           NaN   \n",
       "...                   ...          ...         ...           ...   \n",
       "2020-08-24 17:53:00    17          NaN         NaN           NaN   \n",
       "2020-08-24 18:53:00    18          NaN         NaN           NaN   \n",
       "2020-08-24 19:53:00    19          NaN         NaN           NaN   \n",
       "2020-08-24 20:53:00    20          NaN         NaN           NaN   \n",
       "2020-08-24 21:53:00    21          NaN         NaN           NaN   \n",
       "\n",
       "                     GBPJPY_tick_volume  GBPUSD_high  GBPUSD_low  \\\n",
       "2020-08-16 13:53:00                 NaN          NaN         NaN   \n",
       "2020-08-16 14:53:00                 NaN          NaN         NaN   \n",
       "2020-08-16 15:53:00                 NaN          NaN         NaN   \n",
       "2020-08-16 16:53:00                 NaN          NaN         NaN   \n",
       "2020-08-16 17:53:00                 NaN          NaN         NaN   \n",
       "...                                 ...          ...         ...   \n",
       "2020-08-24 17:53:00                 NaN          NaN         NaN   \n",
       "2020-08-24 18:53:00                 NaN          NaN         NaN   \n",
       "2020-08-24 19:53:00                 NaN          NaN         NaN   \n",
       "2020-08-24 20:53:00                 NaN          NaN         NaN   \n",
       "2020-08-24 21:53:00                 NaN          NaN         NaN   \n",
       "\n",
       "                     GBPUSD_close  GBPUSD_tick_volume  \n",
       "2020-08-16 13:53:00           NaN                 NaN  \n",
       "2020-08-16 14:53:00           NaN                 NaN  \n",
       "2020-08-16 15:53:00           NaN                 NaN  \n",
       "2020-08-16 16:53:00           NaN                 NaN  \n",
       "2020-08-16 17:53:00           NaN                 NaN  \n",
       "...                           ...                 ...  \n",
       "2020-08-24 17:53:00           NaN                 NaN  \n",
       "2020-08-24 18:53:00           NaN                 NaN  \n",
       "2020-08-24 19:53:00           NaN                 NaN  \n",
       "2020-08-24 20:53:00           NaN                 NaN  \n",
       "2020-08-24 21:53:00           NaN                 NaN  \n",
       "\n",
       "[201 rows x 9 columns]"
      ]
     },
     "execution_count": 68,
     "metadata": {},
     "output_type": "execute_result"
    }
   ],
   "source": [
    "dp.get_timesnp(admiral_demo, \n",
    "                       valid_symbols, \n",
    "                       start_date,  \n",
    "                       end_date, \n",
    "                       index_df, \n",
    "                       timeframe=mt5.TIMEFRAME_H1, \n",
    "                       pricetypes=[\"high\", \"low\", \"close\", \"tick_volume\"])"
   ]
  },
  {
   "cell_type": "code",
   "execution_count": 107,
   "metadata": {},
   "outputs": [
    {
     "data": {
      "text/html": [
       "<div>\n",
       "<style scoped>\n",
       "    .dataframe tbody tr th:only-of-type {\n",
       "        vertical-align: middle;\n",
       "    }\n",
       "\n",
       "    .dataframe tbody tr th {\n",
       "        vertical-align: top;\n",
       "    }\n",
       "\n",
       "    .dataframe thead th {\n",
       "        text-align: right;\n",
       "    }\n",
       "</style>\n",
       "<table border=\"1\" class=\"dataframe\">\n",
       "  <thead>\n",
       "    <tr style=\"text-align: right;\">\n",
       "      <th></th>\n",
       "      <th>time</th>\n",
       "      <th>open</th>\n",
       "      <th>high</th>\n",
       "      <th>low</th>\n",
       "      <th>close</th>\n",
       "      <th>tick_volume</th>\n",
       "      <th>spread</th>\n",
       "      <th>real_volume</th>\n",
       "    </tr>\n",
       "  </thead>\n",
       "  <tbody>\n",
       "    <tr>\n",
       "      <th>0</th>\n",
       "      <td>2020-08-18 14:00:00</td>\n",
       "      <td>138.908</td>\n",
       "      <td>139.032</td>\n",
       "      <td>138.825</td>\n",
       "      <td>138.966</td>\n",
       "      <td>4175</td>\n",
       "      <td>19</td>\n",
       "      <td>0</td>\n",
       "    </tr>\n",
       "    <tr>\n",
       "      <th>1</th>\n",
       "      <td>2020-08-18 15:00:00</td>\n",
       "      <td>138.966</td>\n",
       "      <td>139.187</td>\n",
       "      <td>138.867</td>\n",
       "      <td>139.166</td>\n",
       "      <td>5052</td>\n",
       "      <td>19</td>\n",
       "      <td>0</td>\n",
       "    </tr>\n",
       "    <tr>\n",
       "      <th>2</th>\n",
       "      <td>2020-08-18 16:00:00</td>\n",
       "      <td>139.161</td>\n",
       "      <td>139.433</td>\n",
       "      <td>139.091</td>\n",
       "      <td>139.333</td>\n",
       "      <td>7729</td>\n",
       "      <td>19</td>\n",
       "      <td>0</td>\n",
       "    </tr>\n",
       "    <tr>\n",
       "      <th>3</th>\n",
       "      <td>2020-08-18 17:00:00</td>\n",
       "      <td>139.334</td>\n",
       "      <td>139.495</td>\n",
       "      <td>139.307</td>\n",
       "      <td>139.380</td>\n",
       "      <td>9632</td>\n",
       "      <td>19</td>\n",
       "      <td>0</td>\n",
       "    </tr>\n",
       "    <tr>\n",
       "      <th>4</th>\n",
       "      <td>2020-08-18 18:00:00</td>\n",
       "      <td>139.380</td>\n",
       "      <td>139.507</td>\n",
       "      <td>139.250</td>\n",
       "      <td>139.419</td>\n",
       "      <td>4972</td>\n",
       "      <td>19</td>\n",
       "      <td>0</td>\n",
       "    </tr>\n",
       "    <tr>\n",
       "      <th>5</th>\n",
       "      <td>2020-08-18 19:00:00</td>\n",
       "      <td>139.419</td>\n",
       "      <td>139.513</td>\n",
       "      <td>139.359</td>\n",
       "      <td>139.400</td>\n",
       "      <td>3843</td>\n",
       "      <td>19</td>\n",
       "      <td>0</td>\n",
       "    </tr>\n",
       "    <tr>\n",
       "      <th>6</th>\n",
       "      <td>2020-08-18 20:00:00</td>\n",
       "      <td>139.406</td>\n",
       "      <td>139.575</td>\n",
       "      <td>139.405</td>\n",
       "      <td>139.527</td>\n",
       "      <td>3003</td>\n",
       "      <td>19</td>\n",
       "      <td>0</td>\n",
       "    </tr>\n",
       "    <tr>\n",
       "      <th>7</th>\n",
       "      <td>2020-08-18 21:00:00</td>\n",
       "      <td>139.528</td>\n",
       "      <td>139.632</td>\n",
       "      <td>139.524</td>\n",
       "      <td>139.591</td>\n",
       "      <td>2048</td>\n",
       "      <td>19</td>\n",
       "      <td>0</td>\n",
       "    </tr>\n",
       "    <tr>\n",
       "      <th>8</th>\n",
       "      <td>2020-08-18 22:00:00</td>\n",
       "      <td>139.591</td>\n",
       "      <td>139.608</td>\n",
       "      <td>139.507</td>\n",
       "      <td>139.507</td>\n",
       "      <td>2324</td>\n",
       "      <td>19</td>\n",
       "      <td>0</td>\n",
       "    </tr>\n",
       "    <tr>\n",
       "      <th>9</th>\n",
       "      <td>2020-08-18 23:00:00</td>\n",
       "      <td>139.516</td>\n",
       "      <td>139.588</td>\n",
       "      <td>139.501</td>\n",
       "      <td>139.531</td>\n",
       "      <td>1481</td>\n",
       "      <td>19</td>\n",
       "      <td>0</td>\n",
       "    </tr>\n",
       "    <tr>\n",
       "      <th>10</th>\n",
       "      <td>2020-08-19 00:00:00</td>\n",
       "      <td>139.464</td>\n",
       "      <td>139.644</td>\n",
       "      <td>139.396</td>\n",
       "      <td>139.535</td>\n",
       "      <td>1265</td>\n",
       "      <td>27</td>\n",
       "      <td>0</td>\n",
       "    </tr>\n",
       "    <tr>\n",
       "      <th>11</th>\n",
       "      <td>2020-08-19 01:00:00</td>\n",
       "      <td>139.535</td>\n",
       "      <td>139.578</td>\n",
       "      <td>139.507</td>\n",
       "      <td>139.541</td>\n",
       "      <td>1255</td>\n",
       "      <td>19</td>\n",
       "      <td>0</td>\n",
       "    </tr>\n",
       "    <tr>\n",
       "      <th>12</th>\n",
       "      <td>2020-08-19 02:00:00</td>\n",
       "      <td>139.540</td>\n",
       "      <td>139.570</td>\n",
       "      <td>139.404</td>\n",
       "      <td>139.452</td>\n",
       "      <td>1799</td>\n",
       "      <td>19</td>\n",
       "      <td>0</td>\n",
       "    </tr>\n",
       "    <tr>\n",
       "      <th>13</th>\n",
       "      <td>2020-08-19 03:00:00</td>\n",
       "      <td>139.453</td>\n",
       "      <td>139.482</td>\n",
       "      <td>139.332</td>\n",
       "      <td>139.395</td>\n",
       "      <td>4720</td>\n",
       "      <td>19</td>\n",
       "      <td>0</td>\n",
       "    </tr>\n",
       "    <tr>\n",
       "      <th>14</th>\n",
       "      <td>2020-08-19 04:00:00</td>\n",
       "      <td>139.395</td>\n",
       "      <td>139.644</td>\n",
       "      <td>139.388</td>\n",
       "      <td>139.594</td>\n",
       "      <td>4467</td>\n",
       "      <td>19</td>\n",
       "      <td>0</td>\n",
       "    </tr>\n",
       "    <tr>\n",
       "      <th>15</th>\n",
       "      <td>2020-08-19 05:00:00</td>\n",
       "      <td>139.594</td>\n",
       "      <td>139.726</td>\n",
       "      <td>139.548</td>\n",
       "      <td>139.707</td>\n",
       "      <td>3078</td>\n",
       "      <td>19</td>\n",
       "      <td>0</td>\n",
       "    </tr>\n",
       "    <tr>\n",
       "      <th>16</th>\n",
       "      <td>2020-08-19 06:00:00</td>\n",
       "      <td>139.708</td>\n",
       "      <td>139.762</td>\n",
       "      <td>139.651</td>\n",
       "      <td>139.750</td>\n",
       "      <td>2497</td>\n",
       "      <td>19</td>\n",
       "      <td>0</td>\n",
       "    </tr>\n",
       "    <tr>\n",
       "      <th>17</th>\n",
       "      <td>2020-08-19 07:00:00</td>\n",
       "      <td>139.751</td>\n",
       "      <td>139.765</td>\n",
       "      <td>139.689</td>\n",
       "      <td>139.734</td>\n",
       "      <td>2131</td>\n",
       "      <td>19</td>\n",
       "      <td>0</td>\n",
       "    </tr>\n",
       "    <tr>\n",
       "      <th>18</th>\n",
       "      <td>2020-08-19 08:00:00</td>\n",
       "      <td>139.735</td>\n",
       "      <td>139.899</td>\n",
       "      <td>139.718</td>\n",
       "      <td>139.817</td>\n",
       "      <td>2636</td>\n",
       "      <td>19</td>\n",
       "      <td>0</td>\n",
       "    </tr>\n",
       "    <tr>\n",
       "      <th>19</th>\n",
       "      <td>2020-08-19 09:00:00</td>\n",
       "      <td>139.814</td>\n",
       "      <td>139.945</td>\n",
       "      <td>139.777</td>\n",
       "      <td>139.798</td>\n",
       "      <td>4118</td>\n",
       "      <td>19</td>\n",
       "      <td>0</td>\n",
       "    </tr>\n",
       "    <tr>\n",
       "      <th>20</th>\n",
       "      <td>2020-08-19 10:00:00</td>\n",
       "      <td>139.798</td>\n",
       "      <td>139.834</td>\n",
       "      <td>139.597</td>\n",
       "      <td>139.715</td>\n",
       "      <td>5482</td>\n",
       "      <td>19</td>\n",
       "      <td>0</td>\n",
       "    </tr>\n",
       "    <tr>\n",
       "      <th>21</th>\n",
       "      <td>2020-08-19 11:00:00</td>\n",
       "      <td>139.715</td>\n",
       "      <td>139.806</td>\n",
       "      <td>139.548</td>\n",
       "      <td>139.556</td>\n",
       "      <td>4800</td>\n",
       "      <td>19</td>\n",
       "      <td>0</td>\n",
       "    </tr>\n",
       "    <tr>\n",
       "      <th>22</th>\n",
       "      <td>2020-08-19 12:00:00</td>\n",
       "      <td>139.558</td>\n",
       "      <td>139.684</td>\n",
       "      <td>139.390</td>\n",
       "      <td>139.396</td>\n",
       "      <td>4668</td>\n",
       "      <td>19</td>\n",
       "      <td>0</td>\n",
       "    </tr>\n",
       "    <tr>\n",
       "      <th>23</th>\n",
       "      <td>2020-08-19 13:00:00</td>\n",
       "      <td>139.396</td>\n",
       "      <td>139.425</td>\n",
       "      <td>139.063</td>\n",
       "      <td>139.158</td>\n",
       "      <td>4153</td>\n",
       "      <td>19</td>\n",
       "      <td>0</td>\n",
       "    </tr>\n",
       "    <tr>\n",
       "      <th>24</th>\n",
       "      <td>2020-08-19 14:00:00</td>\n",
       "      <td>139.158</td>\n",
       "      <td>139.225</td>\n",
       "      <td>138.866</td>\n",
       "      <td>139.057</td>\n",
       "      <td>4977</td>\n",
       "      <td>19</td>\n",
       "      <td>0</td>\n",
       "    </tr>\n",
       "    <tr>\n",
       "      <th>25</th>\n",
       "      <td>2020-08-19 15:00:00</td>\n",
       "      <td>139.056</td>\n",
       "      <td>139.236</td>\n",
       "      <td>139.034</td>\n",
       "      <td>139.209</td>\n",
       "      <td>4339</td>\n",
       "      <td>19</td>\n",
       "      <td>0</td>\n",
       "    </tr>\n",
       "    <tr>\n",
       "      <th>26</th>\n",
       "      <td>2020-08-19 16:00:00</td>\n",
       "      <td>139.209</td>\n",
       "      <td>139.422</td>\n",
       "      <td>139.168</td>\n",
       "      <td>139.308</td>\n",
       "      <td>5235</td>\n",
       "      <td>19</td>\n",
       "      <td>0</td>\n",
       "    </tr>\n",
       "    <tr>\n",
       "      <th>27</th>\n",
       "      <td>2020-08-19 17:00:00</td>\n",
       "      <td>139.310</td>\n",
       "      <td>139.444</td>\n",
       "      <td>139.226</td>\n",
       "      <td>139.265</td>\n",
       "      <td>7337</td>\n",
       "      <td>19</td>\n",
       "      <td>0</td>\n",
       "    </tr>\n",
       "    <tr>\n",
       "      <th>28</th>\n",
       "      <td>2020-08-19 18:00:00</td>\n",
       "      <td>139.264</td>\n",
       "      <td>139.498</td>\n",
       "      <td>139.264</td>\n",
       "      <td>139.438</td>\n",
       "      <td>5908</td>\n",
       "      <td>19</td>\n",
       "      <td>0</td>\n",
       "    </tr>\n",
       "    <tr>\n",
       "      <th>29</th>\n",
       "      <td>2020-08-19 19:00:00</td>\n",
       "      <td>139.440</td>\n",
       "      <td>139.440</td>\n",
       "      <td>139.110</td>\n",
       "      <td>139.181</td>\n",
       "      <td>3972</td>\n",
       "      <td>19</td>\n",
       "      <td>0</td>\n",
       "    </tr>\n",
       "    <tr>\n",
       "      <th>...</th>\n",
       "      <td>...</td>\n",
       "      <td>...</td>\n",
       "      <td>...</td>\n",
       "      <td>...</td>\n",
       "      <td>...</td>\n",
       "      <td>...</td>\n",
       "      <td>...</td>\n",
       "      <td>...</td>\n",
       "    </tr>\n",
       "    <tr>\n",
       "      <th>75</th>\n",
       "      <td>2020-08-21 18:00:00</td>\n",
       "      <td>138.506</td>\n",
       "      <td>138.726</td>\n",
       "      <td>138.413</td>\n",
       "      <td>138.671</td>\n",
       "      <td>5349</td>\n",
       "      <td>19</td>\n",
       "      <td>0</td>\n",
       "    </tr>\n",
       "    <tr>\n",
       "      <th>76</th>\n",
       "      <td>2020-08-21 19:00:00</td>\n",
       "      <td>138.671</td>\n",
       "      <td>138.718</td>\n",
       "      <td>138.404</td>\n",
       "      <td>138.453</td>\n",
       "      <td>3537</td>\n",
       "      <td>19</td>\n",
       "      <td>0</td>\n",
       "    </tr>\n",
       "    <tr>\n",
       "      <th>77</th>\n",
       "      <td>2020-08-21 20:00:00</td>\n",
       "      <td>138.452</td>\n",
       "      <td>138.501</td>\n",
       "      <td>138.399</td>\n",
       "      <td>138.431</td>\n",
       "      <td>2654</td>\n",
       "      <td>19</td>\n",
       "      <td>0</td>\n",
       "    </tr>\n",
       "    <tr>\n",
       "      <th>78</th>\n",
       "      <td>2020-08-21 21:00:00</td>\n",
       "      <td>138.431</td>\n",
       "      <td>138.598</td>\n",
       "      <td>138.404</td>\n",
       "      <td>138.542</td>\n",
       "      <td>2168</td>\n",
       "      <td>19</td>\n",
       "      <td>0</td>\n",
       "    </tr>\n",
       "    <tr>\n",
       "      <th>79</th>\n",
       "      <td>2020-08-21 22:00:00</td>\n",
       "      <td>138.542</td>\n",
       "      <td>138.620</td>\n",
       "      <td>138.482</td>\n",
       "      <td>138.485</td>\n",
       "      <td>2051</td>\n",
       "      <td>19</td>\n",
       "      <td>0</td>\n",
       "    </tr>\n",
       "    <tr>\n",
       "      <th>80</th>\n",
       "      <td>2020-08-21 23:00:00</td>\n",
       "      <td>138.485</td>\n",
       "      <td>138.598</td>\n",
       "      <td>138.449</td>\n",
       "      <td>138.469</td>\n",
       "      <td>1400</td>\n",
       "      <td>19</td>\n",
       "      <td>0</td>\n",
       "    </tr>\n",
       "    <tr>\n",
       "      <th>81</th>\n",
       "      <td>2020-08-24 00:00:00</td>\n",
       "      <td>138.361</td>\n",
       "      <td>138.527</td>\n",
       "      <td>138.361</td>\n",
       "      <td>138.383</td>\n",
       "      <td>239</td>\n",
       "      <td>21</td>\n",
       "      <td>0</td>\n",
       "    </tr>\n",
       "    <tr>\n",
       "      <th>82</th>\n",
       "      <td>2020-08-24 01:00:00</td>\n",
       "      <td>138.377</td>\n",
       "      <td>138.705</td>\n",
       "      <td>138.377</td>\n",
       "      <td>138.682</td>\n",
       "      <td>1409</td>\n",
       "      <td>19</td>\n",
       "      <td>0</td>\n",
       "    </tr>\n",
       "    <tr>\n",
       "      <th>83</th>\n",
       "      <td>2020-08-24 02:00:00</td>\n",
       "      <td>138.681</td>\n",
       "      <td>138.691</td>\n",
       "      <td>138.602</td>\n",
       "      <td>138.609</td>\n",
       "      <td>1892</td>\n",
       "      <td>19</td>\n",
       "      <td>0</td>\n",
       "    </tr>\n",
       "    <tr>\n",
       "      <th>84</th>\n",
       "      <td>2020-08-24 03:00:00</td>\n",
       "      <td>138.613</td>\n",
       "      <td>138.678</td>\n",
       "      <td>138.412</td>\n",
       "      <td>138.422</td>\n",
       "      <td>3541</td>\n",
       "      <td>19</td>\n",
       "      <td>0</td>\n",
       "    </tr>\n",
       "    <tr>\n",
       "      <th>85</th>\n",
       "      <td>2020-08-24 04:00:00</td>\n",
       "      <td>138.422</td>\n",
       "      <td>138.494</td>\n",
       "      <td>138.311</td>\n",
       "      <td>138.477</td>\n",
       "      <td>3536</td>\n",
       "      <td>19</td>\n",
       "      <td>0</td>\n",
       "    </tr>\n",
       "    <tr>\n",
       "      <th>86</th>\n",
       "      <td>2020-08-24 05:00:00</td>\n",
       "      <td>138.478</td>\n",
       "      <td>138.508</td>\n",
       "      <td>138.426</td>\n",
       "      <td>138.462</td>\n",
       "      <td>2151</td>\n",
       "      <td>19</td>\n",
       "      <td>0</td>\n",
       "    </tr>\n",
       "    <tr>\n",
       "      <th>87</th>\n",
       "      <td>2020-08-24 06:00:00</td>\n",
       "      <td>138.461</td>\n",
       "      <td>138.516</td>\n",
       "      <td>138.453</td>\n",
       "      <td>138.458</td>\n",
       "      <td>2221</td>\n",
       "      <td>19</td>\n",
       "      <td>0</td>\n",
       "    </tr>\n",
       "    <tr>\n",
       "      <th>88</th>\n",
       "      <td>2020-08-24 07:00:00</td>\n",
       "      <td>138.458</td>\n",
       "      <td>138.573</td>\n",
       "      <td>138.454</td>\n",
       "      <td>138.530</td>\n",
       "      <td>2416</td>\n",
       "      <td>19</td>\n",
       "      <td>0</td>\n",
       "    </tr>\n",
       "    <tr>\n",
       "      <th>89</th>\n",
       "      <td>2020-08-24 08:00:00</td>\n",
       "      <td>138.530</td>\n",
       "      <td>138.661</td>\n",
       "      <td>138.530</td>\n",
       "      <td>138.647</td>\n",
       "      <td>2535</td>\n",
       "      <td>19</td>\n",
       "      <td>0</td>\n",
       "    </tr>\n",
       "    <tr>\n",
       "      <th>90</th>\n",
       "      <td>2020-08-24 09:00:00</td>\n",
       "      <td>138.646</td>\n",
       "      <td>138.737</td>\n",
       "      <td>138.565</td>\n",
       "      <td>138.696</td>\n",
       "      <td>3626</td>\n",
       "      <td>19</td>\n",
       "      <td>0</td>\n",
       "    </tr>\n",
       "    <tr>\n",
       "      <th>91</th>\n",
       "      <td>2020-08-24 10:00:00</td>\n",
       "      <td>138.696</td>\n",
       "      <td>138.811</td>\n",
       "      <td>138.515</td>\n",
       "      <td>138.706</td>\n",
       "      <td>4964</td>\n",
       "      <td>19</td>\n",
       "      <td>0</td>\n",
       "    </tr>\n",
       "    <tr>\n",
       "      <th>92</th>\n",
       "      <td>2020-08-24 11:00:00</td>\n",
       "      <td>138.704</td>\n",
       "      <td>138.737</td>\n",
       "      <td>138.386</td>\n",
       "      <td>138.662</td>\n",
       "      <td>5227</td>\n",
       "      <td>19</td>\n",
       "      <td>0</td>\n",
       "    </tr>\n",
       "    <tr>\n",
       "      <th>93</th>\n",
       "      <td>2020-08-24 12:00:00</td>\n",
       "      <td>138.662</td>\n",
       "      <td>138.836</td>\n",
       "      <td>138.557</td>\n",
       "      <td>138.737</td>\n",
       "      <td>4376</td>\n",
       "      <td>19</td>\n",
       "      <td>0</td>\n",
       "    </tr>\n",
       "    <tr>\n",
       "      <th>94</th>\n",
       "      <td>2020-08-24 13:00:00</td>\n",
       "      <td>138.736</td>\n",
       "      <td>138.799</td>\n",
       "      <td>138.652</td>\n",
       "      <td>138.679</td>\n",
       "      <td>3800</td>\n",
       "      <td>19</td>\n",
       "      <td>0</td>\n",
       "    </tr>\n",
       "    <tr>\n",
       "      <th>95</th>\n",
       "      <td>2020-08-24 14:00:00</td>\n",
       "      <td>138.678</td>\n",
       "      <td>138.959</td>\n",
       "      <td>138.621</td>\n",
       "      <td>138.923</td>\n",
       "      <td>4066</td>\n",
       "      <td>19</td>\n",
       "      <td>0</td>\n",
       "    </tr>\n",
       "    <tr>\n",
       "      <th>96</th>\n",
       "      <td>2020-08-24 15:00:00</td>\n",
       "      <td>138.923</td>\n",
       "      <td>138.996</td>\n",
       "      <td>138.727</td>\n",
       "      <td>138.791</td>\n",
       "      <td>4693</td>\n",
       "      <td>19</td>\n",
       "      <td>0</td>\n",
       "    </tr>\n",
       "    <tr>\n",
       "      <th>97</th>\n",
       "      <td>2020-08-24 16:00:00</td>\n",
       "      <td>138.790</td>\n",
       "      <td>138.833</td>\n",
       "      <td>138.420</td>\n",
       "      <td>138.432</td>\n",
       "      <td>5671</td>\n",
       "      <td>19</td>\n",
       "      <td>0</td>\n",
       "    </tr>\n",
       "    <tr>\n",
       "      <th>98</th>\n",
       "      <td>2020-08-24 17:00:00</td>\n",
       "      <td>138.433</td>\n",
       "      <td>138.539</td>\n",
       "      <td>138.282</td>\n",
       "      <td>138.345</td>\n",
       "      <td>6976</td>\n",
       "      <td>19</td>\n",
       "      <td>0</td>\n",
       "    </tr>\n",
       "    <tr>\n",
       "      <th>99</th>\n",
       "      <td>2020-08-24 18:00:00</td>\n",
       "      <td>138.345</td>\n",
       "      <td>138.538</td>\n",
       "      <td>138.320</td>\n",
       "      <td>138.496</td>\n",
       "      <td>5090</td>\n",
       "      <td>19</td>\n",
       "      <td>0</td>\n",
       "    </tr>\n",
       "    <tr>\n",
       "      <th>100</th>\n",
       "      <td>2020-08-24 19:00:00</td>\n",
       "      <td>138.497</td>\n",
       "      <td>138.497</td>\n",
       "      <td>138.363</td>\n",
       "      <td>138.376</td>\n",
       "      <td>3161</td>\n",
       "      <td>19</td>\n",
       "      <td>0</td>\n",
       "    </tr>\n",
       "    <tr>\n",
       "      <th>101</th>\n",
       "      <td>2020-08-24 20:00:00</td>\n",
       "      <td>138.377</td>\n",
       "      <td>138.440</td>\n",
       "      <td>138.285</td>\n",
       "      <td>138.374</td>\n",
       "      <td>2642</td>\n",
       "      <td>19</td>\n",
       "      <td>0</td>\n",
       "    </tr>\n",
       "    <tr>\n",
       "      <th>102</th>\n",
       "      <td>2020-08-24 21:00:00</td>\n",
       "      <td>138.373</td>\n",
       "      <td>138.438</td>\n",
       "      <td>138.335</td>\n",
       "      <td>138.352</td>\n",
       "      <td>2616</td>\n",
       "      <td>19</td>\n",
       "      <td>0</td>\n",
       "    </tr>\n",
       "    <tr>\n",
       "      <th>103</th>\n",
       "      <td>2020-08-24 22:00:00</td>\n",
       "      <td>138.352</td>\n",
       "      <td>138.490</td>\n",
       "      <td>138.328</td>\n",
       "      <td>138.488</td>\n",
       "      <td>2393</td>\n",
       "      <td>19</td>\n",
       "      <td>0</td>\n",
       "    </tr>\n",
       "    <tr>\n",
       "      <th>104</th>\n",
       "      <td>2020-08-24 23:00:00</td>\n",
       "      <td>138.488</td>\n",
       "      <td>138.488</td>\n",
       "      <td>138.405</td>\n",
       "      <td>138.425</td>\n",
       "      <td>515</td>\n",
       "      <td>19</td>\n",
       "      <td>0</td>\n",
       "    </tr>\n",
       "  </tbody>\n",
       "</table>\n",
       "<p>105 rows × 8 columns</p>\n",
       "</div>"
      ],
      "text/plain": [
       "                   time     open     high      low    close  tick_volume  \\\n",
       "0   2020-08-18 14:00:00  138.908  139.032  138.825  138.966         4175   \n",
       "1   2020-08-18 15:00:00  138.966  139.187  138.867  139.166         5052   \n",
       "2   2020-08-18 16:00:00  139.161  139.433  139.091  139.333         7729   \n",
       "3   2020-08-18 17:00:00  139.334  139.495  139.307  139.380         9632   \n",
       "4   2020-08-18 18:00:00  139.380  139.507  139.250  139.419         4972   \n",
       "..                  ...      ...      ...      ...      ...          ...   \n",
       "100 2020-08-24 19:00:00  138.497  138.497  138.363  138.376         3161   \n",
       "101 2020-08-24 20:00:00  138.377  138.440  138.285  138.374         2642   \n",
       "102 2020-08-24 21:00:00  138.373  138.438  138.335  138.352         2616   \n",
       "103 2020-08-24 22:00:00  138.352  138.490  138.328  138.488         2393   \n",
       "104 2020-08-24 23:00:00  138.488  138.488  138.405  138.425          515   \n",
       "\n",
       "     spread  real_volume  \n",
       "0        19            0  \n",
       "1        19            0  \n",
       "2        19            0  \n",
       "3        19            0  \n",
       "4        19            0  \n",
       "..      ...          ...  \n",
       "100      19            0  \n",
       "101      19            0  \n",
       "102      19            0  \n",
       "103      19            0  \n",
       "104      19            0  \n",
       "\n",
       "[105 rows x 8 columns]"
      ]
     },
     "execution_count": 107,
     "metadata": {},
     "output_type": "execute_result"
    }
   ],
   "source": [
    "enddate = datetime.now().replace(microsecond=0, second=0, minute=0) + timedelta(hours=10)\n",
    "dp.extract_bars(admiral_demo, \"GBPJPY\", mt5.TIMEFRAME_H1, start_date, enddate)\n"
   ]
  },
  {
   "cell_type": "code",
   "execution_count": 52,
   "metadata": {},
   "outputs": [
    {
     "ename": "NameError",
     "evalue": "name 'index_df' is not defined",
     "output_type": "error",
     "traceback": [
      "\u001b[1;31m---------------------------------------------------------------------------\u001b[0m",
      "\u001b[1;31mNameError\u001b[0m                                 Traceback (most recent call last)",
      "\u001b[1;32m<ipython-input-52-133c02697de6>\u001b[0m in \u001b[0;36m<module>\u001b[1;34m\u001b[0m\n\u001b[0;32m      8\u001b[0m                        \u001b[0mstart_date\u001b[0m\u001b[1;33m,\u001b[0m\u001b[1;33m\u001b[0m\u001b[1;33m\u001b[0m\u001b[0m\n\u001b[0;32m      9\u001b[0m                        \u001b[0mend_date\u001b[0m\u001b[1;33m,\u001b[0m\u001b[1;33m\u001b[0m\u001b[1;33m\u001b[0m\u001b[0m\n\u001b[1;32m---> 10\u001b[1;33m                        \u001b[0mindex_df\u001b[0m\u001b[1;33m,\u001b[0m\u001b[1;33m\u001b[0m\u001b[1;33m\u001b[0m\u001b[0m\n\u001b[0m\u001b[0;32m     11\u001b[0m                        \u001b[0mtimeframe\u001b[0m\u001b[1;33m=\u001b[0m\u001b[0mmt5\u001b[0m\u001b[1;33m.\u001b[0m\u001b[0mTIMEFRAME_H1\u001b[0m\u001b[1;33m,\u001b[0m\u001b[1;33m\u001b[0m\u001b[1;33m\u001b[0m\u001b[0m\n\u001b[0;32m     12\u001b[0m                        pricetypes=[\"high\", \"low\", \"close\", \"tick_volume\"])\n",
      "\u001b[1;31mNameError\u001b[0m: name 'index_df' is not defined"
     ]
    }
   ],
   "source": [
    "\n",
    "\n",
    "buffer = {}\n",
    "strategies = [Strategy]\n",
    "\n",
    "priceset = dp.get_timesnp(admiral_demo, \n",
    "                       valid_symbols, \n",
    "                       start_date,  \n",
    "                       end_date, \n",
    "                       index_df, \n",
    "                       timeframe=mt5.TIMEFRAME_H1, \n",
    "                       pricetypes=[\"high\", \"low\", \"close\", \"tick_volume\"])\n",
    "    \n",
    "    \n",
    "    "
   ]
  }
 ],
 "metadata": {
  "kernelspec": {
   "display_name": "Python 3",
   "language": "python",
   "name": "python3"
  },
  "language_info": {
   "codemirror_mode": {
    "name": "ipython",
    "version": 3
   },
   "file_extension": ".py",
   "mimetype": "text/x-python",
   "name": "python",
   "nbconvert_exporter": "python",
   "pygments_lexer": "ipython3",
   "version": "3.7.1"
  }
 },
 "nbformat": 4,
 "nbformat_minor": 2
}
